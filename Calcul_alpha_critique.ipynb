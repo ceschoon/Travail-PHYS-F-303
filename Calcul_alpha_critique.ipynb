{
 "cells": [
  {
   "cell_type": "markdown",
   "metadata": {},
   "source": [
    "<h1><center>PHYS-F-303: Partie Numérique</center></h1>\n",
    "<h1><center>Calcul détaillé des propriétés physiques pour le modèle d'Ising</center></h1>\n",
    "<h2><center>Cédric SCHOONEN, Maxime JAMOTTE</center></h2>"
   ]
  },
  {
   "cell_type": "markdown",
   "metadata": {},
   "source": [
    "## Question: Calculer la magnétisation moyenne pour différentes valeurs de $\\alpha$ entre 0 et 1 et estimer la valeur de $\\alpha$ critique"
   ]
  },
  {
   "cell_type": "code",
   "execution_count": 1,
   "metadata": {
    "collapsed": true
   },
   "outputs": [],
   "source": [
    "import time,pandas\n",
    "from matplotlib import pyplot as plt\n",
    "import numpy as np\n",
    "%matplotlib inline\n",
    "from matplotlib import rcParams\n",
    "rcParams['font.family'] = 'serif'\n",
    "rcParams['font.size'] = 16\n",
    "import matplotlib.cm as cm\n",
    "from matplotlib import animation\n",
    "from IPython.display import HTML"
   ]
  },
  {
   "cell_type": "markdown",
   "metadata": {},
   "source": [
    "### Calcul des paramètres (Magnétisation, Energie, Capacité calorifique) pour différents couplages"
   ]
  },
  {
   "cell_type": "markdown",
   "metadata": {},
   "source": [
    "Nous étudions dans ce document une grille $20\\times20$ de spins que l'on évolue selon l'algorithme \"metropolis\".\n",
    "\n",
    "Nous exploitons la courbe de la capacité calorifique en fonction de du couplage $\\alpha=J/kT$ pour déterminer le couplage de transition. Cette courbe doit présenter un pic à la valeur critique de couplage, voir \"Computational Physics, J.M.Thijssen\".\n",
    "\n",
    "Nous calculons la capacité calorifique par la relation suivante, valable dans l'ensemble canonique:\n",
    "\n",
    "$$ c_v = \\frac{\\text{var}(E)}{kT^2} $$\n",
    "\n",
    "Les énergies étant déjà exprimées en unités de $J/kT$, nous pouvons porter la variance de l'énergie en fonction de alpha, cette quantité étant proportionelle à $c_v$."
   ]
  },
  {
   "cell_type": "markdown",
   "metadata": {},
   "source": [
    "Commençons par importer les fonctions nécessaires, définies dans un fichier séparé."
   ]
  },
  {
   "cell_type": "code",
   "execution_count": 2,
   "metadata": {},
   "outputs": [],
   "source": [
    "import Ising_capacalo_jit as Ising"
   ]
  },
  {
   "cell_type": "markdown",
   "metadata": {},
   "source": [
    "L'initialisation des paramètres de la simulation se fait ici:"
   ]
  },
  {
   "cell_type": "code",
   "execution_count": 3,
   "metadata": {},
   "outputs": [
    {
     "name": "stdout",
     "output_type": "stream",
     "text": [
      "Number of alphas: 175\n",
      "NMC per alpha: 7000\n",
      "Resolution close to the transition: 1/3333.333\n",
      "Estimated computation time per grid: 0.68 hours\n"
     ]
    }
   ],
   "source": [
    "NMC = 100+7000 # M et E calculées sur NMC-NMC_eq itérations\n",
    "NMC_eq = 100\n",
    "step = 1\n",
    "nx = 20\n",
    "ny = 20\n",
    "alphas = np.concatenate((np.arange(0,0.34,0.02) , np.arange(0.34,0.41,0.005), np.arange(0.41,0.425,0.001) , \\\n",
    "                         np.arange(0.425,0.445,0.0003), np.arange(0.435,0.45,0.001), np.arange(0.45,0.56,0.005), \\\n",
    "                         np.arange(0.56,1,0.02)))\n",
    "\n",
    "alphasAbove043 = alphas[np.where(alphas>=0.43)]\n",
    "resolution = 1/(alphasAbove043[1]-alphasAbove043[0])\n",
    "\n",
    "np.random.shuffle(alphas) # pour avoir des données utilisables en cours de simulation\n",
    "a = len(alphas)\n",
    "\n",
    "sps = np.empty([a,nx,ny])\n",
    "for i in range(a):\n",
    "    sps[i] = Ising.initial_state_aligned(nx,ny)\n",
    "    \n",
    "# Affichage des paramètres choisis\n",
    "print(\"Number of alphas: {:d}\".format(a))\n",
    "print(\"NMC per alpha: {:d}\".format(NMC-NMC_eq))\n",
    "print(\"Resolution close to the transition: 1/{:.3f}\".format(resolution))\n",
    "    \n",
    "# Estimation du temps de calcul. Estimation propre à une machine particuliere. Pour estimer le temps de calcul sur \n",
    "# votre machine, lancer le calcul de la cellule suivante pour un petit nombre d'itération et modifier ce qui suit.\n",
    "print(\"Estimated computation time per grid: {:.2f} hours\".format(NMC/20000*a/92*1.00))"
   ]
  },
  {
   "cell_type": "markdown",
   "metadata": {},
   "source": [
    "Décommenter et exécuter la cellule suivante lance le calcul complet:"
   ]
  },
  {
   "cell_type": "code",
   "execution_count": 4,
   "metadata": {
    "scrolled": true
   },
   "outputs": [
    {
     "name": "stdout",
     "output_type": "stream",
     "text": [
      "run number 0\n",
      "4.76837158203125e-07\n",
      "run number 1\n",
      "2.384185791015625e-07\n",
      "run number 2\n",
      "4.76837158203125e-07\n",
      "run number 3\n",
      "2.384185791015625e-07\n",
      "run number 4\n",
      "2.384185791015625e-07\n",
      "run number 5\n",
      "2.384185791015625e-07\n",
      "run number 6\n",
      "2.384185791015625e-07\n",
      "run number 7\n",
      "2.384185791015625e-07\n",
      "run number 8\n",
      "2.384185791015625e-07\n",
      "run number 9\n",
      "7.152557373046875e-07\n"
     ]
    }
   ],
   "source": [
    "for i in range(10):\n",
    "    \n",
    "    print(\"run number {:d}\".format(i))\n",
    "    start = time.time()\n",
    "    #[Ms,Es,VarEs] = Ising.M_equilibrium_for_alphas(\n",
    "    #    sps,nx,ny,NMC,step,alphas,NMC_eq,\"dataIsing/new-dataIsing-Res=3333-NMC=7000-Run={:d}.csv\".format(i))\n",
    "    stop = time.time()\n",
    "    print(stop-start)"
   ]
  },
  {
   "cell_type": "markdown",
   "metadata": {},
   "source": [
    "L'affichage d'une des courbes obtenues se fait ici:"
   ]
  },
  {
   "cell_type": "code",
   "execution_count": 5,
   "metadata": {},
   "outputs": [],
   "source": [
    "dataIsing = pandas.read_csv('dataIsing/dataIsing-Res=3333-NMC=7000-Run=0.csv')\n",
    "[alphas, Ms, Es, VarEs] = np.transpose(dataIsing.as_matrix(['Couplage', '<Magnetisation>', \\\n",
    "                                                            '<Energie>', 'Var(Energie)']))\n",
    "\n",
    "indices = np.argsort(alphas)\n",
    "alphas = alphas[indices]\n",
    "Ms = Ms[indices]\n",
    "Es = Es[indices]\n",
    "VarEs = VarEs[indices]\n",
    "Cvs = VarEs"
   ]
  },
  {
   "cell_type": "code",
   "execution_count": 6,
   "metadata": {},
   "outputs": [
    {
     "data": {
      "image/png": "[encoded data removed]",
      "text/plain": [
       "<matplotlib.figure.Figure at 0x7fe22d0fa278>"
      ]
     },
     "metadata": {},
     "output_type": "display_data"
    }
   ],
   "source": [
    "plt.figure(figsize=(8,5));\n",
    "plt.plot(alphas,Cvs, '.');\n",
    "plt.title(\"Variance de l'énergie à l'équilibre en fonction de alpha \\n sur une grille {:d}x{:d}\".format(nx,ny));\n",
    "plt.xlabel('alpha');\n",
    "plt.ylabel('var(E)');\n",
    "#plt.xlim([0.41,0.46]);\n",
    "plt.grid();\n",
    "plt.show()"
   ]
  },
  {
   "cell_type": "markdown",
   "metadata": {},
   "source": [
    "Cherchons à la main les paramètres qui définissent une parabole proches du sommet de la courbe sous la forme \n",
    "\n",
    "$$ y = A(x-X_0)^2+C $$"
   ]
  },
  {
   "cell_type": "code",
   "execution_count": 7,
   "metadata": {},
   "outputs": [
    {
     "data": {
      "image/png": "[encoded data removed]",
      "text/plain": [
       "<matplotlib.figure.Figure at 0x7fe22d338470>"
      ]
     },
     "metadata": {},
     "output_type": "display_data"
    },
    {
     "name": "stdout",
     "output_type": "stream",
     "text": [
      "-7 0.435 0.0165\n"
     ]
    }
   ],
   "source": [
    "A = -7\n",
    "X0 = 0.435\n",
    "C = 0.0165\n",
    "\n",
    "x = np.linspace(0.41,0.46,100)\n",
    "y = A*(x-X0)**2+C\n",
    "\n",
    "plt.figure(figsize=(8,5));\n",
    "plt.plot(alphas,Cvs, '.');\n",
    "plt.plot(x,y, '-');\n",
    "plt.title(\"Recherche d'une parabole proche des données\".format(nx,ny));\n",
    "plt.xlabel('alpha');\n",
    "plt.ylabel('Cv');\n",
    "plt.xlim([0.41,0.46]);\n",
    "plt.grid();\n",
    "plt.show()\n",
    "\n",
    "print(A,X0,C)"
   ]
  },
  {
   "cell_type": "markdown",
   "metadata": {},
   "source": [
    "Maintenant que nous savons parmi quels coefficients chercher, nous pouvons automatiser le processus avec une fonction cherchant le meilleur fit par moindres carrés. Dans les cellules qui suivent, nous appelons pour chaque grille une fonction qui réalise l'analyse par moindre carré du sommet de la courbe afin de trouver le $\\alpha$ critique.\n",
    "\n",
    "Cette fonction affiche aussi les paramètres fittant le mieux chaque ensemble de données, ce qui nous permet d'affiner l'ensemble de paramètres test original utilisé. \n",
    "\n",
    "La fonction calcule l'erreur sur ce qu'elle renvoie en répétant plusieurs fois le calcul sur les données bruitée avec un bruit d'amplitude plausible, i.e. semblable à la variance des données et en regardant la variance des résultats (erreur statistique), ainsi qu'en tenant compte de la résolution utilisée dans les paramètres test (erreur numérique).\n",
    "\n",
    "Les paramètres test sont bien choisi si l'erreur numérique liée à la finesse de l'échantillonage est petite comparée à l'erreur statistique sur les données récoltées. Ainsi, nous en arrivons à utiliser les paramètres test implémentés dans cette fonction."
   ]
  },
  {
   "cell_type": "markdown",
   "metadata": {},
   "source": [
    "### Fit des données et recherche du maximum"
   ]
  },
  {
   "cell_type": "markdown",
   "metadata": {},
   "source": [
    "Importons la procédure de calcul du alpha critique par la méthode des moindres carrés appliqué à un fit parabolique du sommet de la courbe de la capacité calorifique."
   ]
  },
  {
   "cell_type": "code",
   "execution_count": 8,
   "metadata": {
    "collapsed": true
   },
   "outputs": [],
   "source": [
    "import Least_Squares"
   ]
  },
  {
   "cell_type": "markdown",
   "metadata": {},
   "source": [
    "Appliquons-la à nos données pour trouver le alpha maximisant la capacité calorifique pour chaque grille de spin étudiée."
   ]
  },
  {
   "cell_type": "code",
   "execution_count": 9,
   "metadata": {},
   "outputs": [
    {
     "name": "stdout",
     "output_type": "stream",
     "text": [
      "Run 0\n",
      "Best fitting parameters: -9.0000 0.4333 0.0166\n",
      "Le maximum de la parabole de fit se trouve en alpha = 0.43330 +- 0.00015\n",
      "Erreur numérique: 0.00005 - Erreur Statistique: 0.00014\n",
      "--------------------------------------------------------------------\n",
      "Run 1\n",
      "Best fitting parameters: -7.0000 0.4361 0.0164\n",
      "Le maximum de la parabole de fit se trouve en alpha = 0.43615 +- 0.00015\n",
      "Erreur numérique: 0.00005 - Erreur Statistique: 0.00014\n",
      "--------------------------------------------------------------------\n",
      "Run 2\n",
      "Best fitting parameters: -9.0000 0.4330 0.0165\n",
      "Le maximum de la parabole de fit se trouve en alpha = 0.43295 +- 0.00011\n",
      "Erreur numérique: 0.00005 - Erreur Statistique: 0.00010\n",
      "--------------------------------------------------------------------\n",
      "Run 3\n",
      "Best fitting parameters: -8.0000 0.4340 0.0165\n",
      "Le maximum de la parabole de fit se trouve en alpha = 0.43395 +- 0.00015\n",
      "Erreur numérique: 0.00005 - Erreur Statistique: 0.00015\n",
      "--------------------------------------------------------------------\n",
      "Run 4\n",
      "Best fitting parameters: -9.0000 0.4342 0.0166\n",
      "Le maximum de la parabole de fit se trouve en alpha = 0.43420 +- 0.00014\n",
      "Erreur numérique: 0.00005 - Erreur Statistique: 0.00013\n",
      "--------------------------------------------------------------------\n",
      "Run 5\n",
      "Best fitting parameters: -10.0000 0.4330 0.0166\n",
      "Le maximum de la parabole de fit se trouve en alpha = 0.43300 +- 0.00012\n",
      "Erreur numérique: 0.00005 - Erreur Statistique: 0.00011\n",
      "--------------------------------------------------------------------\n",
      "Run 6\n",
      "Best fitting parameters: -10.0000 0.4332 0.0165\n",
      "Le maximum de la parabole de fit se trouve en alpha = 0.43320 +- 0.00011\n",
      "Erreur numérique: 0.00005 - Erreur Statistique: 0.00010\n",
      "--------------------------------------------------------------------\n",
      "Run 7\n",
      "Best fitting parameters: -8.0000 0.4337 0.0164\n",
      "Le maximum de la parabole de fit se trouve en alpha = 0.43375 +- 0.00012\n",
      "Erreur numérique: 0.00005 - Erreur Statistique: 0.00011\n",
      "--------------------------------------------------------------------\n",
      "Run 8\n",
      "Best fitting parameters: -10.0000 0.4325 0.0165\n",
      "Le maximum de la parabole de fit se trouve en alpha = 0.43255 +- 0.00012\n",
      "Erreur numérique: 0.00005 - Erreur Statistique: 0.00010\n",
      "--------------------------------------------------------------------\n",
      "Run 9\n",
      "Best fitting parameters: -7.0000 0.4330 0.0164\n",
      "Le maximum de la parabole de fit se trouve en alpha = 0.43305 +- 0.00013\n",
      "Erreur numérique: 0.00005 - Erreur Statistique: 0.00012\n",
      "--------------------------------------------------------------------\n"
     ]
    }
   ],
   "source": [
    "nbfichiers = 10\n",
    "\n",
    "alphas_max = np.empty(nbfichiers)\n",
    "err_alphas_max = np.empty(nbfichiers)\n",
    "\n",
    "for i in range(nbfichiers):\n",
    "    \n",
    "    print(\"Run {:d}\".format(i))\n",
    "    [alphas_max[i], err_alphas_max[i]] = \\\n",
    "        Least_Squares.moindres_carres_avec_erreur(\"dataIsing/dataIsing-Res=3333-NMC=7000-Run={:d}.csv\".format(i))\n"
   ]
  },
  {
   "cell_type": "markdown",
   "metadata": {},
   "source": [
    "Nous voyons que les différentes grilles ne donnent pas les mêmes résultats pour le $\\alpha$ critique. Ceux-ci ne rentrent pas dans les intervalles de confiance de leurs voisins. Cela signifie que l'évolution des spins observée dépend fortement de l'état initial de la grille. Selons nous, les spins sont trop fortement corrélés pour que les résultats obtenus en appliquant autant de fois l'algorithme de Metropolis soient assez représentatifs de l'ensemble des états accesibles aux spins par des fluctuations thermique. \n",
    "\n",
    "Nous allons donc retenir comme valeur de $\\alpha$ critique la moyenne de ces valeurs et estimer l'erreur sur cette moyenne avec la variance des résultats obtenus en faisant varier la grille."
   ]
  },
  {
   "cell_type": "code",
   "execution_count": 10,
   "metadata": {},
   "outputs": [
    {
     "name": "stdout",
     "output_type": "stream",
     "text": [
      "Le alpha critique retenu est 0.4336 +- 0.0010\n"
     ]
    }
   ],
   "source": [
    "alpha_critique = np.sum(alphas_max)/len(alphas_max)\n",
    "err_alpha_critique = np.std(alphas_max)\n",
    "\n",
    "print(\"Le alpha critique retenu est {:.4f} +- {:.4f}\".format(alpha_critique,err_alpha_critique))"
   ]
  }
 ],
 "metadata": {
  "kernelspec": {
   "display_name": "Python 3",
   "language": "python",
   "name": "python3"
  },
  "language_info": {
   "codemirror_mode": {
    "name": "ipython",
    "version": 3
   },
   "file_extension": ".py",
   "mimetype": "text/x-python",
   "name": "python",
   "nbconvert_exporter": "python",
   "pygments_lexer": "ipython3",
   "version": "3.6.2"
  }
 },
 "nbformat": 4,
 "nbformat_minor": 2
}
