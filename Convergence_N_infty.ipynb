{
 "cells": [
  {
   "cell_type": "markdown",
   "metadata": {},
   "source": [
    "<h1><center>PHYS-F-303: Partie Numérique</center></h1>\n",
    "<h1><center>Calcul détaillé des propriétés physiques pour le modèle d'Ising</center></h1>\n",
    "<h2><center>Cédric SCHOONEN, Maxime JAMOTTE</center></h2>"
   ]
  },
  {
   "cell_type": "markdown",
   "metadata": {},
   "source": [
    "## Etude de l'évolution du $\\alpha$ critique avec la taille de la grille"
   ]
  },
  {
   "cell_type": "code",
   "execution_count": 1,
   "metadata": {
    "collapsed": true
   },
   "outputs": [],
   "source": [
    "import time,pandas\n",
    "from matplotlib import pyplot as plt\n",
    "import numpy as np\n",
    "%matplotlib inline\n",
    "from matplotlib import rcParams\n",
    "rcParams['font.family'] = 'serif'\n",
    "rcParams['font.size'] = 16\n",
    "import matplotlib.cm as cm\n",
    "from matplotlib import animation\n",
    "from IPython.display import HTML"
   ]
  },
  {
   "cell_type": "markdown",
   "metadata": {},
   "source": [
    "### Calcul des paramètres (Magnétisation, Energie, Capacité calorifique)en fonction de $\\alpha$ pour différentes tailles de grille"
   ]
  },
  {
   "cell_type": "markdown",
   "metadata": {},
   "source": [
    "Commençons par importer les fonctions nécessaires, définies dans un fichier séparé."
   ]
  },
  {
   "cell_type": "code",
   "execution_count": 2,
   "metadata": {
    "collapsed": true
   },
   "outputs": [],
   "source": [
    "import Ising_capacalo_jit as Ising"
   ]
  },
  {
   "cell_type": "markdown",
   "metadata": {},
   "source": [
    "L'initialisation des paramètres de la simulation se fait ici:"
   ]
  },
  {
   "cell_type": "code",
   "execution_count": 3,
   "metadata": {},
   "outputs": [
    {
     "name": "stdout",
     "output_type": "stream",
     "text": [
      "Number of alphas: 103\n",
      "NMC per alpha: 7000\n",
      "Resolution close to the transition: 1/3333.333\n",
      "Estimated computation time for a 20x20 grid: 0.40 hours\n"
     ]
    }
   ],
   "source": [
    "NMC = 100+7000 # M et E calculées sur NMC-NMC_eq itérations\n",
    "NMC_eq = 100\n",
    "alphas = np.concatenate((np.arange(0.40,0.41,0.005), np.arange(0.41,0.425,0.001) , \\\n",
    "                         np.arange(0.425,0.445,0.0003), np.arange(0.445,0.46,0.001), \\\n",
    "                         np.arange(0.46,0.47,0.005)))\n",
    "\n",
    "alphasAbove043 = alphas[np.where(alphas>=0.43)]\n",
    "resolution = 1/(alphasAbove043[1]-alphasAbove043[0])\n",
    "\n",
    "np.random.shuffle(alphas) # pour avoir des données utilisables en cours de simulation\n",
    "a = len(alphas)\n",
    "    \n",
    "# Affichage des paramètres choisis\n",
    "print(\"Number of alphas: {:d}\".format(a))\n",
    "print(\"NMC per alpha: {:d}\".format(NMC-NMC_eq))\n",
    "print(\"Resolution close to the transition: 1/{:.3f}\".format(resolution))\n",
    "    \n",
    "# Estimation du temps de calcul. Estimation propre à une machine particuliere. Pour estimer le temps de calcul sur \n",
    "# votre machine, lancer le calcul de la cellule suivante pour un petit nombre d'itération et modifier ce qui suit.\n",
    "print(\"Estimated computation time for a 20x20 grid: {:.2f} hours\".format(NMC/20000*a/92*1.00))"
   ]
  },
  {
   "cell_type": "markdown",
   "metadata": {},
   "source": [
    "Décommenter et exécuter la cellule suivante lance le calcul complet:"
   ]
  },
  {
   "cell_type": "code",
   "execution_count": 4,
   "metadata": {
    "scrolled": true
   },
   "outputs": [
    {
     "name": "stdout",
     "output_type": "stream",
     "text": [
      "Grid size: 40x40\n",
      "4.76837158203125e-07\n",
      "Grid size: 60x60\n",
      "7.152557373046875e-07\n",
      "Grid size: 80x80\n",
      "7.152557373046875e-07\n"
     ]
    }
   ],
   "source": [
    "for j in range(2,5):\n",
    "    \n",
    "    nx = 20*j\n",
    "    ny = 20*j\n",
    "    print(\"Grid size: {:d}x{:d}\".format(nx,ny))\n",
    "    \n",
    "    sps = np.empty([a,nx,ny])\n",
    "    for i in range(a):\n",
    "        sps[i] = Ising.initial_state_aligned(nx,ny)\n",
    "    \n",
    "    start = time.time()\n",
    "    #[Ms,Es,VarEs] = Ising.M_equilibrium_for_alphas(\n",
    "    #    sps,nx,ny,NMC,1,alphas,NMC_eq,\"dataIsing/new-dataIsing-Res=3333-NMC=7000-N={:d}.csv\".format(nx))\n",
    "    stop = time.time()\n",
    "    print(stop-start)"
   ]
  },
  {
   "cell_type": "markdown",
   "metadata": {},
   "source": [
    "### Fit des données et recherche du maximum pour N=40"
   ]
  },
  {
   "cell_type": "code",
   "execution_count": 5,
   "metadata": {
    "collapsed": true
   },
   "outputs": [],
   "source": [
    "dataIsing = pandas.read_csv(\"dataIsing/dataIsing-Res=3333-NMC=7000-N=40.csv\")\n",
    "[alphas, Ms, Es, VarEs] = np.transpose(dataIsing.as_matrix(['Couplage', '<Magnetisation>', \\\n",
    "                                                            '<Energie>', 'Var(Energie)']))\n",
    "\n",
    "indices = np.argsort(alphas)\n",
    "alphas = alphas[indices]\n",
    "Ms = Ms[indices]\n",
    "Es = Es[indices]/2\n",
    "VarEs = VarEs[indices]/4\n",
    "Cvs = VarEs\n",
    "\n",
    "nx = 40\n",
    "ny = 40"
   ]
  },
  {
   "cell_type": "markdown",
   "metadata": {},
   "source": [
    "Cherchons à la main les paramètres qui définissent une parabole proches du sommet de la courbe sous la forme \n",
    "\n",
    "$$ y = A(x-X_0)^2+C $$"
   ]
  },
  {
   "cell_type": "code",
   "execution_count": 6,
   "metadata": {},
   "outputs": [
    {
     "data": {
      "image/png": "[encoded data removed]",
      "text/plain": [
       "<matplotlib.figure.Figure at 0x7fb266f36d68>"
      ]
     },
     "metadata": {},
     "output_type": "display_data"
    },
    {
     "name": "stdout",
     "output_type": "stream",
     "text": [
      "-0.625 0.438 0.001125\n"
     ]
    }
   ],
   "source": [
    "A = -2.5/4\n",
    "X0 = 0.438\n",
    "C = 0.0045/4\n",
    "\n",
    "x = np.linspace(0.41,0.46,100)\n",
    "y = A*(x-X0)**2+C\n",
    "\n",
    "plt.figure(figsize=(8,5));\n",
    "plt.plot(alphas,Cvs, '.');\n",
    "plt.plot(x,y, '-');\n",
    "plt.title(\"Recherche d'une parabole proche des données\".format(nx,ny));\n",
    "plt.xlabel('alpha');\n",
    "plt.ylabel('Cv');\n",
    "plt.xlim([0.41,0.46]);\n",
    "plt.grid();\n",
    "plt.show()\n",
    "\n",
    "print(A,X0,C)"
   ]
  },
  {
   "cell_type": "markdown",
   "metadata": {},
   "source": [
    "Maintenant que nous savons parmi quels coefficients chercher, nous pouvons automatiser le processus avec une fonction cherchant le meilleur fit par moindres carrés. Dans les cellules qui suivent, nous appelons pour chaque grille une fonction qui réalise l'analyse par moindre carré du sommet de la courbe afin de trouver le $\\alpha$ critique.\n",
    "\n",
    "Cette fonction affiche aussi les paramètres fittant le mieux chaque ensemble de données, ce qui nous permet d'affiner l'ensemble de paramètres test original utilisé. \n",
    "\n",
    "La fonction calcule l'erreur sur ce qu'elle renvoie en répétant plusieurs fois le calcul sur les données bruitée avec un bruit d'amplitude plausible, i.e. semblable à la variance des données et en regardant la variance des résultats (erreur statistique), ainsi qu'en tenant compte de la résolution utilisée dans les paramètres test (erreur numérique).\n",
    "\n",
    "Les paramètres test sont bien choisi si l'erreur numérique liée à la finesse de l'échantillonage est petite comparée à l'erreur statistique sur les données récoltées. Ainsi, nous en arrivons à utiliser les paramètres test implémentés dans cette fonction."
   ]
  },
  {
   "cell_type": "markdown",
   "metadata": {},
   "source": [
    "Importons la procédure de calcul du alpha critique par la méthode des moindres carrés appliqué à un fit parabolique du sommet de la courbe de la capacité calorifique."
   ]
  },
  {
   "cell_type": "code",
   "execution_count": 7,
   "metadata": {
    "collapsed": true
   },
   "outputs": [],
   "source": [
    "import Least_Squares"
   ]
  },
  {
   "cell_type": "markdown",
   "metadata": {},
   "source": [
    "Appliquons-la à nos données pour trouver le alpha maximisant la capacité calorifique pour chaque grille de spin étudiée."
   ]
  },
  {
   "cell_type": "code",
   "execution_count": 8,
   "metadata": {},
   "outputs": [
    {
     "name": "stdout",
     "output_type": "stream",
     "text": [
      "Best fitting parameters: -1.0000 0.4374 0.0012\n",
      "Le maximum de la parabole de fit se trouve en alpha = 0.43735 +- 0.00030\n",
      "Erreur numérique: 0.00005 - Erreur Statistique: 0.00029\n",
      "--------------------------------------------------------------------\n"
     ]
    }
   ],
   "source": [
    "A_test  = np.linspace(-5.0,0,11)/4\n",
    "X0_test = np.linspace(0.432,0.442,201) # paramètre le plus pertinent -> plus de points\n",
    "C_test  = np.linspace(0.003,0.006,11)/4\n",
    "\n",
    "[alphas_max, err_alphas_max] = \\\n",
    "    Least_Squares.moindres_carres_avec_erreur(\"dataIsing/dataIsing-Res=3333-NMC=7000-N=40.csv\",A_test,X0_test,C_test)"
   ]
  },
  {
   "cell_type": "markdown",
   "metadata": {},
   "source": [
    "### Fit des données et recherche du maximum pour N=60"
   ]
  },
  {
   "cell_type": "code",
   "execution_count": 9,
   "metadata": {
    "collapsed": true
   },
   "outputs": [],
   "source": [
    "dataIsing = pandas.read_csv(\"dataIsing/dataIsing-Res=3333-NMC=7000-N=60.csv\")\n",
    "[alphas, Ms, Es, VarEs] = np.transpose(dataIsing.as_matrix(['Couplage', '<Magnetisation>', \\\n",
    "                                                            '<Energie>', 'Var(Energie)']))\n",
    "\n",
    "indices = np.argsort(alphas)\n",
    "alphas = alphas[indices]\n",
    "Ms = Ms[indices]\n",
    "Es = Es[indices]/2\n",
    "VarEs = VarEs[indices]/4\n",
    "Cvs = VarEs\n",
    "\n",
    "nx = 60\n",
    "ny = 60"
   ]
  },
  {
   "cell_type": "code",
   "execution_count": 10,
   "metadata": {},
   "outputs": [
    {
     "data": {
      "image/png": "[encoded data removed]",
      "text/plain": [
       "<matplotlib.figure.Figure at 0x7fb25a99d978>"
      ]
     },
     "metadata": {},
     "output_type": "display_data"
    },
    {
     "name": "stdout",
     "output_type": "stream",
     "text": [
      "-0.325 0.44 0.0005\n"
     ]
    }
   ],
   "source": [
    "A = -1.3/4\n",
    "X0 = 0.44\n",
    "C = 0.0020/4\n",
    "\n",
    "x = np.linspace(0.41,0.46,100)\n",
    "y = A*(x-X0)**2+C\n",
    "\n",
    "plt.figure(figsize=(8,5));\n",
    "plt.plot(alphas,Cvs, '.');\n",
    "plt.plot(x,y, '-');\n",
    "plt.title(\"Recherche d'une parabole proche des données\".format(nx,ny));\n",
    "plt.xlabel('alpha');\n",
    "plt.ylabel('Cv');\n",
    "plt.xlim([0.41,0.46]);\n",
    "plt.grid();\n",
    "plt.show()\n",
    "\n",
    "print(A,X0,C)"
   ]
  },
  {
   "cell_type": "code",
   "execution_count": 11,
   "metadata": {},
   "outputs": [
    {
     "name": "stdout",
     "output_type": "stream",
     "text": [
      "Best fitting parameters: -0.5500 0.4381 0.0005\n",
      "Le maximum de la parabole de fit se trouve en alpha = 0.43810 +- 0.00079\n",
      "Erreur numérique: 0.00010 - Erreur Statistique: 0.00078\n",
      "--------------------------------------------------------------------\n"
     ]
    }
   ],
   "source": [
    "A_test  = np.linspace(-5.0,2,11)/4\n",
    "X0_test = np.linspace(0.43,0.45,201) # paramètre le plus pertinent -> plus de points\n",
    "C_test  = np.linspace(0.00,0.003,11)/4\n",
    "\n",
    "[alphas_max, err_alphas_max] = \\\n",
    "    Least_Squares.moindres_carres_avec_erreur(\"dataIsing/dataIsing-Res=3333-NMC=7000-N=60.csv\",A_test,X0_test,C_test)"
   ]
  },
  {
   "cell_type": "markdown",
   "metadata": {},
   "source": [
    "### Fit des données et recherche du maximum pour N=80"
   ]
  },
  {
   "cell_type": "code",
   "execution_count": 12,
   "metadata": {
    "collapsed": true
   },
   "outputs": [],
   "source": [
    "dataIsing = pandas.read_csv(\"dataIsing/dataIsing-Res=1000-NMC=7000-N=80.csv\")\n",
    "[alphas, Ms, Es, VarEs] = np.transpose(dataIsing.as_matrix(['Couplage', '<Magnetisation>', \\\n",
    "                                                            '<Energie>', 'Var(Energie)']))\n",
    "\n",
    "indices = np.argsort(alphas)\n",
    "alphas = alphas[indices]\n",
    "Ms = Ms[indices]\n",
    "Es = Es[indices]/2\n",
    "VarEs = VarEs[indices]/4\n",
    "Cvs = VarEs\n",
    "\n",
    "nx = 80\n",
    "ny = 80"
   ]
  },
  {
   "cell_type": "code",
   "execution_count": 13,
   "metadata": {},
   "outputs": [
    {
     "data": {
      "image/png": "[encoded data removed]",
      "text/plain": [
       "<matplotlib.figure.Figure at 0x7fb25a99dba8>"
      ]
     },
     "metadata": {},
     "output_type": "display_data"
    },
    {
     "name": "stdout",
     "output_type": "stream",
     "text": [
      "-0.175 0.44 0.000275\n"
     ]
    }
   ],
   "source": [
    "A = -0.7/4\n",
    "X0 = 0.44\n",
    "C = 0.0011/4\n",
    "\n",
    "x = np.linspace(0.41,0.47,100)\n",
    "y = A*(x-X0)**2+C\n",
    "\n",
    "plt.figure(figsize=(8,5));\n",
    "plt.plot(alphas,Cvs, '.');\n",
    "plt.plot(x,y, '-');\n",
    "plt.title(\"Recherche d'une parabole proche des données\".format(nx,ny));\n",
    "plt.xlabel('alpha');\n",
    "plt.ylabel('Cv');\n",
    "plt.xlim([0.41,0.47]);\n",
    "plt.grid();\n",
    "plt.show()\n",
    "\n",
    "print(A,X0,C)"
   ]
  },
  {
   "cell_type": "code",
   "execution_count": 14,
   "metadata": {},
   "outputs": [
    {
     "name": "stdout",
     "output_type": "stream",
     "text": [
      "Best fitting parameters: -0.3000 0.4379 0.0003\n",
      "Le maximum de la parabole de fit se trouve en alpha = 0.43788 +- 0.00138\n",
      "Erreur numérique: 0.00012 - Erreur Statistique: 0.00137\n",
      "--------------------------------------------------------------------\n"
     ]
    }
   ],
   "source": [
    "A_test  = np.linspace(-2.0,0,11)/4\n",
    "X0_test = np.linspace(0.425,0.45,201) # paramètre le plus pertinent -> plus de points\n",
    "C_test  = np.linspace(0.0005,0.002,11)/4\n",
    "\n",
    "[alphas_max, err_alphas_max] = \\\n",
    "    Least_Squares.moindres_carres_avec_erreur(\"dataIsing/dataIsing-Res=1000-NMC=7000-N=80.csv\",A_test,X0_test,C_test)"
   ]
  },
  {
   "cell_type": "markdown",
   "metadata": {},
   "source": [
    "### Conclusions"
   ]
  },
  {
   "cell_type": "markdown",
   "metadata": {},
   "source": [
    "Les valeurs de $\\alpha$ critique récoltées avec ce notebook sont avec celle pour $N=20$ obtenue précédemment:\n",
    "\n",
    "| N | alpha |\n",
    "|---|-------|\n",
    "| 20 | 0.4336(10) |\n",
    "| 40 | 0.4373(3) |\n",
    "| 60 | 0.4381(8) |\n",
    "| 80 | 0.4379(14) |\n",
    "\n",
    "Il est à noter que les erreurs sur les valeurs calculées dans ce notebook ne tiennent pas compte de la corrélation des spins, étant donné que nous avons fait le calcul pour une seule grille à chaque fois.\n",
    "\n",
    "Les valeurs de $\\alpha$ critique pour $N=40,60$ et $80$ sont très proches les unes des autres, la valeur pour $N=80$ étant même plus petite que celle obtenue pour $N=60$. Cela doit être dû à la faible quantité de données récoltées pour ces grilles. En effet, nous pouvons voir que les erreurs sur es dernières valeurs sont de l'ordre de la séparation entre celles-ci. \n",
    "\n",
    "Nous voyons malgré cela que les valeurs obtenues pour $N=40,60,80$ sont nettement plus proches de la valeur limite théorique de $0.441$ pour $N\\rightarrow\\infty$. Cependant l'écart entre $0.441$ et le groupement de valeurs pour $N=40,60,80$ est trop grand pour vérifier que notre algorithme tend vers la bonne valeur. Effectivement, tout ce que nous pouvons conclure à ce stade est que soit la méthode converge lentement en agrandissant la grille, soit elle converge rapidement vers une valeur autre que $0.441$, localisée aux alentours de $0.438$."
   ]
  },
  {
   "cell_type": "code",
   "execution_count": null,
   "metadata": {
    "collapsed": true
   },
   "outputs": [],
   "source": []
  }
 ],
 "metadata": {
  "kernelspec": {
   "display_name": "Python 3",
   "language": "python",
   "name": "python3"
  },
  "language_info": {
   "codemirror_mode": {
    "name": "ipython",
    "version": 3
   },
   "file_extension": ".py",
   "mimetype": "text/x-python",
   "name": "python",
   "nbconvert_exporter": "python",
   "pygments_lexer": "ipython3",
   "version": "3.6.2"
  }
 },
 "nbformat": 4,
 "nbformat_minor": 2
}
