{
 "cells": [
  {
   "cell_type": "markdown",
   "metadata": {},
   "source": [
    "<h1><center>PHYS-F-303</center></h1>\n",
    "<h1><center>Partie numérique</center></h1>\n",
    "<h2><center>Cédric SCHOONEN, Maxime JAMOTTE</center></h2>"
   ]
  },
  {
   "cell_type": "code",
   "execution_count": 3,
   "metadata": {
    "collapsed": true
   },
   "outputs": [],
   "source": [
    "import time\n",
    "from matplotlib import pyplot as plt\n",
    "import numpy as np\n",
    "import random\n",
    "%matplotlib inline\n",
    "from matplotlib import rcParams\n",
    "rcParams['font.family'] = 'serif'\n",
    "rcParams['font.size'] = 16\n",
    "import matplotlib.cm as cm\n",
    "from matplotlib import animation\n",
    "from IPython.display import HTML"
   ]
  },
  {
   "cell_type": "markdown",
   "metadata": {},
   "source": [
    "# Leçon 06_02"
   ]
  },
  {
   "cell_type": "markdown",
   "metadata": {},
   "source": [
    "## Question 1"
   ]
  },
  {
   "cell_type": "markdown",
   "metadata": {
    "collapsed": true
   },
   "source": [
    "Le langage Python possède des fonctions précompilées pour générer des nombres distribués de différentes manières, notamment selon une gaussienne ou selon une exponentielle. "
   ]
  },
  {
   "cell_type": "markdown",
   "metadata": {},
   "source": [
    "### Distribution exponentielle"
   ]
  },
  {
   "cell_type": "code",
   "execution_count": 4,
   "metadata": {},
   "outputs": [
    {
     "data": {
      "text/plain": [
       "0.10486394874277234"
      ]
     },
     "execution_count": 4,
     "metadata": {},
     "output_type": "execute_result"
    }
   ],
   "source": [
    "# random.expovariate\n",
    "\n",
    "\"\"\"Exponential distribution. lambd is 1.0 divided by the desired mean. It should be nonzero. \n",
    "(The parameter would be called “lambda”, but that is a reserved word in Python.) \n",
    "\n",
    "Returned values range from 0 to positive infinity if lambd is positive, and from negative infinity\n",
    "to 0 if lambd is negative\"\"\"\n",
    "\n",
    "lambd = 1\n",
    "distrExp = random.expovariate(lambd)\n",
    "distrExp"
   ]
  },
  {
   "cell_type": "code",
   "execution_count": 5,
   "metadata": {
    "collapsed": true
   },
   "outputs": [],
   "source": [
    "# numpy.random.exponential\n",
    "\n",
    "\"\"\" Parameters:\n",
    "    ----------\n",
    "    lambd : float or array_like of floats\n",
    "\n",
    "        The scale parameter, \\beta = 1/\\lambda.\n",
    "\n",
    "    size : int or tuple of ints, optional\n",
    "\n",
    "        Output shape. If the given shape is, e.g., (m, n, k), then m * n * k samples are drawn. If size is None\n",
    "        (default), a single value is returned if scale is a scalar. Otherwise, np.array(scale).size samples are\n",
    "        drawn.\n",
    "\n",
    "    Returns:\n",
    "    -------\n",
    "    out : ndarray or scalar\n",
    "\n",
    "        Drawn samples from the parameterized exponential distribution.\"\"\"\n",
    "\n",
    "lambd = 1\n",
    "size = 2\n",
    "\n"
   ]
  },
  {
   "cell_type": "markdown",
   "metadata": {},
   "source": [
    "### Distribution gaussienne"
   ]
  },
  {
   "cell_type": "code",
   "execution_count": 6,
   "metadata": {},
   "outputs": [
    {
     "data": {
      "text/plain": [
       "0.39561923799189574"
      ]
     },
     "execution_count": 6,
     "metadata": {},
     "output_type": "execute_result"
    }
   ],
   "source": [
    "# random.gauss\n",
    "\n",
    "\"\"\"Gaussian distribution. mu is the mean, and sigma is the standard deviation\"\"\"\n",
    "\n",
    "mu = 0\n",
    "sigma = 1\n",
    "distrGauss = random.gauss(mu,sigma)\n",
    "distrGauss"
   ]
  },
  {
   "cell_type": "code",
   "execution_count": 7,
   "metadata": {},
   "outputs": [
    {
     "ename": "NameError",
     "evalue": "name 'distrNormal' is not defined",
     "output_type": "error",
     "traceback": [
      "\u001b[0;31m---------------------------------------------------------------------------\u001b[0m",
      "\u001b[0;31mNameError\u001b[0m                                 Traceback (most recent call last)",
      "\u001b[0;32m<ipython-input-7-af7d22de3bd1>\u001b[0m in \u001b[0;36m<module>\u001b[0;34m()\u001b[0m\n\u001b[1;32m     26\u001b[0m \u001b[0msigma\u001b[0m \u001b[0;34m=\u001b[0m \u001b[0;36m1\u001b[0m\u001b[0;34m\u001b[0m\u001b[0m\n\u001b[1;32m     27\u001b[0m \u001b[0msize\u001b[0m \u001b[0;34m=\u001b[0m \u001b[0;36m1\u001b[0m\u001b[0;34m\u001b[0m\u001b[0m\n\u001b[0;32m---> 28\u001b[0;31m \u001b[0mdistrNormal\u001b[0m\u001b[0;34m(\u001b[0m\u001b[0mmu\u001b[0m\u001b[0;34m,\u001b[0m\u001b[0msigma\u001b[0m\u001b[0;34m,\u001b[0m\u001b[0msize\u001b[0m\u001b[0;34m)\u001b[0m\u001b[0;34m\u001b[0m\u001b[0m\n\u001b[0m",
      "\u001b[0;31mNameError\u001b[0m: name 'distrNormal' is not defined"
     ]
    }
   ],
   "source": [
    "# numpy.random.normal\n",
    "\n",
    "\"\"\" Parameters:\n",
    "    ----------\n",
    "    mu : float or array_like of floats\n",
    "\n",
    "        Mean (“centre”) of the distribution.\n",
    "\n",
    "    sigma : float or array_like of floats\n",
    "\n",
    "        Standard deviation (spread or “width”) of the distribution.\n",
    "\n",
    "    size : int or tuple of ints, optional\n",
    "\n",
    "        Output shape. If the given shape is, e.g., (m, n, k), then m * n * k samples are drawn. If size is \n",
    "        None (default), a single value is returned if loc and scale are both scalars. \n",
    "        Otherwise, np.broadcast(loc, scale).size samples are drawn.\n",
    "\n",
    "    Returns:\n",
    "    -------\n",
    "    out : ndarray or scalar\n",
    "\n",
    "        Drawn samples from the parameterized normal distribution.\"\"\"\n",
    "\n",
    "mu = 0\n",
    "sigma = 1\n",
    "size = 1\n",
    "distrNormal(mu,sigma,size)\n"
   ]
  },
  {
   "cell_type": "code",
   "execution_count": null,
   "metadata": {},
   "outputs": [],
   "source": [
    "# numpy.randn\n",
    "\n",
    "\"\"\"Parameters:\n",
    "   ----------\n",
    "    d0, d1, ..., dn   : int, optional\n",
    "\n",
    "                        The dimensions of the returned array, should be all positive. If no argument is \n",
    "                        given a single Python float is returned.\n",
    "\n",
    "    Returns:\n",
    "    -------\n",
    "    Z   : ndarray or float\n",
    "\n",
    "        (d0, d1, ..., dn)-shaped array of floating-point samples from the standard normal distribution, \n",
    "        or a single such float if no parameters were supplied.\"\"\"\n",
    "\n",
    "d0 = 2\n",
    "d1 = 2\n",
    "d2 = 2\n",
    "\n",
    "distrNormal_randn = np.random.randn(d0,d1,d2)\n",
    "distrNormal_randn"
   ]
  },
  {
   "cell_type": "markdown",
   "metadata": {},
   "source": [
    "## Question 2"
   ]
  },
  {
   "cell_type": "markdown",
   "metadata": {},
   "source": [
    "Nous codons ici la méthode dite de \"Box-Muller\"."
   ]
  },
  {
   "cell_type": "code",
   "execution_count": 8,
   "metadata": {
    "collapsed": true
   },
   "outputs": [],
   "source": [
    "N = 10000\n",
    "\n",
    "u1 = np.random.random_sample(N)\n",
    "u2 = np.random.random_sample(N)"
   ]
  },
  {
   "cell_type": "code",
   "execution_count": 9,
   "metadata": {
    "collapsed": true
   },
   "outputs": [],
   "source": [
    "z0 = np.sqrt(-2*np.log(u1))*np.cos(2*np.pi*u2)\n",
    "z1 = np.sqrt(-2*np.log(u2))*np.sin(2*np.pi*u1)"
   ]
  },
  {
   "cell_type": "code",
   "execution_count": 10,
   "metadata": {},
   "outputs": [
    {
     "data": {
      "text/plain": [
       "[<matplotlib.lines.Line2D at 0x7fdfe98f14a8>]"
      ]
     },
     "execution_count": 10,
     "metadata": {},
     "output_type": "execute_result"
    },
    {
     "data": {
      "image/png": "[encoded data removed]",
      "text/plain": [
       "<matplotlib.figure.Figure at 0x7fdfd9914d68>"
      ]
     },
     "metadata": {},
     "output_type": "display_data"
    }
   ],
   "source": [
    "# Plots\n",
    "binwidth=0.1\n",
    "bins=np.arange(-5,5, binwidth)\n",
    "plt.hist(z0,bins,normed='true',color='blue');\n",
    "\n",
    "# Compute centers of bins\n",
    "xc = bins[:-1] + binwidth/2\n",
    "plt.plot(xc,np.exp(-xc**2/2.0)/np.sqrt(2*np.pi),lw=2,color='green')"
   ]
  },
  {
   "cell_type": "code",
   "execution_count": 11,
   "metadata": {},
   "outputs": [
    {
     "data": {
      "text/plain": [
       "[<matplotlib.lines.Line2D at 0x7fdfd879e1d0>]"
      ]
     },
     "execution_count": 11,
     "metadata": {},
     "output_type": "execute_result"
    },
    {
     "data": {
      "image/png": "[encoded data removed]",
      "text/plain": [
       "<matplotlib.figure.Figure at 0x7fdfd87a96a0>"
      ]
     },
     "metadata": {},
     "output_type": "display_data"
    }
   ],
   "source": [
    "# Plots\n",
    "binwidth=0.1\n",
    "bins=np.arange(-5,5, binwidth)\n",
    "plt.hist(z1,bins,normed='true',color='blue');\n",
    "\n",
    "# Compute centers of bins\n",
    "xc = bins[:-1] + binwidth/2\n",
    "plt.plot(xc,np.exp(-xc**2/2.0)/np.sqrt(2*np.pi),lw=2,color='green')"
   ]
  },
  {
   "cell_type": "markdown",
   "metadata": {},
   "source": [
    "# Leçon 06_03"
   ]
  },
  {
   "cell_type": "markdown",
   "metadata": {},
   "source": [
    "## Question 1"
   ]
  },
  {
   "cell_type": "code",
   "execution_count": 12,
   "metadata": {},
   "outputs": [
    {
     "data": {
      "image/png": "[encoded data removed]",
      "text/plain": [
       "<matplotlib.figure.Figure at 0x7fdfd858d8d0>"
      ]
     },
     "metadata": {},
     "output_type": "display_data"
    }
   ],
   "source": [
    "npart=10000\n",
    "T=50.0\n",
    "nt=500\n",
    "dt=T/nt\n",
    "alpha=2\n",
    "c = 1\n",
    "\n",
    "sigma = 1.0\n",
    "x0 = np.random.normal(loc=0,scale=sigma,size=npart)\n",
    "\n",
    "t = np.arange(0,T+dt,dt)\n",
    "x = np.empty([nt+1,npart])\n",
    "\n",
    "x[0]=x0\n",
    "\n",
    "for i in range(nt):\n",
    "    x[i+1]=x[i]+np.sqrt(2*alpha*dt)*np.random.normal(0,1,npart)+c*dt\n",
    "\n",
    "for i in range(20):\n",
    "    plt.plot(t,x[:,i])"
   ]
  },
  {
   "cell_type": "markdown",
   "metadata": {},
   "source": [
    "On remarque une translation générale des particules vers les $x$ positifs si $c$ est positif et vers les $x$ négatifs si $c$ est négatif. "
   ]
  },
  {
   "cell_type": "markdown",
   "metadata": {},
   "source": [
    "## Question 2"
   ]
  },
  {
   "cell_type": "code",
   "execution_count": 13,
   "metadata": {},
   "outputs": [
    {
     "data": {
      "image/png": "[encoded data removed]",
      "text/plain": [
       "<matplotlib.figure.Figure at 0x7fdfd848e860>"
      ]
     },
     "metadata": {},
     "output_type": "display_data"
    }
   ],
   "source": [
    "npart=2000\n",
    "npart2plot = 1\n",
    "\n",
    "T = 500.0\n",
    "dt = 1\n",
    "nt = int(T/dt)+1\n",
    "alpha = 2\n",
    "gamma = 1\n",
    "\n",
    "sigma = 1.0\n",
    "x0 = np.random.normal(loc=0,scale=sigma,size=npart)\n",
    "\n",
    "t = np.arange(0,T+dt,dt)\n",
    "x = np.empty([nt,npart])\n",
    "\n",
    "x[0]=x0\n",
    "\n",
    "for i in range(nt-1):\n",
    "    x[i+1]=x[i]+np.sqrt(2*alpha*dt)*np.random.normal(0,1,npart)-gamma*x[i]*dt\n",
    "\n",
    "for i in range(npart2plot):\n",
    "    plt.plot(t,x[:,i],'.-')\n",
    "plt.grid()"
   ]
  },
  {
   "cell_type": "code",
   "execution_count": 14,
   "metadata": {},
   "outputs": [
    {
     "data": {
      "image/png": "[encoded data removed]",
      "text/plain": [
       "<matplotlib.figure.Figure at 0x7fdfd863bc50>"
      ]
     },
     "metadata": {},
     "output_type": "display_data"
    }
   ],
   "source": [
    "# Generate bins centered around 0\n",
    "xmin = np.min(x[nt-1])\n",
    "xmax = np.max(x[nt-1])\n",
    "\n",
    "binwidth = (xmax-xmin)/100\n",
    "\n",
    "bins=np.arange(xmin,xmax,binwidth)\n",
    "bins = bins + binwidth/2\n",
    "\n",
    "# Compute bin centers\n",
    "bin_centers = bins[:-1]+binwidth/2\n",
    "\n",
    "# plot a histrogram for verification\n",
    "#plt.hist(x[nt-1],bins,normed=True);\n",
    "\n",
    "sigmat2=2*alpha*T+sigma**2-gamma*T\n",
    "plt.plot(bin_centers,np.exp(-bin_centers**2/(2.0*sigmat2))/np.sqrt(2*np.pi*sigmat2))\n",
    "plt.grid()"
   ]
  },
  {
   "cell_type": "code",
   "execution_count": 15,
   "metadata": {},
   "outputs": [
    {
     "data": {
      "text/plain": [
       "1501.0"
      ]
     },
     "execution_count": 15,
     "metadata": {},
     "output_type": "execute_result"
    }
   ],
   "source": [
    "sigmat2"
   ]
  },
  {
   "cell_type": "markdown",
   "metadata": {},
   "source": [
    "A cause du terme de friction, on remarque une atténuation de l'écart par rapport à la position centrale pour des $\\gamma <2$. Faire varier l'écart-type pour contracrrer l'effet d'un $\\gamma$ trop grand?"
   ]
  },
  {
   "cell_type": "markdown",
   "metadata": {},
   "source": [
    "# Remarques"
   ]
  },
  {
   "cell_type": "markdown",
   "metadata": {},
   "source": [
    "Algorithme instable! On remarque que pour des $\\gamma$ au-delà de 2, il y a comme une divergence."
   ]
  },
  {
   "cell_type": "code",
   "execution_count": 16,
   "metadata": {},
   "outputs": [
    {
     "name": "stderr",
     "output_type": "stream",
     "text": [
      "/home/cedric/Coding/anaconda3/lib/python3.6/site-packages/ipykernel_launcher.py:18: RuntimeWarning: overflow encountered in multiply\n",
      "/home/cedric/Coding/anaconda3/lib/python3.6/site-packages/ipykernel_launcher.py:18: RuntimeWarning: invalid value encountered in subtract\n",
      "/home/cedric/Coding/anaconda3/lib/python3.6/site-packages/matplotlib/transforms.py:2907: RuntimeWarning: overflow encountered in double_scalars\n",
      "  elif vmax - vmin <= maxabsvalue * tiny:\n",
      "/home/cedric/Coding/anaconda3/lib/python3.6/site-packages/matplotlib/transforms.py:436: RuntimeWarning: overflow encountered in double_scalars\n",
      "  return (x0, y0, x1 - x0, y1 - y0)\n",
      "/home/cedric/Coding/anaconda3/lib/python3.6/site-packages/matplotlib/axis.py:1032: UserWarning: Unable to find pixel distance along axis for interval padding of ticks; assuming no interval padding needed.\n",
      "  warnings.warn(\"Unable to find pixel distance along axis \"\n",
      "/home/cedric/Coding/anaconda3/lib/python3.6/site-packages/matplotlib/axis.py:1042: UserWarning: Unable to find pixel distance along axis for interval padding of ticks; assuming no interval padding needed.\n",
      "  warnings.warn(\"Unable to find pixel distance along axis \"\n",
      "/home/cedric/Coding/anaconda3/lib/python3.6/site-packages/matplotlib/ticker.py:1780: RuntimeWarning: overflow encountered in double_scalars\n",
      "  dv = abs(vmax - vmin)  # > 0 as nonsingular is called before.\n",
      "/home/cedric/Coding/anaconda3/lib/python3.6/site-packages/matplotlib/ticker.py:1917: RuntimeWarning: overflow encountered in double_scalars\n",
      "  raw_step = (vmax - vmin) / nbins\n",
      "/home/cedric/Coding/anaconda3/lib/python3.6/site-packages/matplotlib/ticker.py:1924: RuntimeWarning: invalid value encountered in greater_equal\n",
      "  istep = np.nonzero(steps >= raw_step)[0][0]\n"
     ]
    },
    {
     "ename": "IndexError",
     "evalue": "index 0 is out of bounds for axis 0 with size 0",
     "output_type": "error",
     "traceback": [
      "\u001b[0;31m---------------------------------------------------------------------------\u001b[0m",
      "\u001b[0;31mIndexError\u001b[0m                                Traceback (most recent call last)",
      "\u001b[0;32m~/Coding/anaconda3/lib/python3.6/site-packages/IPython/core/formatters.py\u001b[0m in \u001b[0;36m__call__\u001b[0;34m(self, obj)\u001b[0m\n\u001b[1;32m    330\u001b[0m                 \u001b[0;32mpass\u001b[0m\u001b[0;34m\u001b[0m\u001b[0m\n\u001b[1;32m    331\u001b[0m             \u001b[0;32melse\u001b[0m\u001b[0;34m:\u001b[0m\u001b[0;34m\u001b[0m\u001b[0m\n\u001b[0;32m--> 332\u001b[0;31m                 \u001b[0;32mreturn\u001b[0m \u001b[0mprinter\u001b[0m\u001b[0;34m(\u001b[0m\u001b[0mobj\u001b[0m\u001b[0;34m)\u001b[0m\u001b[0;34m\u001b[0m\u001b[0m\n\u001b[0m\u001b[1;32m    333\u001b[0m             \u001b[0;31m# Finally look for special method names\u001b[0m\u001b[0;34m\u001b[0m\u001b[0;34m\u001b[0m\u001b[0m\n\u001b[1;32m    334\u001b[0m             \u001b[0mmethod\u001b[0m \u001b[0;34m=\u001b[0m \u001b[0mget_real_method\u001b[0m\u001b[0;34m(\u001b[0m\u001b[0mobj\u001b[0m\u001b[0;34m,\u001b[0m \u001b[0mself\u001b[0m\u001b[0;34m.\u001b[0m\u001b[0mprint_method\u001b[0m\u001b[0;34m)\u001b[0m\u001b[0;34m\u001b[0m\u001b[0m\n",
      "\u001b[0;32m~/Coding/anaconda3/lib/python3.6/site-packages/IPython/core/pylabtools.py\u001b[0m in \u001b[0;36m<lambda>\u001b[0;34m(fig)\u001b[0m\n\u001b[1;32m    235\u001b[0m \u001b[0;34m\u001b[0m\u001b[0m\n\u001b[1;32m    236\u001b[0m     \u001b[0;32mif\u001b[0m \u001b[0;34m'png'\u001b[0m \u001b[0;32min\u001b[0m \u001b[0mformats\u001b[0m\u001b[0;34m:\u001b[0m\u001b[0;34m\u001b[0m\u001b[0m\n\u001b[0;32m--> 237\u001b[0;31m         \u001b[0mpng_formatter\u001b[0m\u001b[0;34m.\u001b[0m\u001b[0mfor_type\u001b[0m\u001b[0;34m(\u001b[0m\u001b[0mFigure\u001b[0m\u001b[0;34m,\u001b[0m \u001b[0;32mlambda\u001b[0m \u001b[0mfig\u001b[0m\u001b[0;34m:\u001b[0m \u001b[0mprint_figure\u001b[0m\u001b[0;34m(\u001b[0m\u001b[0mfig\u001b[0m\u001b[0;34m,\u001b[0m \u001b[0;34m'png'\u001b[0m\u001b[0;34m,\u001b[0m \u001b[0;34m**\u001b[0m\u001b[0mkwargs\u001b[0m\u001b[0;34m)\u001b[0m\u001b[0;34m)\u001b[0m\u001b[0;34m\u001b[0m\u001b[0m\n\u001b[0m\u001b[1;32m    238\u001b[0m     \u001b[0;32mif\u001b[0m \u001b[0;34m'retina'\u001b[0m \u001b[0;32min\u001b[0m \u001b[0mformats\u001b[0m \u001b[0;32mor\u001b[0m \u001b[0;34m'png2x'\u001b[0m \u001b[0;32min\u001b[0m \u001b[0mformats\u001b[0m\u001b[0;34m:\u001b[0m\u001b[0;34m\u001b[0m\u001b[0m\n\u001b[1;32m    239\u001b[0m         \u001b[0mpng_formatter\u001b[0m\u001b[0;34m.\u001b[0m\u001b[0mfor_type\u001b[0m\u001b[0;34m(\u001b[0m\u001b[0mFigure\u001b[0m\u001b[0;34m,\u001b[0m \u001b[0;32mlambda\u001b[0m \u001b[0mfig\u001b[0m\u001b[0;34m:\u001b[0m \u001b[0mretina_figure\u001b[0m\u001b[0;34m(\u001b[0m\u001b[0mfig\u001b[0m\u001b[0;34m,\u001b[0m \u001b[0;34m**\u001b[0m\u001b[0mkwargs\u001b[0m\u001b[0;34m)\u001b[0m\u001b[0;34m)\u001b[0m\u001b[0;34m\u001b[0m\u001b[0m\n",
      "\u001b[0;32m~/Coding/anaconda3/lib/python3.6/site-packages/IPython/core/pylabtools.py\u001b[0m in \u001b[0;36mprint_figure\u001b[0;34m(fig, fmt, bbox_inches, **kwargs)\u001b[0m\n\u001b[1;32m    119\u001b[0m \u001b[0;34m\u001b[0m\u001b[0m\n\u001b[1;32m    120\u001b[0m     \u001b[0mbytes_io\u001b[0m \u001b[0;34m=\u001b[0m \u001b[0mBytesIO\u001b[0m\u001b[0;34m(\u001b[0m\u001b[0;34m)\u001b[0m\u001b[0;34m\u001b[0m\u001b[0m\n\u001b[0;32m--> 121\u001b[0;31m     \u001b[0mfig\u001b[0m\u001b[0;34m.\u001b[0m\u001b[0mcanvas\u001b[0m\u001b[0;34m.\u001b[0m\u001b[0mprint_figure\u001b[0m\u001b[0;34m(\u001b[0m\u001b[0mbytes_io\u001b[0m\u001b[0;34m,\u001b[0m \u001b[0;34m**\u001b[0m\u001b[0mkw\u001b[0m\u001b[0;34m)\u001b[0m\u001b[0;34m\u001b[0m\u001b[0m\n\u001b[0m\u001b[1;32m    122\u001b[0m     \u001b[0mdata\u001b[0m \u001b[0;34m=\u001b[0m \u001b[0mbytes_io\u001b[0m\u001b[0;34m.\u001b[0m\u001b[0mgetvalue\u001b[0m\u001b[0;34m(\u001b[0m\u001b[0;34m)\u001b[0m\u001b[0;34m\u001b[0m\u001b[0m\n\u001b[1;32m    123\u001b[0m     \u001b[0;32mif\u001b[0m \u001b[0mfmt\u001b[0m \u001b[0;34m==\u001b[0m \u001b[0;34m'svg'\u001b[0m\u001b[0;34m:\u001b[0m\u001b[0;34m\u001b[0m\u001b[0m\n",
      "\u001b[0;32m~/Coding/anaconda3/lib/python3.6/site-packages/matplotlib/backend_bases.py\u001b[0m in \u001b[0;36mprint_figure\u001b[0;34m(self, filename, dpi, facecolor, edgecolor, orientation, format, **kwargs)\u001b[0m\n\u001b[1;32m   2206\u001b[0m                     \u001b[0morientation\u001b[0m\u001b[0;34m=\u001b[0m\u001b[0morientation\u001b[0m\u001b[0;34m,\u001b[0m\u001b[0;34m\u001b[0m\u001b[0m\n\u001b[1;32m   2207\u001b[0m                     \u001b[0mdryrun\u001b[0m\u001b[0;34m=\u001b[0m\u001b[0;32mTrue\u001b[0m\u001b[0;34m,\u001b[0m\u001b[0;34m\u001b[0m\u001b[0m\n\u001b[0;32m-> 2208\u001b[0;31m                     **kwargs)\n\u001b[0m\u001b[1;32m   2209\u001b[0m                 \u001b[0mrenderer\u001b[0m \u001b[0;34m=\u001b[0m \u001b[0mself\u001b[0m\u001b[0;34m.\u001b[0m\u001b[0mfigure\u001b[0m\u001b[0;34m.\u001b[0m\u001b[0m_cachedRenderer\u001b[0m\u001b[0;34m\u001b[0m\u001b[0m\n\u001b[1;32m   2210\u001b[0m                 \u001b[0mbbox_inches\u001b[0m \u001b[0;34m=\u001b[0m \u001b[0mself\u001b[0m\u001b[0;34m.\u001b[0m\u001b[0mfigure\u001b[0m\u001b[0;34m.\u001b[0m\u001b[0mget_tightbbox\u001b[0m\u001b[0;34m(\u001b[0m\u001b[0mrenderer\u001b[0m\u001b[0;34m)\u001b[0m\u001b[0;34m\u001b[0m\u001b[0m\n",
      "\u001b[0;32m~/Coding/anaconda3/lib/python3.6/site-packages/matplotlib/backends/backend_agg.py\u001b[0m in \u001b[0;36mprint_png\u001b[0;34m(self, filename_or_obj, *args, **kwargs)\u001b[0m\n\u001b[1;32m    505\u001b[0m \u001b[0;34m\u001b[0m\u001b[0m\n\u001b[1;32m    506\u001b[0m     \u001b[0;32mdef\u001b[0m \u001b[0mprint_png\u001b[0m\u001b[0;34m(\u001b[0m\u001b[0mself\u001b[0m\u001b[0;34m,\u001b[0m \u001b[0mfilename_or_obj\u001b[0m\u001b[0;34m,\u001b[0m \u001b[0;34m*\u001b[0m\u001b[0margs\u001b[0m\u001b[0;34m,\u001b[0m \u001b[0;34m**\u001b[0m\u001b[0mkwargs\u001b[0m\u001b[0;34m)\u001b[0m\u001b[0;34m:\u001b[0m\u001b[0;34m\u001b[0m\u001b[0m\n\u001b[0;32m--> 507\u001b[0;31m         \u001b[0mFigureCanvasAgg\u001b[0m\u001b[0;34m.\u001b[0m\u001b[0mdraw\u001b[0m\u001b[0;34m(\u001b[0m\u001b[0mself\u001b[0m\u001b[0;34m)\u001b[0m\u001b[0;34m\u001b[0m\u001b[0m\n\u001b[0m\u001b[1;32m    508\u001b[0m         \u001b[0mrenderer\u001b[0m \u001b[0;34m=\u001b[0m \u001b[0mself\u001b[0m\u001b[0;34m.\u001b[0m\u001b[0mget_renderer\u001b[0m\u001b[0;34m(\u001b[0m\u001b[0;34m)\u001b[0m\u001b[0;34m\u001b[0m\u001b[0m\n\u001b[1;32m    509\u001b[0m         \u001b[0moriginal_dpi\u001b[0m \u001b[0;34m=\u001b[0m \u001b[0mrenderer\u001b[0m\u001b[0;34m.\u001b[0m\u001b[0mdpi\u001b[0m\u001b[0;34m\u001b[0m\u001b[0m\n",
      "\u001b[0;32m~/Coding/anaconda3/lib/python3.6/site-packages/matplotlib/backends/backend_agg.py\u001b[0m in \u001b[0;36mdraw\u001b[0;34m(self)\u001b[0m\n\u001b[1;32m    428\u001b[0m             \u001b[0;32mif\u001b[0m \u001b[0mtoolbar\u001b[0m\u001b[0;34m:\u001b[0m\u001b[0;34m\u001b[0m\u001b[0m\n\u001b[1;32m    429\u001b[0m                 \u001b[0mtoolbar\u001b[0m\u001b[0;34m.\u001b[0m\u001b[0mset_cursor\u001b[0m\u001b[0;34m(\u001b[0m\u001b[0mcursors\u001b[0m\u001b[0;34m.\u001b[0m\u001b[0mWAIT\u001b[0m\u001b[0;34m)\u001b[0m\u001b[0;34m\u001b[0m\u001b[0m\n\u001b[0;32m--> 430\u001b[0;31m             \u001b[0mself\u001b[0m\u001b[0;34m.\u001b[0m\u001b[0mfigure\u001b[0m\u001b[0;34m.\u001b[0m\u001b[0mdraw\u001b[0m\u001b[0;34m(\u001b[0m\u001b[0mself\u001b[0m\u001b[0;34m.\u001b[0m\u001b[0mrenderer\u001b[0m\u001b[0;34m)\u001b[0m\u001b[0;34m\u001b[0m\u001b[0m\n\u001b[0m\u001b[1;32m    431\u001b[0m         \u001b[0;32mfinally\u001b[0m\u001b[0;34m:\u001b[0m\u001b[0;34m\u001b[0m\u001b[0m\n\u001b[1;32m    432\u001b[0m             \u001b[0;32mif\u001b[0m \u001b[0mtoolbar\u001b[0m\u001b[0;34m:\u001b[0m\u001b[0;34m\u001b[0m\u001b[0m\n",
      "\u001b[0;32m~/Coding/anaconda3/lib/python3.6/site-packages/matplotlib/artist.py\u001b[0m in \u001b[0;36mdraw_wrapper\u001b[0;34m(artist, renderer, *args, **kwargs)\u001b[0m\n\u001b[1;32m     53\u001b[0m                 \u001b[0mrenderer\u001b[0m\u001b[0;34m.\u001b[0m\u001b[0mstart_filter\u001b[0m\u001b[0;34m(\u001b[0m\u001b[0;34m)\u001b[0m\u001b[0;34m\u001b[0m\u001b[0m\n\u001b[1;32m     54\u001b[0m \u001b[0;34m\u001b[0m\u001b[0m\n\u001b[0;32m---> 55\u001b[0;31m             \u001b[0;32mreturn\u001b[0m \u001b[0mdraw\u001b[0m\u001b[0;34m(\u001b[0m\u001b[0martist\u001b[0m\u001b[0;34m,\u001b[0m \u001b[0mrenderer\u001b[0m\u001b[0;34m,\u001b[0m \u001b[0;34m*\u001b[0m\u001b[0margs\u001b[0m\u001b[0;34m,\u001b[0m \u001b[0;34m**\u001b[0m\u001b[0mkwargs\u001b[0m\u001b[0;34m)\u001b[0m\u001b[0;34m\u001b[0m\u001b[0m\n\u001b[0m\u001b[1;32m     56\u001b[0m         \u001b[0;32mfinally\u001b[0m\u001b[0;34m:\u001b[0m\u001b[0;34m\u001b[0m\u001b[0m\n\u001b[1;32m     57\u001b[0m             \u001b[0;32mif\u001b[0m \u001b[0martist\u001b[0m\u001b[0;34m.\u001b[0m\u001b[0mget_agg_filter\u001b[0m\u001b[0;34m(\u001b[0m\u001b[0;34m)\u001b[0m \u001b[0;32mis\u001b[0m \u001b[0;32mnot\u001b[0m \u001b[0;32mNone\u001b[0m\u001b[0;34m:\u001b[0m\u001b[0;34m\u001b[0m\u001b[0m\n",
      "\u001b[0;32m~/Coding/anaconda3/lib/python3.6/site-packages/matplotlib/figure.py\u001b[0m in \u001b[0;36mdraw\u001b[0;34m(self, renderer)\u001b[0m\n\u001b[1;32m   1293\u001b[0m \u001b[0;34m\u001b[0m\u001b[0m\n\u001b[1;32m   1294\u001b[0m             mimage._draw_list_compositing_images(\n\u001b[0;32m-> 1295\u001b[0;31m                 renderer, self, artists, self.suppressComposite)\n\u001b[0m\u001b[1;32m   1296\u001b[0m \u001b[0;34m\u001b[0m\u001b[0m\n\u001b[1;32m   1297\u001b[0m             \u001b[0mrenderer\u001b[0m\u001b[0;34m.\u001b[0m\u001b[0mclose_group\u001b[0m\u001b[0;34m(\u001b[0m\u001b[0;34m'figure'\u001b[0m\u001b[0;34m)\u001b[0m\u001b[0;34m\u001b[0m\u001b[0m\n",
      "\u001b[0;32m~/Coding/anaconda3/lib/python3.6/site-packages/matplotlib/image.py\u001b[0m in \u001b[0;36m_draw_list_compositing_images\u001b[0;34m(renderer, parent, artists, suppress_composite)\u001b[0m\n\u001b[1;32m    136\u001b[0m     \u001b[0;32mif\u001b[0m \u001b[0mnot_composite\u001b[0m \u001b[0;32mor\u001b[0m \u001b[0;32mnot\u001b[0m \u001b[0mhas_images\u001b[0m\u001b[0;34m:\u001b[0m\u001b[0;34m\u001b[0m\u001b[0m\n\u001b[1;32m    137\u001b[0m         \u001b[0;32mfor\u001b[0m \u001b[0ma\u001b[0m \u001b[0;32min\u001b[0m \u001b[0martists\u001b[0m\u001b[0;34m:\u001b[0m\u001b[0;34m\u001b[0m\u001b[0m\n\u001b[0;32m--> 138\u001b[0;31m             \u001b[0ma\u001b[0m\u001b[0;34m.\u001b[0m\u001b[0mdraw\u001b[0m\u001b[0;34m(\u001b[0m\u001b[0mrenderer\u001b[0m\u001b[0;34m)\u001b[0m\u001b[0;34m\u001b[0m\u001b[0m\n\u001b[0m\u001b[1;32m    139\u001b[0m     \u001b[0;32melse\u001b[0m\u001b[0;34m:\u001b[0m\u001b[0;34m\u001b[0m\u001b[0m\n\u001b[1;32m    140\u001b[0m         \u001b[0;31m# Composite any adjacent images together\u001b[0m\u001b[0;34m\u001b[0m\u001b[0;34m\u001b[0m\u001b[0m\n",
      "\u001b[0;32m~/Coding/anaconda3/lib/python3.6/site-packages/matplotlib/artist.py\u001b[0m in \u001b[0;36mdraw_wrapper\u001b[0;34m(artist, renderer, *args, **kwargs)\u001b[0m\n\u001b[1;32m     53\u001b[0m                 \u001b[0mrenderer\u001b[0m\u001b[0;34m.\u001b[0m\u001b[0mstart_filter\u001b[0m\u001b[0;34m(\u001b[0m\u001b[0;34m)\u001b[0m\u001b[0;34m\u001b[0m\u001b[0m\n\u001b[1;32m     54\u001b[0m \u001b[0;34m\u001b[0m\u001b[0m\n\u001b[0;32m---> 55\u001b[0;31m             \u001b[0;32mreturn\u001b[0m \u001b[0mdraw\u001b[0m\u001b[0;34m(\u001b[0m\u001b[0martist\u001b[0m\u001b[0;34m,\u001b[0m \u001b[0mrenderer\u001b[0m\u001b[0;34m,\u001b[0m \u001b[0;34m*\u001b[0m\u001b[0margs\u001b[0m\u001b[0;34m,\u001b[0m \u001b[0;34m**\u001b[0m\u001b[0mkwargs\u001b[0m\u001b[0;34m)\u001b[0m\u001b[0;34m\u001b[0m\u001b[0m\n\u001b[0m\u001b[1;32m     56\u001b[0m         \u001b[0;32mfinally\u001b[0m\u001b[0;34m:\u001b[0m\u001b[0;34m\u001b[0m\u001b[0m\n\u001b[1;32m     57\u001b[0m             \u001b[0;32mif\u001b[0m \u001b[0martist\u001b[0m\u001b[0;34m.\u001b[0m\u001b[0mget_agg_filter\u001b[0m\u001b[0;34m(\u001b[0m\u001b[0;34m)\u001b[0m \u001b[0;32mis\u001b[0m \u001b[0;32mnot\u001b[0m \u001b[0;32mNone\u001b[0m\u001b[0;34m:\u001b[0m\u001b[0;34m\u001b[0m\u001b[0m\n",
      "\u001b[0;32m~/Coding/anaconda3/lib/python3.6/site-packages/matplotlib/axes/_base.py\u001b[0m in \u001b[0;36mdraw\u001b[0;34m(self, renderer, inframe)\u001b[0m\n\u001b[1;32m   2397\u001b[0m             \u001b[0mrenderer\u001b[0m\u001b[0;34m.\u001b[0m\u001b[0mstop_rasterizing\u001b[0m\u001b[0;34m(\u001b[0m\u001b[0;34m)\u001b[0m\u001b[0;34m\u001b[0m\u001b[0m\n\u001b[1;32m   2398\u001b[0m \u001b[0;34m\u001b[0m\u001b[0m\n\u001b[0;32m-> 2399\u001b[0;31m         \u001b[0mmimage\u001b[0m\u001b[0;34m.\u001b[0m\u001b[0m_draw_list_compositing_images\u001b[0m\u001b[0;34m(\u001b[0m\u001b[0mrenderer\u001b[0m\u001b[0;34m,\u001b[0m \u001b[0mself\u001b[0m\u001b[0;34m,\u001b[0m \u001b[0martists\u001b[0m\u001b[0;34m)\u001b[0m\u001b[0;34m\u001b[0m\u001b[0m\n\u001b[0m\u001b[1;32m   2400\u001b[0m \u001b[0;34m\u001b[0m\u001b[0m\n\u001b[1;32m   2401\u001b[0m         \u001b[0mrenderer\u001b[0m\u001b[0;34m.\u001b[0m\u001b[0mclose_group\u001b[0m\u001b[0;34m(\u001b[0m\u001b[0;34m'axes'\u001b[0m\u001b[0;34m)\u001b[0m\u001b[0;34m\u001b[0m\u001b[0m\n",
      "\u001b[0;32m~/Coding/anaconda3/lib/python3.6/site-packages/matplotlib/image.py\u001b[0m in \u001b[0;36m_draw_list_compositing_images\u001b[0;34m(renderer, parent, artists, suppress_composite)\u001b[0m\n\u001b[1;32m    136\u001b[0m     \u001b[0;32mif\u001b[0m \u001b[0mnot_composite\u001b[0m \u001b[0;32mor\u001b[0m \u001b[0;32mnot\u001b[0m \u001b[0mhas_images\u001b[0m\u001b[0;34m:\u001b[0m\u001b[0;34m\u001b[0m\u001b[0m\n\u001b[1;32m    137\u001b[0m         \u001b[0;32mfor\u001b[0m \u001b[0ma\u001b[0m \u001b[0;32min\u001b[0m \u001b[0martists\u001b[0m\u001b[0;34m:\u001b[0m\u001b[0;34m\u001b[0m\u001b[0m\n\u001b[0;32m--> 138\u001b[0;31m             \u001b[0ma\u001b[0m\u001b[0;34m.\u001b[0m\u001b[0mdraw\u001b[0m\u001b[0;34m(\u001b[0m\u001b[0mrenderer\u001b[0m\u001b[0;34m)\u001b[0m\u001b[0;34m\u001b[0m\u001b[0m\n\u001b[0m\u001b[1;32m    139\u001b[0m     \u001b[0;32melse\u001b[0m\u001b[0;34m:\u001b[0m\u001b[0;34m\u001b[0m\u001b[0m\n\u001b[1;32m    140\u001b[0m         \u001b[0;31m# Composite any adjacent images together\u001b[0m\u001b[0;34m\u001b[0m\u001b[0;34m\u001b[0m\u001b[0m\n",
      "\u001b[0;32m~/Coding/anaconda3/lib/python3.6/site-packages/matplotlib/artist.py\u001b[0m in \u001b[0;36mdraw_wrapper\u001b[0;34m(artist, renderer, *args, **kwargs)\u001b[0m\n\u001b[1;32m     53\u001b[0m                 \u001b[0mrenderer\u001b[0m\u001b[0;34m.\u001b[0m\u001b[0mstart_filter\u001b[0m\u001b[0;34m(\u001b[0m\u001b[0;34m)\u001b[0m\u001b[0;34m\u001b[0m\u001b[0m\n\u001b[1;32m     54\u001b[0m \u001b[0;34m\u001b[0m\u001b[0m\n\u001b[0;32m---> 55\u001b[0;31m             \u001b[0;32mreturn\u001b[0m \u001b[0mdraw\u001b[0m\u001b[0;34m(\u001b[0m\u001b[0martist\u001b[0m\u001b[0;34m,\u001b[0m \u001b[0mrenderer\u001b[0m\u001b[0;34m,\u001b[0m \u001b[0;34m*\u001b[0m\u001b[0margs\u001b[0m\u001b[0;34m,\u001b[0m \u001b[0;34m**\u001b[0m\u001b[0mkwargs\u001b[0m\u001b[0;34m)\u001b[0m\u001b[0;34m\u001b[0m\u001b[0m\n\u001b[0m\u001b[1;32m     56\u001b[0m         \u001b[0;32mfinally\u001b[0m\u001b[0;34m:\u001b[0m\u001b[0;34m\u001b[0m\u001b[0m\n\u001b[1;32m     57\u001b[0m             \u001b[0;32mif\u001b[0m \u001b[0martist\u001b[0m\u001b[0;34m.\u001b[0m\u001b[0mget_agg_filter\u001b[0m\u001b[0;34m(\u001b[0m\u001b[0;34m)\u001b[0m \u001b[0;32mis\u001b[0m \u001b[0;32mnot\u001b[0m \u001b[0;32mNone\u001b[0m\u001b[0;34m:\u001b[0m\u001b[0;34m\u001b[0m\u001b[0m\n",
      "\u001b[0;32m~/Coding/anaconda3/lib/python3.6/site-packages/matplotlib/axis.py\u001b[0m in \u001b[0;36mdraw\u001b[0;34m(self, renderer, *args, **kwargs)\u001b[0m\n\u001b[1;32m   1131\u001b[0m         \u001b[0mrenderer\u001b[0m\u001b[0;34m.\u001b[0m\u001b[0mopen_group\u001b[0m\u001b[0;34m(\u001b[0m\u001b[0m__name__\u001b[0m\u001b[0;34m)\u001b[0m\u001b[0;34m\u001b[0m\u001b[0m\n\u001b[1;32m   1132\u001b[0m \u001b[0;34m\u001b[0m\u001b[0m\n\u001b[0;32m-> 1133\u001b[0;31m         \u001b[0mticks_to_draw\u001b[0m \u001b[0;34m=\u001b[0m \u001b[0mself\u001b[0m\u001b[0;34m.\u001b[0m\u001b[0m_update_ticks\u001b[0m\u001b[0;34m(\u001b[0m\u001b[0mrenderer\u001b[0m\u001b[0;34m)\u001b[0m\u001b[0;34m\u001b[0m\u001b[0m\n\u001b[0m\u001b[1;32m   1134\u001b[0m         ticklabelBoxes, ticklabelBoxes2 = self._get_tick_bboxes(ticks_to_draw,\n\u001b[1;32m   1135\u001b[0m                                                                 renderer)\n",
      "\u001b[0;32m~/Coding/anaconda3/lib/python3.6/site-packages/matplotlib/axis.py\u001b[0m in \u001b[0;36m_update_ticks\u001b[0;34m(self, renderer)\u001b[0m\n\u001b[1;32m    972\u001b[0m \u001b[0;34m\u001b[0m\u001b[0m\n\u001b[1;32m    973\u001b[0m         \u001b[0minterval\u001b[0m \u001b[0;34m=\u001b[0m \u001b[0mself\u001b[0m\u001b[0;34m.\u001b[0m\u001b[0mget_view_interval\u001b[0m\u001b[0;34m(\u001b[0m\u001b[0;34m)\u001b[0m\u001b[0;34m\u001b[0m\u001b[0m\n\u001b[0;32m--> 974\u001b[0;31m         \u001b[0mtick_tups\u001b[0m \u001b[0;34m=\u001b[0m \u001b[0mlist\u001b[0m\u001b[0;34m(\u001b[0m\u001b[0mself\u001b[0m\u001b[0;34m.\u001b[0m\u001b[0miter_ticks\u001b[0m\u001b[0;34m(\u001b[0m\u001b[0;34m)\u001b[0m\u001b[0;34m)\u001b[0m\u001b[0;34m\u001b[0m\u001b[0m\n\u001b[0m\u001b[1;32m    975\u001b[0m         \u001b[0;32mif\u001b[0m \u001b[0mself\u001b[0m\u001b[0;34m.\u001b[0m\u001b[0m_smart_bounds\u001b[0m \u001b[0;32mand\u001b[0m \u001b[0mtick_tups\u001b[0m\u001b[0;34m:\u001b[0m\u001b[0;34m\u001b[0m\u001b[0m\n\u001b[1;32m    976\u001b[0m             \u001b[0;31m# handle inverted limits\u001b[0m\u001b[0;34m\u001b[0m\u001b[0;34m\u001b[0m\u001b[0m\n",
      "\u001b[0;32m~/Coding/anaconda3/lib/python3.6/site-packages/matplotlib/axis.py\u001b[0m in \u001b[0;36miter_ticks\u001b[0;34m(self)\u001b[0m\n\u001b[1;32m    915\u001b[0m         \u001b[0mIterate\u001b[0m \u001b[0mthrough\u001b[0m \u001b[0mall\u001b[0m \u001b[0mof\u001b[0m \u001b[0mthe\u001b[0m \u001b[0mmajor\u001b[0m \u001b[0;32mand\u001b[0m \u001b[0mminor\u001b[0m \u001b[0mticks\u001b[0m\u001b[0;34m.\u001b[0m\u001b[0;34m\u001b[0m\u001b[0m\n\u001b[1;32m    916\u001b[0m         \"\"\"\n\u001b[0;32m--> 917\u001b[0;31m         \u001b[0mmajorLocs\u001b[0m \u001b[0;34m=\u001b[0m \u001b[0mself\u001b[0m\u001b[0;34m.\u001b[0m\u001b[0mmajor\u001b[0m\u001b[0;34m.\u001b[0m\u001b[0mlocator\u001b[0m\u001b[0;34m(\u001b[0m\u001b[0;34m)\u001b[0m\u001b[0;34m\u001b[0m\u001b[0m\n\u001b[0m\u001b[1;32m    918\u001b[0m         \u001b[0mmajorTicks\u001b[0m \u001b[0;34m=\u001b[0m \u001b[0mself\u001b[0m\u001b[0;34m.\u001b[0m\u001b[0mget_major_ticks\u001b[0m\u001b[0;34m(\u001b[0m\u001b[0mlen\u001b[0m\u001b[0;34m(\u001b[0m\u001b[0mmajorLocs\u001b[0m\u001b[0;34m)\u001b[0m\u001b[0;34m)\u001b[0m\u001b[0;34m\u001b[0m\u001b[0m\n\u001b[1;32m    919\u001b[0m         \u001b[0mself\u001b[0m\u001b[0;34m.\u001b[0m\u001b[0mmajor\u001b[0m\u001b[0;34m.\u001b[0m\u001b[0mformatter\u001b[0m\u001b[0;34m.\u001b[0m\u001b[0mset_locs\u001b[0m\u001b[0;34m(\u001b[0m\u001b[0mmajorLocs\u001b[0m\u001b[0;34m)\u001b[0m\u001b[0;34m\u001b[0m\u001b[0m\n",
      "\u001b[0;32m~/Coding/anaconda3/lib/python3.6/site-packages/matplotlib/ticker.py\u001b[0m in \u001b[0;36m__call__\u001b[0;34m(self)\u001b[0m\n\u001b[1;32m   1955\u001b[0m     \u001b[0;32mdef\u001b[0m \u001b[0m__call__\u001b[0m\u001b[0;34m(\u001b[0m\u001b[0mself\u001b[0m\u001b[0;34m)\u001b[0m\u001b[0;34m:\u001b[0m\u001b[0;34m\u001b[0m\u001b[0m\n\u001b[1;32m   1956\u001b[0m         \u001b[0mvmin\u001b[0m\u001b[0;34m,\u001b[0m \u001b[0mvmax\u001b[0m \u001b[0;34m=\u001b[0m \u001b[0mself\u001b[0m\u001b[0;34m.\u001b[0m\u001b[0maxis\u001b[0m\u001b[0;34m.\u001b[0m\u001b[0mget_view_interval\u001b[0m\u001b[0;34m(\u001b[0m\u001b[0;34m)\u001b[0m\u001b[0;34m\u001b[0m\u001b[0m\n\u001b[0;32m-> 1957\u001b[0;31m         \u001b[0;32mreturn\u001b[0m \u001b[0mself\u001b[0m\u001b[0;34m.\u001b[0m\u001b[0mtick_values\u001b[0m\u001b[0;34m(\u001b[0m\u001b[0mvmin\u001b[0m\u001b[0;34m,\u001b[0m \u001b[0mvmax\u001b[0m\u001b[0;34m)\u001b[0m\u001b[0;34m\u001b[0m\u001b[0m\n\u001b[0m\u001b[1;32m   1958\u001b[0m \u001b[0;34m\u001b[0m\u001b[0m\n\u001b[1;32m   1959\u001b[0m     \u001b[0;32mdef\u001b[0m \u001b[0mtick_values\u001b[0m\u001b[0;34m(\u001b[0m\u001b[0mself\u001b[0m\u001b[0;34m,\u001b[0m \u001b[0mvmin\u001b[0m\u001b[0;34m,\u001b[0m \u001b[0mvmax\u001b[0m\u001b[0;34m)\u001b[0m\u001b[0;34m:\u001b[0m\u001b[0;34m\u001b[0m\u001b[0m\n",
      "\u001b[0;32m~/Coding/anaconda3/lib/python3.6/site-packages/matplotlib/ticker.py\u001b[0m in \u001b[0;36mtick_values\u001b[0;34m(self, vmin, vmax)\u001b[0m\n\u001b[1;32m   1963\u001b[0m         vmin, vmax = mtransforms.nonsingular(\n\u001b[1;32m   1964\u001b[0m             vmin, vmax, expander=1e-13, tiny=1e-14)\n\u001b[0;32m-> 1965\u001b[0;31m         \u001b[0mlocs\u001b[0m \u001b[0;34m=\u001b[0m \u001b[0mself\u001b[0m\u001b[0;34m.\u001b[0m\u001b[0m_raw_ticks\u001b[0m\u001b[0;34m(\u001b[0m\u001b[0mvmin\u001b[0m\u001b[0;34m,\u001b[0m \u001b[0mvmax\u001b[0m\u001b[0;34m)\u001b[0m\u001b[0;34m\u001b[0m\u001b[0m\n\u001b[0m\u001b[1;32m   1966\u001b[0m \u001b[0;34m\u001b[0m\u001b[0m\n\u001b[1;32m   1967\u001b[0m         \u001b[0mprune\u001b[0m \u001b[0;34m=\u001b[0m \u001b[0mself\u001b[0m\u001b[0;34m.\u001b[0m\u001b[0m_prune\u001b[0m\u001b[0;34m\u001b[0m\u001b[0m\n",
      "\u001b[0;32m~/Coding/anaconda3/lib/python3.6/site-packages/matplotlib/ticker.py\u001b[0m in \u001b[0;36m_raw_ticks\u001b[0;34m(self, vmin, vmax)\u001b[0m\n\u001b[1;32m   1922\u001b[0m             \u001b[0msteps\u001b[0m \u001b[0;34m=\u001b[0m \u001b[0msteps\u001b[0m\u001b[0;34m[\u001b[0m\u001b[0migood\u001b[0m\u001b[0;34m]\u001b[0m\u001b[0;34m\u001b[0m\u001b[0m\n\u001b[1;32m   1923\u001b[0m \u001b[0;34m\u001b[0m\u001b[0m\n\u001b[0;32m-> 1924\u001b[0;31m         \u001b[0mistep\u001b[0m \u001b[0;34m=\u001b[0m \u001b[0mnp\u001b[0m\u001b[0;34m.\u001b[0m\u001b[0mnonzero\u001b[0m\u001b[0;34m(\u001b[0m\u001b[0msteps\u001b[0m \u001b[0;34m>=\u001b[0m \u001b[0mraw_step\u001b[0m\u001b[0;34m)\u001b[0m\u001b[0;34m[\u001b[0m\u001b[0;36m0\u001b[0m\u001b[0;34m]\u001b[0m\u001b[0;34m[\u001b[0m\u001b[0;36m0\u001b[0m\u001b[0;34m]\u001b[0m\u001b[0;34m\u001b[0m\u001b[0m\n\u001b[0m\u001b[1;32m   1925\u001b[0m \u001b[0;34m\u001b[0m\u001b[0m\n\u001b[1;32m   1926\u001b[0m         \u001b[0;31m# Classic round_numbers mode may require a larger step.\u001b[0m\u001b[0;34m\u001b[0m\u001b[0;34m\u001b[0m\u001b[0m\n",
      "\u001b[0;31mIndexError\u001b[0m: index 0 is out of bounds for axis 0 with size 0"
     ]
    },
    {
     "data": {
      "text/plain": [
       "<matplotlib.figure.Figure at 0x7fdfd8435908>"
      ]
     },
     "metadata": {},
     "output_type": "display_data"
    }
   ],
   "source": [
    "npart=1\n",
    "\n",
    "T = 10000.0\n",
    "dt = 1\n",
    "nt = int(T/dt)+1\n",
    "alpha=2\n",
    "gamma = 2.4\n",
    "\n",
    "sigma = 1.0\n",
    "x0 = np.random.normal(loc=0,scale=sigma,size=npart)\n",
    "\n",
    "t = np.arange(0,T+dt,dt)\n",
    "x = np.empty([nt,npart])\n",
    "\n",
    "x[0]=x0\n",
    "\n",
    "for i in range(nt-1):\n",
    "    x[i+1]=x[i]+np.sqrt(2*alpha*dt)*np.random.normal(0,1,npart)-gamma*x[i]*dt\n",
    "\n",
    "for i in range(1):\n",
    "    plt.plot(t[2070:2200],x[2070:2200,i],'.-')\n",
    "plt.grid()"
   ]
  },
  {
   "cell_type": "markdown",
   "metadata": {},
   "source": [
    "# Leçon  06_04: Modèle d'Ising"
   ]
  },
  {
   "cell_type": "markdown",
   "metadata": {
    "collapsed": true
   },
   "source": [
    "## Challenge (vers le milieu du MOOC): Vérification de l'algorithme de Metropolis"
   ]
  },
  {
   "cell_type": "markdown",
   "metadata": {},
   "source": [
    "Nous recommeçons la vérification du mooc pour plusieurs conditions initiales différentes pour voir si le ratio de spins ups et downs converge bien vers $e^{-\\Delta E}$ à chaque fois."
   ]
  },
  {
   "cell_type": "code",
   "execution_count": 18,
   "metadata": {
    "collapsed": true
   },
   "outputs": [],
   "source": [
    "def initial_state_random(nx,ny):\n",
    "    \"\"\" Creates a lattice with random spin orientations\n",
    "   \n",
    "    Parameters:\n",
    "    ----------\n",
    "    nx   : int\n",
    "        Discretization points in x\n",
    "    ny   : int\n",
    "        Discretization points in y\n",
    "   \n",
    "    Returns:\n",
    "    -------\n",
    "    r: 2D array of spins\n",
    "    \"\"\"\n",
    "       \n",
    "    # Uniform random spins between 0 and 1  \n",
    "    r = np.random.randint(0,2,(nx,ny))\n",
    "    \n",
    "    # Where r=0, we assign a negative spin\n",
    "    r[r==0] =-1\n",
    "\n",
    "    return r"
   ]
  },
  {
   "cell_type": "code",
   "execution_count": 21,
   "metadata": {
    "collapsed": true
   },
   "outputs": [],
   "source": [
    "def energy_at_site(sp,alpha,sigma,ix,iy):\n",
    "    \"\"\" Computes the contribution to the energy for a given spin\n",
    "    at location ix,iy for a lattice with periodic boundary conditions\n",
    "   \n",
    "    Parameters:\n",
    "    ----------\n",
    "    sp: numpy array\n",
    "        array of spins\n",
    "    alpha  : real\n",
    "        coupling constant J/(kb*T)\n",
    "    sigma   : int\n",
    "        spin at site ix,iy\n",
    "    ix   : int\n",
    "        location in x\n",
    "    iy   : int\n",
    "        location in y\n",
    "    \n",
    "   \n",
    "    Returns:\n",
    "    -------\n",
    "    energy: energy for the given configuration\n",
    "    \"\"\"\n",
    "    \n",
    "    energy=-alpha*sigma*(sp[(ix-1)%nx,iy]+sp[(ix+1)%nx,iy]+sp[ix,(iy-1)%ny]\\\n",
    "                         +sp[ix,(iy+1)%ny])\n",
    "\n",
    "    return energy"
   ]
  },
  {
   "cell_type": "code",
   "execution_count": 22,
   "metadata": {
    "collapsed": true
   },
   "outputs": [],
   "source": [
    "def metropolis_at_site(sp,alpha,ix,iy):\n",
    "    \"\"\" Flips a dipole at site ix, iy when probability condition is met \n",
    "   \n",
    "    Parameters:\n",
    "    ----------\n",
    "    sp: numpy array\n",
    "        array of spins\n",
    "    alpha  : real\n",
    "        coupling constant J/(kb*T)\n",
    "    ix   : int\n",
    "        location in x\n",
    "    iy   : int\n",
    "        location in y\n",
    "    \"\"\"\n",
    "    sigma=sp[ix,iy]\n",
    "    energy_before_flip = energy_at_site(sp,alpha,sigma,ix,iy)\n",
    "    sigma = -sigma\n",
    "    energy_if_site_flipped = energy_at_site(sp,alpha,sigma,ix,iy)\n",
    "    \n",
    "    # Flip the site with Metropolis probability\n",
    "    # Condition is always satisifed if dE < 0\n",
    "    if (np.random.random_sample()<np.exp(-(energy_if_site_flipped \\\n",
    "                                               -energy_before_flip))):\n",
    "        sp[ix,iy]=-sp[ix,iy]"
   ]
  },
  {
   "cell_type": "code",
   "execution_count": 126,
   "metadata": {
    "collapsed": true
   },
   "outputs": [],
   "source": [
    "def test_Metropolis(n,NMC):\n",
    "    \"\"\" Execute many times the mooc's test for the metropolis algorithm.\n",
    "   \n",
    "    Parameters:\n",
    "    ----------\n",
    "    n: number of times the metropolis algorithm will be tested.\n",
    "    NMC: number of flips to perform for each test.\n",
    "    \n",
    "    Returns:\n",
    "    -------\n",
    "    probas_theo: vector containing the results for the theoretical probability for the flip\n",
    "    ratios:      vector containing the computed ratios ups/downs.\n",
    "    \"\"\"\n",
    "    \n",
    "    nx=10\n",
    "    ny=10\n",
    "    alpha = 0.1\n",
    "    \n",
    "    probas_theo = np.empty(n)\n",
    "    ratios = np.empty(n)\n",
    "\n",
    "    for i in range(n):\n",
    "        \n",
    "        # Initial spins at each site, chosen randomly\n",
    "        sp = initial_state_random(nx,ny)\n",
    "\n",
    "        energy_0 = energy_at_site(sp,alpha,-1,5,5)\n",
    "        energy_1 = energy_at_site(sp,alpha, 1,5,5)\n",
    "\n",
    "        states = np.empty(NMC)\n",
    "        states[0]=sp[5,5]\n",
    "\n",
    "        for m in range(0,NMC):\n",
    "            \n",
    "            metropolis_at_site(sp,alpha,5,5)\n",
    "            states[m]=sp[5,5]\n",
    "\n",
    "            ups = np.extract(states==1, states).size\n",
    "            downs = NMC - ups\n",
    "            \n",
    "        probas_theo[i] = np.exp(energy_0-energy_1)\n",
    "        ratios[i] = ups/downs\n",
    "    \n",
    "    return [probas_theo, ratios]"
   ]
  },
  {
   "cell_type": "code",
   "execution_count": 127,
   "metadata": {},
   "outputs": [
    {
     "name": "stdout",
     "output_type": "stream",
     "text": [
      "[ 0.67032005  1.          0.67032005  1.4918247   1.          0.67032005]\n",
      "[ 0.67504188  1.          0.68918919  1.47116969  1.          0.6722408 ]\n"
     ]
    }
   ],
   "source": [
    "tests = 6\n",
    "[probas_theo, ratios] = test_Metropolis(tests,3000)\n",
    "print(probas_theo)\n",
    "print(ratios)"
   ]
  },
  {
   "cell_type": "markdown",
   "metadata": {},
   "source": [
    "Notons que pour chaque test, les ratios donnés par l'algorithme de Metropolis convergent bien vers la probabilité théorique. Remarquons également que si $\\Delta E = 0$, le flip se fera à tout les coups et nous  aurons donc toujours le même résultat pour le ration, dépendant du nombre de flips effectués (le ration vaut toujours 1 si le nombre de flips est pair)."
   ]
  },
  {
   "cell_type": "markdown",
   "metadata": {},
   "source": [
    "## Question 1: Calculer la magnétisation moyenne pour différentes valeurs de $\\alpha$ entre 0 et 1 et estimer la valeur de $\\alpha$ critique"
   ]
  },
  {
   "cell_type": "markdown",
   "metadata": {},
   "source": [
    "Nous calculons la magnétisation moyenne comme: $$ \\left \\langle M \\right \\rangle = \\dfrac{\\sum_{k=1}^{N} M_k }{N} $$ avec $M_k = \\sum_{i=1}^{b} s_i$ où $N$ est le nombre de tranches simulées et $b$ le nombre de cases dans une tranche dans lesquelles se trouvent les spins que nous sommons.\n",
    "\n",
    "Commençons par définir les fonctions à utiliser pour observer l'évolution de la magnétisation pour un alpha donné."
   ]
  },
  {
   "cell_type": "code",
   "execution_count": 3,
   "metadata": {
    "collapsed": true
   },
   "outputs": [],
   "source": [
    "def initial_state_aligned(nx,ny):\n",
    "    \"\"\" Creates a lattice with aligned spin orientations\n",
    "   \n",
    "    Parameters:\n",
    "    ----------\n",
    "    nx   : int\n",
    "        Discretization points in x\n",
    "    ny   : int\n",
    "        Discretization points in y\n",
    "   \n",
    "    Returns:\n",
    "    -------\n",
    "    r: 2D array of spins\n",
    "    \"\"\"\n",
    "    \n",
    "    r = np.ones([nx,ny])\n",
    "    \n",
    "    return r"
   ]
  },
  {
   "cell_type": "code",
   "execution_count": 6,
   "metadata": {
    "collapsed": true
   },
   "outputs": [],
   "source": [
    "def moy_magn(sp): \n",
    "    \"\"\" Computes the average magnetisation for a given state\n",
    "   \n",
    "    Parameters:\n",
    "    ----------\n",
    "    sp   : lattice state\n",
    "    \n",
    "    Returns:\n",
    "    -------\n",
    "    M: average magnetisation for the lattice state sp \n",
    "    \"\"\"\n",
    "    \n",
    "    M = sp.sum(axis=(0,1))/(len(sp)*len(sp[0]))\n",
    "    return M"
   ]
  },
  {
   "cell_type": "code",
   "execution_count": 7,
   "metadata": {
    "collapsed": true
   },
   "outputs": [],
   "source": [
    "def moy_ener(sp,alpha): \n",
    "    \"\"\" Computes the average energy for a given state\n",
    "   \n",
    "    Parameters:\n",
    "    ----------\n",
    "    sp   : lattice state\n",
    "    \n",
    "    Returns:\n",
    "    -------\n",
    "    E: average energy for the lattice state sp \n",
    "    \"\"\"\n",
    "    \n",
    "    pairsNorth = np.multiply(sp,np.roll(sp,-1,axis=0)) # pas de boucle -> + efficace à priori\n",
    "    pairsEast  = np.multiply(sp,np.roll(sp,-1,axis=1))\n",
    "    pairsSouth = np.multiply(sp,np.roll(sp,1,axis=0))\n",
    "    pairsWest  = np.multiply(sp,np.roll(sp,1,axis=1))\n",
    "    E = -alpha * (pairsNorth.sum(axis=(0,1)) + pairsEast.sum(axis=(0,1)) \n",
    "                  + pairsSouth.sum(axis=(0,1)) + pairsWest.sum(axis=(0,1)))\n",
    "    E = E/(len(sp)*len(sp[0]))\n",
    "           \n",
    "    return E"
   ]
  },
  {
   "cell_type": "code",
   "execution_count": 8,
   "metadata": {
    "collapsed": true
   },
   "outputs": [],
   "source": [
    "def M_with_time_for_alpha(sp,nx,ny,NMC,step,alpha):\n",
    "    \"\"\" Computes the evolution of the magnetisation and energy with time for a given coupling constant for the Ising model using\n",
    "    the Metropolis algorithm\n",
    "   \n",
    "    Parameters:\n",
    "    ----------\n",
    "    sp   : initial lattice state\n",
    "    nx   : int\n",
    "        Discretization points in x\n",
    "    ny   : int\n",
    "        Discretization points in y\n",
    "    NMC  : int\n",
    "        Number of states to create\n",
    "    step   : Step between each magnetisation computation\n",
    "    alpha  : real\n",
    "        coupling constant J/(kb*T)\n",
    "    Returns:\n",
    "    -------\n",
    "    M: magnetisation \n",
    "    E: energie \n",
    "    \"\"\"\n",
    "    \n",
    "    M = np.empty([int(NMC/step)])\n",
    "    E = np.empty([int(NMC/step)])\n",
    "    \n",
    "    for i in range(int(NMC)):\n",
    "        #if i%(int(NMC/10)+1)==0:\n",
    "            #print(\"loop {:d} of {:d} for alpha = {:.2f}\".format(i,NMC,alpha))\n",
    "        for j in range(0,nx*ny):\n",
    "            ix=np.random.randint(0,nx)\n",
    "            iy=np.random.randint(0,ny)\n",
    "            metropolis_at_site(sp,alpha,ix,iy)\n",
    "        if i%step==0:\n",
    "            M[int(i/step)] = moy_magn(sp)\n",
    "            E[int(i/step)] = moy_ener(sp,alpha)\n",
    "    return [M,E]"
   ]
  },
  {
   "cell_type": "markdown",
   "metadata": {},
   "source": [
    "Calculons l'évolution de la magnétisation pour un alpha donné afin de vérifier que le code fonctionne bien."
   ]
  },
  {
   "cell_type": "code",
   "execution_count": 9,
   "metadata": {
    "collapsed": true
   },
   "outputs": [],
   "source": [
    "NMC = 300 \n",
    "step = 1\n",
    "nx = 20 \n",
    "ny = 20\n",
    "alpha = 0.35\n",
    "\n",
    "sp = initial_state_aligned(nx,ny)\n",
    "E_aligned = moy_ener(sp,alpha)\n",
    "\n",
    "[M,E] = M_with_time_for_alpha(sp,nx,ny,NMC,step,alpha)"
   ]
  },
  {
   "cell_type": "code",
   "execution_count": 10,
   "metadata": {},
   "outputs": [
    {
     "data": {
      "image/png": "[encoded data removed]",
      "text/plain": [
       "<matplotlib.figure.Figure at 0x204177a1a20>"
      ]
     },
     "metadata": {},
     "output_type": "display_data"
    }
   ],
   "source": [
    "plt.figure(figsize=(8,5));\n",
    "plt.plot(np.arange(0,len(M)*step,step),M, '.-', label='Magnetisation');\n",
    "plt.plot(np.arange(0,len(E)*step,step),E/E_aligned, '.-', label='Energie')\n",
    "plt.title(\"Evolution des propriétés pour\\n alpha = {:.2f} sur une grille {:d}x{:d}\".format(alpha,nx,ny));\n",
    "plt.xlabel('itération');\n",
    "plt.ylabel('M,E');\n",
    "plt.legend(loc=1);\n",
    "plt.show()"
   ]
  },
  {
   "cell_type": "markdown",
   "metadata": {},
   "source": [
    "Ce graphique nous permet d'estimer le nombre d'itération nécessaire pour atteindre un équilibre statistique. Nous allons en avoir besoin pour calculer les propriétés (magnétisation et énergie) du sysème à l'équilibre. Pour automatiser ce calcul pour plusieurs valeurs de $\\alpha$, il nécessaire de s'assurer que le nombre d'itération attendues pour atteindre l'équilbre majore celui nécessaire pour chaque valeur de $\\alpha$. C'est pourquoi nous avons testé plusieurs valeurs de alpha et choisi pour ce graphique une valeur de alpha parmi celles qui met le plus de temps à atteindre l'équilibre pour un état initial de spins alignés. Nous avons répété plusieurs fois l'algorithme pour cette valeur et avons observé que l'équilibre était toujours atteint avant 50 itérations, nous prendrons 100 itérations pour être sûr d'avoir atteint l'équilibre. Notons que pour des valeurs de alpha proche de la transition (vers 0.4), les propriétés du système (magnétisation, énergie) fluctuent beaucoup."
   ]
  },
  {
   "cell_type": "markdown",
   "metadata": {},
   "source": [
    "Automatisons maintenant la procédure pour calculer la magnétisation à l'équilibre pour un grand nombre de couplages différents."
   ]
  },
  {
   "cell_type": "code",
   "execution_count": 11,
   "metadata": {
    "collapsed": true
   },
   "outputs": [],
   "source": [
    "def M_equilibrium_for_alphas(sps,nx,ny,NMC,step,alphas,NMC_eq):\n",
    "    \"\"\" Computes averages of physical quantities at equilibrium with different coupling constants for the Ising model using\n",
    "    the Metropolis algorithm\n",
    "   \n",
    "    Parameters:\n",
    "    ----------\n",
    "    sps  : Vector containing the initial lattice states\n",
    "    nx   : int\n",
    "        Discretization points in x\n",
    "    ny   : int\n",
    "        Discretization points in y\n",
    "    NMC  : int\n",
    "        Number of states to create\n",
    "    step   : Step between each magnetisation computation\n",
    "    alphas : Vector of reals containing the\n",
    "        coupling constants alpha = J/(kb*T)\n",
    "    NMC_eq : Number of states to create before reaching the equilibrium\n",
    "    Returns:\n",
    "    -------\n",
    "    Ms     : Vector of magnetisations at equilibrium for each alpha in alphas\n",
    "    Es     : Vector of energis at equilibrium for each alpha in alphas\n",
    "    VarEs  : Vector of the variances of the energy at equilibrium for each alpha in alphas\n",
    "    \"\"\"\n",
    "    \n",
    "    Ms  = np.empty([len(alphas)])\n",
    "    Es  = np.empty([len(alphas)])\n",
    "    VarEs = np.empty([len(alphas)])\n",
    "    \n",
    "    for i in range(len(alphas)):\n",
    "        \n",
    "        print(\"loop at alpha = {:.3f}\".format(alphas[i]))\n",
    "        \n",
    "        for j in range(NMC_eq):\n",
    "            \n",
    "            #if j%(int(NMC_eq/10)+1)==0:\n",
    "                #print(\"loop {:d} of {:d} for alpha = {:.2f} (pre-equilibrium)\".format(j,NMC_eq,alphas[i]))\n",
    "            for j in range(0,nx*ny):\n",
    "                ix = np.random.randint(0,nx)\n",
    "                iy = np.random.randint(0,ny)\n",
    "                metropolis_at_site(sps[i],alphas[i],ix,iy)\n",
    "        \n",
    "        [M_evol,E_evol] = M_with_time_for_alpha(sps[i],nx,ny,NMC,step,alphas[i])\n",
    "        Ms[i]  = M_evol.sum()/len(M_evol)\n",
    "        Es[i]  = E_evol.sum()/len(E_evol)\n",
    "        VarEs[i] = (E_evol**2).sum()/len(E_evol) - (E_evol.sum()/len(E_evol))**2\n",
    "    \n",
    "    return [Ms,Es,VarEs]"
   ]
  },
  {
   "cell_type": "markdown",
   "metadata": {},
   "source": [
    "Calculons donc la magnétisation d'équilbre pour plusieurs valeurs de $\\alpha$."
   ]
  },
  {
   "cell_type": "code",
   "execution_count": 14,
   "metadata": {},
   "outputs": [
    {
     "name": "stdout",
     "output_type": "stream",
     "text": [
      "loop at alpha = 0.000\n",
      "loop at alpha = 0.010\n",
      "loop at alpha = 0.020\n",
      "loop at alpha = 0.030\n",
      "loop at alpha = 0.040\n",
      "loop at alpha = 0.050\n",
      "loop at alpha = 0.060\n",
      "loop at alpha = 0.070\n",
      "loop at alpha = 0.080\n",
      "loop at alpha = 0.090\n",
      "loop at alpha = 0.100\n",
      "loop at alpha = 0.110\n",
      "loop at alpha = 0.120\n",
      "loop at alpha = 0.130\n",
      "loop at alpha = 0.140\n",
      "loop at alpha = 0.150\n",
      "loop at alpha = 0.160\n",
      "loop at alpha = 0.170\n",
      "loop at alpha = 0.180\n",
      "loop at alpha = 0.190\n",
      "loop at alpha = 0.200\n",
      "loop at alpha = 0.210\n",
      "loop at alpha = 0.220\n",
      "loop at alpha = 0.230\n",
      "loop at alpha = 0.240\n",
      "loop at alpha = 0.250\n",
      "loop at alpha = 0.260\n",
      "loop at alpha = 0.270\n",
      "loop at alpha = 0.280\n",
      "loop at alpha = 0.290\n",
      "loop at alpha = 0.300\n",
      "loop at alpha = 0.310\n",
      "loop at alpha = 0.320\n",
      "loop at alpha = 0.330\n",
      "loop at alpha = 0.340\n",
      "loop at alpha = 0.350\n",
      "loop at alpha = 0.360\n",
      "loop at alpha = 0.370\n",
      "loop at alpha = 0.380\n",
      "loop at alpha = 0.390\n",
      "loop at alpha = 0.400\n",
      "loop at alpha = 0.410\n",
      "loop at alpha = 0.420\n",
      "loop at alpha = 0.430\n",
      "loop at alpha = 0.440\n",
      "loop at alpha = 0.450\n",
      "loop at alpha = 0.460\n",
      "loop at alpha = 0.470\n",
      "loop at alpha = 0.480\n",
      "loop at alpha = 0.490\n",
      "loop at alpha = 0.500\n",
      "loop at alpha = 0.510\n",
      "loop at alpha = 0.520\n",
      "loop at alpha = 0.530\n",
      "loop at alpha = 0.540\n",
      "loop at alpha = 0.550\n",
      "loop at alpha = 0.560\n",
      "loop at alpha = 0.570\n",
      "loop at alpha = 0.580\n",
      "loop at alpha = 0.590\n",
      "loop at alpha = 0.600\n",
      "loop at alpha = 0.610\n",
      "loop at alpha = 0.620\n",
      "loop at alpha = 0.630\n",
      "loop at alpha = 0.640\n",
      "loop at alpha = 0.650\n",
      "loop at alpha = 0.660\n",
      "loop at alpha = 0.670\n",
      "loop at alpha = 0.680\n",
      "loop at alpha = 0.690\n",
      "loop at alpha = 0.700\n",
      "loop at alpha = 0.710\n",
      "loop at alpha = 0.720\n",
      "loop at alpha = 0.730\n",
      "loop at alpha = 0.740\n",
      "loop at alpha = 0.750\n",
      "loop at alpha = 0.760\n",
      "loop at alpha = 0.770\n",
      "loop at alpha = 0.780\n",
      "loop at alpha = 0.790\n",
      "loop at alpha = 0.800\n",
      "loop at alpha = 0.810\n",
      "loop at alpha = 0.820\n",
      "loop at alpha = 0.830\n",
      "loop at alpha = 0.840\n",
      "loop at alpha = 0.850\n",
      "loop at alpha = 0.860\n",
      "loop at alpha = 0.870\n",
      "loop at alpha = 0.880\n",
      "loop at alpha = 0.890\n",
      "loop at alpha = 0.900\n",
      "loop at alpha = 0.910\n",
      "loop at alpha = 0.920\n",
      "loop at alpha = 0.930\n",
      "loop at alpha = 0.940\n",
      "loop at alpha = 0.950\n",
      "loop at alpha = 0.960\n",
      "loop at alpha = 0.970\n",
      "loop at alpha = 0.980\n",
      "loop at alpha = 0.990\n",
      "loop at alpha = 1.000\n"
     ]
    }
   ],
   "source": [
    "NMC = 100+500\n",
    "NMC_eq = 100\n",
    "step = 1\n",
    "nx = 20\n",
    "ny = 20\n",
    "a = 101\n",
    "alphas = np.linspace(0,1,a)\n",
    "\n",
    "sps = np.empty([a,nx,ny])\n",
    "for i in range(a):\n",
    "    sps[i] = initial_state_aligned(nx,ny)\n",
    "    \n",
    "E_aligned = moy_ener(sps[0],alphas)\n",
    "\n",
    "[Ms,Es,VarEs] = M_equilibrium_for_alphas(sps,nx,ny,NMC,step,alphas,NMC_eq)"
   ]
  },
  {
   "cell_type": "code",
   "execution_count": 19,
   "metadata": {},
   "outputs": [
    {
     "data": {
      "image/png": "[encoded data removed]",
      "text/plain": [
       "<matplotlib.figure.Figure at 0x24d4fe8e9b0>"
      ]
     },
     "metadata": {},
     "output_type": "display_data"
    }
   ],
   "source": [
    "plt.figure(figsize=(8,5));\n",
    "plt.plot(alphas,abs(Ms), '.-', label='Magnetisation');\n",
    "plt.plot(alphas[1:],abs(Es[1:]/E_aligned[1:]), '.-', label='Energie');\n",
    "plt.title(\"Propriétés à l'équilibre en fonction de alpha \\n sur une grille {:d}x{:d}\".format(nx,ny));\n",
    "plt.xlabel('alpha');\n",
    "plt.ylabel('M;E');\n",
    "plt.legend(loc=4);\n",
    "plt.show()"
   ]
  },
  {
   "cell_type": "markdown",
   "metadata": {},
   "source": [
    "Notons que nous affichons la valeur absolue de la magnétisation, car celle-ci peut converger vers n'importe laquelle des deux orientations. En ce qui concerne l'énergie, nous la divisons par la valeur d'énergie pour un réseau de spins entièrement alignés et prenons ensuite la valeur absolue."
   ]
  },
  {
   "cell_type": "markdown",
   "metadata": {},
   "source": [
    "Remarquons que la magnétisation et l'énergie ne se comportent pas de la même façon. Pour de petites valeurs de $\\alpha$, la courbe d'énergie se trouve bien au dessus de la magnétisation, cela s'explique par le fait que plus $\\alpha$ est grand, plus les spins voisins on tendance à s'aligner et diminuent l'énergie totale, alors que comme se phénomène d'alignement n'a pas lieu à grande échelle, la magnétisation reste petite. En effet, les contributions des différentes zones alignées se compensent et annulent la magnétisation totale. \n",
    "\n",
    "Quand nous partons d'une grille de spins désordonnés, nous observons parfois de vaste régions (de taille comparable à celle du système) de spins alignés dans une direction particulière, différente d'une région à l'autre. Ces régions sont l'analogue dans ce modèles des varitables domaines de Weiss que l'on observe dans un matériau ferromagnétique. Ces domaines de Weiss on pour effet de diminuer fortement la magnétisation pour certaines valeurs de $\\alpha$ pourtant au dessus de la valeur critique, alors que comme l'énergie est sommée sur les paires voisines, l'orientation différente des domaines ne se ressent qu'à la frontière entre ceux-ci et les diminutions sont donc beaucoup plus petites.\n",
    "\n",
    "$<$ insérer image de domaine de weiss et graphique des paramètres en fonction de alpha montrant le phénomène -> partie de maxime $>$"
   ]
  },
  {
   "cell_type": "markdown",
   "metadata": {
    "collapsed": true
   },
   "source": [
    "Sur ce graphique des propriétés à l'équibre en fonction du couplage, nous pouvons observer une nette augmention de la magnétisation totale à partir de $\\alpha = 0.4$. Cela nous permet de fournir une première estimation de la valeur critique de $\\alpha$, que l'on estime à environ $0.4$."
   ]
  },
  {
   "cell_type": "markdown",
   "metadata": {},
   "source": [
    "Pour plus de précision sur cette valeur, nous pouvons définir le couplage critique comme la valeur de $\\alpha$ où la courbe de magnétisation passe au dessus de $0.5$. Ce point est arbitraire mais vu la valeur très élevée de la pente près du vrai couplage critique, cela devrait constituer une bonne approximation de ce dernier."
   ]
  },
  {
   "cell_type": "code",
   "execution_count": 96,
   "metadata": {},
   "outputs": [
    {
     "name": "stdout",
     "output_type": "stream",
     "text": [
      "Notre couplage critique vaut 0.43 \\pm 0.02\n"
     ]
    }
   ],
   "source": [
    "for i in range(len(alphas)-1):\n",
    "    if (abs(Ms[i])<=0.5) & (abs(Ms[i+1])>0.5):\n",
    "        alpha_c = (alphas[i+1]+alphas[i])/2 \n",
    "        err_alpha_c = (alphas[i+1]-alphas[i])/2\n",
    "        break # afin de ne pas détecter les pics dû aux domaines de Weiss non alignés\n",
    "\n",
    "print(\"Notre couplage critique vaut {:.2f} $\\pm$ {:.2f}\".format(alpha_c,err_alpha_c))"
   ]
  },
  {
   "cell_type": "markdown",
   "metadata": {},
   "source": [
    "Ce résultat est proche de la valeur théorique obtenue par Onsager, qui est:\n",
    "\n",
    "$$ \\alpha = \\frac{\\ln( 1+\\sqrt 2 )}{2} \\approx 0.441$$\n",
    "\n",
    "Gardons évidemment en tête que ce résultat est valable dans la limite où le réseau est de taille infine, le nôtre n'étant consititué que de 20x20 spins."
   ]
  },
  {
   "cell_type": "markdown",
   "metadata": {},
   "source": [
    "Cependant, une méthode plus précise existe pour déterminer cette valeur critique. Elle consiste à observer la capacité calorifique en fonction de $\\alpha$, le graphique devant présenter un pic à la valeur critique de couplage.\n",
    "\n",
    "Nous avons relancé une simulation beaucoup plus précise s'étalant sur plusieurs heures de calcul et analysé les résultats dans un **notebook en annexe** (\"Compute_Cv_Ising_MJ_CS.ipynb\").\n",
    "\n",
    "Nous avons obtenu comme couplage critique pour une grille de $20\\times20$ spins la valeur suivante:\n",
    "\n",
    "$$ \\alpha = 0.4343(2) $$"
   ]
  },
  {
   "cell_type": "markdown",
   "metadata": {},
   "source": [
    "## Question 2"
   ]
  },
  {
   "cell_type": "markdown",
   "metadata": {
    "collapsed": true
   },
   "source": [
    "Faisons à présent varier les conditions aux bords et les conditions initiales. "
   ]
  },
  {
   "cell_type": "code",
   "execution_count": 16,
   "metadata": {
    "collapsed": true
   },
   "outputs": [],
   "source": [
    "def edges_conditions(sp,borders):\n",
    "    \"\"\"Fixes the boundary conditions\n",
    "    \n",
    "    Parameters:\n",
    "    ----------\n",
    "    sp   : array\n",
    "        Matrix of spins\n",
    "    borders   : array\n",
    "        Array of 4 numbers to fix the boundary conditions. The first indice is for the top line, the second one for \n",
    "        the left row and so on.\n",
    "    \"\"\"\n",
    "    sp[0,:] = borders[0]*np.ones([1,ny])\n",
    "    sp[:,[0]] = borders[1]*np.ones([nx,1])\n",
    "    sp[-1,:] = borders[2]*np.ones([1,ny])\n",
    "    sp[:,[-1]] = borders[3]*np.ones([nx,1])\n",
    "    \n",
    "    return sp"
   ]
  },
  {
   "cell_type": "code",
   "execution_count": 17,
   "metadata": {
    "collapsed": true
   },
   "outputs": [],
   "source": [
    "def square_center(sp,a):\n",
    "    \"\"\"Fixes the boundary conditions in a square at the center of the frames\n",
    "    \n",
    "    Parameters:\n",
    "    ----------\n",
    "    sp   : array\n",
    "        Matrix of spins\n",
    "    a   : int\n",
    "        Allow to choose the value of the spins inside the square\n",
    "    \"\"\"\n",
    "    nx = np.shape(sp)[0]\n",
    "    ny = np.shape(sp)[1]\n",
    "    \n",
    "    sp[int(nx/4)+1:3*int(nx/4),int(ny/4)+1:3*int(ny/4)] = a*np.ones([int(nx/2)+1,int(ny/2)+1])\n",
    "    \n",
    "    return sp"
   ]
  },
  {
   "cell_type": "code",
   "execution_count": 18,
   "metadata": {
    "collapsed": true
   },
   "outputs": [],
   "source": [
    "def init_chessboard(sp):\n",
    "    \"\"\"Imposes that one out of two compartments in the initial frame is +1 and the other one -1, as a chessboard\n",
    "    \n",
    "    Parameters:\n",
    "    ----------\n",
    "    sp   : array\n",
    "        The matrix \"sp\" must be initialized before using this function\n",
    "    \"\"\"\n",
    "    nx = np.shape(sp)[0]\n",
    "    ny = np.shape(sp)[1]\n",
    "    \n",
    "    sp = np.ones([nx,ny])\n",
    "    \n",
    "    for i in range(nx):\n",
    "        for j in range(ny):\n",
    "            if (i+j)%2==1:\n",
    "                sp[i,j] = -1\n",
    "                \n",
    "    return sp"
   ]
  },
  {
   "cell_type": "code",
   "execution_count": 19,
   "metadata": {
    "collapsed": true
   },
   "outputs": [],
   "source": [
    "def metropolis_at_site(sp,alpha,ix,iy,param,borders,a):\n",
    "    \"\"\" Flips a dipole at site ix, iy when probability condition is met and refix the boundary conditions\n",
    "   \n",
    "    Parameters:\n",
    "    ----------\n",
    "    sp   : numpy array\n",
    "        array of spins\n",
    "    alpha  : real\n",
    "        coupling constant J/(kb*T)\n",
    "    ix   : int\n",
    "        location in x\n",
    "    iy   : int\n",
    "        location in y\n",
    "    param   : int\n",
    "        Allow to choose the boundary conditions to apply\n",
    "    borders    : Array\n",
    "        Allow to choose the fixed boundary conditions on the frames' egdes\n",
    "    a   : int\n",
    "        Allow to choose the value of the spins inside the square \n",
    "    \"\"\"\n",
    "    nx = np.shape(sp)[0]\n",
    "    ny = np.shape(sp)[1]\n",
    "    \n",
    "    sigma=sp[ix,iy]\n",
    "    energy_before_flip = energy_at_site(sp,alpha,sigma,ix,iy)\n",
    "    sigma = -sigma\n",
    "    energy_if_site_flipped = energy_at_site(sp,alpha,sigma,ix,iy)\n",
    "    \n",
    "    # Flip the site with Metropolis probability\n",
    "    # Condition is always satisifed if dE < 0\n",
    "    if (np.random.random_sample()<np.exp(-(energy_if_site_flipped \\\n",
    "                                               -energy_before_flip))):\n",
    "        sp[ix,iy]=-sp[ix,iy]\n",
    "        \n",
    "    # Fix the boundary conditions\n",
    "    if param==1:\n",
    "        sp = edges_conditions(sp,borders)        \n",
    "    \n",
    "    elif param==2:\n",
    "        sp = square_center(sp,a)\n",
    "    \n",
    "    elif param==3:\n",
    "        sp = edges_conditions(sp,borders)\n",
    "        sp = square_center(sp,a)\n",
    "        \n",
    "    return sp"
   ]
  },
  {
   "cell_type": "code",
   "execution_count": 20,
   "metadata": {
    "collapsed": true
   },
   "outputs": [],
   "source": [
    "def M_with_time_for_alpha(sp,NMC,step,alpha,param,borders,a):\n",
    "    \"\"\" Computes the evolution of the magnetisation and energy with time for a given coupling \n",
    "    constant for the Ising model using the Metropolis algorithm\n",
    "   \n",
    "    Parameters:\n",
    "    ----------\n",
    "    sp   : initial lattice state\n",
    "    \n",
    "    NMC  : int\n",
    "        Number of states to create\n",
    "    step   : Step between each magnetisation computation\n",
    "    alpha  : real\n",
    "        coupling constant J/(kb*T)\n",
    "    param   : int\n",
    "        Allow to choose the boundary conditions to apply\n",
    "    borders    : Array\n",
    "        Allow to choose the fixed boundary conditions on the frames' egdes\n",
    "    a   : int\n",
    "        Allow to choose the value of the spins inside the square \n",
    "        \n",
    "    Returns:\n",
    "    -------\n",
    "    M: magnetisation \n",
    "    E: energy\n",
    "    \"\"\"\n",
    "    \n",
    "    nx = np.shape(sp)[0]\n",
    "    ny = np.shape(sp)[1]\n",
    "    \n",
    "    M = np.empty([int(NMC/step)])\n",
    "    E = np.empty([int(NMC/step)])\n",
    "    \n",
    "    for i in range(int(NMC)):\n",
    "        #if i%(int(NMC/10)+1)==0:\n",
    "            #print(\"loop {:d} of {:d} for alpha = {:.2f}\".format(i,NMC,alpha))\n",
    "            \n",
    "        for j in range(0,nx*ny):\n",
    "            ix=np.random.randint(0,nx)\n",
    "            iy=np.random.randint(0,ny)\n",
    "            metropolis_at_site(sp,alpha,ix,iy,param,borders,a)\n",
    "            \n",
    "        if i%step==0:\n",
    "            M[int(i/step)] = moy_magn(sp)\n",
    "            E[int(i/step)] = moy_ener(sp,alpha)\n",
    "            \n",
    "    return [M,E]"
   ]
  },
  {
   "cell_type": "code",
   "execution_count": 21,
   "metadata": {
    "collapsed": true
   },
   "outputs": [],
   "source": [
    "def M_equilibrium_for_alphas(sps,NMC,step,alphas,NMC_eq,param,borders,a):\n",
    "    \"\"\" Computes the average magnetisation and energy at equilibrium with different coupling constants for the Ising model using\n",
    "    the Metropolis algorithm\n",
    "   \n",
    "    Parameters:\n",
    "    ----------\n",
    "    sps  : Vector containing the initial lattice states\n",
    "    nx   : int\n",
    "        Discretization points in x\n",
    "    ny   : int\n",
    "        Discretization points in y\n",
    "    NMC  : int\n",
    "        Number of states to create\n",
    "    step   : Step between each magnetisation computation\n",
    "    alphas : Vector of reals containing the\n",
    "        coupling constants alpha = J/(kb*T)\n",
    "    NMC_eq : Number of states to create before reaching the equilibrium\n",
    "    \n",
    "    Returns:\n",
    "    -------\n",
    "    Ms: Vector of magnetisations at equilibrium for each alpha in alphas\n",
    "    Es: Vector of energies at equilibrium for each alpha in alphas\n",
    "    \"\"\"\n",
    "    nx = np.shape(sps[0])[0]\n",
    "    ny = np.shape(sps[0])[1]\n",
    "    \n",
    "    Ms = np.empty([len(alphas)])\n",
    "    Es = np.empty([len(alphas)])\n",
    "    \n",
    "    for i in range(len(alphas)):\n",
    "        \n",
    "        #print(\"loop at alpha = {:.2f}\".format(alphas[i]))\n",
    "        \n",
    "        for j in range(NMC_eq):\n",
    "            \n",
    "            if j%(int(NMC_eq/10)+1)==0:\n",
    "                print(\"loop {:d} of {:d} for alpha = {:.2f} (pre-equilibrium)\".format(j,NMC_eq,alphas[i]))\n",
    "                \n",
    "            for j in range(0,nx*ny):\n",
    "                ix=np.random.randint(0,nx)\n",
    "                iy=np.random.randint(0,ny)\n",
    "                metropolis_at_site(sps[i],alphas[i],ix,iy,param,borders,a)\n",
    "        \n",
    "        [M_evol,E_evol] = M_with_time_for_alpha(sps[i],NMC,step,alphas[i],param,borders,a)\n",
    "        \n",
    "        Ms[i] = M_evol.sum()/len(M_evol)\n",
    "        Es[i] = E_evol.sum()/len(E_evol)\n",
    "    \n",
    "    return [Ms,Es]"
   ]
  },
  {
   "cell_type": "code",
   "execution_count": 23,
   "metadata": {
    "scrolled": true
   },
   "outputs": [
    {
     "name": "stdout",
     "output_type": "stream",
     "text": [
      "loop 0 of 400 for alpha = 0.00 (pre-equilibrium)\n",
      "loop 41 of 400 for alpha = 0.00 (pre-equilibrium)\n",
      "loop 82 of 400 for alpha = 0.00 (pre-equilibrium)\n",
      "loop 123 of 400 for alpha = 0.00 (pre-equilibrium)\n",
      "loop 164 of 400 for alpha = 0.00 (pre-equilibrium)\n",
      "loop 205 of 400 for alpha = 0.00 (pre-equilibrium)\n",
      "loop 246 of 400 for alpha = 0.00 (pre-equilibrium)\n",
      "loop 287 of 400 for alpha = 0.00 (pre-equilibrium)\n",
      "loop 328 of 400 for alpha = 0.00 (pre-equilibrium)\n",
      "loop 369 of 400 for alpha = 0.00 (pre-equilibrium)\n",
      "loop 0 of 400 for alpha = 0.02 (pre-equilibrium)\n",
      "loop 41 of 400 for alpha = 0.02 (pre-equilibrium)\n",
      "loop 82 of 400 for alpha = 0.02 (pre-equilibrium)\n",
      "loop 123 of 400 for alpha = 0.02 (pre-equilibrium)\n",
      "loop 164 of 400 for alpha = 0.02 (pre-equilibrium)\n",
      "loop 205 of 400 for alpha = 0.02 (pre-equilibrium)\n",
      "loop 246 of 400 for alpha = 0.02 (pre-equilibrium)\n",
      "loop 287 of 400 for alpha = 0.02 (pre-equilibrium)\n",
      "loop 328 of 400 for alpha = 0.02 (pre-equilibrium)\n",
      "loop 369 of 400 for alpha = 0.02 (pre-equilibrium)\n",
      "loop 0 of 400 for alpha = 0.04 (pre-equilibrium)\n",
      "loop 41 of 400 for alpha = 0.04 (pre-equilibrium)\n",
      "loop 82 of 400 for alpha = 0.04 (pre-equilibrium)\n",
      "loop 123 of 400 for alpha = 0.04 (pre-equilibrium)\n",
      "loop 164 of 400 for alpha = 0.04 (pre-equilibrium)\n",
      "loop 205 of 400 for alpha = 0.04 (pre-equilibrium)\n",
      "loop 246 of 400 for alpha = 0.04 (pre-equilibrium)\n",
      "loop 287 of 400 for alpha = 0.04 (pre-equilibrium)\n",
      "loop 328 of 400 for alpha = 0.04 (pre-equilibrium)\n",
      "loop 369 of 400 for alpha = 0.04 (pre-equilibrium)\n",
      "loop 0 of 400 for alpha = 0.06 (pre-equilibrium)\n",
      "loop 41 of 400 for alpha = 0.06 (pre-equilibrium)\n",
      "loop 82 of 400 for alpha = 0.06 (pre-equilibrium)\n",
      "loop 123 of 400 for alpha = 0.06 (pre-equilibrium)\n",
      "loop 164 of 400 for alpha = 0.06 (pre-equilibrium)\n",
      "loop 205 of 400 for alpha = 0.06 (pre-equilibrium)\n",
      "loop 246 of 400 for alpha = 0.06 (pre-equilibrium)\n",
      "loop 287 of 400 for alpha = 0.06 (pre-equilibrium)\n",
      "loop 328 of 400 for alpha = 0.06 (pre-equilibrium)\n",
      "loop 369 of 400 for alpha = 0.06 (pre-equilibrium)\n",
      "loop 0 of 400 for alpha = 0.08 (pre-equilibrium)\n",
      "loop 41 of 400 for alpha = 0.08 (pre-equilibrium)\n",
      "loop 82 of 400 for alpha = 0.08 (pre-equilibrium)\n",
      "loop 123 of 400 for alpha = 0.08 (pre-equilibrium)\n",
      "loop 164 of 400 for alpha = 0.08 (pre-equilibrium)\n",
      "loop 205 of 400 for alpha = 0.08 (pre-equilibrium)\n",
      "loop 246 of 400 for alpha = 0.08 (pre-equilibrium)\n",
      "loop 287 of 400 for alpha = 0.08 (pre-equilibrium)\n",
      "loop 328 of 400 for alpha = 0.08 (pre-equilibrium)\n",
      "loop 369 of 400 for alpha = 0.08 (pre-equilibrium)\n",
      "loop 0 of 400 for alpha = 0.10 (pre-equilibrium)\n",
      "loop 41 of 400 for alpha = 0.10 (pre-equilibrium)\n",
      "loop 82 of 400 for alpha = 0.10 (pre-equilibrium)\n",
      "loop 123 of 400 for alpha = 0.10 (pre-equilibrium)\n",
      "loop 164 of 400 for alpha = 0.10 (pre-equilibrium)\n",
      "loop 205 of 400 for alpha = 0.10 (pre-equilibrium)\n",
      "loop 246 of 400 for alpha = 0.10 (pre-equilibrium)\n",
      "loop 287 of 400 for alpha = 0.10 (pre-equilibrium)\n",
      "loop 328 of 400 for alpha = 0.10 (pre-equilibrium)\n",
      "loop 369 of 400 for alpha = 0.10 (pre-equilibrium)\n",
      "loop 0 of 400 for alpha = 0.12 (pre-equilibrium)\n",
      "loop 41 of 400 for alpha = 0.12 (pre-equilibrium)\n",
      "loop 82 of 400 for alpha = 0.12 (pre-equilibrium)\n",
      "loop 123 of 400 for alpha = 0.12 (pre-equilibrium)\n",
      "loop 164 of 400 for alpha = 0.12 (pre-equilibrium)\n",
      "loop 205 of 400 for alpha = 0.12 (pre-equilibrium)\n",
      "loop 246 of 400 for alpha = 0.12 (pre-equilibrium)\n",
      "loop 287 of 400 for alpha = 0.12 (pre-equilibrium)\n",
      "loop 328 of 400 for alpha = 0.12 (pre-equilibrium)\n",
      "loop 369 of 400 for alpha = 0.12 (pre-equilibrium)\n",
      "loop 0 of 400 for alpha = 0.14 (pre-equilibrium)\n",
      "loop 41 of 400 for alpha = 0.14 (pre-equilibrium)\n",
      "loop 82 of 400 for alpha = 0.14 (pre-equilibrium)\n",
      "loop 123 of 400 for alpha = 0.14 (pre-equilibrium)\n",
      "loop 164 of 400 for alpha = 0.14 (pre-equilibrium)\n",
      "loop 205 of 400 for alpha = 0.14 (pre-equilibrium)\n",
      "loop 246 of 400 for alpha = 0.14 (pre-equilibrium)\n",
      "loop 287 of 400 for alpha = 0.14 (pre-equilibrium)\n",
      "loop 328 of 400 for alpha = 0.14 (pre-equilibrium)\n",
      "loop 369 of 400 for alpha = 0.14 (pre-equilibrium)\n",
      "loop 0 of 400 for alpha = 0.16 (pre-equilibrium)\n",
      "loop 41 of 400 for alpha = 0.16 (pre-equilibrium)\n",
      "loop 82 of 400 for alpha = 0.16 (pre-equilibrium)\n",
      "loop 123 of 400 for alpha = 0.16 (pre-equilibrium)\n",
      "loop 164 of 400 for alpha = 0.16 (pre-equilibrium)\n",
      "loop 205 of 400 for alpha = 0.16 (pre-equilibrium)\n",
      "loop 246 of 400 for alpha = 0.16 (pre-equilibrium)\n",
      "loop 287 of 400 for alpha = 0.16 (pre-equilibrium)\n",
      "loop 328 of 400 for alpha = 0.16 (pre-equilibrium)\n",
      "loop 369 of 400 for alpha = 0.16 (pre-equilibrium)\n",
      "loop 0 of 400 for alpha = 0.18 (pre-equilibrium)\n",
      "loop 41 of 400 for alpha = 0.18 (pre-equilibrium)\n",
      "loop 82 of 400 for alpha = 0.18 (pre-equilibrium)\n",
      "loop 123 of 400 for alpha = 0.18 (pre-equilibrium)\n",
      "loop 164 of 400 for alpha = 0.18 (pre-equilibrium)\n",
      "loop 205 of 400 for alpha = 0.18 (pre-equilibrium)\n",
      "loop 246 of 400 for alpha = 0.18 (pre-equilibrium)\n",
      "loop 287 of 400 for alpha = 0.18 (pre-equilibrium)\n",
      "loop 328 of 400 for alpha = 0.18 (pre-equilibrium)\n",
      "loop 369 of 400 for alpha = 0.18 (pre-equilibrium)\n",
      "loop 0 of 400 for alpha = 0.20 (pre-equilibrium)\n",
      "loop 41 of 400 for alpha = 0.20 (pre-equilibrium)\n",
      "loop 82 of 400 for alpha = 0.20 (pre-equilibrium)\n",
      "loop 123 of 400 for alpha = 0.20 (pre-equilibrium)\n",
      "loop 164 of 400 for alpha = 0.20 (pre-equilibrium)\n",
      "loop 205 of 400 for alpha = 0.20 (pre-equilibrium)\n",
      "loop 246 of 400 for alpha = 0.20 (pre-equilibrium)\n",
      "loop 287 of 400 for alpha = 0.20 (pre-equilibrium)\n",
      "loop 328 of 400 for alpha = 0.20 (pre-equilibrium)\n",
      "loop 369 of 400 for alpha = 0.20 (pre-equilibrium)\n",
      "loop 0 of 400 for alpha = 0.22 (pre-equilibrium)\n",
      "loop 41 of 400 for alpha = 0.22 (pre-equilibrium)\n",
      "loop 82 of 400 for alpha = 0.22 (pre-equilibrium)\n",
      "loop 123 of 400 for alpha = 0.22 (pre-equilibrium)\n",
      "loop 164 of 400 for alpha = 0.22 (pre-equilibrium)\n",
      "loop 205 of 400 for alpha = 0.22 (pre-equilibrium)\n",
      "loop 246 of 400 for alpha = 0.22 (pre-equilibrium)\n",
      "loop 287 of 400 for alpha = 0.22 (pre-equilibrium)\n",
      "loop 328 of 400 for alpha = 0.22 (pre-equilibrium)\n",
      "loop 369 of 400 for alpha = 0.22 (pre-equilibrium)\n",
      "loop 0 of 400 for alpha = 0.24 (pre-equilibrium)\n",
      "loop 41 of 400 for alpha = 0.24 (pre-equilibrium)\n",
      "loop 82 of 400 for alpha = 0.24 (pre-equilibrium)\n",
      "loop 123 of 400 for alpha = 0.24 (pre-equilibrium)\n",
      "loop 164 of 400 for alpha = 0.24 (pre-equilibrium)\n",
      "loop 205 of 400 for alpha = 0.24 (pre-equilibrium)\n",
      "loop 246 of 400 for alpha = 0.24 (pre-equilibrium)\n",
      "loop 287 of 400 for alpha = 0.24 (pre-equilibrium)\n",
      "loop 328 of 400 for alpha = 0.24 (pre-equilibrium)\n",
      "loop 369 of 400 for alpha = 0.24 (pre-equilibrium)\n",
      "loop 0 of 400 for alpha = 0.26 (pre-equilibrium)\n",
      "loop 41 of 400 for alpha = 0.26 (pre-equilibrium)\n",
      "loop 82 of 400 for alpha = 0.26 (pre-equilibrium)\n",
      "loop 123 of 400 for alpha = 0.26 (pre-equilibrium)\n",
      "loop 164 of 400 for alpha = 0.26 (pre-equilibrium)\n",
      "loop 205 of 400 for alpha = 0.26 (pre-equilibrium)\n",
      "loop 246 of 400 for alpha = 0.26 (pre-equilibrium)\n",
      "loop 287 of 400 for alpha = 0.26 (pre-equilibrium)\n",
      "loop 328 of 400 for alpha = 0.26 (pre-equilibrium)\n",
      "loop 369 of 400 for alpha = 0.26 (pre-equilibrium)\n",
      "loop 0 of 400 for alpha = 0.28 (pre-equilibrium)\n",
      "loop 41 of 400 for alpha = 0.28 (pre-equilibrium)\n",
      "loop 82 of 400 for alpha = 0.28 (pre-equilibrium)\n",
      "loop 123 of 400 for alpha = 0.28 (pre-equilibrium)\n",
      "loop 164 of 400 for alpha = 0.28 (pre-equilibrium)\n",
      "loop 205 of 400 for alpha = 0.28 (pre-equilibrium)\n",
      "loop 246 of 400 for alpha = 0.28 (pre-equilibrium)\n",
      "loop 287 of 400 for alpha = 0.28 (pre-equilibrium)\n",
      "loop 328 of 400 for alpha = 0.28 (pre-equilibrium)\n",
      "loop 369 of 400 for alpha = 0.28 (pre-equilibrium)\n",
      "loop 0 of 400 for alpha = 0.30 (pre-equilibrium)\n",
      "loop 41 of 400 for alpha = 0.30 (pre-equilibrium)\n",
      "loop 82 of 400 for alpha = 0.30 (pre-equilibrium)\n",
      "loop 123 of 400 for alpha = 0.30 (pre-equilibrium)\n",
      "loop 164 of 400 for alpha = 0.30 (pre-equilibrium)\n",
      "loop 205 of 400 for alpha = 0.30 (pre-equilibrium)\n",
      "loop 246 of 400 for alpha = 0.30 (pre-equilibrium)\n",
      "loop 287 of 400 for alpha = 0.30 (pre-equilibrium)\n",
      "loop 328 of 400 for alpha = 0.30 (pre-equilibrium)\n",
      "loop 369 of 400 for alpha = 0.30 (pre-equilibrium)\n",
      "loop 0 of 400 for alpha = 0.32 (pre-equilibrium)\n",
      "loop 41 of 400 for alpha = 0.32 (pre-equilibrium)\n"
     ]
    },
    {
     "name": "stdout",
     "output_type": "stream",
     "text": [
      "loop 82 of 400 for alpha = 0.32 (pre-equilibrium)\n",
      "loop 123 of 400 for alpha = 0.32 (pre-equilibrium)\n",
      "loop 164 of 400 for alpha = 0.32 (pre-equilibrium)\n",
      "loop 205 of 400 for alpha = 0.32 (pre-equilibrium)\n",
      "loop 246 of 400 for alpha = 0.32 (pre-equilibrium)\n",
      "loop 287 of 400 for alpha = 0.32 (pre-equilibrium)\n",
      "loop 328 of 400 for alpha = 0.32 (pre-equilibrium)\n",
      "loop 369 of 400 for alpha = 0.32 (pre-equilibrium)\n",
      "loop 0 of 400 for alpha = 0.34 (pre-equilibrium)\n",
      "loop 41 of 400 for alpha = 0.34 (pre-equilibrium)\n",
      "loop 82 of 400 for alpha = 0.34 (pre-equilibrium)\n",
      "loop 123 of 400 for alpha = 0.34 (pre-equilibrium)\n",
      "loop 164 of 400 for alpha = 0.34 (pre-equilibrium)\n",
      "loop 205 of 400 for alpha = 0.34 (pre-equilibrium)\n",
      "loop 246 of 400 for alpha = 0.34 (pre-equilibrium)\n",
      "loop 287 of 400 for alpha = 0.34 (pre-equilibrium)\n",
      "loop 328 of 400 for alpha = 0.34 (pre-equilibrium)\n",
      "loop 369 of 400 for alpha = 0.34 (pre-equilibrium)\n",
      "loop 0 of 400 for alpha = 0.36 (pre-equilibrium)\n",
      "loop 41 of 400 for alpha = 0.36 (pre-equilibrium)\n",
      "loop 82 of 400 for alpha = 0.36 (pre-equilibrium)\n",
      "loop 123 of 400 for alpha = 0.36 (pre-equilibrium)\n",
      "loop 164 of 400 for alpha = 0.36 (pre-equilibrium)\n",
      "loop 205 of 400 for alpha = 0.36 (pre-equilibrium)\n",
      "loop 246 of 400 for alpha = 0.36 (pre-equilibrium)\n",
      "loop 287 of 400 for alpha = 0.36 (pre-equilibrium)\n",
      "loop 328 of 400 for alpha = 0.36 (pre-equilibrium)\n",
      "loop 369 of 400 for alpha = 0.36 (pre-equilibrium)\n",
      "loop 0 of 400 for alpha = 0.38 (pre-equilibrium)\n",
      "loop 41 of 400 for alpha = 0.38 (pre-equilibrium)\n",
      "loop 82 of 400 for alpha = 0.38 (pre-equilibrium)\n",
      "loop 123 of 400 for alpha = 0.38 (pre-equilibrium)\n",
      "loop 164 of 400 for alpha = 0.38 (pre-equilibrium)\n",
      "loop 205 of 400 for alpha = 0.38 (pre-equilibrium)\n",
      "loop 246 of 400 for alpha = 0.38 (pre-equilibrium)\n",
      "loop 287 of 400 for alpha = 0.38 (pre-equilibrium)\n",
      "loop 328 of 400 for alpha = 0.38 (pre-equilibrium)\n",
      "loop 369 of 400 for alpha = 0.38 (pre-equilibrium)\n",
      "loop 0 of 400 for alpha = 0.40 (pre-equilibrium)\n",
      "loop 41 of 400 for alpha = 0.40 (pre-equilibrium)\n",
      "loop 82 of 400 for alpha = 0.40 (pre-equilibrium)\n",
      "loop 123 of 400 for alpha = 0.40 (pre-equilibrium)\n",
      "loop 164 of 400 for alpha = 0.40 (pre-equilibrium)\n",
      "loop 205 of 400 for alpha = 0.40 (pre-equilibrium)\n",
      "loop 246 of 400 for alpha = 0.40 (pre-equilibrium)\n",
      "loop 287 of 400 for alpha = 0.40 (pre-equilibrium)\n",
      "loop 328 of 400 for alpha = 0.40 (pre-equilibrium)\n",
      "loop 369 of 400 for alpha = 0.40 (pre-equilibrium)\n",
      "loop 0 of 400 for alpha = 0.42 (pre-equilibrium)\n",
      "loop 41 of 400 for alpha = 0.42 (pre-equilibrium)\n",
      "loop 82 of 400 for alpha = 0.42 (pre-equilibrium)\n",
      "loop 123 of 400 for alpha = 0.42 (pre-equilibrium)\n",
      "loop 164 of 400 for alpha = 0.42 (pre-equilibrium)\n",
      "loop 205 of 400 for alpha = 0.42 (pre-equilibrium)\n",
      "loop 246 of 400 for alpha = 0.42 (pre-equilibrium)\n",
      "loop 287 of 400 for alpha = 0.42 (pre-equilibrium)\n",
      "loop 328 of 400 for alpha = 0.42 (pre-equilibrium)\n",
      "loop 369 of 400 for alpha = 0.42 (pre-equilibrium)\n",
      "loop 0 of 400 for alpha = 0.44 (pre-equilibrium)\n",
      "loop 41 of 400 for alpha = 0.44 (pre-equilibrium)\n",
      "loop 82 of 400 for alpha = 0.44 (pre-equilibrium)\n",
      "loop 123 of 400 for alpha = 0.44 (pre-equilibrium)\n",
      "loop 164 of 400 for alpha = 0.44 (pre-equilibrium)\n",
      "loop 205 of 400 for alpha = 0.44 (pre-equilibrium)\n",
      "loop 246 of 400 for alpha = 0.44 (pre-equilibrium)\n",
      "loop 287 of 400 for alpha = 0.44 (pre-equilibrium)\n",
      "loop 328 of 400 for alpha = 0.44 (pre-equilibrium)\n",
      "loop 369 of 400 for alpha = 0.44 (pre-equilibrium)\n",
      "loop 0 of 400 for alpha = 0.46 (pre-equilibrium)\n",
      "loop 41 of 400 for alpha = 0.46 (pre-equilibrium)\n",
      "loop 82 of 400 for alpha = 0.46 (pre-equilibrium)\n",
      "loop 123 of 400 for alpha = 0.46 (pre-equilibrium)\n",
      "loop 164 of 400 for alpha = 0.46 (pre-equilibrium)\n",
      "loop 205 of 400 for alpha = 0.46 (pre-equilibrium)\n",
      "loop 246 of 400 for alpha = 0.46 (pre-equilibrium)\n",
      "loop 287 of 400 for alpha = 0.46 (pre-equilibrium)\n",
      "loop 328 of 400 for alpha = 0.46 (pre-equilibrium)\n",
      "loop 369 of 400 for alpha = 0.46 (pre-equilibrium)\n",
      "loop 0 of 400 for alpha = 0.48 (pre-equilibrium)\n",
      "loop 41 of 400 for alpha = 0.48 (pre-equilibrium)\n",
      "loop 82 of 400 for alpha = 0.48 (pre-equilibrium)\n",
      "loop 123 of 400 for alpha = 0.48 (pre-equilibrium)\n",
      "loop 164 of 400 for alpha = 0.48 (pre-equilibrium)\n",
      "loop 205 of 400 for alpha = 0.48 (pre-equilibrium)\n",
      "loop 246 of 400 for alpha = 0.48 (pre-equilibrium)\n",
      "loop 287 of 400 for alpha = 0.48 (pre-equilibrium)\n",
      "loop 328 of 400 for alpha = 0.48 (pre-equilibrium)\n",
      "loop 369 of 400 for alpha = 0.48 (pre-equilibrium)\n",
      "loop 0 of 400 for alpha = 0.50 (pre-equilibrium)\n",
      "loop 41 of 400 for alpha = 0.50 (pre-equilibrium)\n",
      "loop 82 of 400 for alpha = 0.50 (pre-equilibrium)\n",
      "loop 123 of 400 for alpha = 0.50 (pre-equilibrium)\n",
      "loop 164 of 400 for alpha = 0.50 (pre-equilibrium)\n",
      "loop 205 of 400 for alpha = 0.50 (pre-equilibrium)\n",
      "loop 246 of 400 for alpha = 0.50 (pre-equilibrium)\n",
      "loop 287 of 400 for alpha = 0.50 (pre-equilibrium)\n",
      "loop 328 of 400 for alpha = 0.50 (pre-equilibrium)\n",
      "loop 369 of 400 for alpha = 0.50 (pre-equilibrium)\n",
      "loop 0 of 400 for alpha = 0.52 (pre-equilibrium)\n",
      "loop 41 of 400 for alpha = 0.52 (pre-equilibrium)\n",
      "loop 82 of 400 for alpha = 0.52 (pre-equilibrium)\n",
      "loop 123 of 400 for alpha = 0.52 (pre-equilibrium)\n",
      "loop 164 of 400 for alpha = 0.52 (pre-equilibrium)\n",
      "loop 205 of 400 for alpha = 0.52 (pre-equilibrium)\n",
      "loop 246 of 400 for alpha = 0.52 (pre-equilibrium)\n",
      "loop 287 of 400 for alpha = 0.52 (pre-equilibrium)\n",
      "loop 328 of 400 for alpha = 0.52 (pre-equilibrium)\n",
      "loop 369 of 400 for alpha = 0.52 (pre-equilibrium)\n",
      "loop 0 of 400 for alpha = 0.54 (pre-equilibrium)\n",
      "loop 41 of 400 for alpha = 0.54 (pre-equilibrium)\n",
      "loop 82 of 400 for alpha = 0.54 (pre-equilibrium)\n",
      "loop 123 of 400 for alpha = 0.54 (pre-equilibrium)\n",
      "loop 164 of 400 for alpha = 0.54 (pre-equilibrium)\n",
      "loop 205 of 400 for alpha = 0.54 (pre-equilibrium)\n",
      "loop 246 of 400 for alpha = 0.54 (pre-equilibrium)\n",
      "loop 287 of 400 for alpha = 0.54 (pre-equilibrium)\n",
      "loop 328 of 400 for alpha = 0.54 (pre-equilibrium)\n",
      "loop 369 of 400 for alpha = 0.54 (pre-equilibrium)\n",
      "loop 0 of 400 for alpha = 0.56 (pre-equilibrium)\n",
      "loop 41 of 400 for alpha = 0.56 (pre-equilibrium)\n",
      "loop 82 of 400 for alpha = 0.56 (pre-equilibrium)\n",
      "loop 123 of 400 for alpha = 0.56 (pre-equilibrium)\n",
      "loop 164 of 400 for alpha = 0.56 (pre-equilibrium)\n",
      "loop 205 of 400 for alpha = 0.56 (pre-equilibrium)\n",
      "loop 246 of 400 for alpha = 0.56 (pre-equilibrium)\n",
      "loop 287 of 400 for alpha = 0.56 (pre-equilibrium)\n",
      "loop 328 of 400 for alpha = 0.56 (pre-equilibrium)\n",
      "loop 369 of 400 for alpha = 0.56 (pre-equilibrium)\n",
      "loop 0 of 400 for alpha = 0.58 (pre-equilibrium)\n",
      "loop 41 of 400 for alpha = 0.58 (pre-equilibrium)\n",
      "loop 82 of 400 for alpha = 0.58 (pre-equilibrium)\n",
      "loop 123 of 400 for alpha = 0.58 (pre-equilibrium)\n",
      "loop 164 of 400 for alpha = 0.58 (pre-equilibrium)\n",
      "loop 205 of 400 for alpha = 0.58 (pre-equilibrium)\n",
      "loop 246 of 400 for alpha = 0.58 (pre-equilibrium)\n",
      "loop 287 of 400 for alpha = 0.58 (pre-equilibrium)\n",
      "loop 328 of 400 for alpha = 0.58 (pre-equilibrium)\n",
      "loop 369 of 400 for alpha = 0.58 (pre-equilibrium)\n",
      "loop 0 of 400 for alpha = 0.60 (pre-equilibrium)\n",
      "loop 41 of 400 for alpha = 0.60 (pre-equilibrium)\n",
      "loop 82 of 400 for alpha = 0.60 (pre-equilibrium)\n",
      "loop 123 of 400 for alpha = 0.60 (pre-equilibrium)\n",
      "loop 164 of 400 for alpha = 0.60 (pre-equilibrium)\n",
      "loop 205 of 400 for alpha = 0.60 (pre-equilibrium)\n",
      "loop 246 of 400 for alpha = 0.60 (pre-equilibrium)\n",
      "loop 287 of 400 for alpha = 0.60 (pre-equilibrium)\n",
      "loop 328 of 400 for alpha = 0.60 (pre-equilibrium)\n",
      "loop 369 of 400 for alpha = 0.60 (pre-equilibrium)\n",
      "loop 0 of 400 for alpha = 0.62 (pre-equilibrium)\n",
      "loop 41 of 400 for alpha = 0.62 (pre-equilibrium)\n",
      "loop 82 of 400 for alpha = 0.62 (pre-equilibrium)\n",
      "loop 123 of 400 for alpha = 0.62 (pre-equilibrium)\n",
      "loop 164 of 400 for alpha = 0.62 (pre-equilibrium)\n",
      "loop 205 of 400 for alpha = 0.62 (pre-equilibrium)\n",
      "loop 246 of 400 for alpha = 0.62 (pre-equilibrium)\n",
      "loop 287 of 400 for alpha = 0.62 (pre-equilibrium)\n",
      "loop 328 of 400 for alpha = 0.62 (pre-equilibrium)\n",
      "loop 369 of 400 for alpha = 0.62 (pre-equilibrium)\n",
      "loop 0 of 400 for alpha = 0.64 (pre-equilibrium)\n",
      "loop 41 of 400 for alpha = 0.64 (pre-equilibrium)\n",
      "loop 82 of 400 for alpha = 0.64 (pre-equilibrium)\n",
      "loop 123 of 400 for alpha = 0.64 (pre-equilibrium)\n"
     ]
    },
    {
     "name": "stdout",
     "output_type": "stream",
     "text": [
      "loop 164 of 400 for alpha = 0.64 (pre-equilibrium)\n",
      "loop 205 of 400 for alpha = 0.64 (pre-equilibrium)\n",
      "loop 246 of 400 for alpha = 0.64 (pre-equilibrium)\n",
      "loop 287 of 400 for alpha = 0.64 (pre-equilibrium)\n",
      "loop 328 of 400 for alpha = 0.64 (pre-equilibrium)\n",
      "loop 369 of 400 for alpha = 0.64 (pre-equilibrium)\n",
      "loop 0 of 400 for alpha = 0.66 (pre-equilibrium)\n",
      "loop 41 of 400 for alpha = 0.66 (pre-equilibrium)\n",
      "loop 82 of 400 for alpha = 0.66 (pre-equilibrium)\n",
      "loop 123 of 400 for alpha = 0.66 (pre-equilibrium)\n",
      "loop 164 of 400 for alpha = 0.66 (pre-equilibrium)\n",
      "loop 205 of 400 for alpha = 0.66 (pre-equilibrium)\n",
      "loop 246 of 400 for alpha = 0.66 (pre-equilibrium)\n",
      "loop 287 of 400 for alpha = 0.66 (pre-equilibrium)\n",
      "loop 328 of 400 for alpha = 0.66 (pre-equilibrium)\n",
      "loop 369 of 400 for alpha = 0.66 (pre-equilibrium)\n",
      "loop 0 of 400 for alpha = 0.68 (pre-equilibrium)\n",
      "loop 41 of 400 for alpha = 0.68 (pre-equilibrium)\n",
      "loop 82 of 400 for alpha = 0.68 (pre-equilibrium)\n",
      "loop 123 of 400 for alpha = 0.68 (pre-equilibrium)\n",
      "loop 164 of 400 for alpha = 0.68 (pre-equilibrium)\n",
      "loop 205 of 400 for alpha = 0.68 (pre-equilibrium)\n",
      "loop 246 of 400 for alpha = 0.68 (pre-equilibrium)\n",
      "loop 287 of 400 for alpha = 0.68 (pre-equilibrium)\n",
      "loop 328 of 400 for alpha = 0.68 (pre-equilibrium)\n",
      "loop 369 of 400 for alpha = 0.68 (pre-equilibrium)\n",
      "loop 0 of 400 for alpha = 0.70 (pre-equilibrium)\n",
      "loop 41 of 400 for alpha = 0.70 (pre-equilibrium)\n",
      "loop 82 of 400 for alpha = 0.70 (pre-equilibrium)\n",
      "loop 123 of 400 for alpha = 0.70 (pre-equilibrium)\n",
      "loop 164 of 400 for alpha = 0.70 (pre-equilibrium)\n",
      "loop 205 of 400 for alpha = 0.70 (pre-equilibrium)\n",
      "loop 246 of 400 for alpha = 0.70 (pre-equilibrium)\n",
      "loop 287 of 400 for alpha = 0.70 (pre-equilibrium)\n",
      "loop 328 of 400 for alpha = 0.70 (pre-equilibrium)\n",
      "loop 369 of 400 for alpha = 0.70 (pre-equilibrium)\n",
      "loop 0 of 400 for alpha = 0.72 (pre-equilibrium)\n",
      "loop 41 of 400 for alpha = 0.72 (pre-equilibrium)\n",
      "loop 82 of 400 for alpha = 0.72 (pre-equilibrium)\n",
      "loop 123 of 400 for alpha = 0.72 (pre-equilibrium)\n",
      "loop 164 of 400 for alpha = 0.72 (pre-equilibrium)\n",
      "loop 205 of 400 for alpha = 0.72 (pre-equilibrium)\n",
      "loop 246 of 400 for alpha = 0.72 (pre-equilibrium)\n",
      "loop 287 of 400 for alpha = 0.72 (pre-equilibrium)\n",
      "loop 328 of 400 for alpha = 0.72 (pre-equilibrium)\n",
      "loop 369 of 400 for alpha = 0.72 (pre-equilibrium)\n",
      "loop 0 of 400 for alpha = 0.74 (pre-equilibrium)\n",
      "loop 41 of 400 for alpha = 0.74 (pre-equilibrium)\n",
      "loop 82 of 400 for alpha = 0.74 (pre-equilibrium)\n",
      "loop 123 of 400 for alpha = 0.74 (pre-equilibrium)\n",
      "loop 164 of 400 for alpha = 0.74 (pre-equilibrium)\n",
      "loop 205 of 400 for alpha = 0.74 (pre-equilibrium)\n",
      "loop 246 of 400 for alpha = 0.74 (pre-equilibrium)\n",
      "loop 287 of 400 for alpha = 0.74 (pre-equilibrium)\n",
      "loop 328 of 400 for alpha = 0.74 (pre-equilibrium)\n",
      "loop 369 of 400 for alpha = 0.74 (pre-equilibrium)\n",
      "loop 0 of 400 for alpha = 0.76 (pre-equilibrium)\n",
      "loop 41 of 400 for alpha = 0.76 (pre-equilibrium)\n",
      "loop 82 of 400 for alpha = 0.76 (pre-equilibrium)\n",
      "loop 123 of 400 for alpha = 0.76 (pre-equilibrium)\n",
      "loop 164 of 400 for alpha = 0.76 (pre-equilibrium)\n",
      "loop 205 of 400 for alpha = 0.76 (pre-equilibrium)\n",
      "loop 246 of 400 for alpha = 0.76 (pre-equilibrium)\n",
      "loop 287 of 400 for alpha = 0.76 (pre-equilibrium)\n",
      "loop 328 of 400 for alpha = 0.76 (pre-equilibrium)\n",
      "loop 369 of 400 for alpha = 0.76 (pre-equilibrium)\n",
      "loop 0 of 400 for alpha = 0.78 (pre-equilibrium)\n",
      "loop 41 of 400 for alpha = 0.78 (pre-equilibrium)\n",
      "loop 82 of 400 for alpha = 0.78 (pre-equilibrium)\n",
      "loop 123 of 400 for alpha = 0.78 (pre-equilibrium)\n",
      "loop 164 of 400 for alpha = 0.78 (pre-equilibrium)\n",
      "loop 205 of 400 for alpha = 0.78 (pre-equilibrium)\n",
      "loop 246 of 400 for alpha = 0.78 (pre-equilibrium)\n",
      "loop 287 of 400 for alpha = 0.78 (pre-equilibrium)\n",
      "loop 328 of 400 for alpha = 0.78 (pre-equilibrium)\n",
      "loop 369 of 400 for alpha = 0.78 (pre-equilibrium)\n",
      "loop 0 of 400 for alpha = 0.80 (pre-equilibrium)\n",
      "loop 41 of 400 for alpha = 0.80 (pre-equilibrium)\n",
      "loop 82 of 400 for alpha = 0.80 (pre-equilibrium)\n",
      "loop 123 of 400 for alpha = 0.80 (pre-equilibrium)\n",
      "loop 164 of 400 for alpha = 0.80 (pre-equilibrium)\n",
      "loop 205 of 400 for alpha = 0.80 (pre-equilibrium)\n",
      "loop 246 of 400 for alpha = 0.80 (pre-equilibrium)\n",
      "loop 287 of 400 for alpha = 0.80 (pre-equilibrium)\n",
      "loop 328 of 400 for alpha = 0.80 (pre-equilibrium)\n",
      "loop 369 of 400 for alpha = 0.80 (pre-equilibrium)\n",
      "loop 0 of 400 for alpha = 0.82 (pre-equilibrium)\n",
      "loop 41 of 400 for alpha = 0.82 (pre-equilibrium)\n",
      "loop 82 of 400 for alpha = 0.82 (pre-equilibrium)\n",
      "loop 123 of 400 for alpha = 0.82 (pre-equilibrium)\n",
      "loop 164 of 400 for alpha = 0.82 (pre-equilibrium)\n",
      "loop 205 of 400 for alpha = 0.82 (pre-equilibrium)\n",
      "loop 246 of 400 for alpha = 0.82 (pre-equilibrium)\n",
      "loop 287 of 400 for alpha = 0.82 (pre-equilibrium)\n",
      "loop 328 of 400 for alpha = 0.82 (pre-equilibrium)\n",
      "loop 369 of 400 for alpha = 0.82 (pre-equilibrium)\n",
      "loop 0 of 400 for alpha = 0.84 (pre-equilibrium)\n",
      "loop 41 of 400 for alpha = 0.84 (pre-equilibrium)\n",
      "loop 82 of 400 for alpha = 0.84 (pre-equilibrium)\n",
      "loop 123 of 400 for alpha = 0.84 (pre-equilibrium)\n",
      "loop 164 of 400 for alpha = 0.84 (pre-equilibrium)\n",
      "loop 205 of 400 for alpha = 0.84 (pre-equilibrium)\n",
      "loop 246 of 400 for alpha = 0.84 (pre-equilibrium)\n",
      "loop 287 of 400 for alpha = 0.84 (pre-equilibrium)\n",
      "loop 328 of 400 for alpha = 0.84 (pre-equilibrium)\n",
      "loop 369 of 400 for alpha = 0.84 (pre-equilibrium)\n",
      "loop 0 of 400 for alpha = 0.86 (pre-equilibrium)\n",
      "loop 41 of 400 for alpha = 0.86 (pre-equilibrium)\n",
      "loop 82 of 400 for alpha = 0.86 (pre-equilibrium)\n",
      "loop 123 of 400 for alpha = 0.86 (pre-equilibrium)\n",
      "loop 164 of 400 for alpha = 0.86 (pre-equilibrium)\n",
      "loop 205 of 400 for alpha = 0.86 (pre-equilibrium)\n",
      "loop 246 of 400 for alpha = 0.86 (pre-equilibrium)\n",
      "loop 287 of 400 for alpha = 0.86 (pre-equilibrium)\n",
      "loop 328 of 400 for alpha = 0.86 (pre-equilibrium)\n",
      "loop 369 of 400 for alpha = 0.86 (pre-equilibrium)\n",
      "loop 0 of 400 for alpha = 0.88 (pre-equilibrium)\n",
      "loop 41 of 400 for alpha = 0.88 (pre-equilibrium)\n",
      "loop 82 of 400 for alpha = 0.88 (pre-equilibrium)\n",
      "loop 123 of 400 for alpha = 0.88 (pre-equilibrium)\n",
      "loop 164 of 400 for alpha = 0.88 (pre-equilibrium)\n",
      "loop 205 of 400 for alpha = 0.88 (pre-equilibrium)\n",
      "loop 246 of 400 for alpha = 0.88 (pre-equilibrium)\n",
      "loop 287 of 400 for alpha = 0.88 (pre-equilibrium)\n",
      "loop 328 of 400 for alpha = 0.88 (pre-equilibrium)\n",
      "loop 369 of 400 for alpha = 0.88 (pre-equilibrium)\n",
      "loop 0 of 400 for alpha = 0.90 (pre-equilibrium)\n",
      "loop 41 of 400 for alpha = 0.90 (pre-equilibrium)\n",
      "loop 82 of 400 for alpha = 0.90 (pre-equilibrium)\n",
      "loop 123 of 400 for alpha = 0.90 (pre-equilibrium)\n",
      "loop 164 of 400 for alpha = 0.90 (pre-equilibrium)\n",
      "loop 205 of 400 for alpha = 0.90 (pre-equilibrium)\n",
      "loop 246 of 400 for alpha = 0.90 (pre-equilibrium)\n",
      "loop 287 of 400 for alpha = 0.90 (pre-equilibrium)\n",
      "loop 328 of 400 for alpha = 0.90 (pre-equilibrium)\n",
      "loop 369 of 400 for alpha = 0.90 (pre-equilibrium)\n",
      "loop 0 of 400 for alpha = 0.92 (pre-equilibrium)\n",
      "loop 41 of 400 for alpha = 0.92 (pre-equilibrium)\n",
      "loop 82 of 400 for alpha = 0.92 (pre-equilibrium)\n",
      "loop 123 of 400 for alpha = 0.92 (pre-equilibrium)\n",
      "loop 164 of 400 for alpha = 0.92 (pre-equilibrium)\n",
      "loop 205 of 400 for alpha = 0.92 (pre-equilibrium)\n",
      "loop 246 of 400 for alpha = 0.92 (pre-equilibrium)\n",
      "loop 287 of 400 for alpha = 0.92 (pre-equilibrium)\n",
      "loop 328 of 400 for alpha = 0.92 (pre-equilibrium)\n",
      "loop 369 of 400 for alpha = 0.92 (pre-equilibrium)\n",
      "loop 0 of 400 for alpha = 0.94 (pre-equilibrium)\n",
      "loop 41 of 400 for alpha = 0.94 (pre-equilibrium)\n",
      "loop 82 of 400 for alpha = 0.94 (pre-equilibrium)\n",
      "loop 123 of 400 for alpha = 0.94 (pre-equilibrium)\n",
      "loop 164 of 400 for alpha = 0.94 (pre-equilibrium)\n",
      "loop 205 of 400 for alpha = 0.94 (pre-equilibrium)\n",
      "loop 246 of 400 for alpha = 0.94 (pre-equilibrium)\n",
      "loop 287 of 400 for alpha = 0.94 (pre-equilibrium)\n",
      "loop 328 of 400 for alpha = 0.94 (pre-equilibrium)\n",
      "loop 369 of 400 for alpha = 0.94 (pre-equilibrium)\n",
      "loop 0 of 400 for alpha = 0.96 (pre-equilibrium)\n",
      "loop 41 of 400 for alpha = 0.96 (pre-equilibrium)\n",
      "loop 82 of 400 for alpha = 0.96 (pre-equilibrium)\n",
      "loop 123 of 400 for alpha = 0.96 (pre-equilibrium)\n",
      "loop 164 of 400 for alpha = 0.96 (pre-equilibrium)\n",
      "loop 205 of 400 for alpha = 0.96 (pre-equilibrium)\n"
     ]
    },
    {
     "name": "stdout",
     "output_type": "stream",
     "text": [
      "loop 246 of 400 for alpha = 0.96 (pre-equilibrium)\n",
      "loop 287 of 400 for alpha = 0.96 (pre-equilibrium)\n",
      "loop 328 of 400 for alpha = 0.96 (pre-equilibrium)\n",
      "loop 369 of 400 for alpha = 0.96 (pre-equilibrium)\n",
      "loop 0 of 400 for alpha = 0.98 (pre-equilibrium)\n",
      "loop 41 of 400 for alpha = 0.98 (pre-equilibrium)\n",
      "loop 82 of 400 for alpha = 0.98 (pre-equilibrium)\n",
      "loop 123 of 400 for alpha = 0.98 (pre-equilibrium)\n",
      "loop 164 of 400 for alpha = 0.98 (pre-equilibrium)\n",
      "loop 205 of 400 for alpha = 0.98 (pre-equilibrium)\n",
      "loop 246 of 400 for alpha = 0.98 (pre-equilibrium)\n",
      "loop 287 of 400 for alpha = 0.98 (pre-equilibrium)\n",
      "loop 328 of 400 for alpha = 0.98 (pre-equilibrium)\n",
      "loop 369 of 400 for alpha = 0.98 (pre-equilibrium)\n",
      "loop 0 of 400 for alpha = 1.00 (pre-equilibrium)\n",
      "loop 41 of 400 for alpha = 1.00 (pre-equilibrium)\n",
      "loop 82 of 400 for alpha = 1.00 (pre-equilibrium)\n",
      "loop 123 of 400 for alpha = 1.00 (pre-equilibrium)\n",
      "loop 164 of 400 for alpha = 1.00 (pre-equilibrium)\n",
      "loop 205 of 400 for alpha = 1.00 (pre-equilibrium)\n",
      "loop 246 of 400 for alpha = 1.00 (pre-equilibrium)\n",
      "loop 287 of 400 for alpha = 1.00 (pre-equilibrium)\n",
      "loop 328 of 400 for alpha = 1.00 (pre-equilibrium)\n",
      "loop 369 of 400 for alpha = 1.00 (pre-equilibrium)\n"
     ]
    }
   ],
   "source": [
    "NMC = 600\n",
    "NMC_eq = 400\n",
    "step = 1\n",
    "nx = 20 # petit pour une simple verification\n",
    "ny = 20\n",
    "len_alpha = 51\n",
    "alphas = np.linspace(0,1,len_alpha)\n",
    "\n",
    "sps = np.empty([len_alpha,nx,ny])\n",
    "\n",
    "param = 1\n",
    "borders = [1,1,1,1]\n",
    "a = 1\n",
    "\n",
    "for i in range(len_alpha):\n",
    "#    sps[i] = initial_state_random(nx,ny)\n",
    "     sps[i] = init_chessboard(sps[i])\n",
    "    \n",
    "\n",
    "\n",
    "[Ms,Es] = M_equilibrium_for_alphas(sps,NMC,step,alphas,NMC_eq,param,borders,a)"
   ]
  },
  {
   "cell_type": "code",
   "execution_count": null,
   "metadata": {
    "collapsed": true
   },
   "outputs": [],
   "source": [
    "[Ms,Es] = M_equilibrium_for_alphas(sps,NMC,step,alphas,NMC_eq,1,np.array([1,1,1,1]),1)"
   ]
  },
  {
   "cell_type": "code",
   "execution_count": 42,
   "metadata": {},
   "outputs": [
    {
     "ename": "NameError",
     "evalue": "name 'Ms' is not defined",
     "output_type": "error",
     "traceback": [
      "\u001b[1;31m---------------------------------------------------------------------------\u001b[0m",
      "\u001b[1;31mNameError\u001b[0m                                 Traceback (most recent call last)",
      "\u001b[1;32m<ipython-input-42-9bdc3a165589>\u001b[0m in \u001b[0;36m<module>\u001b[1;34m()\u001b[0m\n\u001b[0;32m      1\u001b[0m \u001b[0mplt\u001b[0m\u001b[1;33m.\u001b[0m\u001b[0mfigure\u001b[0m\u001b[1;33m(\u001b[0m\u001b[0mfigsize\u001b[0m\u001b[1;33m=\u001b[0m\u001b[1;33m(\u001b[0m\u001b[1;36m8\u001b[0m\u001b[1;33m,\u001b[0m\u001b[1;36m5\u001b[0m\u001b[1;33m)\u001b[0m\u001b[1;33m)\u001b[0m\u001b[1;33m;\u001b[0m\u001b[1;33m\u001b[0m\u001b[0m\n\u001b[1;32m----> 2\u001b[1;33m \u001b[0mplt\u001b[0m\u001b[1;33m.\u001b[0m\u001b[0mplot\u001b[0m\u001b[1;33m(\u001b[0m\u001b[0malphas\u001b[0m\u001b[1;33m,\u001b[0m\u001b[0mabs\u001b[0m\u001b[1;33m(\u001b[0m\u001b[0mMs\u001b[0m\u001b[1;33m)\u001b[0m\u001b[1;33m,\u001b[0m \u001b[1;34m'.-'\u001b[0m\u001b[1;33m,\u001b[0m \u001b[0mlabel\u001b[0m\u001b[1;33m=\u001b[0m\u001b[1;34m'Magnetisation'\u001b[0m\u001b[1;33m)\u001b[0m\u001b[1;33m;\u001b[0m\u001b[1;33m\u001b[0m\u001b[0m\n\u001b[0m\u001b[0;32m      3\u001b[0m \u001b[0mplt\u001b[0m\u001b[1;33m.\u001b[0m\u001b[0mplot\u001b[0m\u001b[1;33m(\u001b[0m\u001b[0malphas\u001b[0m\u001b[1;33m,\u001b[0m\u001b[0mabs\u001b[0m\u001b[1;33m(\u001b[0m\u001b[0mEs\u001b[0m\u001b[1;33m/\u001b[0m\u001b[0mE_aligned\u001b[0m\u001b[1;33m)\u001b[0m\u001b[1;33m,\u001b[0m \u001b[1;34m'.-'\u001b[0m\u001b[1;33m,\u001b[0m \u001b[0mlabel\u001b[0m\u001b[1;33m=\u001b[0m\u001b[1;34m'Energie'\u001b[0m\u001b[1;33m)\u001b[0m\u001b[1;33m;\u001b[0m\u001b[1;33m\u001b[0m\u001b[0m\n\u001b[0;32m      4\u001b[0m \u001b[0mplt\u001b[0m\u001b[1;33m.\u001b[0m\u001b[0mtitle\u001b[0m\u001b[1;33m(\u001b[0m\u001b[1;34m\"Propriétés à l'équilibre en fonction de alpha \\n sur une grille {:d}x{:d}\"\u001b[0m\u001b[1;33m.\u001b[0m\u001b[0mformat\u001b[0m\u001b[1;33m(\u001b[0m\u001b[0mnx\u001b[0m\u001b[1;33m,\u001b[0m\u001b[0mny\u001b[0m\u001b[1;33m)\u001b[0m\u001b[1;33m)\u001b[0m\u001b[1;33m;\u001b[0m\u001b[1;33m\u001b[0m\u001b[0m\n\u001b[0;32m      5\u001b[0m \u001b[0mplt\u001b[0m\u001b[1;33m.\u001b[0m\u001b[0mxlabel\u001b[0m\u001b[1;33m(\u001b[0m\u001b[1;34m'alpha'\u001b[0m\u001b[1;33m)\u001b[0m\u001b[1;33m;\u001b[0m\u001b[1;33m\u001b[0m\u001b[0m\n",
      "\u001b[1;31mNameError\u001b[0m: name 'Ms' is not defined"
     ]
    },
    {
     "data": {
      "text/plain": [
       "<matplotlib.figure.Figure at 0x24bff7319b0>"
      ]
     },
     "metadata": {},
     "output_type": "display_data"
    }
   ],
   "source": [
    "plt.figure(figsize=(8,5));\n",
    "plt.plot(alphas,abs(Ms), '.-', label='Magnetisation');\n",
    "plt.plot(alphas,abs(Es/E_aligned), '.-', label='Energie');\n",
    "plt.title(\"Propriétés à l'équilibre en fonction de alpha \\n sur une grille {:d}x{:d}\".format(nx,ny));\n",
    "plt.xlabel('alpha');\n",
    "plt.ylabel('M;E');\n",
    "plt.legend(loc=4);\n",
    "plt.show()"
   ]
  },
  {
   "cell_type": "code",
   "execution_count": null,
   "metadata": {
    "collapsed": true
   },
   "outputs": [],
   "source": [
    "index_Weiss = -1\n",
    "for i in range(len(alphas)):\n",
    "    if (abs(Ms[i])<0.5) & (alphas[i]>0.6):\n",
    "        index_Weiss = i\n",
    "\n",
    "print(index_Weiss)\n",
    "\n",
    "plt.figure(figsize=(6,6))\n",
    "plt.imshow(sps[36],interpolation=\"none\",origin='lower');"
   ]
  },
  {
   "cell_type": "code",
   "execution_count": null,
   "metadata": {
    "collapsed": true
   },
   "outputs": [],
   "source": [
    "for i in range(len(alphas)-1):\n",
    "    if (abs(Ms[i])<=0.5) & (abs(Ms[i+1])>0.5):\n",
    "        alpha_c = (alphas[i+1]+alphas[i])/2 \n",
    "        err_alpha_c = (alphas[i+1]-alphas[i])/2\n",
    "        break # afin de ne pas détecter les pics dû aux domaines de Weiss non alignés\n",
    "\n",
    "print(\"Notre couplage critique vaut {:.2f} \\pm {:.2f}\".format(alpha_c,err_alpha_c))"
   ]
  },
  {
   "cell_type": "markdown",
   "metadata": {},
   "source": [
    "## Remarques"
   ]
  },
  {
   "cell_type": "code",
   "execution_count": null,
   "metadata": {
    "collapsed": true
   },
   "outputs": [],
   "source": []
  }
 ],
 "metadata": {
  "kernelspec": {
   "display_name": "Python 3",
   "language": "python",
   "name": "python3"
  },
  "language_info": {
   "codemirror_mode": {
    "name": "ipython",
    "version": 3
   },
   "file_extension": ".py",
   "mimetype": "text/x-python",
   "name": "python",
   "nbconvert_exporter": "python",
   "pygments_lexer": "ipython3",
   "version": "3.6.2"
  }
 },
 "nbformat": 4,
 "nbformat_minor": 2
}
