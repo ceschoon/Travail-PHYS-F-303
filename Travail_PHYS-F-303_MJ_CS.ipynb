{
 "cells": [
  {
   "cell_type": "markdown",
   "metadata": {},
   "source": [
    "<h1><center>PHYS-F-303</center></h1>\n",
    "<h1><center>Partie numérique</center></h1>\n",
    "<h2><center>Cédric SCHOONEN, Maxime JAMOTTE</center></h2>"
   ]
  },
  {
   "cell_type": "markdown",
   "metadata": {},
   "source": [
    "# Table des matières"
   ]
  },
  {
   "cell_type": "markdown",
   "metadata": {},
   "source": [
    "Leçon 06_02\n",
    "- Question 1 : Distributions exponentielle et gaussienne\n",
    "- Question 2 : Box Muller\n",
    "\n",
    "Leçon 06_03\n",
    "- Question 1 : Dérive\n",
    "- Question 2 : Friction\n",
    "\n",
    "Leçon 06_04\n",
    "- Question 1 : Calculer la magnétisation moyenne pour différentes valeurs de $\\alpha$ entre 0 et 1 et estimer la valeur de $\\alpha$ critique\n",
    "- Question 2 : Variation des conditions initiales et aux bords\n",
    "\n",
    "Conclusions"
   ]
  },
  {
   "cell_type": "markdown",
   "metadata": {},
   "source": [
    "# Leçon 06_02"
   ]
  },
  {
   "cell_type": "code",
   "execution_count": null,
   "metadata": {
    "collapsed": true
   },
   "outputs": [],
   "source": [
    "import time\n",
    "from matplotlib import pyplot as plt\n",
    "import numpy as np\n",
    "import random\n",
    "%matplotlib inline\n",
    "from matplotlib import rcParams\n",
    "rcParams['font.family'] = 'serif'\n",
    "rcParams['font.size'] = 16\n",
    "import matplotlib.cm as cm\n",
    "from matplotlib import animation\n",
    "from IPython.display import HTML"
   ]
  },
  {
   "cell_type": "code",
   "execution_count": null,
   "metadata": {
    "collapsed": true
   },
   "outputs": [],
   "source": [
    "start_notebook = time.time()"
   ]
  },
  {
   "cell_type": "markdown",
   "metadata": {},
   "source": [
    "## Question 1 : Distributions exponentielle et gaussienne"
   ]
  },
  {
   "cell_type": "markdown",
   "metadata": {
    "collapsed": true
   },
   "source": [
    "Le langage Python possède des fonctions précompilées pour générer des nombres distribués de différentes manières, notamment selon une gaussienne ou selon une exponentielle. "
   ]
  },
  {
   "cell_type": "markdown",
   "metadata": {},
   "source": [
    "### Distribution exponentielle"
   ]
  },
  {
   "cell_type": "markdown",
   "metadata": {},
   "source": [
    "Nous écrivons notre distribution exponentielle comme $$ f(x,\\lambda) = f(x,1/\\beta) = \\dfrac{1}{\\beta} e^{-x/\\beta} $$\n",
    "Testons la fonction numpy.random.exponential :"
   ]
  },
  {
   "cell_type": "code",
   "execution_count": null,
   "metadata": {},
   "outputs": [],
   "source": [
    "# numpy.random.exponential\n",
    "lambd = 4\n",
    "size = 100000\n",
    "rand_exponential = np.random.exponential(lambd,size)\n",
    "\n",
    "# Plots\n",
    "xmax = 20\n",
    "\n",
    "binwidth=0.25\n",
    "plt.xlim(0,xmax)\n",
    "bins=np.arange(0.,xmax+1, binwidth)\n",
    "plt.hist(rand_exponential,bins,normed=True)\n",
    "\n",
    "# Compute centers of bins\n",
    "xc = bins[:-1] + binwidth/2\n",
    "plt.plot(xc,1/lambd*np.exp(-xc/lambd), lw=2);"
   ]
  },
  {
   "cell_type": "markdown",
   "metadata": {},
   "source": [
    "Nous retrouvons un résultat identique à celui présenté dans la leçon 06_02. La courbe jaune suit bien l'allure de l'histogramme, la fonction numpy semble donc reproduire nos attentes."
   ]
  },
  {
   "cell_type": "markdown",
   "metadata": {},
   "source": [
    "### Distribution gaussienne"
   ]
  },
  {
   "cell_type": "markdown",
   "metadata": {},
   "source": [
    "La fonction $standard\\_normal$est une fonction nous donnant une liste de nombre distribués selon une loi normale."
   ]
  },
  {
   "cell_type": "code",
   "execution_count": null,
   "metadata": {},
   "outputs": [],
   "source": [
    "# numpy.random.standard_normal\n",
    "size = 100000\n",
    "distrNormal = np.random.standard_normal(size)\n",
    "\n",
    "# Plots\n",
    "binwidth=0.1\n",
    "bins=np.arange(0.,5.1, binwidth)\n",
    "plt.hist(distrNormal,bins=np.arange(0.,5., binwidth),normed=True);\n",
    "\n",
    "# Compute centers of bins\n",
    "xc = bins[:-1] + binwidth/2\n",
    "plt.plot(xc,2*np.exp(-xc**2/2.0)/np.sqrt(2*np.pi),lw=3);"
   ]
  },
  {
   "cell_type": "markdown",
   "metadata": {},
   "source": [
    "A nouveau, nous constatons que la loi normale (en vert) épouse bien le profil de l'histogramme.\n",
    "\n",
    "Ci-dessous, nous présentons une autre façon de générer des nombres suivant une distribution gaussienne pouvant avoir une moyenne différente de 0 et un écart-type différente de 1."
   ]
  },
  {
   "cell_type": "code",
   "execution_count": null,
   "metadata": {
    "collapsed": true
   },
   "outputs": [],
   "source": [
    "mu = 2\n",
    "sigma = 0.5\n",
    "x = np.empty(100000)\n",
    "\n",
    "for i in range(len(x)):\n",
    "    x[i] = random.gauss(mu,sigma)"
   ]
  },
  {
   "cell_type": "code",
   "execution_count": null,
   "metadata": {},
   "outputs": [],
   "source": [
    "# Plots\n",
    "binwidth=0.1\n",
    "bins=np.arange(-1.1,5.1, binwidth)\n",
    "plt.hist(x,bins=np.arange(0.,5., binwidth),normed=True);\n",
    "\n",
    "# Compute centers of bins\n",
    "xc = bins[:-1] + binwidth/2\n",
    "plt.plot(xc,np.exp(-(xc-mu)**2/2.0/sigma**2)/np.sqrt(2*np.pi)/sigma,lw=3);"
   ]
  },
  {
   "cell_type": "markdown",
   "metadata": {},
   "source": [
    "## Question 2 : Box Muller"
   ]
  },
  {
   "cell_type": "markdown",
   "metadata": {},
   "source": [
    "Nous codons ici la méthode dite de \"Box-Muller\"."
   ]
  },
  {
   "cell_type": "code",
   "execution_count": null,
   "metadata": {},
   "outputs": [],
   "source": [
    "# Box-Muller\n",
    "N = 100000\n",
    "\n",
    "u1 = np.random.random_sample(N)\n",
    "u2 = np.random.random_sample(N)\n",
    "\n",
    "z0 = np.sqrt(-2*np.log(u1))*np.cos(2*np.pi*u2)\n",
    "z1 = np.sqrt(-2*np.log(u2))*np.sin(2*np.pi*u1)\n",
    "\n",
    "# Plots de z0\n",
    "binwidth=0.1\n",
    "bins=np.arange(-5,5, binwidth)\n",
    "plt.hist(z0,bins,normed='true');\n",
    "\n",
    "# Compute centers of bins\n",
    "xc = bins[:-1] + binwidth/2\n",
    "plt.plot(xc,np.exp(-xc**2/2.0)/np.sqrt(2*np.pi),lw=2);"
   ]
  },
  {
   "cell_type": "code",
   "execution_count": null,
   "metadata": {},
   "outputs": [],
   "source": [
    "# Plots de z1\n",
    "binwidth=0.1\n",
    "bins=np.arange(-5,5, binwidth)\n",
    "plt.hist(z1,bins,normed='true');\n",
    "\n",
    "# Compute centers of bins\n",
    "xc = bins[:-1] + binwidth/2\n",
    "plt.plot(xc,np.exp(-xc**2/2.0)/np.sqrt(2*np.pi),lw=2);"
   ]
  },
  {
   "cell_type": "markdown",
   "metadata": {},
   "source": [
    "# Leçon 06_03"
   ]
  },
  {
   "cell_type": "markdown",
   "metadata": {},
   "source": [
    "## Question 1: Dérive"
   ]
  },
  {
   "cell_type": "markdown",
   "metadata": {},
   "source": [
    "Nous ajoutons ici un terme de dérive à l'équation stochastique initiale:\n",
    "\n",
    "$$ dx=cdt+\\sqrt{2\\alpha dt}\\cal{N(0,1)} $$\n",
    "\n",
    "Comme les processus définis par les deux termes du RHS sont indépendants, nous nous attendons à pouvoir faire évoluer la distribution de probabilité en $t=0$ selon un des termes jusqu'au temps voulu, puis selon l'autre. La distribution de probabilité finale doit donc être la distribution obtenue sans la dérive, translatée de $ct$ vers les $x$ positifs. Cela nous donne:\n",
    "\n",
    "$$ \\rho(x,t)=\\frac{1}{\\sqrt{2\\pi\\sigma_t^2}}e^{-\\frac{(x-\\mu_t)^2}{2\\sigma_t^2}} $$\n",
    "\n",
    "avec $\\mu_t = \\mu + ct $ et $ \\sigma^2_t = 2\\alpha t + \\sigma^2$\n",
    "\n",
    "L'équation régissant ce processus peut être obtenue facilement en remarquant que dans la coordonée $y=x-ct$, la distribution est la même que celle que l'on avait sans la dérive:\n",
    "\n",
    "$$ \\partial_t\\rho = \\alpha\\, \\partial_y^2\\rho $$\n",
    "\n",
    "Nous retrouvons donc l'équation dans les coordonnées $x$ avec un changement de variable:\n",
    "\n",
    "$$ \\partial_y = \\partial_x - \\frac 1c\\partial_t $$\n",
    "$$ \\partial_t\\rho = \\alpha \\left(\\partial_x - \\frac 1c \\partial_t\\right)^2\\rho $$ \n",
    "\n",
    "La simulation de ce processus est faite ci-dessous."
   ]
  },
  {
   "cell_type": "code",
   "execution_count": null,
   "metadata": {},
   "outputs": [],
   "source": [
    "npart=100000\n",
    "T=50.0\n",
    "nt=500\n",
    "dt=T/nt\n",
    "alpha=2\n",
    "c = 1\n",
    "\n",
    "sigma = 1.0\n",
    "mu = 20.0\n",
    "x0 = np.random.normal(loc=mu,scale=sigma,size=npart)\n",
    "\n",
    "t = np.arange(0,T+dt,dt)\n",
    "x = np.empty([nt+1,npart])\n",
    "\n",
    "x[0]=x0\n",
    "\n",
    "for i in range(nt):\n",
    "    x[i+1]=x[i]+np.sqrt(2*alpha*dt)*np.random.normal(0,1,npart)+c*dt\n",
    "\n",
    "for i in range(20):\n",
    "    plt.plot(t,x[:,i],color='C0')"
   ]
  },
  {
   "cell_type": "markdown",
   "metadata": {},
   "source": [
    "On remarque une translation générale des particules vers les $x$ positifs si $c$ est positif et vers les $x$ négatifs si $c$ est négatif, comme prévu. Comparons les résultats prédits par notre loi aux résultats de la simulation à l'aide d'un histogramme."
   ]
  },
  {
   "cell_type": "code",
   "execution_count": null,
   "metadata": {},
   "outputs": [],
   "source": [
    "# Generate bins centered around mu+c*T\n",
    "binwidth=0.5\n",
    "bins=np.arange(-50+c*T+mu,50+c*T+mu,binwidth)\n",
    "bins = bins + binwidth/2\n",
    "\n",
    "# Compute bin centers\n",
    "bin_centers = bins[:-1]+binwidth/2\n",
    "\n",
    "# plot a histrogram for verification\n",
    "plt.hist(x[nt],bins,normed=True);\n",
    "\n",
    "# The theoretical prediction\n",
    "sigmat2=2*alpha*T+sigma**2\n",
    "plt.plot(bin_centers, np.exp(-(bin_centers-c*T-mu)**2/(2.0*sigmat2))/np.sqrt(2*np.pi*sigmat2));"
   ]
  },
  {
   "cell_type": "markdown",
   "metadata": {},
   "source": [
    "Nous voyons que l'histogramme est en accord avec la prédiction théorique."
   ]
  },
  {
   "cell_type": "markdown",
   "metadata": {},
   "source": [
    "## Question 2: Friction"
   ]
  },
  {
   "cell_type": "markdown",
   "metadata": {},
   "source": [
    "Nous ajoutons ici un terme de 'friction' à l'équation stochastique initiale:\n",
    "\n",
    "$$ dx=-\\gamma x dt + \\sqrt{2\\alpha dt}\\cal{N(0,1)} $$\n",
    "\n",
    "Comme les deux termes ne sont plus indépandants, nous ne pouvons plus appliquer le raisonnement précédant.\n",
    "Commençons par observer l'effet du terme de friction sur une distribution $\\rho(x,t)$ initiale. \n",
    "\n",
    "Pour un point individuel, l'évolution de sa position est indépendante des autres points, elle ne dépend que de sa position actuelle et est donnée par une exponentielle:\n",
    "\n",
    "$$ dx = -\\gamma x dt $$\n",
    "$$ \\frac{dx}{dt} = -\\gamma x $$\n",
    "$$ x(t) = x_0\\,e^{-\\gamma t} $$\n",
    "\n",
    "Nous connaissons donc la probabilité de trouver une particule dans un intervalle de largeur $dx$ centré en $x$ à partir de sa probabilité d'être à la position de cet intervalle avant l'évolution temporelle, sans oublier que l'intervalle a rétréci au cours de cette évolution:\n",
    "\n",
    "$$ \\rho(x,t)\\,dx = \\rho(x\\,e^{\\gamma t},0)\\,dx\\,e^{\\gamma t} $$ \n",
    "\n",
    "Nous obtenons donc la densité de probabilité à tout instant:\n",
    "\n",
    "$$ \\rho(x,t) = e^{\\gamma t}\\rho(x\\,e^{\\gamma t},0) $$\n",
    "\n",
    "Ce terme de friction réalise donc une 'homothétie normalisée'.\n",
    "\n",
    "Connaissant les effets des deux termes sur notre distribution de probabilité gaussienne initiale, nous pouvons étudier leur effet combiné après un temps $t$ quelconque. Cependant, cette tâche n'est pas triviale étant donné que ces effets ne sont pas indépendants. Une solution est d'étudier leurs conséquences après chaque pas de temps $dt$ et les cumuler jusqu'à l'intant $t$ voulu. Nous ferons ensuite tendre $dt$ vers $0$ afin d'éliminer cette composante arbitraire de notre résultat.\n",
    "\n",
    "L'homothétie causée par le terme de friction sur notre gausienne initiale la déforme de la façon suivante (n'oublions pas que le paramètre $\\mu$ est la moyenne des positions et subit donc aussi l'homothétie): \n",
    "\n",
    "$$ \\frac{1}{\\sqrt{2\\pi\\sigma^2}}e^{-\\frac{(x-\\mu)^2}{2\\sigma^2}} \\longmapsto \\frac{e^{\\gamma dt}}{\\sqrt{2\\pi\\sigma^2}}e^{-\\frac{(x\\,e^{-\\gamma dt}-\\mu\\,e^{-\\gamma dt})^2}{2\\sigma^2}} = \\frac{1}{\\sqrt{2\\pi\\sigma_{dt}^2}}e^{-\\frac{(x-\\mu_{dt})^2}{2\\sigma_{dt}^2}}$$\n",
    "\n",
    "Cette action se résume donc par une modification des paramètres de la gaussienne:\n",
    "$$\\sigma \\longmapsto \\sigma\\,e^{-\\gamma dt} \\qquad  \\mu \\longmapsto \\mu\\,e^{-\\gamma dt}$$\n",
    "Nous avons observé précédemment que l'action du terme de diffusion se résume quant à elle par:\n",
    "$$\\sigma^2 \\longmapsto \\sigma^2 + 2\\alpha dt \\qquad  \\mu \\longmapsto \\mu$$\n",
    "\n",
    "L'effet après un pas de temps $dt$ des deux termes agissant de suite se traduit donc par l'évolution ci-dessous. Notons que nous prenons un ordre des termes arbitraire en choisissant de faire agir le terme de friction d'abord, ceci afin de respecter l'ordre utilisé par la simulation. Cependant, ceci n'a pas d'influence dans la limite $dt\\rightarrow 0$.\n",
    "\n",
    "$$ \\sigma^2 \\longmapsto \\sigma^2 e^{-2\\gamma dt} + 2\\alpha dt $$ \n",
    "\n",
    "En répétant l'évolution jusqu'à l'instant $t$ nous obtenons\n",
    "\n",
    "$$ \\sigma^2 \\longmapsto \\sigma_t^2 = \\sigma^2 e^{-2\\gamma t} + 2\\alpha dt \\left[ 1+\\dots+e^{-2\\gamma(t-dt)} \\right]$$\n",
    "$$ \\sigma_t^2 = \\sigma^2 e^{-2\\gamma t} + 2\\alpha dt \\frac{1-e^{-2\\gamma t}}{1-e^{-2\\gamma dt}} $$\n",
    "$$ \\sigma_t^2 = \\sigma^2 e^{-2\\gamma t} + (1-e^{-2\\gamma t}) \\frac{2\\alpha dt}{2\\gamma dt + \\mathcal O((dt)^2)} $$\n",
    "\n",
    "Dans la limite $dt \\rightarrow 0$, nous avons donc\n",
    "\n",
    "$$ \\sigma_t^2 = \\sigma^2 e^{-2\\gamma t} + (1-e^{-2\\gamma t}) \\frac \\alpha\\gamma $$\n",
    "\n",
    "La densité de probabilité est donc donnée par\n",
    "\n",
    "$$ \\rho(x,t) = \\frac{1}{\\sqrt{2\\pi\\,\\sigma_t^2}}e^{-\\frac{(x-\\mu_t)^2}{2\\sigma_t^2}} $$\n",
    "\n",
    "Avec\n",
    "\n",
    "$$ \\sigma_t^2 = \\sigma^2 e^{-2\\gamma t} + (1-e^{-2\\gamma t}) \\frac \\alpha\\gamma $$\n",
    "$$ \\mu_t = \\mu\\, e^{-\\gamma t} $$\n",
    "\n",
    "La distribution d'équilibre pour $t\\rightarrow \\infty$ est donc une gausienne de moyenne $0$ et d'écart-type égal au ratio $\\frac\\alpha\\gamma$.\n",
    "\n",
    "Vérifions tout cela avec une simulation."
   ]
  },
  {
   "cell_type": "code",
   "execution_count": null,
   "metadata": {},
   "outputs": [],
   "source": [
    "npart=100000\n",
    "T=20.0\n",
    "nt=500\n",
    "dt=T/nt\n",
    "alpha=2\n",
    "gamma = 1\n",
    "print(\"gamma critique = {:.3f}\".format(2.0/dt))\n",
    "\n",
    "sigma = 1.0\n",
    "mu = 8.0\n",
    "x0 = np.random.normal(loc=mu,scale=sigma,size=npart)\n",
    "\n",
    "t = np.arange(0,T+dt,dt)\n",
    "x = np.empty([nt+1,npart])\n",
    "\n",
    "x[0]=x0\n",
    "\n",
    "for i in range(nt):\n",
    "    x[i+1]=x[i]+np.sqrt(2*alpha*dt)*np.random.normal(0,1,npart)-gamma*x[i]*dt\n",
    "\n",
    "for i in range(5):\n",
    "    plt.plot(t,x[:,i],color='C0')"
   ]
  },
  {
   "cell_type": "markdown",
   "metadata": {},
   "source": [
    "Nous voyons bien qu'un état d'équilibre est atteint. \n",
    "\n",
    "Remarquons que la simulation est instable lorsque des valeurs de $\\gamma$ trop grandes sont prises, les positions se mettant à osciller soudainement vers des valeurs de plus en plus grandes. Cela se résouds en prenant des $dt$ plus petits. La raison est due au fait que les sauts $dx = -\\gamma dt$ sont tellement grands pour certaines positions que les pas de temps sont trop grands pour les contenir. Cette hypothèse explique bien le caractère ocillatoire de 'l'explosion de valeurs'.\n",
    "\n",
    "Pour éviter une explosion de ce type, il faudrait que $|dx|<|2x| \\iff dt<2/\\gamma$, valeur que nous avons affiché comme 'gamma critique'. Le lecteur est libre que vérifier que changer la valeur de gamma un peu au dessus et un peu en dessous de cette valeur critique a un impact très différent sur la stabilité de la simulation.\n",
    "\n",
    "Comparons maintenant la distribution hors-équilibre avec la prédiction théorique."
   ]
  },
  {
   "cell_type": "code",
   "execution_count": null,
   "metadata": {},
   "outputs": [],
   "source": [
    "nTT = 20  # index (before equilibrium) for comparison\n",
    "TT = nTT*dt\n",
    "print(\"time = {:.3f}\".format(TT))  # to check whether or not we are in the non-equilibrium phase\n",
    "\n",
    "# Generate bins centered around 0\n",
    "binwidth=0.1\n",
    "bins=np.arange(-10,10,binwidth)\n",
    "\n",
    "# Compute bin centers\n",
    "bin_centers = bins[:-1]+binwidth/2\n",
    "\n",
    "# plot a histrogram for verification\n",
    "plt.hist(x[nTT],bins,normed=True);\n",
    "\n",
    "# The theoretical prediction\n",
    "sigmat2 = sigma**2 * np.exp(-2*gamma*TT) + (1-np.exp(-2*gamma*TT)) * alpha/gamma\n",
    "plt.plot(bin_centers, np.exp(-(bin_centers-mu*np.exp(-gamma*TT))**2/(2.0*sigmat2))/np.sqrt(2*np.pi*sigmat2));"
   ]
  },
  {
   "cell_type": "markdown",
   "metadata": {},
   "source": [
    "La prédiction théorique semble en parfaite concordance avec la simulation."
   ]
  },
  {
   "cell_type": "markdown",
   "metadata": {},
   "source": [
    "# Leçon  06_04: Modèle d'Ising"
   ]
  },
  {
   "cell_type": "markdown",
   "metadata": {
    "collapsed": true
   },
   "source": [
    "## Challenge (vers le milieu du MOOC): Vérification de l'algorithme de Metropolis"
   ]
  },
  {
   "cell_type": "markdown",
   "metadata": {},
   "source": [
    "Nous recommeçons la vérification du mooc pour plusieurs conditions initiales différentes pour voir si le ratio de spins ups et downs converge bien vers $e^{-\\Delta E}$ à chaque fois."
   ]
  },
  {
   "cell_type": "code",
   "execution_count": null,
   "metadata": {
    "collapsed": true
   },
   "outputs": [],
   "source": [
    "def initial_state_random(nx,ny):\n",
    "    \"\"\" Creates a lattice with random spin orientations\n",
    "   \n",
    "    Parameters:\n",
    "    ----------\n",
    "    nx   : int\n",
    "        Discretization points in x\n",
    "    ny   : int\n",
    "        Discretization points in y\n",
    "   \n",
    "    Returns:\n",
    "    -------\n",
    "    r: 2D array of spins\n",
    "    \"\"\"\n",
    "       \n",
    "    # Uniform random spins between 0 and 1  \n",
    "    r = np.random.randint(0,2,(nx,ny))\n",
    "    \n",
    "    # Where r=0, we assign a negative spin\n",
    "    r[r==0] =-1\n",
    "\n",
    "    return r"
   ]
  },
  {
   "cell_type": "code",
   "execution_count": null,
   "metadata": {
    "collapsed": true
   },
   "outputs": [],
   "source": [
    "def initial_state_aligned(nx,ny):\n",
    "    \"\"\" Creates a lattice with aligned spin orientations\n",
    "   \n",
    "    Parameters:\n",
    "    ----------\n",
    "    nx   : int\n",
    "        Discretization points in x\n",
    "    ny   : int\n",
    "        Discretization points in y\n",
    "   \n",
    "    Returns:\n",
    "    -------\n",
    "    r: 2D array of spins\n",
    "    \"\"\"\n",
    "    \n",
    "    r = np.ones([nx,ny])\n",
    "    \n",
    "    return r"
   ]
  },
  {
   "cell_type": "code",
   "execution_count": null,
   "metadata": {
    "collapsed": true
   },
   "outputs": [],
   "source": [
    "def energy_at_site(sp,alpha,sigma,ix,iy):\n",
    "    \"\"\" Computes the contribution to the energy for a given spin\n",
    "    at location ix,iy for a lattice with periodic boundary conditions\n",
    "   \n",
    "    Parameters:\n",
    "    ----------\n",
    "    sp: numpy array\n",
    "        array of spins\n",
    "    alpha  : real\n",
    "        coupling constant J/(kb*T)\n",
    "    sigma   : int\n",
    "        spin at site ix,iy\n",
    "    ix   : int\n",
    "        location in x\n",
    "    iy   : int\n",
    "        location in y\n",
    "    \n",
    "   \n",
    "    Returns:\n",
    "    -------\n",
    "    energy: energy for the given configuration (in terms of kb*T)\n",
    "    \"\"\"\n",
    "    \n",
    "    nx,ny = sp.shape\n",
    "    \n",
    "    energy=-alpha*sigma*(sp[(ix-1)%nx,iy]+sp[(ix+1)%nx,iy]+sp[ix,(iy-1)%ny]+sp[ix,(iy+1)%ny])\n",
    "\n",
    "    return energy"
   ]
  },
  {
   "cell_type": "code",
   "execution_count": null,
   "metadata": {
    "collapsed": true
   },
   "outputs": [],
   "source": [
    "def metropolis_at_site(sp,alpha,ix,iy):\n",
    "    \"\"\" Flips a dipole at site ix, iy when probability condition is met \n",
    "   \n",
    "    Parameters:\n",
    "    ----------\n",
    "    sp: numpy array\n",
    "        array of spins\n",
    "    alpha  : real\n",
    "        coupling constant J/(kb*T)\n",
    "    ix   : int\n",
    "        location in x\n",
    "    iy   : int\n",
    "        location in y\n",
    "    \"\"\"\n",
    "    sigma=sp[ix,iy]\n",
    "    energy_before_flip = energy_at_site(sp,alpha,sigma,ix,iy)\n",
    "    sigma = -sigma\n",
    "    energy_if_site_flipped = energy_at_site(sp,alpha,sigma,ix,iy)\n",
    "    \n",
    "    # Flip the site with Metropolis probability\n",
    "    # Condition is always satisifed if dE < 0\n",
    "    if (np.random.random_sample()<np.exp(-(energy_if_site_flipped \\\n",
    "                                               -energy_before_flip))):\n",
    "        sp[ix,iy]=-sp[ix,iy]"
   ]
  },
  {
   "cell_type": "code",
   "execution_count": null,
   "metadata": {
    "collapsed": true
   },
   "outputs": [],
   "source": [
    "def test_Metropolis(n,NMC):\n",
    "    \"\"\" Execute many times the mooc's test for the metropolis algorithm.\n",
    "   \n",
    "    Parameters:\n",
    "    ----------\n",
    "    n: number of times the metropolis algorithm will be tested.\n",
    "    NMC: number of flips to perform for each test.\n",
    "    \n",
    "    Returns:\n",
    "    -------\n",
    "    probas_theo: vector containing the results for the theoretical probability for the flip\n",
    "    ratios:      vector containing the computed ratios ups/downs.\n",
    "    \"\"\"\n",
    "    \n",
    "    nx=10\n",
    "    ny=10\n",
    "    alpha = 0.1\n",
    "    \n",
    "    probas_theo = np.empty(n)\n",
    "    ratios = np.empty(n)\n",
    "\n",
    "    for i in range(n):\n",
    "        \n",
    "        # Initial spins at each site, chosen randomly\n",
    "        sp = initial_state_random(nx,ny)\n",
    "\n",
    "        energy_0 = energy_at_site(sp,alpha,-1,5,5)\n",
    "        energy_1 = energy_at_site(sp,alpha, 1,5,5)\n",
    "\n",
    "        states = np.empty(NMC)\n",
    "        states[0]=sp[5,5]\n",
    "\n",
    "        for m in range(0,NMC):\n",
    "            \n",
    "            metropolis_at_site(sp,alpha,5,5)\n",
    "            states[m]=sp[5,5]\n",
    "\n",
    "            ups = np.extract(states==1, states).size\n",
    "            downs = NMC - ups\n",
    "            \n",
    "        probas_theo[i] = np.exp(energy_0-energy_1)\n",
    "        ratios[i] = ups/downs\n",
    "    \n",
    "    return [probas_theo, ratios]"
   ]
  },
  {
   "cell_type": "code",
   "execution_count": null,
   "metadata": {},
   "outputs": [],
   "source": [
    "tests = 6\n",
    "[probas_theo, ratios] = test_Metropolis(tests,3000)\n",
    "print(probas_theo)\n",
    "print(ratios)"
   ]
  },
  {
   "cell_type": "markdown",
   "metadata": {},
   "source": [
    "Notons que pour chaque test, les ratios donnés par l'algorithme de Metropolis convergent bien vers la probabilité théorique. Remarquons également que si $\\Delta E = 0$, le flip se fera à tous les coups et nous  aurons donc toujours le même résultat pour le ratio, dépendant du nombre de flips effectués (le ratio vaut toujours 1 si le nombre de flips est pair)."
   ]
  },
  {
   "cell_type": "markdown",
   "metadata": {},
   "source": [
    "## Question 1: Calculer la magnétisation moyenne pour différentes valeurs de $\\alpha$ entre 0 et 1 et estimer la valeur de $\\alpha$ critique"
   ]
  },
  {
   "cell_type": "markdown",
   "metadata": {},
   "source": [
    "Nous calculons la magnétisation moyenne comme: $$ \\left \\langle M \\right \\rangle = \\dfrac{\\sum_{k=1}^{N} M_k }{N} $$ avec $M_k = \\sum_{i=1}^{b} s_i$ où $N$ est le nombre de tranches simulées et $b$ le nombre de cases dans une tranche dans lesquelles se trouvent les spins que nous sommons.\n",
    "\n",
    "Commençons par définir les fonctions à utiliser pour observer l'évolution de la magnétisation pour un alpha donné."
   ]
  },
  {
   "cell_type": "code",
   "execution_count": null,
   "metadata": {
    "collapsed": true
   },
   "outputs": [],
   "source": [
    "def initial_state_aligned(nx,ny):\n",
    "    \"\"\" Creates a lattice with aligned spin orientations\n",
    "   \n",
    "    Parameters:\n",
    "    ----------\n",
    "    nx   : int\n",
    "        Discretization points in x\n",
    "    ny   : int\n",
    "        Discretization points in y\n",
    "   \n",
    "    Returns:\n",
    "    -------\n",
    "    r: 2D array of spins\n",
    "    \"\"\"\n",
    "    \n",
    "    r = np.ones([nx,ny])\n",
    "    \n",
    "    return r"
   ]
  },
  {
   "cell_type": "code",
   "execution_count": null,
   "metadata": {
    "collapsed": true
   },
   "outputs": [],
   "source": [
    "def moy_magn(sp): \n",
    "    \"\"\" Computes the average magnetisation for a given state\n",
    "   \n",
    "    Parameters:\n",
    "    ----------\n",
    "    sp   : lattice state\n",
    "    \n",
    "    Returns:\n",
    "    -------\n",
    "    M: average magnetisation for the lattice state sp \n",
    "    \"\"\"\n",
    "    \n",
    "    M = sp.sum(axis=(0,1))/(len(sp)*len(sp[0]))\n",
    "    return M"
   ]
  },
  {
   "cell_type": "code",
   "execution_count": null,
   "metadata": {
    "collapsed": true
   },
   "outputs": [],
   "source": [
    "def moy_ener(sp,alpha): \n",
    "    \"\"\" Computes the average energy for a given state\n",
    "   \n",
    "    Parameters:\n",
    "    ----------\n",
    "    sp   : lattice state\n",
    "    \n",
    "    Returns:\n",
    "    -------\n",
    "    E: average energy for the lattice state sp \n",
    "    \"\"\"\n",
    "    pairsNorth = np.multiply(sp,np.roll(sp,-1,axis=0)) # pas de boucle -> + efficace à priori\n",
    "    pairsEast  = np.multiply(sp,np.roll(sp,-1,axis=1))\n",
    "    pairsSouth = np.multiply(sp,np.roll(sp,1,axis=0))\n",
    "    pairsWest  = np.multiply(sp,np.roll(sp,1,axis=1))\n",
    "    E = -alpha/2 * (pairsNorth.sum(axis=(0,1)) + pairsEast.sum(axis=(0,1)) \n",
    "                      + pairsSouth.sum(axis=(0,1)) + pairsWest.sum(axis=(0,1)))\n",
    "    E = E/(len(sp)*len(sp[0]))\n",
    "           \n",
    "    return E"
   ]
  },
  {
   "cell_type": "code",
   "execution_count": null,
   "metadata": {
    "collapsed": true
   },
   "outputs": [],
   "source": [
    "def moy_ener_vect(sp,alphas): \n",
    "    \"\"\" Computes the average energy for a given state\n",
    "   \n",
    "    Parameters:\n",
    "    ----------\n",
    "    sp   : lattice state\n",
    "    \n",
    "    Returns:\n",
    "    -------\n",
    "    E: average energies for the lattice state sp for all the alpha's values\n",
    "    \"\"\"\n",
    "    E = np.empty(len(alphas))\n",
    "    for i in range(len(alphas)):\n",
    "        pairsNorth = np.multiply(sp,np.roll(sp,-1,axis=0))\n",
    "        pairsEast  = np.multiply(sp,np.roll(sp,-1,axis=1))\n",
    "        pairsSouth = np.multiply(sp,np.roll(sp,1,axis=0))\n",
    "        pairsWest  = np.multiply(sp,np.roll(sp,1,axis=1))\n",
    "        E[i] = -alphas[i]/2 * (pairsNorth.sum(axis=(0,1)) + pairsEast.sum(axis=(0,1)) \n",
    "                          + pairsSouth.sum(axis=(0,1)) + pairsWest.sum(axis=(0,1)))\n",
    "        E[i] = E[i]/(len(sp)*len(sp[0]))\n",
    "           \n",
    "    return E"
   ]
  },
  {
   "cell_type": "code",
   "execution_count": null,
   "metadata": {
    "collapsed": true
   },
   "outputs": [],
   "source": [
    "def M_with_time_for_alpha(sp,nx,ny,NMC,step,alpha):\n",
    "    \"\"\" Computes the evolution of the magnetisation and energy with time for a given coupling constant for the Ising model using\n",
    "    the Metropolis algorithm\n",
    "   \n",
    "    Parameters:\n",
    "    ----------\n",
    "    sp   : initial lattice state\n",
    "    nx   : int\n",
    "        Discretization points in x\n",
    "    ny   : int\n",
    "        Discretization points in y\n",
    "    NMC  : int\n",
    "        Number of states to create\n",
    "    step   : Step between each magnetisation computation\n",
    "    alpha  : real\n",
    "        coupling constant J/(kb*T)\n",
    "    Returns:\n",
    "    -------\n",
    "    M: magnetisation \n",
    "    E: energie \n",
    "    \"\"\"\n",
    "    \n",
    "    M = np.empty([int(NMC/step)])\n",
    "    E = np.empty([int(NMC/step)])\n",
    "    \n",
    "    for i in range(int(NMC)):\n",
    "        for j in range(0,nx*ny):\n",
    "            ix=np.random.randint(0,nx)\n",
    "            iy=np.random.randint(0,ny)\n",
    "            metropolis_at_site(sp,alpha,ix,iy)\n",
    "        if i%step==0:\n",
    "            M[int(i/step)] = moy_magn(sp)\n",
    "            E[int(i/step)] = moy_ener(sp,alpha)\n",
    "    return [M,E]"
   ]
  },
  {
   "cell_type": "markdown",
   "metadata": {},
   "source": [
    "Calculons l'évolution de la magnétisation pour un alpha donné afin de vérifier que le code fonctionne bien. Nous notons la symétrie toroïdale du problème ici considéré. Cette symétrie est due à la prériodicité imposée par la fonction $energy\\_at\\_site$."
   ]
  },
  {
   "cell_type": "code",
   "execution_count": null,
   "metadata": {
    "collapsed": true
   },
   "outputs": [],
   "source": [
    "NMC = 300 \n",
    "step = 1\n",
    "nx = 21\n",
    "ny = 21\n",
    "alpha = 0.35\n",
    "\n",
    "sp = initial_state_aligned(nx,ny)\n",
    "E_aligned = moy_ener(sp,alpha)\n",
    "\n",
    "[M,E] = M_with_time_for_alpha(sp,nx,ny,NMC,step,alpha)"
   ]
  },
  {
   "cell_type": "code",
   "execution_count": null,
   "metadata": {},
   "outputs": [],
   "source": [
    "plt.figure(figsize=(8,5));\n",
    "plt.plot(np.arange(0,len(M)*step,step),M, '.-', label='Magnetisation');\n",
    "plt.plot(np.arange(0,len(E)*step,step),E/E_aligned, '.-', label='Energie')\n",
    "plt.title(\"Evolution des propriétés pour\\n alpha = {:.2f} sur une grille {:d}x{:d}\".format(alpha,nx,ny));\n",
    "plt.xlabel('itération');\n",
    "plt.ylabel('M,E');\n",
    "plt.legend(loc=1);\n",
    "plt.grid()\n",
    "plt.show()"
   ]
  },
  {
   "cell_type": "markdown",
   "metadata": {},
   "source": [
    "Ce graphique nous permet d'estimer le nombre d'itération nécessaire pour atteindre un équilibre statistique. Nous allons en avoir besoin pour calculer les propriétés (magnétisation et énergie) du sysème à l'équilibre. Pour automatiser ce calcul pour plusieurs valeurs de $\\alpha$, il nécessaire de s'assurer que le nombre d'itération attendues pour atteindre l'équilbre majore celui nécessaire pour chaque valeur de $\\alpha$. C'est pourquoi nous avons testé plusieurs valeurs de alpha et choisi pour ce graphique une valeur de alpha parmi celles qui met le plus de temps à atteindre l'équilibre pour un état initial de spins alignés. Nous avons répété plusieurs fois l'algorithme pour cette valeur et avons observé que l'équilibre était toujours atteint avant 50 itérations, nous prendrons 100 itérations pour être sûr d'avoir atteint l'équilibre. Notons que pour des valeurs de $\\alpha$ proches de la transition (vers 0.4), les propriétés du système (magnétisation, énergie) fluctuent beaucoup."
   ]
  },
  {
   "cell_type": "markdown",
   "metadata": {},
   "source": [
    "Automatisons maintenant la procédure pour calculer la magnétisation à l'équilibre pour un grand nombre de couplages différents."
   ]
  },
  {
   "cell_type": "code",
   "execution_count": null,
   "metadata": {
    "collapsed": true
   },
   "outputs": [],
   "source": [
    "def M_equilibrium_for_alphas(sps,nx,ny,NMC,step,alphas,NMC_eq):\n",
    "    \"\"\" Computes averages of physical quantities at equilibrium with different coupling constants for the Ising model using\n",
    "    the Metropolis algorithm\n",
    "   \n",
    "    Parameters:\n",
    "    ----------\n",
    "    sps  : Vector containing the initial lattice states\n",
    "    nx   : int\n",
    "        Discretization points in x\n",
    "    ny   : int\n",
    "        Discretization points in y\n",
    "    NMC  : int\n",
    "        Number of states to create\n",
    "    step   : Step between each magnetisation computation\n",
    "    alphas : Vector of reals containing the\n",
    "        coupling constants alpha = J/(kb*T)\n",
    "    NMC_eq : Number of states to create before reaching the equilibrium\n",
    "    Returns:\n",
    "    -------\n",
    "    Ms     : Vector of magnetisations at equilibrium for each alpha in alphas\n",
    "    Es     : Vector of energis at equilibrium for each alpha in alphas\n",
    "    VarEs  : Vector of the variances of the energy at equilibrium for each alpha in alphas\n",
    "    \"\"\"\n",
    "    \n",
    "    Ms  = np.empty([len(alphas)])\n",
    "    Es  = np.empty([len(alphas)])\n",
    "    VarEs = np.empty([len(alphas)])\n",
    "    \n",
    "    for i in range(len(alphas)):\n",
    "        \n",
    "        print(\"loop at alpha = {:.3f}\".format(alphas[i]))\n",
    "        spsi = sps[i]\n",
    "        \n",
    "        for j in range(NMC_eq):\n",
    "            \n",
    "            for k in range(0,nx*ny):\n",
    "                ix = np.random.randint(0,nx)\n",
    "                iy = np.random.randint(0,ny)\n",
    "                metropolis_at_site(spsi,alphas[i],ix,iy)\n",
    "        \n",
    "        [M_evol,E_evol] = M_with_time_for_alpha(spsi,nx,ny,NMC-NMC_eq,step,alphas[i])\n",
    "        Ms[i]  = M_evol.sum()/len(M_evol)\n",
    "        Es[i]  = E_evol.sum()/len(E_evol)\n",
    "        VarEs[i] = (E_evol**2).sum()/len(E_evol) - (E_evol.sum()/len(E_evol))**2\n",
    "    \n",
    "    return [Ms,Es,VarEs]"
   ]
  },
  {
   "cell_type": "markdown",
   "metadata": {},
   "source": [
    "Calculons donc la magnétisation d'équilbre pour plusieurs valeurs de $\\alpha$."
   ]
  },
  {
   "cell_type": "code",
   "execution_count": null,
   "metadata": {
    "scrolled": true
   },
   "outputs": [],
   "source": [
    "NMC = 100+500\n",
    "NMC_eq = 100\n",
    "step = 1\n",
    "nx = 21\n",
    "ny = 21\n",
    "a = 101\n",
    "alphas = np.linspace(0,1,a)\n",
    "\n",
    "sps = np.empty([a,nx,ny])\n",
    "for i in range(a):\n",
    "    sps[i] = initial_state_aligned(nx,ny)\n",
    "    \n",
    "E_aligned = moy_ener_vect(np.ones((nx,ny)),alphas)\n",
    "\n",
    "[Ms,Es,VarEs] = M_equilibrium_for_alphas(sps,nx,ny,NMC,step,alphas,NMC_eq)"
   ]
  },
  {
   "cell_type": "code",
   "execution_count": null,
   "metadata": {},
   "outputs": [],
   "source": [
    "plt.figure(figsize=(8,5));\n",
    "plt.plot(alphas,abs(Ms), '.-', label='Magnetisation');\n",
    "plt.plot(alphas[1:],abs(Es[1:]/E_aligned[1:]), '.-', label='Energie');\n",
    "plt.title(\"Propriétés à l'équilibre en fonction de alpha \\n sur une grille {:d}x{:d}\".format(nx,ny));\n",
    "plt.xlabel('alpha');\n",
    "plt.ylabel('M;E');\n",
    "plt.legend(loc=4);\n",
    "plt.grid()\n",
    "plt.show()"
   ]
  },
  {
   "cell_type": "markdown",
   "metadata": {},
   "source": [
    "Notons que nous affichons la valeur absolue de la magnétisation, car celle-ci peut converger vers n'importe laquelle des deux orientations. En ce qui concerne l'énergie, nous la divisons par la valeur d'énergie pour un réseau de spins entièrement alignés et prenons ensuite la valeur absolue."
   ]
  },
  {
   "cell_type": "markdown",
   "metadata": {},
   "source": [
    "Remarquons que la magnétisation et l'énergie ne se comportent pas de la même façon. Pour de petites valeurs de $\\alpha$, la courbe d'énergie se trouve bien au dessus de la magnétisation, cela s'explique par le fait que plus $\\alpha$ est grand, plus les spins voisins ont tendance à s'aligner et diminuent l'énergie totale, alors que comme ce phénomène d'alignement n'a pas lieu à grande échelle, la magnétisation reste petite. En effet, les contributions des différentes zones alignées se compensent et annulent la magnétisation totale. \n",
    "\n",
    "Quand nous partons d'une grille de spins désordonnés, nous observons parfois de vastes régions (de taille comparable à celle du système) de spins alignés dans une direction particulière, différente d'une région à l'autre. Ces régions sont l'analogue dans ce modèles des domaines de Weiss que l'on observe dans un matériau ferromagnétique. Ces domaines de Weiss ont pour effet de diminuer fortement la magnétisation pour certaines valeurs de $\\alpha$ pourtant au-dessus de la valeur critique, alors que comme l'énergie est sommée sur les paires voisines, l'orientation différente des domaines ne se ressent qu'à la frontière entre ceux-ci et les diminutions sont donc beaucoup plus petites."
   ]
  },
  {
   "cell_type": "markdown",
   "metadata": {
    "collapsed": true
   },
   "source": [
    "Sur ce graphique des propriétés à l'équibre en fonction du couplage, nous pouvons observer une nette augmention de la magnétisation totale à partir de $\\alpha = 0.4$. Cela nous permet de fournir une première estimation de la valeur critique de $\\alpha$, que l'on estime à environ $0.4$."
   ]
  },
  {
   "cell_type": "markdown",
   "metadata": {},
   "source": [
    "Pour plus de précision sur cette valeur, nous pouvons définir le couplage critique comme la valeur de $\\alpha$ où la courbe de magnétisation passe au dessus de $0.5$. Ce point est arbitraire mais vu la valeur très élevée de la pente près du vrai couplage critique, cela devrait constituer une approximation pas trop mauvaise de ce dernier. L'erreur sur ce résultat est donnée par notre résolution mais il faut ajouter à cela l'erreur commise par supposer que le alpha critique est donné par l'abscisse à laquelle la courbe de magnétisation coupe $y=0.5$. "
   ]
  },
  {
   "cell_type": "code",
   "execution_count": null,
   "metadata": {},
   "outputs": [],
   "source": [
    "for i in range(len(alphas)-1):\n",
    "    if (abs(Ms[i])<=0.5) & (abs(Ms[i+1])>0.5):\n",
    "        alpha_c = (alphas[i+1]+alphas[i])/2 \n",
    "        err_alpha_c = (alphas[i+1]-alphas[i])/2\n",
    "        break # afin de ne pas détecter les pics dû aux domaines de Weiss non alignés\n",
    "\n",
    "print(\"Notre couplage critique vaut {:.3f} $\\pm$ {:.3f}\".format(alpha_c,err_alpha_c))"
   ]
  },
  {
   "cell_type": "markdown",
   "metadata": {},
   "source": [
    "Ce résultat est proche de la valeur théorique obtenue par Onsager, qui est:\n",
    "\n",
    "$$ \\alpha = \\frac{\\ln( 1+\\sqrt 2 )}{2} \\approx 0.441$$\n",
    "\n",
    "Gardons évidemment en tête que ce résultat est valable dans la limite où le réseau est de taille infine, le nôtre n'étant consititué que de 20x20 spins."
   ]
  },
  {
   "cell_type": "markdown",
   "metadata": {},
   "source": [
    "Cependant, une méthode plus précise existe pour déterminer cette valeur critique. Elle consiste à observer la capacité calorifique en fonction de $\\alpha$, le graphique devant présenter un pic à la valeur critique de couplage.\n",
    "\n",
    "Nous avons relancé une simulation beaucoup plus précise s'étalant sur plusieurs heures de calcul et analysé les résultats dans un **notebook en annexe** (\"Calcul_alpha_critique.ipynb\").\n",
    "\n",
    "Nous avons obtenu comme couplage critique pour une grille de $20\\times20$ spins la valeur suivante:\n",
    "\n",
    "$$ \\alpha = 0.4336(10) $$"
   ]
  },
  {
   "cell_type": "markdown",
   "metadata": {},
   "source": [
    "## Domaines de Weiss"
   ]
  },
  {
   "cell_type": "markdown",
   "metadata": {},
   "source": [
    "De temps à autre, nous observons des cas d'évolution pour lesquels la magnétisation n'atteint pas son maximum (1) alors que le paramètre alpha est supérieur à sa valeur critique. Cela est dû à un aboutissement de l'évolution des spins vers un ensemble de plusieurs régions présentant un alignement des spins différent de l'un à l'autre. Nous appellerons ces régions \"domaines de Weiss\" par analogie avec le phénomène similaire présent dans les matiériaux ferromagnétiques."
   ]
  },
  {
   "cell_type": "markdown",
   "metadata": {},
   "source": [
    "Les domaines de Weiss ne se forment pas à chaque fois que nous faisons tourner le code. Certaines conditions initiales sont plus propices à les créer sans pour autant assurer leur apparition puisque l'évolution dans le temps du sytème est aléatoire, vu la façon dont fonctionne $metropolis\\_at\\_site$. Il a fallu faire tourner le code quelques fois avant d'observer des domaines de Weiss. \n",
    "\n",
    "En **annexe** de ce document se trouve le fichier $Weiss.mp4$ montrant la formation desdits domaines. Ci-dessous, nous représentons l'évolution de la magnétisation et de l'énergie du système au fur et à mesure des itérations. "
   ]
  },
  {
   "cell_type": "markdown",
   "metadata": {},
   "source": [
    "<img src=\"./Weiss.png\" alt=\"Drawing\" style=\"width: 500px\" align=\"center\" />\n",
    "\n",
    "Le fait que la magnétisation moyenne ait une valeur proche de 0 indique qu'environ la moitié des spins a une direction opposée à la partie restante des spins. La vidéo ci-dessus permet bel et bien de distnguer deux zones - de Weiss - d'orientations distinctes de spins. \n",
    "\n",
    "Comme nous l'avons mentionné, il ne nous est pas possible de vous assurer de retomber sur un résultat identique à celui présenté ci-dessus; par rigueur, nous inscrivons tout de même le code qui nous a permis d'obtenir ce que nous venons d'expliquer."
   ]
  },
  {
   "cell_type": "code",
   "execution_count": null,
   "metadata": {
    "collapsed": true
   },
   "outputs": [],
   "source": [
    "def ising_model_metropolis(sp, NMC, nx, ny, alpha):\n",
    "    \"\"\" Creates a sequence of states for the Ising model using\n",
    "    the Metropolis algorithm\n",
    "   \n",
    "    Parameters:\n",
    "    ----------\n",
    "    sp   : initial lattice state\n",
    "    nx   : int\n",
    "        Discretization points in x\n",
    "    ny   : int\n",
    "        Discretization points in y\n",
    "    NMC  : int\n",
    "        Number of states to create\n",
    "    alpha  : real\n",
    "        coupling constant J/(kb*T)\n",
    "    Returns:\n",
    "    -------\n",
    "    states: sequence of states\n",
    "    \"\"\"\n",
    "    states = np.empty([NMC+1,nx,ny])\n",
    "    states[0] = sp.copy()\n",
    "    \n",
    "    for i in range(1,NMC+1):\n",
    "        for j in range(0,nx*ny):\n",
    "            ix=np.random.randint(0,nx)\n",
    "            iy=np.random.randint(0,ny)\n",
    "            metropolis_at_site(sp,alpha,ix,iy)\n",
    "        states[i]=sp.copy()\n",
    "    return states"
   ]
  },
  {
   "cell_type": "code",
   "execution_count": null,
   "metadata": {
    "collapsed": true
   },
   "outputs": [],
   "source": [
    "NMC = 100\n",
    "step = 1\n",
    "nx = 21\n",
    "ny = 21\n",
    "alpha = 0.85\n",
    "\n",
    "sp_Weiss0 = initial_state_random(nx,ny)\n",
    "sp_Weiss = sp_Weiss0.copy()\n",
    "\n",
    "E_aligned = moy_ener(np.ones((nx,ny)),alpha)\n",
    "states_Weiss = ising_model_metropolis(sp_Weiss, NMC, nx, ny, alpha)\n",
    "\n",
    "sp_Weiss = sp_Weiss0.copy()\n",
    "[M,E] = M_with_time_for_alpha(sp_Weiss,nx,ny,NMC,step,alpha)"
   ]
  },
  {
   "cell_type": "code",
   "execution_count": null,
   "metadata": {},
   "outputs": [],
   "source": [
    "fig = plt.figure(figsize=(6,6))\n",
    "img1 = plt.imshow(states_Weiss[0],interpolation=\"none\",origin='lower',\\\n",
    "                     vmin=-1, vmax=1)\n",
    "\n",
    "# Animate\n",
    "def animate(i):\n",
    "    img1.set_array(states_Weiss[i])\n",
    "\n",
    "anim = animation.FuncAnimation(fig, animate, frames=NMC, interval=200)\n",
    "plt.close()\n",
    "HTML(anim.to_html5_video())"
   ]
  },
  {
   "cell_type": "code",
   "execution_count": null,
   "metadata": {
    "collapsed": true
   },
   "outputs": [],
   "source": [
    "# anim.save(\"Weiss2.mp4\") Enlever le \"#\" créera une vidéo nommée \"Weiss2.mp4\""
   ]
  },
  {
   "cell_type": "markdown",
   "metadata": {},
   "source": [
    "Ci-dessous, le résultat de l'évolution des propriétés physiques pour cette grille."
   ]
  },
  {
   "cell_type": "code",
   "execution_count": null,
   "metadata": {},
   "outputs": [],
   "source": [
    "plt.figure(figsize=(8,5));\n",
    "plt.plot(np.arange(0,len(M)*step,step),M, '.-', label='Magnetisation');\n",
    "plt.plot(np.arange(0,len(E)*step,step),abs(E/E_aligned), '.-', label='Energie')\n",
    "plt.title(\"Evolution des propriétés pour\\n alpha = {:.2f} sur une grille {:d}x{:d}\".format(alpha,nx,ny));\n",
    "plt.xlabel('itération');\n",
    "plt.ylabel('M,E');\n",
    "plt.legend(loc=1);\n",
    "plt.grid()\n",
    "plt.show()"
   ]
  },
  {
   "cell_type": "markdown",
   "metadata": {},
   "source": [
    "Le lecteur est invité à relancer plusieurs fois ces dernières cellules si aucun domaine de Weiss n'est observé."
   ]
  },
  {
   "cell_type": "markdown",
   "metadata": {},
   "source": [
    "## Question 2 : Variation des conditions initiales et aux bords"
   ]
  },
  {
   "cell_type": "markdown",
   "metadata": {
    "collapsed": true
   },
   "source": [
    "Faisons à présent varier les conditions aux bords et les conditions initiales grâce aux fonctions $edges\\_conditions$, $square\\_center$, $init\\_chessboard$ et $left\\_middle\\_edges$. Nous modifions en prime quelque peu les fonctions $metropolis\\_at\\_site$, $M\\_with\\_time\\_for\\_alpha$ et $M\\_equilibrium\\_for\\_alphas$ afin d'intégrer dans notre code les conditions aux bords qui sont sélectionnées grâce à un paramètre nommé $param$."
   ]
  },
  {
   "cell_type": "code",
   "execution_count": null,
   "metadata": {
    "collapsed": true
   },
   "outputs": [],
   "source": [
    "def edges_conditions(sp,borders):\n",
    "    \"\"\"Fixes the boundary conditions\n",
    "    \n",
    "    Parameters:\n",
    "    ----------\n",
    "    sp   : array\n",
    "        Matrix of spins\n",
    "    borders   : array\n",
    "        Array of 2 numbers to fix the boundary conditions. The first indice is for the bottom line, the second one for \n",
    "        the left column and so on.\n",
    "    \"\"\"\n",
    "    sp[0,:] = borders[0]*np.ones([1,ny])\n",
    "    sp[:,[0]] = borders[1]*np.ones([nx,1])\n",
    "    #sp[-1,:] = borders[2]*np.ones([1,ny])\n",
    "    #sp[:,[-1]] = borders[3]*np.ones([nx,1])\n",
    "    \n",
    "    return sp"
   ]
  },
  {
   "cell_type": "code",
   "execution_count": null,
   "metadata": {
    "collapsed": true
   },
   "outputs": [],
   "source": [
    "def init_chessboard(sp):\n",
    "    \"\"\"Imposes that one out of two compartments in the initial frame is +1 and the other one -1, as a chessboard\n",
    "    \n",
    "    Parameters:\n",
    "    ----------\n",
    "    sp   : array\n",
    "        The matrix \"sp\" must be initialized before using this function\n",
    "    \"\"\"\n",
    "    nx = np.shape(sp)[0]\n",
    "    ny = np.shape(sp)[1]\n",
    "    \n",
    "    sp = np.ones([nx,ny])\n",
    "    \n",
    "    for i in range(nx):\n",
    "        for j in range(ny):\n",
    "            if (i+j)%2==1:\n",
    "                sp[i,j] = -1\n",
    "                \n",
    "    return sp"
   ]
  },
  {
   "cell_type": "code",
   "execution_count": null,
   "metadata": {
    "collapsed": true
   },
   "outputs": [],
   "source": [
    "def square_center(sp,a):\n",
    "    \"\"\"Fixes the boundary conditions in a square at the center of the frames\n",
    "    \n",
    "    Parameters:\n",
    "    ----------\n",
    "    sp   : array\n",
    "        Matrix of spins\n",
    "    a   : int\n",
    "        Allows to choose the value of the spins inside the square\n",
    "    \"\"\"\n",
    "    nx = np.shape(sp)[0]\n",
    "    ny = np.shape(sp)[1]\n",
    "    \n",
    "    sp[int(nx/4):int(3*nx/4),int(ny/4):int(3*ny/4)] = a*np.ones([int(nx/2),int(ny/2)])\n",
    "    \n",
    "    return sp"
   ]
  },
  {
   "cell_type": "code",
   "execution_count": null,
   "metadata": {
    "collapsed": true
   },
   "outputs": [],
   "source": [
    "def left_middle_edges(sp):\n",
    "    \"\"\"Imposes the value of 1 for the left edge's spins and a value of -1 on a column in the middle\n",
    "    \n",
    "    Parameters:\n",
    "    ----------\n",
    "    sp   : array\n",
    "        The matrix \"sp\" must be initialized before using this function\n",
    "    \"\"\"\n",
    "    nx = np.shape(sp)[0]\n",
    "    ny = np.shape(sp)[1]\n",
    "    \n",
    "    sp[:,0] = np.ones(nx)\n",
    "    sp[:,int(ny/2)] = -np.ones(nx)\n",
    "    \n",
    "    return sp"
   ]
  },
  {
   "cell_type": "code",
   "execution_count": null,
   "metadata": {
    "collapsed": true
   },
   "outputs": [],
   "source": [
    "def metropolis_at_site2(sp,alpha,ix,iy,param,borders,a):\n",
    "    \"\"\" Flips a dipole at site ix, iy when probability condition is met and refix the boundary conditions\n",
    "   \n",
    "    Parameters:\n",
    "    ----------\n",
    "    sp   : numpy array\n",
    "        array of spins\n",
    "    alpha  : real\n",
    "        coupling constant J/(kb*T)\n",
    "    ix   : int\n",
    "        location in x\n",
    "    iy   : int\n",
    "        location in y\n",
    "    param   : int\n",
    "        Allows to choose the boundary conditions to apply\n",
    "    borders    : Array\n",
    "        Allows to choose the fixed boundary conditions on the frames' egdes\n",
    "    a   : int\n",
    "        Allows to choose the value of the spins inside the square \n",
    "    \"\"\"\n",
    "    nx = np.shape(sp)[0]\n",
    "    ny = np.shape(sp)[1]\n",
    "    \n",
    "    sigma=sp[ix,iy]\n",
    "    energy_before_flip = energy_at_site(sp,alpha,sigma,ix,iy)\n",
    "    sigma = -sigma\n",
    "    energy_if_site_flipped = energy_at_site(sp,alpha,sigma,ix,iy)\n",
    "    \n",
    "    # Flip the site with Metropolis probability\n",
    "    # Condition is always satisifed if dE < 0\n",
    "    if (np.random.random_sample()<np.exp(-(energy_if_site_flipped \\\n",
    "                                               -energy_before_flip))):\n",
    "        sp[ix,iy]=-sp[ix,iy]\n",
    "        \n",
    "    # Fix the boundary conditions\n",
    "    if param==1:\n",
    "        sp = edges_conditions(sp,borders)        \n",
    "    \n",
    "    elif param==2:\n",
    "        sp = square_center(sp,a)\n",
    "    \n",
    "    elif param==3:\n",
    "        sp = left_middle_edges(sp)\n",
    "        \n",
    "    return sp"
   ]
  },
  {
   "cell_type": "code",
   "execution_count": null,
   "metadata": {
    "collapsed": true
   },
   "outputs": [],
   "source": [
    "def M_with_time_for_alpha2(sp,NMC,step,alpha,param,borders,a):\n",
    "    \"\"\" Computes the evolution of the magnetisation and energy with time for a given coupling \n",
    "    constant for the Ising model using the Metropolis algorithm\n",
    "   \n",
    "    Parameters:\n",
    "    ----------\n",
    "    sp   : initial lattice state\n",
    "    \n",
    "    NMC  : int\n",
    "        Number of states to create\n",
    "    step   : Step between each magnetisation computation\n",
    "    alpha  : Double\n",
    "        coupling constant J/(kb*T)\n",
    "    param   : int\n",
    "        Allows to choose the boundary conditions to apply\n",
    "    borders    : Array\n",
    "        Allow to choose the fixed boundary conditions on the frames' egdes\n",
    "    a   : int\n",
    "        Allows to choose the value of the spins inside the square \n",
    "        \n",
    "    Returns:\n",
    "    -------\n",
    "    M: magnetisation \n",
    "    E: energy\n",
    "    \"\"\"\n",
    "    \n",
    "    nx = np.shape(sp)[0]\n",
    "    ny = np.shape(sp)[1]\n",
    "    \n",
    "    M = np.empty([int(NMC/step)])\n",
    "    E = np.empty([int(NMC/step)])\n",
    "    \n",
    "    for i in range(int(NMC)):\n",
    "            \n",
    "        for j in range(0,nx*ny):\n",
    "            ix=np.random.randint(0,nx)\n",
    "            iy=np.random.randint(0,ny)\n",
    "            metropolis_at_site2(sp,alpha,ix,iy,param,borders,a)\n",
    "            \n",
    "        if i%step==0:\n",
    "            M[int(i/step)] = moy_magn(sp)\n",
    "            E[int(i/step)] = moy_ener(sp,alpha)\n",
    "            \n",
    "    return [M,E]"
   ]
  },
  {
   "cell_type": "code",
   "execution_count": null,
   "metadata": {
    "collapsed": true
   },
   "outputs": [],
   "source": [
    "def M_equilibrium_for_alphas2(sps,NMC,step,alphas,NMC_eq,param,borders,a):\n",
    "    \"\"\" Computes the average magnetisation and energy at equilibrium with different coupling constants for the Ising model using\n",
    "    the Metropolis algorithm\n",
    "   \n",
    "    Parameters:\n",
    "    ----------\n",
    "    sps  : Vector containing the initial lattice states\n",
    "    nx   : int\n",
    "        Discretization points in x\n",
    "    ny   : int\n",
    "        Discretization points in y\n",
    "    NMC  : int\n",
    "        Number of states to create\n",
    "    step   : Step between each magnetisation computation\n",
    "    alphas : Vector of reals containing the\n",
    "        coupling constants alpha = J/(kb*T)\n",
    "    NMC_eq : Number of states to create before reaching the equilibrium\n",
    "    param   : int\n",
    "        Allows to choose the boundary conditions to apply\n",
    "    borders    : Array\n",
    "        Allow to choose the fixed boundary conditions on the frames' egdes\n",
    "    a   : int\n",
    "        Allows to choose the value of the spins inside the square\n",
    "    \n",
    "    Returns:\n",
    "    -------\n",
    "    Ms: Vector of magnetisations at equilibrium for each alpha in alphas\n",
    "    Es: Vector of energies at equilibrium for each alpha in alphas\n",
    "    \"\"\"\n",
    "    nx = np.shape(sps[0])[0]\n",
    "    ny = np.shape(sps[0])[1]\n",
    "    \n",
    "    Ms = np.empty([len(alphas)])\n",
    "    Es = np.empty([len(alphas)])\n",
    "    \n",
    "    for i in range(len(alphas)):\n",
    "        \n",
    "        print(\"loop at alpha = {:.2f}\".format(alphas[i]))\n",
    "        spsi = sps[i]\n",
    "        \n",
    "        for j in range(NMC_eq):\n",
    "                \n",
    "            for k in range(0,nx*ny):\n",
    "                ix=np.random.randint(0,nx)\n",
    "                iy=np.random.randint(0,ny)\n",
    "                metropolis_at_site2(spsi,alphas[i],ix,iy,param,borders,a)\n",
    "        \n",
    "        [M_evol,E_evol] = M_with_time_for_alpha2(spsi,NMC-NMC_eq,step,alphas[i],param,borders,a)\n",
    "        \n",
    "        Ms[i] = M_evol.sum()/len(M_evol)\n",
    "        Es[i] = E_evol.sum()/len(E_evol)\n",
    "    \n",
    "    return [Ms,Es]"
   ]
  },
  {
   "cell_type": "markdown",
   "metadata": {},
   "source": [
    "Nous allons, pour différentes conditions aux bords et initiales, trouver approximativement la valeur de $\\alpha$ pour laquelle la transition de phase s'opère. Nous traçons pour ce faire les graphiques de la magnétiation et de l'énergie en fonction de la valeur de $\\alpha$ pour chaque cas. Nous repérons ensuite la partie du graphique dont la pente est la plus élevée. \n",
    "\n",
    "#### Remarques : \n",
    "\n",
    "L'intérêt de cette section étant qualitatif, nous n'avons pas modifié les fonctions calculant la magnétisation et l'énergie totales. Les spins fixés sont donc compris dans le calcul de ces grandeurs."
   ]
  },
  {
   "cell_type": "markdown",
   "metadata": {},
   "source": [
    "### Spins valant 1 partout sur les bords extérieurs et orientés aléatoirement partout ailleurs"
   ]
  },
  {
   "cell_type": "markdown",
   "metadata": {},
   "source": [
    "Nous faisons remarquer que la façon dont est implémentée la fonction $energy\\_at\\_site$ impose à notre système d'être périodique (vu les modulos présents dans le code). Le code ci-dessous utilise cette fonction de sorte que notre système soit un quadrillage interprétable comme $\\mathbb{Z}^2$ dans le plan $\\mathbb{R}^2$. En effet, en imposant à seulement deux des côtés de la grille élémentaire (la grille affichée, de taille $nx \\times ny$) d'avoir des spins de même valeur, lorsque cette grille est translatée d'une grille élémentaire dans n'importe quel sens (haut, bas, gauche, et droite), nous retrouvons un quadrillage dans $\\mathbb{R}^2$ avec des carrés identiques de taille $nx \\times ny$. "
   ]
  },
  {
   "cell_type": "code",
   "execution_count": null,
   "metadata": {
    "scrolled": true
   },
   "outputs": [],
   "source": [
    "NMC = 200\n",
    "NMC_eq = 100\n",
    "step = 1\n",
    "nx = 21\n",
    "ny = 21\n",
    "len_alpha = 21\n",
    "alphas = np.linspace(0,1,len_alpha)\n",
    "\n",
    "sps = np.empty([len_alpha,nx,ny])\n",
    "\n",
    "param = 1\n",
    "borders = [1,1] \n",
    "a = 1\n",
    "\n",
    "for i in range(len_alpha):\n",
    "    sps[i] = initial_state_random(nx,ny)\n",
    "\n",
    "E_aligned = moy_ener_vect(np.ones((nx,ny)),alphas)\n",
    "\n",
    "[Ms,Es] = M_equilibrium_for_alphas2(sps,NMC,step,alphas,NMC_eq,param,borders,a)"
   ]
  },
  {
   "cell_type": "markdown",
   "metadata": {},
   "source": [
    "Nous avons affiché les valeurs de $\\alpha$ afin de donner une idée du temps pris par le code.\n",
    "\n",
    "Ci-après, nous donnons les graphiques de la magnétisation et de l'énergie (normalisées) en fonction de la valeur de $\\alpha$."
   ]
  },
  {
   "cell_type": "code",
   "execution_count": null,
   "metadata": {},
   "outputs": [],
   "source": [
    "plt.figure(figsize=(8,5));\n",
    "plt.plot(alphas,abs(Ms), '.-', label='Magnetisation');\n",
    "plt.plot(alphas[1:],abs(Es[1:]/E_aligned[1:]), '.-', label='Energie');\n",
    "plt.title(\"Propriétés à l'équilibre en fonction de alpha \\n sur une grille {:d}x{:d}\".format(nx,ny));\n",
    "plt.xlabel('alpha');\n",
    "plt.ylabel('M;E');\n",
    "plt.legend(loc=4);\n",
    "plt.grid()\n",
    "plt.show()"
   ]
  },
  {
   "cell_type": "markdown",
   "metadata": {},
   "source": [
    "Nous séletionnons, à l'oeil, la région où il nous semble que les pentes des graphiques de la magnétisation et de l'énergie sont les plus fortes afin de désigner le couplage critique, $\\alpha_c$. Ici, $\\alpha_c$ vaut environ 0.4. Il est possible que le changement des conditions ait pu légèrement diminuer la valeur du $\\alpha_c$, cependant le manque de précision ne nous permet pas de l'affirmer, cela peut très bien être contenu dans les marges d'erreur."
   ]
  },
  {
   "cell_type": "markdown",
   "metadata": {},
   "source": [
    "Enfin, nous affichons une des tranches finales pur une certaine valeur de $\\alpha$. Cela nous permet d'avoir une idée de ce qu'il s'est passé au sein du système. De plus, nous pouvons vérifier une première fois que les conditions aux bords ne changent pas pour les différentes valeurs de $\\alpha$, en modifiant l'indice de la liste $sps$ ci-dessous. Ensuite, nous comprenons qu'il est peu probable, puisque ces conditions aux bords sont maintenues pour chaque valeur de couplage, que ces dernières aient varié durant l'évolution du système pour une valeur de $\\alpha$ donnée. Nous affirmons ainsi que les conditions aux bords sont toujours maintenues. "
   ]
  },
  {
   "cell_type": "code",
   "execution_count": null,
   "metadata": {},
   "outputs": [],
   "source": [
    "plt.figure(figsize=(6,6))\n",
    "plt.imshow(sps[3],interpolation=\"none\",origin='lower');"
   ]
  },
  {
   "cell_type": "markdown",
   "metadata": {},
   "source": [
    "### Spins valant 1 partout sur les bords extérieurs et un échiquier comme condition initiale"
   ]
  },
  {
   "cell_type": "code",
   "execution_count": null,
   "metadata": {
    "scrolled": true
   },
   "outputs": [],
   "source": [
    "NMC = 200\n",
    "NMC_eq = 100\n",
    "step = 1\n",
    "nx = 21\n",
    "ny = 21\n",
    "len_alpha = 21\n",
    "alphas = np.linspace(0,1,len_alpha)\n",
    "\n",
    "sps = np.empty([len_alpha,nx,ny])\n",
    "\n",
    "param = 1\n",
    "borders = [1,1]\n",
    "a = 1\n",
    "\n",
    "for i in range(len_alpha):\n",
    "     sps[i] = init_chessboard(sps[i])\n",
    "        \n",
    "E_aligned = moy_ener(np.ones((nx,ny)),alphas)\n",
    "    \n",
    "[Ms,Es] = M_equilibrium_for_alphas2(sps,NMC,step,alphas,NMC_eq,param,borders,a)"
   ]
  },
  {
   "cell_type": "code",
   "execution_count": null,
   "metadata": {},
   "outputs": [],
   "source": [
    "plt.figure(figsize=(8,5));\n",
    "plt.plot(alphas,abs(Ms), '.-', label='Magnetisation');\n",
    "plt.plot(alphas[1:],abs(Es[1:]/E_aligned[1:]), '.-', label='Energie');\n",
    "plt.title(\"Propriétés à l'équilibre en fonction de alpha \\n sur une grille {:d}x{:d}\".format(nx,ny));\n",
    "plt.xlabel('alpha');\n",
    "plt.ylabel('M;E');\n",
    "plt.legend(loc=4);\n",
    "plt.grid()\n",
    "plt.show()"
   ]
  },
  {
   "cell_type": "markdown",
   "metadata": {},
   "source": [
    "A nouveau, $\\alpha_c$ vaut environ 0.4. "
   ]
  },
  {
   "cell_type": "code",
   "execution_count": null,
   "metadata": {},
   "outputs": [],
   "source": [
    "plt.figure(figsize=(6,6))\n",
    "plt.imshow(sps[0],interpolation=\"none\",origin='lower');"
   ]
  },
  {
   "cell_type": "markdown",
   "metadata": {},
   "source": [
    "#### Remarque"
   ]
  },
  {
   "cell_type": "markdown",
   "metadata": {},
   "source": [
    "L'orientation initiale aléatoire donne un résultat très proche de l'orientation initiale en damier, ce à quoi nous pouvions nous attendre puisqu'elles ne diffèrent en général que de quelques spins."
   ]
  },
  {
   "cell_type": "markdown",
   "metadata": {},
   "source": [
    "### Spins du centre valant tous 1 et les autres valant -1"
   ]
  },
  {
   "cell_type": "markdown",
   "metadata": {},
   "source": [
    "Nous simulons ici une grille dont les spins constituant un carré central sont fixés à 1. Les autres spins sont libres et initialement fixés à -1."
   ]
  },
  {
   "cell_type": "code",
   "execution_count": null,
   "metadata": {
    "scrolled": true
   },
   "outputs": [],
   "source": [
    "NMC = 600\n",
    "NMC_eq = 500\n",
    "step = 1\n",
    "nx = 21\n",
    "ny = 21\n",
    "len_alpha = 21\n",
    "alphas = np.linspace(0,1,len_alpha)\n",
    "\n",
    "sps = np.empty([len_alpha,nx,ny])\n",
    "\n",
    "param = 2\n",
    "borders = [1,1]\n",
    "a = 1\n",
    "\n",
    "for i in range(len_alpha):\n",
    "     sps[i] = -initial_state_aligned(nx,ny)\n",
    "        \n",
    "E_aligned = moy_ener(np.ones((nx,ny)),alphas)\n",
    "    \n",
    "[Ms,Es] = M_equilibrium_for_alphas2(sps,NMC,step,alphas,NMC_eq,param,borders,a)"
   ]
  },
  {
   "cell_type": "code",
   "execution_count": null,
   "metadata": {},
   "outputs": [],
   "source": [
    "plt.figure(figsize=(8,5));\n",
    "plt.plot(alphas,Ms, '.-', label='Magnetisation');\n",
    "plt.plot(alphas[1:],abs(Es[1:]/E_aligned[1:]), '.-', label='Energie');\n",
    "plt.title(\"Propriétés à l'équilibre en fonction de alpha \\n sur une grille {:d}x{:d}\".format(nx,ny));\n",
    "plt.xlabel('alpha');\n",
    "plt.ylabel('M;E');\n",
    "plt.legend(loc=4);\n",
    "plt.grid()\n",
    "plt.show()"
   ]
  },
  {
   "cell_type": "markdown",
   "metadata": {},
   "source": [
    "Une différence se marque par rapport aux situations précédentes. Ce graphique révèle que, pour de telles conditions aux bords et initiales, le système n'a pas pu atteindre l'équilibre (tous les spins alignés) en $NMC\\_eq$ itérations pour des valeurs de $\\alpha$ supérieures à 0.6. Notons qu'il est probable que les 500 itérations choisies ne suffisent pas atteindre l'équilibre même pour $\\alpha = 0.6$, l'évolution du système étant aléatoire. En d'autres termes, si nous augmentions largement $NMC\\_eq$, nous retrouverions un graphique dont l'allure est semblable à ceux des situations antérieures: un plateau après la transition de phase. Notons d'ailleurs que celle-ci se situe toujours aux envirions de $\\alpha = 0.4$. Ceci nous permet de constater une fois de plus que les conditions initiales n'ont pas d'influence sur la dynamique d'équilibre du système. "
   ]
  },
  {
   "cell_type": "code",
   "execution_count": null,
   "metadata": {},
   "outputs": [],
   "source": [
    "plt.figure(figsize=(6,6))\n",
    "plt.imshow(sps[16],interpolation=\"none\",origin='lower');"
   ]
  },
  {
   "cell_type": "markdown",
   "metadata": {},
   "source": [
    "Le code ci-après nous a permis de comprendre que l'équilibre n'était bien souvent pas atteint pour des valeurs de $\\alpha > 0.6$. "
   ]
  },
  {
   "cell_type": "code",
   "execution_count": null,
   "metadata": {
    "collapsed": true
   },
   "outputs": [],
   "source": [
    "def ising_model_metropolis2(sp, NMC, nx, ny, alpha,param,borders,a):\n",
    "    \"\"\" Creates a sequence of states for the Ising model using\n",
    "    the Metropolis algorithm\n",
    "   \n",
    "    Parameters:\n",
    "    ----------\n",
    "    sp   : initial lattice state\n",
    "    nx   : int\n",
    "        Discretization points in x\n",
    "    ny   : int\n",
    "        Discretization points in y\n",
    "    NMC  : int\n",
    "        Number of states to create\n",
    "    alpha  : real\n",
    "        coupling constant J/(kb*T)\n",
    "    Returns:\n",
    "    -------\n",
    "    states: sequence of states\n",
    "    \"\"\"\n",
    "    states = np.empty([NMC+1,nx,ny])\n",
    "    states[0] = sp.copy()\n",
    "    \n",
    "    for i in range(1,NMC+1):\n",
    "        for j in range(0,nx*ny):\n",
    "            ix=np.random.randint(0,nx)\n",
    "            iy=np.random.randint(0,ny)\n",
    "            metropolis_at_site2(sp,alpha,ix,iy,param,borders,a)\n",
    "        states[i]=sp.copy()\n",
    "    return states"
   ]
  },
  {
   "cell_type": "markdown",
   "metadata": {},
   "source": [
    "Nous avons fait varier le nombre d'itérations $NMC$ pour une certaine valeur de $\\alpha$. Nous laissons ici un exemple, permettant de montrer que même 1000 itérations sont rarement suffisantes pour atteindre l'équilibre avec $\\alpha = 0.8$. "
   ]
  },
  {
   "cell_type": "code",
   "execution_count": null,
   "metadata": {
    "collapsed": true
   },
   "outputs": [],
   "source": [
    "NMC = 2000\n",
    "step = 10\n",
    "nx = 21\n",
    "ny = 21\n",
    "alpha = 0.8\n",
    "a = 1\n",
    "borders = [1,1]\n",
    "param = 2"
   ]
  },
  {
   "cell_type": "code",
   "execution_count": null,
   "metadata": {},
   "outputs": [],
   "source": [
    "sp = -initial_state_aligned(nx,ny)\n",
    "sp = square_center(sp,1)\n",
    "E_aligned = moy_ener(np.ones((nx,ny)),alpha)\n",
    "[M,E] = M_with_time_for_alpha2(sp,NMC,step,alpha,param,borders,a)\n",
    "\n",
    "plt.figure(figsize=(8,5));\n",
    "plt.plot(np.arange(0,len(M)*step,step),M, '.-', label='Magnetisation');\n",
    "plt.plot(np.arange(0,len(E)*step,step),abs(E/E_aligned), '.-', label='Energie')\n",
    "plt.title(\"Evolution des propriétés pour\\n alpha = {:.2f} sur une grille {:d}x{:d}\".format(alpha,nx,ny));\n",
    "plt.xlabel('itération');\n",
    "plt.ylabel('M,E');\n",
    "plt.legend(loc=1);\n",
    "plt.grid()\n",
    "plt.show()"
   ]
  },
  {
   "cell_type": "code",
   "execution_count": null,
   "metadata": {},
   "outputs": [],
   "source": [
    "start = time.time()\n",
    "sp = -initial_state_aligned(nx,ny)\n",
    "sp = square_center(sp,1)\n",
    "\n",
    "E_aligned = moy_ener(np.ones((nx,ny)),alpha)\n",
    "states = ising_model_metropolis2(sp, NMC, nx, ny, alpha,param,borders,a)\n",
    "\n",
    "fig = plt.figure(figsize=(6,6))\n",
    "img1 = plt.imshow(states[0],interpolation=\"none\",origin='lower',\\\n",
    "                     vmin=-1, vmax=1)\n",
    "\n",
    "# Animate\n",
    "def animate(i):\n",
    "    img1.set_array(states[i*10])\n",
    "\n",
    "anim = animation.FuncAnimation(fig, animate, frames=int(NMC/10), interval=100)\n",
    "plt.close()\n",
    "HTML(anim.to_html5_video())"
   ]
  },
  {
   "cell_type": "code",
   "execution_count": null,
   "metadata": {},
   "outputs": [],
   "source": [
    "print(time.time()-start)"
   ]
  },
  {
   "cell_type": "markdown",
   "metadata": {},
   "source": [
    "### Spins valant 1 sur le côté gauche, -1 sur la colonne du milieu"
   ]
  },
  {
   "cell_type": "markdown",
   "metadata": {},
   "source": [
    "Nous décrivons ici un réseau périodique de spins dont la maille élémentaire est une grille $21\\times 21$ dont la colonne de gauche contient des spins fixés à 1, la colonne du milieu a des spins fixés à -1 et dont les spins des rangées du haut et du bas peuvent interagir (périodicité)."
   ]
  },
  {
   "cell_type": "code",
   "execution_count": null,
   "metadata": {
    "collapsed": true
   },
   "outputs": [],
   "source": [
    "NMC = 500\n",
    "step = 1\n",
    "nx = 21\n",
    "ny = 21\n",
    "alpha = 0.7\n",
    "a = 1\n",
    "borders = [1,1] \n",
    "param = 3"
   ]
  },
  {
   "cell_type": "code",
   "execution_count": null,
   "metadata": {},
   "outputs": [],
   "source": [
    "sp0 = initial_state_random(nx,ny)\n",
    "sp0 = left_middle_edges(sp0)\n",
    "\n",
    "sp = sp0.copy()\n",
    "\n",
    "E_aligned = moy_ener(np.ones((nx,ny)),alpha)\n",
    "[M,E] = M_with_time_for_alpha2(sp,NMC,step,alpha,param,borders,a)\n",
    "\n",
    "plt.figure(figsize=(8,5));\n",
    "plt.plot(np.arange(0,len(M)*step,step),M, '.-', label='Magnetisation');\n",
    "plt.plot(np.arange(0,len(E)*step,step),abs(E/E_aligned), '.-', label='Energie')\n",
    "plt.title(\"Evolution des propriétés pour\\n alpha = {:.2f} sur une grille {:d}x{:d}\".format(alpha,nx,ny));\n",
    "plt.xlabel('itération');\n",
    "plt.ylabel('M,E');\n",
    "plt.legend(loc=1);\n",
    "plt.grid()\n",
    "plt.show()"
   ]
  },
  {
   "cell_type": "code",
   "execution_count": null,
   "metadata": {},
   "outputs": [],
   "source": [
    "start = time.time()\n",
    "E_aligned = moy_ener(np.ones((nx,ny)),alpha)\n",
    "sp = sp0.copy()\n",
    "\n",
    "states = ising_model_metropolis2(sp, NMC, nx, ny, alpha,param,borders,a)\n",
    "\n",
    "fig = plt.figure(figsize=(6,6))\n",
    "img1 = plt.imshow(states[0],interpolation=\"none\",origin='lower',\\\n",
    "                     vmin=-1, vmax=1)\n",
    "\n",
    "# Animate\n",
    "def animate(i):\n",
    "    img1.set_array(states[i*5])\n",
    "\n",
    "anim = animation.FuncAnimation(fig, animate, frames=int(NMC/5), interval=100)\n",
    "plt.close()\n",
    "#plt.colorbar();\n",
    "HTML(anim.to_html5_video())"
   ]
  },
  {
   "cell_type": "code",
   "execution_count": null,
   "metadata": {},
   "outputs": [],
   "source": [
    "print(time.time()-start)"
   ]
  },
  {
   "cell_type": "markdown",
   "metadata": {},
   "source": [
    "Dans cette vidéo, nous remarquons deux zones presque unicolores (à quelques fluctuations statistiques près) où les spins sont majoritairement parallèles, séparées par une région dont la magnétisation fluctue sans cesse. Nous pouvons visualiser cette frontière comme un état d'équilibre, au même titre que les deux zones unicolores. En effet, la magnétisation totale et l'énergie potentielle de la frontière sont peu influencées par l'inversion d'un de ses spins. Bien entendu, cette équilibre local peut rapidement disparaître selon l'importance des fluctuations thermiques.  \n",
    "\n",
    "Nous pouvons à nouveau tracer les graphiques de la magnétisation et de l'énergie en fonction de la valeur de $\\alpha$ et trouver $\\alpha_c$.  "
   ]
  },
  {
   "cell_type": "code",
   "execution_count": null,
   "metadata": {
    "scrolled": true
   },
   "outputs": [],
   "source": [
    "NMC = 200\n",
    "NMC_eq = 100\n",
    "step = 1\n",
    "nx = 21\n",
    "ny = 21\n",
    "len_alpha = 21\n",
    "alphas = np.linspace(0,1,len_alpha)\n",
    "\n",
    "sps = np.empty([len_alpha,nx,ny])\n",
    "\n",
    "sp_0 = initial_state_random(nx,ny)\n",
    "sp_0 = left_middle_edges(sp_0)\n",
    "\n",
    "param = 3\n",
    "borders = [1,1]\n",
    "a = 1\n",
    "\n",
    "for i in range(len_alpha):\n",
    "     sps[i] = sp_0\n",
    "        \n",
    "E_aligned = moy_ener(initial_state_aligned(nx,ny),alphas)\n",
    "    \n",
    "[Ms,Es] = M_equilibrium_for_alphas2(sps,NMC,step,alphas,NMC_eq,param,borders,a)"
   ]
  },
  {
   "cell_type": "code",
   "execution_count": null,
   "metadata": {},
   "outputs": [],
   "source": [
    "plt.figure(figsize=(8,5));\n",
    "plt.plot(alphas,Ms, '.-', label='Magnetisation');\n",
    "plt.plot(alphas[1:],abs(Es[1:]/E_aligned[1:]), '.-', label='Energie');\n",
    "plt.title(\"Propriétés à l'équilibre en fonction de alpha \\n sur une grille {:d}x{:d}\".format(nx,ny));\n",
    "plt.xlabel('alpha');\n",
    "plt.ylabel('M;E');\n",
    "plt.legend(loc=4);\n",
    "plt.grid()\n",
    "plt.show()"
   ]
  },
  {
   "cell_type": "markdown",
   "metadata": {},
   "source": [
    "Notons que la magnétisation n'est plus un judicieux indicateur de la prédominance de l'agitation thermique sur les effets magnétiques, ou l'iverse. En effet, bien que les spins soient alignés par zone - comme des domaines de Weiss en réalité - et que les effets magnétiques permettent de garder un alignement notable au sein de ses zones, le fait que la magnétisation totale soit nulle peut laisser entendre que les effets thermiques prennent l'avantage sur les effets magnétiques. Bien entendu, cette discussion se tient pour des valeurs de $\\alpha$ supérieures à $\\alpha_c$. Nous pouvoir voir que pour $\\alpha < \\alpha_c$, l'agitation thermique est dominante. Pour ces raisons, nous n'utilisons plus la pente de la magnétisation pour localiser $\\alpha_c$, uniquement celle de l'énergie. Nous pourrions évidemment obtenir $\\alpha_c$ à partir de la capacité calorifique. Nous observons que $\\alpha_c$ vaut environ 0.4."
   ]
  },
  {
   "cell_type": "markdown",
   "metadata": {},
   "source": [
    "# Conclusion"
   ]
  },
  {
   "cell_type": "markdown",
   "metadata": {},
   "source": [
    "Dans la première partie de ce travail, nous avons cherché des moyens alternatifs de créer des variables distribuées selon une loi exponentielle et selon une gaussienne. Ceux-ci ont donné des résultats concluants.\n",
    "\n",
    "La deuxième partie a été consacrée à la simulation de processus stochastique en 1D. Deux processus ont été étudiés: \n",
    "- une marche aléatoire avec dérive: $\\quad dx = cdt + \\sqrt{2\\alpha dt}\\cal{N(0,1)}$\n",
    "- une marche aléatoire avec friction: $\\quad dx = -\\gamma xdt + \\sqrt{2\\alpha dt}\\cal{N(0,1)}$\n",
    "\n",
    "Une équation différentielle pour cette densité a été trouvée dans le premier cas et dans les deux cas, nous avons trouvé une solution analytique décrivant l'évolution de la densité de probabilité de présence avec le temps en partant d'une distribution gausienne initiale de paramètres $(\\sigma,\\mu)$. Celles-ci se sont avéré être des gausiennes:\n",
    "\n",
    "- dérive: $ \\quad \\rho(x,t)=\\frac{1}{\\sqrt{2\\pi\\sigma_t^2}}e^{-\\frac{(x-\\mu)^2}{2\\sigma_t^2}} + ct \\quad $ avec $\\quad\\sigma^2_t = 2\\alpha t + \\sigma^2$\n",
    "- friction: $\\quad \\rho(x,t) = \\frac{1}{\\sqrt{2\\pi\\,\\sigma_t^2}}e^{-\\frac{(x-\\mu_t)^2}{2\\sigma_t^2}}\\ \\qquad$ avec $\\quad \\sigma_t^2 = \\sigma^2 e^{-2\\gamma t} + (1-e^{-2\\gamma t}) \\frac \\alpha\\gamma \\quad$ et $ \\quad\\mu_t = \\mu\\, e^{-\\gamma t} $\n",
    "\n",
    "\n",
    "La dernière partie, la plus longue, concernait le modèle d'Ising. Elle se divise en plusieurs points.\n",
    "\n",
    "Nous avons d'abord dû tester l'algorithme de Métropolis. Nous avons constaté que les \"ratios de spins ups sur spins downs\" convergeaient bien vers $e^{-\\Delta E}$ à chaque fois. \n",
    "\n",
    "Ensuite, nous avons simulé l'évolution de plusieurs grilles correspondant à différentes valeurs du couplage $\\alpha$. Nous avons pour chaque grille calculeé la magnétisation moyenne. La magnétisation nous a permis de voir dans quel intervalle se situait la transition \"ferromagnétique - non ferromagnétique\" du système. Nous nous en sommes servi pour estimer le couplage critique du système. Le calcul précis de cette valeur a été réalisé dans un notebook annexe en utilisant le graphique de la capacité calorifique en fonction de $\\alpha$. Nous avons obtenu le couplage critique ci-dessous pour une grille de taille 20x20:\n",
    "\n",
    "$$\\alpha_c = 0.4336(10)$$\n",
    "\n",
    "Comme demandé, nous avons fait varier les conditions aux bords et initiales et constaté que celles-ci se révélaient parfois détermiantes dans l'évolution du système avant d'atteindre l'équilibre. Cependant, l'équilibre atteint est bien le même pour toute condition initiale. Quelles que soient les conditions initiales et aux bords, la valeur du couplage critique ne varie pas significativement (voire pas du tout, une précision plus grande tendrait à rapprocher encore plus les valeurs de $\\alpha_c$ obtenues).\n",
    "\n",
    "En dernier lieu, nous nous sommes intéressé à l'évolution du $\\alpha$ critique en augmentant la taille de la grille. Nous avons donc réalisé plusieurs simulations sur différentes taille de grilles dans un fichier annexe, dont les résultats sont affichées ci-dessous. Malheureusement, nous n'avons pas pu constater une convergence vers le résultat théorique pour une grille infinie. \n",
    "\n",
    "| N | alpha |\n",
    "|---|-------|\n",
    "| 40 | 0.4373(3) |\n",
    "| 60 | 0.4381(8) |\n",
    "| 80 | 0.4379(14) |"
   ]
  },
  {
   "cell_type": "code",
   "execution_count": null,
   "metadata": {},
   "outputs": [],
   "source": [
    "print(\"Temps d'exécution de ce notebook: {:.3f} secondes\".format( time.time()-start_notebook))"
   ]
  }
 ],
 "metadata": {
  "kernelspec": {
   "display_name": "Python 3",
   "language": "python",
   "name": "python3"
  },
  "language_info": {
   "codemirror_mode": {
    "name": "ipython",
    "version": 3
   },
   "file_extension": ".py",
   "mimetype": "text/x-python",
   "name": "python",
   "nbconvert_exporter": "python",
   "pygments_lexer": "ipython3",
   "version": "3.6.2"
  }
 },
 "nbformat": 4,
 "nbformat_minor": 2
}
