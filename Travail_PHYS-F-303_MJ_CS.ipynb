{
 "cells": [
  {
   "cell_type": "markdown",
   "metadata": {},
   "source": [
    "<h1><center>PHYS-F-303</center></h1>\n",
    "<h1><center>Partie numérique</center></h1>\n",
    "<h2><center>Cédric SCHOONEN, Maxime JAMOTTE</center></h2>"
   ]
  },
  {
   "cell_type": "code",
   "execution_count": 31,
   "metadata": {
    "collapsed": true
   },
   "outputs": [],
   "source": [
    "from matplotlib import pyplot as plt\n",
    "import numpy as np\n",
    "import random\n",
    "%matplotlib inline\n",
    "from matplotlib import rcParams\n",
    "rcParams['font.family'] = 'serif'\n",
    "rcParams['font.size'] = 16\n",
    "import matplotlib.cm as cm\n",
    "from matplotlib import animation\n",
    "from IPython.display import HTML"
   ]
  },
  {
   "cell_type": "markdown",
   "metadata": {},
   "source": [
    "# Leçon 06_02"
   ]
  },
  {
   "cell_type": "markdown",
   "metadata": {},
   "source": [
    "## Question 1"
   ]
  },
  {
   "cell_type": "markdown",
   "metadata": {
    "collapsed": true
   },
   "source": [
    "Le langage Python possède des fonctions précompilées pour générer des nombres distribués de différentes manières, notamment selon une gaussienne ou selon une exponentielle. "
   ]
  },
  {
   "cell_type": "markdown",
   "metadata": {},
   "source": [
    "### Distribution exponentielle"
   ]
  },
  {
   "cell_type": "code",
   "execution_count": 34,
   "metadata": {},
   "outputs": [
    {
     "data": {
      "text/plain": [
       "0.85008094206369"
      ]
     },
     "execution_count": 34,
     "metadata": {},
     "output_type": "execute_result"
    }
   ],
   "source": [
    "# random.expovariate\n",
    "\n",
    "\"\"\"Exponential distribution. lambd is 1.0 divided by the desired mean. It should be nonzero. \n",
    "(The parameter would be called “lambda”, but that is a reserved word in Python.) \n",
    "\n",
    "Returned values range from 0 to positive infinity if lambd is positive, and from negative infinity\n",
    "to 0 if lambd is negative\"\"\"\n",
    "\n",
    "lambd = 1\n",
    "distrExp = random.expovariate(lambd)\n",
    "distrExp"
   ]
  },
  {
   "cell_type": "code",
   "execution_count": null,
   "metadata": {
    "collapsed": true
   },
   "outputs": [],
   "source": [
    "# numpy.random.exponential\n",
    "\n",
    "\"\"\" Parameters:\n",
    "    ----------\n",
    "    lambd : float or array_like of floats\n",
    "\n",
    "        The scale parameter, \\beta = 1/\\lambda.\n",
    "\n",
    "    size : int or tuple of ints, optional\n",
    "\n",
    "        Output shape. If the given shape is, e.g., (m, n, k), then m * n * k samples are drawn. If size is None\n",
    "        (default), a single value is returned if scale is a scalar. Otherwise, np.array(scale).size samples are\n",
    "        drawn.\n",
    "\n",
    "    Returns:\n",
    "    -------\n",
    "    out : ndarray or scalar\n",
    "\n",
    "        Drawn samples from the parameterized exponential distribution.\"\"\"\n",
    "\n",
    "lambd = 1\n",
    "size = 2\n",
    "\n"
   ]
  },
  {
   "cell_type": "markdown",
   "metadata": {},
   "source": [
    "### Distribution gaussienne"
   ]
  },
  {
   "cell_type": "code",
   "execution_count": 38,
   "metadata": {},
   "outputs": [
    {
     "data": {
      "text/plain": [
       "0.43309040824794254"
      ]
     },
     "execution_count": 38,
     "metadata": {},
     "output_type": "execute_result"
    }
   ],
   "source": [
    "# random.gauss\n",
    "\n",
    "\"\"\"Gaussian distribution. mu is the mean, and sigma is the standard deviation\"\"\"\n",
    "\n",
    "mu = 0\n",
    "sigma = 1\n",
    "distrGauss = random.gauss(mu,sigma)\n",
    "distrGauss"
   ]
  },
  {
   "cell_type": "code",
   "execution_count": null,
   "metadata": {
    "collapsed": true
   },
   "outputs": [],
   "source": [
    "# numpy.random.normal\n",
    "\n",
    "\"\"\" Parameters:\n",
    "    ----------\n",
    "    mu : float or array_like of floats\n",
    "\n",
    "        Mean (“centre”) of the distribution.\n",
    "\n",
    "    sigma : float or array_like of floats\n",
    "\n",
    "        Standard deviation (spread or “width”) of the distribution.\n",
    "\n",
    "    size : int or tuple of ints, optional\n",
    "\n",
    "        Output shape. If the given shape is, e.g., (m, n, k), then m * n * k samples are drawn. If size is \n",
    "        None (default), a single value is returned if loc and scale are both scalars. \n",
    "        Otherwise, np.broadcast(loc, scale).size samples are drawn.\n",
    "\n",
    "    Returns:\n",
    "    -------\n",
    "    out : ndarray or scalar\n",
    "\n",
    "        Drawn samples from the parameterized normal distribution.\"\"\"\n",
    "\n",
    "mu = 0\n",
    "sigma = 1\n",
    "size = 1\n",
    "distrNormal(mu,sigma,size)\n"
   ]
  },
  {
   "cell_type": "code",
   "execution_count": 47,
   "metadata": {},
   "outputs": [
    {
     "data": {
      "text/plain": [
       "array([[[ 0.03719567,  0.65041628],\n",
       "        [ 1.51525955,  1.20412285]],\n",
       "\n",
       "       [[ 1.64147501,  1.48733742],\n",
       "        [ 1.11404038, -0.83695736]]])"
      ]
     },
     "execution_count": 47,
     "metadata": {},
     "output_type": "execute_result"
    }
   ],
   "source": [
    "# numpy.randn\n",
    "\n",
    "\"\"\"Parameters:\n",
    "   ----------\n",
    "    d0, d1, ..., dn   : int, optional\n",
    "\n",
    "                        The dimensions of the returned array, should be all positive. If no argument is \n",
    "                        given a single Python float is returned.\n",
    "\n",
    "    Returns:\n",
    "    -------\n",
    "    Z   : ndarray or float\n",
    "\n",
    "        (d0, d1, ..., dn)-shaped array of floating-point samples from the standard normal distribution, \n",
    "        or a single such float if no parameters were supplied.\"\"\"\n",
    "\n",
    "d0 = 2\n",
    "d1 = 2\n",
    "d2 = 2\n",
    "\n",
    "distrNormal_randn = np.random.randn(d0,d1,d2)\n",
    "distrNormal_randn"
   ]
  },
  {
   "cell_type": "markdown",
   "metadata": {},
   "source": [
    "## Question 2"
   ]
  },
  {
   "cell_type": "markdown",
   "metadata": {},
   "source": [
    "Nous codons ici la méthode dite de \"Box-Muller\"."
   ]
  },
  {
   "cell_type": "code",
   "execution_count": 2,
   "metadata": {
    "collapsed": true
   },
   "outputs": [],
   "source": [
    "N = 10000\n",
    "\n",
    "u1 = np.random.random_sample(N)\n",
    "u2 = np.random.random_sample(N)"
   ]
  },
  {
   "cell_type": "code",
   "execution_count": 3,
   "metadata": {
    "collapsed": true
   },
   "outputs": [],
   "source": [
    "z0 = np.sqrt(-2*np.log(u1))*np.cos(2*np.pi*u2)\n",
    "z1 = np.sqrt(-2*np.log(u2))*np.sin(2*np.pi*u1)"
   ]
  },
  {
   "cell_type": "code",
   "execution_count": 4,
   "metadata": {},
   "outputs": [
    {
     "data": {
      "text/plain": [
       "[<matplotlib.lines.Line2D at 0x7f23a07d82e8>]"
      ]
     },
     "execution_count": 4,
     "metadata": {},
     "output_type": "execute_result"
    },
    {
     "data": {
      "image/png": "[encoded data removed]",
      "text/plain": [
       "<matplotlib.figure.Figure at 0x7f23a07d8358>"
      ]
     },
     "metadata": {},
     "output_type": "display_data"
    }
   ],
   "source": [
    "# Plots\n",
    "binwidth=0.1\n",
    "bins=np.arange(-5,5, binwidth)\n",
    "plt.hist(z0,bins,normed='true',color='blue');\n",
    "\n",
    "# Compute centers of bins\n",
    "xc = bins[:-1] + binwidth/2\n",
    "plt.plot(xc,np.exp(-xc**2/2.0)/np.sqrt(2*np.pi),lw=2,color='green')"
   ]
  },
  {
   "cell_type": "code",
   "execution_count": 5,
   "metadata": {},
   "outputs": [
    {
     "data": {
      "text/plain": [
       "[<matplotlib.lines.Line2D at 0x7f23a0147668>]"
      ]
     },
     "execution_count": 5,
     "metadata": {},
     "output_type": "execute_result"
    },
    {
     "data": {
      "image/png": "[encoded data removed]",
      "text/plain": [
       "<matplotlib.figure.Figure at 0x7f23a0147358>"
      ]
     },
     "metadata": {},
     "output_type": "display_data"
    }
   ],
   "source": [
    "# Plots\n",
    "binwidth=0.1\n",
    "bins=np.arange(-5,5, binwidth)\n",
    "plt.hist(z1,bins,normed='true',color='blue');\n",
    "\n",
    "# Compute centers of bins\n",
    "xc = bins[:-1] + binwidth/2\n",
    "plt.plot(xc,np.exp(-xc**2/2.0)/np.sqrt(2*np.pi),lw=2,color='green')"
   ]
  },
  {
   "cell_type": "markdown",
   "metadata": {},
   "source": [
    "# Leçon 06_03"
   ]
  },
  {
   "cell_type": "markdown",
   "metadata": {},
   "source": [
    "## Question 1"
   ]
  },
  {
   "cell_type": "code",
   "execution_count": 6,
   "metadata": {},
   "outputs": [
    {
     "data": {
      "image/png": "[encoded data removed]",
      "text/plain": [
       "<matplotlib.figure.Figure at 0x7f23947250f0>"
      ]
     },
     "metadata": {},
     "output_type": "display_data"
    }
   ],
   "source": [
    "npart=10000\n",
    "T=50.0\n",
    "nt=500\n",
    "dt=T/nt\n",
    "alpha=2\n",
    "c = 1\n",
    "\n",
    "sigma = 1.0\n",
    "x0 = np.random.normal(loc=0,scale=sigma,size=npart)\n",
    "\n",
    "t = np.arange(0,T+dt,dt)\n",
    "x = np.empty([nt+1,npart])\n",
    "\n",
    "x[0]=x0\n",
    "\n",
    "for i in range(nt):\n",
    "    x[i+1]=x[i]+np.sqrt(2*alpha*dt)*np.random.normal(0,1,npart)+c*dt\n",
    "\n",
    "for i in range(20):\n",
    "    plt.plot(t,x[:,i])"
   ]
  },
  {
   "cell_type": "markdown",
   "metadata": {},
   "source": [
    "On remarque une translation générale des particules vers les $x$ positifs si $c$ est positif et vers les $x$ négatifs si $c$ est négatif. "
   ]
  },
  {
   "cell_type": "markdown",
   "metadata": {},
   "source": [
    "## Question 2"
   ]
  },
  {
   "cell_type": "code",
   "execution_count": 7,
   "metadata": {},
   "outputs": [
    {
     "data": {
      "image/png": "[encoded data removed]",
      "text/plain": [
       "<matplotlib.figure.Figure at 0x7f23a07caf28>"
      ]
     },
     "metadata": {},
     "output_type": "display_data"
    }
   ],
   "source": [
    "npart=2000\n",
    "npart2plot = 1\n",
    "\n",
    "T = 500.0\n",
    "dt = 1\n",
    "nt = int(T/dt)+1\n",
    "alpha = 2\n",
    "gamma = 1\n",
    "\n",
    "sigma = 1.0\n",
    "x0 = np.random.normal(loc=0,scale=sigma,size=npart)\n",
    "\n",
    "t = np.arange(0,T+dt,dt)\n",
    "x = np.empty([nt,npart])\n",
    "\n",
    "x[0]=x0\n",
    "\n",
    "for i in range(nt-1):\n",
    "    x[i+1]=x[i]+np.sqrt(2*alpha*dt)*np.random.normal(0,1,npart)-gamma*x[i]*dt\n",
    "\n",
    "for i in range(npart2plot):\n",
    "    plt.plot(t,x[:,i],'.-')\n",
    "plt.grid()"
   ]
  },
  {
   "cell_type": "code",
   "execution_count": 8,
   "metadata": {},
   "outputs": [
    {
     "data": {
      "image/png": "[encoded data removed]",
      "text/plain": [
       "<matplotlib.figure.Figure at 0x7f2391ff0630>"
      ]
     },
     "metadata": {},
     "output_type": "display_data"
    }
   ],
   "source": [
    "# Generate bins centered around 0\n",
    "xmin = np.min(x[nt-1])\n",
    "xmax = np.max(x[nt-1])\n",
    "\n",
    "binwidth = (xmax-xmin)/100\n",
    "\n",
    "bins=np.arange(xmin,xmax,binwidth)\n",
    "bins = bins + binwidth/2\n",
    "\n",
    "# Compute bin centers\n",
    "bin_centers = bins[:-1]+binwidth/2\n",
    "\n",
    "# plot a histrogram for verification\n",
    "#plt.hist(x[nt-1],bins,normed=True);\n",
    "\n",
    "sigmat2=2*alpha*T+sigma**2-gamma*T\n",
    "plt.plot(bin_centers,np.exp(-bin_centers**2/(2.0*sigmat2))/np.sqrt(2*np.pi*sigmat2))\n",
    "plt.grid()"
   ]
  },
  {
   "cell_type": "code",
   "execution_count": 9,
   "metadata": {},
   "outputs": [
    {
     "data": {
      "text/plain": [
       "1501.0"
      ]
     },
     "execution_count": 9,
     "metadata": {},
     "output_type": "execute_result"
    }
   ],
   "source": [
    "sigmat2"
   ]
  },
  {
   "cell_type": "markdown",
   "metadata": {},
   "source": [
    "A cause du terme de friction, on remarque une atténuation de l'écart par rapport à la position centrale pour des $\\gamma <2$. Faire varier l'écart-type pour contracrrer l'effet d'un $\\gamma$ trop grand?"
   ]
  },
  {
   "cell_type": "markdown",
   "metadata": {},
   "source": [
    "# Remarques"
   ]
  },
  {
   "cell_type": "markdown",
   "metadata": {},
   "source": [
    "Algorithme instable! On remarque que pour des $\\gamma$ au-delà de 2, il y a comme une divergence."
   ]
  },
  {
   "cell_type": "code",
   "execution_count": 10,
   "metadata": {},
   "outputs": [
    {
     "name": "stderr",
     "output_type": "stream",
     "text": [
      "/home/cedric/Coding/anaconda3/lib/python3.6/site-packages/ipykernel_launcher.py:18: RuntimeWarning: overflow encountered in multiply\n",
      "/home/cedric/Coding/anaconda3/lib/python3.6/site-packages/ipykernel_launcher.py:18: RuntimeWarning: invalid value encountered in subtract\n",
      "/home/cedric/Coding/anaconda3/lib/python3.6/site-packages/matplotlib/ticker.py:1918: RuntimeWarning: overflow encountered in multiply\n",
      "  steps = self._extended_steps * scale\n",
      "/home/cedric/Coding/anaconda3/lib/python3.6/site-packages/matplotlib/ticker.py:1944: RuntimeWarning: overflow encountered in double_scalars\n",
      "  high = np.round(Base(step).ge(_vmax - best_vmin) / step)\n"
     ]
    },
    {
     "data": {
      "image/png": "[encoded data removed]",
      "text/plain": [
       "<matplotlib.figure.Figure at 0x7f2391fdc5f8>"
      ]
     },
     "metadata": {},
     "output_type": "display_data"
    }
   ],
   "source": [
    "npart=1\n",
    "\n",
    "T = 10000.0\n",
    "dt = 1\n",
    "nt = int(T/dt)+1\n",
    "alpha=2\n",
    "gamma = 2.4\n",
    "\n",
    "sigma = 1.0\n",
    "x0 = np.random.normal(loc=0,scale=sigma,size=npart)\n",
    "\n",
    "t = np.arange(0,T+dt,dt)\n",
    "x = np.empty([nt,npart])\n",
    "\n",
    "x[0]=x0\n",
    "\n",
    "for i in range(nt-1):\n",
    "    x[i+1]=x[i]+np.sqrt(2*alpha*dt)*np.random.normal(0,1,npart)-gamma*x[i]*dt\n",
    "\n",
    "for i in range(1):\n",
    "    plt.plot(t[2070:2200],x[2070:2200,i],'.-')\n",
    "plt.grid()"
   ]
  },
  {
   "cell_type": "markdown",
   "metadata": {},
   "source": [
    "# Leçon  06_04: Modèle d'Ising"
   ]
  },
  {
   "cell_type": "markdown",
   "metadata": {
    "collapsed": true
   },
   "source": [
    "## Challenge (vers le milieu du MOOC)"
   ]
  },
  {
   "cell_type": "markdown",
   "metadata": {},
   "source": [
    "## Question 1: Calculer la magnétisation moyenne pour différentes valeurs de $\\alpha$ entre 0 et 1 et estimer la valeur de $\\alpha$ critique"
   ]
  },
  {
   "cell_type": "markdown",
   "metadata": {},
   "source": [
    "Nous calculons la magnétisation moyenne comme: $$ \\left \\langle M \\right \\rangle = \\dfrac{\\sum_{k=1}^{N} M_k }{N} $$ avec $M_k = \\sum_{i=1}^{b} s_i$ où $N$ est le nombre de tranches simulées et $b$ le nombre de cases dans une tranche dans lesquelles se trouvent les spins que nous sommons.\n",
    "\n",
    "Commençons par définir les fonctions à utiliser pour observer l'évolution de la magnétisation pour un alpha donné."
   ]
  },
  {
   "cell_type": "code",
   "execution_count": 2,
   "metadata": {
    "collapsed": true
   },
   "outputs": [],
   "source": [
    "def initial_state_random(nx,ny):\n",
    "    \"\"\" Creates a lattice with random spin orientations\n",
    "   \n",
    "    Parameters:\n",
    "    ----------\n",
    "    nx   : int\n",
    "        Discretization points in x\n",
    "    ny   : int\n",
    "        Discretization points in y\n",
    "   \n",
    "    Returns:\n",
    "    -------\n",
    "    r: 2D array of spins\n",
    "    \"\"\"\n",
    "       \n",
    "    # Uniform random spins between 0 and 1  \n",
    "    r = np.random.randint(0,2,(nx,ny))\n",
    "    \n",
    "    # Where r=0, we assign a negative spin\n",
    "    r[r==0] =-1\n",
    "\n",
    "    return r"
   ]
  },
  {
   "cell_type": "code",
   "execution_count": 3,
   "metadata": {
    "collapsed": true
   },
   "outputs": [],
   "source": [
    "def initial_state_aligned(nx,ny):\n",
    "    \"\"\" Creates a lattice with aligned spin orientations\n",
    "   \n",
    "    Parameters:\n",
    "    ----------\n",
    "    nx   : int\n",
    "        Discretization points in x\n",
    "    ny   : int\n",
    "        Discretization points in y\n",
    "   \n",
    "    Returns:\n",
    "    -------\n",
    "    r: 2D array of spins\n",
    "    \"\"\"\n",
    "    \n",
    "    r = np.ones([nx,ny])\n",
    "    \n",
    "    return r"
   ]
  },
  {
   "cell_type": "code",
   "execution_count": 4,
   "metadata": {
    "collapsed": true
   },
   "outputs": [],
   "source": [
    "def energy_at_site(sp,alpha,sigma,ix,iy):\n",
    "    \"\"\" Computes the contribution to the energy for a given spin\n",
    "    at location ix,iy for a lattice with periodic boundary conditions\n",
    "   \n",
    "    Parameters:\n",
    "    ----------\n",
    "    sp: numpy array\n",
    "        array of spins\n",
    "    alpha  : real\n",
    "        coupling constant J/(kb*T)\n",
    "    sigma   : int\n",
    "        spin at site ix,iy\n",
    "    ix   : int\n",
    "        location in x\n",
    "    iy   : int\n",
    "        location in y\n",
    "    \n",
    "   \n",
    "    Returns:\n",
    "    -------\n",
    "    energy: energy for the given configuration\n",
    "    \"\"\"\n",
    "    \n",
    "    energy=-alpha*sigma*(sp[(ix-1)%nx,iy]+sp[(ix+1)%nx,iy]+sp[ix,(iy-1)%ny]\\\n",
    "                         +sp[ix,(iy+1)%ny])\n",
    "\n",
    "    return energy"
   ]
  },
  {
   "cell_type": "code",
   "execution_count": 5,
   "metadata": {
    "collapsed": true
   },
   "outputs": [],
   "source": [
    "def metropolis_at_site(sp,alpha,ix,iy):\n",
    "    \"\"\" Flips a dipole at site ix, iy when probability condition is met \n",
    "   \n",
    "    Parameters:\n",
    "    ----------\n",
    "    sp: numpy array\n",
    "        array of spins\n",
    "    alpha  : real\n",
    "        coupling constant J/(kb*T)\n",
    "    ix   : int\n",
    "        location in x\n",
    "    iy   : int\n",
    "        location in y\n",
    "    \"\"\"\n",
    "    sigma=sp[ix,iy]\n",
    "    energy_before_flip = energy_at_site(sp,alpha,sigma,ix,iy)\n",
    "    sigma = -sigma\n",
    "    energy_if_site_flipped = energy_at_site(sp,alpha,sigma,ix,iy)\n",
    "    \n",
    "    # Flip the site with Metropolis probability\n",
    "    # Condition is always satisifed if dE < 0\n",
    "    if (np.random.random_sample()<np.exp(-(energy_if_site_flipped \\\n",
    "                                               -energy_before_flip))):\n",
    "        sp[ix,iy]=-sp[ix,iy]"
   ]
  },
  {
   "cell_type": "code",
   "execution_count": 6,
   "metadata": {
    "collapsed": true
   },
   "outputs": [],
   "source": [
    "def moy_magn(sp): \n",
    "    \"\"\" Computes the average magnetisation for a given state\n",
    "   \n",
    "    Parameters:\n",
    "    ----------\n",
    "    sp   : lattice state\n",
    "    \n",
    "    Returns:\n",
    "    -------\n",
    "    M: average magnetisation for the lattice state sp \n",
    "    \"\"\"\n",
    "    \n",
    "    M = sp.sum(axis=(0,1))/(len(sp)*len(sp[0]))\n",
    "    return M"
   ]
  },
  {
   "cell_type": "code",
   "execution_count": 7,
   "metadata": {
    "collapsed": true
   },
   "outputs": [],
   "source": [
    "def moy_ener(sp,alpha): \n",
    "    \"\"\" Computes the average energy for a given state\n",
    "   \n",
    "    Parameters:\n",
    "    ----------\n",
    "    sp   : lattice state\n",
    "    \n",
    "    Returns:\n",
    "    -------\n",
    "    E: average energy for the lattice state sp \n",
    "    \"\"\"\n",
    "    \n",
    "    pairsNorth = np.multiply(sp,np.roll(sp,-1,axis=0)) # pas de boucle -> + efficace à priori\n",
    "    pairsEast  = np.multiply(sp,np.roll(sp,-1,axis=1))\n",
    "    pairsSouth = np.multiply(sp,np.roll(sp,1,axis=0))\n",
    "    pairsWest  = np.multiply(sp,np.roll(sp,1,axis=1))\n",
    "    E = -alpha * (pairsNorth.sum(axis=(0,1)) + pairsEast.sum(axis=(0,1)) \n",
    "                  + pairsSouth.sum(axis=(0,1)) + pairsWest.sum(axis=(0,1)))\n",
    "    E = E/(len(sp)*len(sp[0]))\n",
    "           \n",
    "    return E"
   ]
  },
  {
   "cell_type": "code",
   "execution_count": 8,
   "metadata": {
    "collapsed": true
   },
   "outputs": [],
   "source": [
    "def M_with_time_for_alpha(sp,nx,ny,NMC,step,alpha):\n",
    "    \"\"\" Computes the evolution of the magnetisation and energy with time for a given coupling constant for the Ising model using\n",
    "    the Metropolis algorithm\n",
    "   \n",
    "    Parameters:\n",
    "    ----------\n",
    "    sp   : initial lattice state\n",
    "    nx   : int\n",
    "        Discretization points in x\n",
    "    ny   : int\n",
    "        Discretization points in y\n",
    "    NMC  : int\n",
    "        Number of states to create\n",
    "    step   : Step between each magnetisation computation\n",
    "    alpha  : real\n",
    "        coupling constant J/(kb*T)\n",
    "    Returns:\n",
    "    -------\n",
    "    M: magnetisation \n",
    "    E: energie \n",
    "    \"\"\"\n",
    "    \n",
    "    M = np.empty([int(NMC/step)])\n",
    "    E = np.empty([int(NMC/step)])\n",
    "    \n",
    "    for i in range(int(NMC)):\n",
    "        #if i%(int(NMC/10)+1)==0:\n",
    "            #print(\"loop {:d} of {:d} for alpha = {:.2f}\".format(i,NMC,alpha))\n",
    "        for j in range(0,nx*ny):\n",
    "            ix=np.random.randint(0,nx)\n",
    "            iy=np.random.randint(0,ny)\n",
    "            metropolis_at_site(sp,alpha,ix,iy)\n",
    "        if i%step==0:\n",
    "            M[int(i/step)] = moy_magn(sp)\n",
    "            E[int(i/step)] = moy_ener(sp,alpha)\n",
    "    return [M,E]"
   ]
  },
  {
   "cell_type": "markdown",
   "metadata": {},
   "source": [
    "Calculons l'évolution de la magnétisation pour un alpha donné afin de vérifier que le code fonctionne bien."
   ]
  },
  {
   "cell_type": "code",
   "execution_count": 9,
   "metadata": {
    "collapsed": true
   },
   "outputs": [],
   "source": [
    "NMC = 200 \n",
    "step = 10\n",
    "nx = 20 \n",
    "ny = 20\n",
    "alpha = 1\n",
    "\n",
    "sp = initial_state_random(nx,ny)\n",
    "\n",
    "[M,E] = M_with_time_for_alpha(sp,nx,ny,NMC,step,alpha)\n",
    "\n",
    "E_aligned = moy_ener(initial_state_aligned(nx,ny),alpha)"
   ]
  },
  {
   "cell_type": "code",
   "execution_count": 10,
   "metadata": {},
   "outputs": [
    {
     "data": {
      "image/png": "[encoded data removed]",
      "text/plain": [
       "<matplotlib.figure.Figure at 0x204177a1a20>"
      ]
     },
     "metadata": {},
     "output_type": "display_data"
    }
   ],
   "source": [
    "plt.figure(figsize=(8,5));\n",
    "plt.plot(np.arange(0,len(M)*step,step),abs(M), '.-', label='Magnetisation');\n",
    "plt.plot(np.arange(0,len(E)*step,step),abs(E/E_aligned), '.-', label='Energie')\n",
    "plt.title(\"Evolution des propriétés pour\\n alpha = {:.2f} sur une grille {:d}x{:d}\".format(alpha,nx,ny));\n",
    "plt.xlabel('itération');\n",
    "plt.ylabel('M,E');\n",
    "plt.legend(loc=4);\n",
    "plt.show()"
   ]
  },
  {
   "cell_type": "markdown",
   "metadata": {},
   "source": [
    "Ce graphique nous permet d'estimer le nombre d'itération nécessaire pour atteindre un équilibre statistique. Nous allons en avoir besoin pour calculer les propriétés (magnétisation et énergie) du sysème à l'équilibre. Pour automatiser ce calcul pour plusieurs valeurs de $\\alpha$, il nécessaire de s'assurer que le nombre d'itération attendues pour atteindre l'équilbre majore celui nécessaire pour chaque valeur de $\\alpha$. C'est pourquoi nous avons choisi pour ce graphique la valeur de alpha qui mettra le plus de temps à atteindre l'équilibre pour un état initial aléatoire, c-à-d $\\alpha=1$. Nous avons répété plusieurs fois l'algorithme pour cette valeur et avons observé que l'équilibre était toujours atteint avant 100 itérations. Notons qu'il est normal que la magnétisation puisse être encore très basse après beaucoup d'itérations et que pour réaliser cette observation, il est préférable d'observer la courbe d'énergie. Les raisons sont expliquées plus loins et font intervenir l'organisation à longue distance des spins."
   ]
  },
  {
   "cell_type": "markdown",
   "metadata": {},
   "source": [
    "Automatisons maintenant la procédure pour calculer la magnétisation à l'équilibre pour un grand nombre de couplages différents."
   ]
  },
  {
   "cell_type": "code",
   "execution_count": 11,
   "metadata": {
    "collapsed": true
   },
   "outputs": [],
   "source": [
    "def M_equilibrium_for_alphas(sps,nx,ny,NMC,step,alphas,NMC_eq):\n",
    "    \"\"\" Computes the average magnetisation and energy at equilibrium with different coupling constants for the Ising model using\n",
    "    the Metropolis algorithm\n",
    "   \n",
    "    Parameters:\n",
    "    ----------\n",
    "    sps  : Vector containing the initial lattice states\n",
    "    nx   : int\n",
    "        Discretization points in x\n",
    "    ny   : int\n",
    "        Discretization points in y\n",
    "    NMC  : int\n",
    "        Number of states to create\n",
    "    step   : Step between each magnetisation computation\n",
    "    alphas : Vector of reals containing the\n",
    "        coupling constants alpha = J/(kb*T)\n",
    "    NMC_eq : Number of states to create before reaching the equilibrium\n",
    "    Returns:\n",
    "    -------\n",
    "    Ms: Vector of magnetisations at equilibrium for each alpha in alphas\n",
    "    Es: Vector of energies at equilibrium for each alpha in alphas\n",
    "    \"\"\"\n",
    "    \n",
    "    Ms = np.empty([len(alphas)])\n",
    "    Es = np.empty([len(alphas)])\n",
    "    \n",
    "    for i in range(len(alphas)):\n",
    "        \n",
    "        print(\"loop at alpha = {:.2f}\".format(alphas[i]))\n",
    "        \n",
    "        for j in range(NMC_eq):\n",
    "            \n",
    "            #if j%(int(NMC_eq/10)+1)==0:\n",
    "                #print(\"loop {:d} of {:d} for alpha = {:.2f} (pre-equilibrium)\".format(j,NMC_eq,alphas[i]))\n",
    "            for j in range(0,nx*ny):\n",
    "                ix=np.random.randint(0,nx)\n",
    "                iy=np.random.randint(0,ny)\n",
    "                metropolis_at_site(sps[i],alphas[i],ix,iy)\n",
    "        \n",
    "        [M_evol,E_evol] = M_with_time_for_alpha(sps[i],nx,ny,NMC,step,alphas[i])\n",
    "        Ms[i] = M_evol.sum()/len(M_evol)\n",
    "        Es[i] = E_evol.sum()/len(E_evol)\n",
    "    \n",
    "    return [Ms,Es]"
   ]
  },
  {
   "cell_type": "markdown",
   "metadata": {},
   "source": [
    "Calculons donc la magnétisation d'équilbre pour plusieurs valeurs de $\\alpha$."
   ]
  },
  {
   "cell_type": "code",
   "execution_count": 14,
   "metadata": {},
   "outputs": [
    {
     "name": "stdout",
     "output_type": "stream",
     "text": [
      "loop at alpha = 0.00\n",
      "loop at alpha = 0.02\n"
     ]
    },
    {
     "ename": "KeyboardInterrupt",
     "evalue": "",
     "output_type": "error",
     "traceback": [
      "\u001b[1;31m---------------------------------------------------------------------------\u001b[0m",
      "\u001b[1;31mKeyboardInterrupt\u001b[0m                         Traceback (most recent call last)",
      "\u001b[1;32m<ipython-input-14-6cf6f1bcf19f>\u001b[0m in \u001b[0;36m<module>\u001b[1;34m()\u001b[0m\n\u001b[0;32m     11\u001b[0m     \u001b[0msps\u001b[0m\u001b[1;33m[\u001b[0m\u001b[0mi\u001b[0m\u001b[1;33m]\u001b[0m \u001b[1;33m=\u001b[0m \u001b[0minitial_state_random\u001b[0m\u001b[1;33m(\u001b[0m\u001b[0mnx\u001b[0m\u001b[1;33m,\u001b[0m\u001b[0mny\u001b[0m\u001b[1;33m)\u001b[0m\u001b[1;33m\u001b[0m\u001b[0m\n\u001b[0;32m     12\u001b[0m \u001b[1;33m\u001b[0m\u001b[0m\n\u001b[1;32m---> 13\u001b[1;33m \u001b[1;33m[\u001b[0m\u001b[0mMs\u001b[0m\u001b[1;33m,\u001b[0m\u001b[0mEs\u001b[0m\u001b[1;33m]\u001b[0m \u001b[1;33m=\u001b[0m \u001b[0mM_equilibrium_for_alphas\u001b[0m\u001b[1;33m(\u001b[0m\u001b[0msps\u001b[0m\u001b[1;33m,\u001b[0m\u001b[0mnx\u001b[0m\u001b[1;33m,\u001b[0m\u001b[0mny\u001b[0m\u001b[1;33m,\u001b[0m\u001b[0mNMC\u001b[0m\u001b[1;33m,\u001b[0m\u001b[0mstep\u001b[0m\u001b[1;33m,\u001b[0m\u001b[0malphas\u001b[0m\u001b[1;33m,\u001b[0m\u001b[0mNMC_eq\u001b[0m\u001b[1;33m)\u001b[0m\u001b[1;33m\u001b[0m\u001b[0m\n\u001b[0m",
      "\u001b[1;32m<ipython-input-11-7946b116fe1d>\u001b[0m in \u001b[0;36mM_equilibrium_for_alphas\u001b[1;34m(sps, nx, ny, NMC, step, alphas, NMC_eq)\u001b[0m\n\u001b[0;32m     38\u001b[0m                 \u001b[0mmetropolis_at_site\u001b[0m\u001b[1;33m(\u001b[0m\u001b[0msps\u001b[0m\u001b[1;33m[\u001b[0m\u001b[0mi\u001b[0m\u001b[1;33m]\u001b[0m\u001b[1;33m,\u001b[0m\u001b[0malphas\u001b[0m\u001b[1;33m[\u001b[0m\u001b[0mi\u001b[0m\u001b[1;33m]\u001b[0m\u001b[1;33m,\u001b[0m\u001b[0mix\u001b[0m\u001b[1;33m,\u001b[0m\u001b[0miy\u001b[0m\u001b[1;33m)\u001b[0m\u001b[1;33m\u001b[0m\u001b[0m\n\u001b[0;32m     39\u001b[0m \u001b[1;33m\u001b[0m\u001b[0m\n\u001b[1;32m---> 40\u001b[1;33m         \u001b[1;33m[\u001b[0m\u001b[0mM_evol\u001b[0m\u001b[1;33m,\u001b[0m\u001b[0mE_evol\u001b[0m\u001b[1;33m]\u001b[0m \u001b[1;33m=\u001b[0m \u001b[0mM_with_time_for_alpha\u001b[0m\u001b[1;33m(\u001b[0m\u001b[0msps\u001b[0m\u001b[1;33m[\u001b[0m\u001b[0mi\u001b[0m\u001b[1;33m]\u001b[0m\u001b[1;33m,\u001b[0m\u001b[0mnx\u001b[0m\u001b[1;33m,\u001b[0m\u001b[0mny\u001b[0m\u001b[1;33m,\u001b[0m\u001b[0mNMC\u001b[0m\u001b[1;33m,\u001b[0m\u001b[0mstep\u001b[0m\u001b[1;33m,\u001b[0m\u001b[0malphas\u001b[0m\u001b[1;33m[\u001b[0m\u001b[0mi\u001b[0m\u001b[1;33m]\u001b[0m\u001b[1;33m)\u001b[0m\u001b[1;33m\u001b[0m\u001b[0m\n\u001b[0m\u001b[0;32m     41\u001b[0m         \u001b[0mMs\u001b[0m\u001b[1;33m[\u001b[0m\u001b[0mi\u001b[0m\u001b[1;33m]\u001b[0m \u001b[1;33m=\u001b[0m \u001b[0mM_evol\u001b[0m\u001b[1;33m.\u001b[0m\u001b[0msum\u001b[0m\u001b[1;33m(\u001b[0m\u001b[1;33m)\u001b[0m\u001b[1;33m/\u001b[0m\u001b[0mlen\u001b[0m\u001b[1;33m(\u001b[0m\u001b[0mM_evol\u001b[0m\u001b[1;33m)\u001b[0m\u001b[1;33m\u001b[0m\u001b[0m\n\u001b[0;32m     42\u001b[0m         \u001b[0mEs\u001b[0m\u001b[1;33m[\u001b[0m\u001b[0mi\u001b[0m\u001b[1;33m]\u001b[0m \u001b[1;33m=\u001b[0m \u001b[0mE_evol\u001b[0m\u001b[1;33m.\u001b[0m\u001b[0msum\u001b[0m\u001b[1;33m(\u001b[0m\u001b[1;33m)\u001b[0m\u001b[1;33m/\u001b[0m\u001b[0mlen\u001b[0m\u001b[1;33m(\u001b[0m\u001b[0mE_evol\u001b[0m\u001b[1;33m)\u001b[0m\u001b[1;33m\u001b[0m\u001b[0m\n",
      "\u001b[1;32m<ipython-input-8-15aaae01669e>\u001b[0m in \u001b[0;36mM_with_time_for_alpha\u001b[1;34m(sp, nx, ny, NMC, step, alpha)\u001b[0m\n\u001b[0;32m     30\u001b[0m             \u001b[0mix\u001b[0m\u001b[1;33m=\u001b[0m\u001b[0mnp\u001b[0m\u001b[1;33m.\u001b[0m\u001b[0mrandom\u001b[0m\u001b[1;33m.\u001b[0m\u001b[0mrandint\u001b[0m\u001b[1;33m(\u001b[0m\u001b[1;36m0\u001b[0m\u001b[1;33m,\u001b[0m\u001b[0mnx\u001b[0m\u001b[1;33m)\u001b[0m\u001b[1;33m\u001b[0m\u001b[0m\n\u001b[0;32m     31\u001b[0m             \u001b[0miy\u001b[0m\u001b[1;33m=\u001b[0m\u001b[0mnp\u001b[0m\u001b[1;33m.\u001b[0m\u001b[0mrandom\u001b[0m\u001b[1;33m.\u001b[0m\u001b[0mrandint\u001b[0m\u001b[1;33m(\u001b[0m\u001b[1;36m0\u001b[0m\u001b[1;33m,\u001b[0m\u001b[0mny\u001b[0m\u001b[1;33m)\u001b[0m\u001b[1;33m\u001b[0m\u001b[0m\n\u001b[1;32m---> 32\u001b[1;33m             \u001b[0mmetropolis_at_site\u001b[0m\u001b[1;33m(\u001b[0m\u001b[0msp\u001b[0m\u001b[1;33m,\u001b[0m\u001b[0malpha\u001b[0m\u001b[1;33m,\u001b[0m\u001b[0mix\u001b[0m\u001b[1;33m,\u001b[0m\u001b[0miy\u001b[0m\u001b[1;33m)\u001b[0m\u001b[1;33m\u001b[0m\u001b[0m\n\u001b[0m\u001b[0;32m     33\u001b[0m         \u001b[1;32mif\u001b[0m \u001b[0mi\u001b[0m\u001b[1;33m%\u001b[0m\u001b[0mstep\u001b[0m\u001b[1;33m==\u001b[0m\u001b[1;36m0\u001b[0m\u001b[1;33m:\u001b[0m\u001b[1;33m\u001b[0m\u001b[0m\n\u001b[0;32m     34\u001b[0m             \u001b[0mM\u001b[0m\u001b[1;33m[\u001b[0m\u001b[0mint\u001b[0m\u001b[1;33m(\u001b[0m\u001b[0mi\u001b[0m\u001b[1;33m/\u001b[0m\u001b[0mstep\u001b[0m\u001b[1;33m)\u001b[0m\u001b[1;33m]\u001b[0m \u001b[1;33m=\u001b[0m \u001b[0mmoy_magn\u001b[0m\u001b[1;33m(\u001b[0m\u001b[0msp\u001b[0m\u001b[1;33m)\u001b[0m\u001b[1;33m\u001b[0m\u001b[0m\n",
      "\u001b[1;32m<ipython-input-5-d3226b03a6ec>\u001b[0m in \u001b[0;36mmetropolis_at_site\u001b[1;34m(sp, alpha, ix, iy)\u001b[0m\n\u001b[0;32m     20\u001b[0m     \u001b[1;31m# Flip the site with Metropolis probability\u001b[0m\u001b[1;33m\u001b[0m\u001b[1;33m\u001b[0m\u001b[0m\n\u001b[0;32m     21\u001b[0m     \u001b[1;31m# Condition is always satisifed if dE < 0\u001b[0m\u001b[1;33m\u001b[0m\u001b[1;33m\u001b[0m\u001b[0m\n\u001b[1;32m---> 22\u001b[1;33m     \u001b[1;32mif\u001b[0m \u001b[1;33m(\u001b[0m\u001b[0mnp\u001b[0m\u001b[1;33m.\u001b[0m\u001b[0mrandom\u001b[0m\u001b[1;33m.\u001b[0m\u001b[0mrandom_sample\u001b[0m\u001b[1;33m(\u001b[0m\u001b[1;33m)\u001b[0m\u001b[1;33m<\u001b[0m\u001b[0mnp\u001b[0m\u001b[1;33m.\u001b[0m\u001b[0mexp\u001b[0m\u001b[1;33m(\u001b[0m\u001b[1;33m-\u001b[0m\u001b[1;33m(\u001b[0m\u001b[0menergy_if_site_flipped\u001b[0m                                                \u001b[1;33m-\u001b[0m\u001b[0menergy_before_flip\u001b[0m\u001b[1;33m)\u001b[0m\u001b[1;33m)\u001b[0m\u001b[1;33m)\u001b[0m\u001b[1;33m:\u001b[0m\u001b[1;33m\u001b[0m\u001b[0m\n\u001b[0m\u001b[0;32m     23\u001b[0m         \u001b[0msp\u001b[0m\u001b[1;33m[\u001b[0m\u001b[0mix\u001b[0m\u001b[1;33m,\u001b[0m\u001b[0miy\u001b[0m\u001b[1;33m]\u001b[0m\u001b[1;33m=\u001b[0m\u001b[1;33m-\u001b[0m\u001b[0msp\u001b[0m\u001b[1;33m[\u001b[0m\u001b[0mix\u001b[0m\u001b[1;33m,\u001b[0m\u001b[0miy\u001b[0m\u001b[1;33m]\u001b[0m\u001b[1;33m\u001b[0m\u001b[0m\n",
      "\u001b[1;31mKeyboardInterrupt\u001b[0m: "
     ]
    }
   ],
   "source": [
    "NMC = 600\n",
    "NMC_eq = 400\n",
    "step = 1\n",
    "nx = 20 # petit pour une simple verification\n",
    "ny = 20\n",
    "a = 51\n",
    "alphas = np.linspace(0,1,a)\n",
    "\n",
    "sps = np.empty([a,nx,ny])\n",
    "for i in range(a):\n",
    "    sps[i] = initial_state_random(nx,ny)\n",
    "\n",
    "[Ms,Es] = M_equilibrium_for_alphas(sps,nx,ny,NMC,step,alphas,NMC_eq)"
   ]
  },
  {
   "cell_type": "code",
   "execution_count": 19,
   "metadata": {},
   "outputs": [
    {
     "data": {
      "image/png": "[encoded data removed]",
      "text/plain": [
       "<matplotlib.figure.Figure at 0x24d4fe8e9b0>"
      ]
     },
     "metadata": {},
     "output_type": "display_data"
    }
   ],
   "source": [
    "plt.figure(figsize=(8,5));\n",
    "plt.plot(alphas,abs(Ms), '.-', label='Magnetisation');\n",
    "plt.plot(alphas,abs(Es/E_aligned), '.-', label='Energie');\n",
    "plt.title(\"Propriétés à l'équilibre en fonction de alpha \\n sur une grille {:d}x{:d}\".format(nx,ny));\n",
    "plt.xlabel('alpha');\n",
    "plt.ylabel('M;E');\n",
    "plt.legend(loc=4);\n",
    "plt.show()"
   ]
  },
  {
   "cell_type": "markdown",
   "metadata": {},
   "source": [
    "Notons que nous affichons la valeur absolue de la magnétisation, car celle-ci peut converger vers n'importe laquelle des deux orientations. En ce qui concerne l'énergie, nous la divisons par la valeur d'énergie pour un réseau de spins entièrement alignés et prenons ensuite la valeur absolue."
   ]
  },
  {
   "cell_type": "markdown",
   "metadata": {},
   "source": [
    "Remarquons que la magnétisation et l'énergie ne se comportent pas de la même façon. Pour de petites valeurs de $\\alpha$, la courbe d'énergie se trouve bien au dessus de la magnétisation, cela s'explique par le fait que plus $\\alpha$ est grand, plus les spins voisins on tendance à s'aligner et diminuent l'énergie totale, alors que comme se phénomène d'alignement n'a pas lieu à grande échelle, la magnétisation reste petite. En effet, les contributions des différentes zones alignées se compensent et annulent la magnétisation totale. À grande valeurs de $\\alpha$, ce phénomène a pour effet de former de vaste régions (de taille comparable à celle du système) de spins alignés dans une direction particulière, différente d'une région à l'autre. Ces régions sont apellées domaines de Weiss. Les domaines de Weiss on pour effet de diminuer fortement la magnétisation pour certaines valeurs de $\\alpha$ pourtant au dessus de la valeur critique, alors que comme l'énergie est sommée sur les paires voisines, l'orientation différente des domaines ne se ressent qu'à la frontière entre ceux-ci et les diminutions sont donc beaucoup plus petites."
   ]
  },
  {
   "cell_type": "markdown",
   "metadata": {},
   "source": [
    "Sous réserve d'existence, nous recherchons et affichons ici un des réseaux qui présente une frontière entre deux domaines de Weiss pour une valeur au dessus de la valeur critique (majorée par 0.6). "
   ]
  },
  {
   "cell_type": "code",
   "execution_count": 15,
   "metadata": {},
   "outputs": [
    {
     "ename": "NameError",
     "evalue": "name 'Ms' is not defined",
     "output_type": "error",
     "traceback": [
      "\u001b[1;31m---------------------------------------------------------------------------\u001b[0m",
      "\u001b[1;31mNameError\u001b[0m                                 Traceback (most recent call last)",
      "\u001b[1;32m<ipython-input-15-1d31bbcdc6f7>\u001b[0m in \u001b[0;36m<module>\u001b[1;34m()\u001b[0m\n\u001b[0;32m      1\u001b[0m \u001b[0mindex_Weiss\u001b[0m \u001b[1;33m=\u001b[0m \u001b[1;33m-\u001b[0m\u001b[1;36m1\u001b[0m\u001b[1;33m\u001b[0m\u001b[0m\n\u001b[0;32m      2\u001b[0m \u001b[1;32mfor\u001b[0m \u001b[0mi\u001b[0m \u001b[1;32min\u001b[0m \u001b[0mrange\u001b[0m\u001b[1;33m(\u001b[0m\u001b[0mlen\u001b[0m\u001b[1;33m(\u001b[0m\u001b[0malphas\u001b[0m\u001b[1;33m)\u001b[0m\u001b[1;33m)\u001b[0m\u001b[1;33m:\u001b[0m\u001b[1;33m\u001b[0m\u001b[0m\n\u001b[1;32m----> 3\u001b[1;33m     \u001b[1;32mif\u001b[0m \u001b[1;33m(\u001b[0m\u001b[0mabs\u001b[0m\u001b[1;33m(\u001b[0m\u001b[0mMs\u001b[0m\u001b[1;33m[\u001b[0m\u001b[0mi\u001b[0m\u001b[1;33m]\u001b[0m\u001b[1;33m)\u001b[0m\u001b[1;33m<\u001b[0m\u001b[1;36m0.5\u001b[0m\u001b[1;33m)\u001b[0m \u001b[1;33m&\u001b[0m \u001b[1;33m(\u001b[0m\u001b[0malphas\u001b[0m\u001b[1;33m[\u001b[0m\u001b[0mi\u001b[0m\u001b[1;33m]\u001b[0m\u001b[1;33m>\u001b[0m\u001b[1;36m0.6\u001b[0m\u001b[1;33m)\u001b[0m\u001b[1;33m:\u001b[0m\u001b[1;33m\u001b[0m\u001b[0m\n\u001b[0m\u001b[0;32m      4\u001b[0m         \u001b[0mindex_Weiss\u001b[0m \u001b[1;33m=\u001b[0m \u001b[0mi\u001b[0m\u001b[1;33m\u001b[0m\u001b[0m\n\u001b[0;32m      5\u001b[0m \u001b[1;33m\u001b[0m\u001b[0m\n",
      "\u001b[1;31mNameError\u001b[0m: name 'Ms' is not defined"
     ]
    }
   ],
   "source": [
    "index_Weiss = -1\n",
    "for i in range(len(alphas)):\n",
    "    if (abs(Ms[i])<0.5) & (alphas[i]>0.6):\n",
    "        index_Weiss = i\n",
    "\n",
    "print(index_Weiss)\n",
    "\n",
    "plt.figure(figsize=(6,6))\n",
    "plt.imshow(sps[36],interpolation=\"none\",origin='lower');"
   ]
  },
  {
   "cell_type": "markdown",
   "metadata": {},
   "source": [
    "Remarquons que ces domaines de Weiss peuvent avoir fusionné avant la dernière itération et nous ne observons alors pas sur l'image. Nous pouvons toujours les faire apparaître en utilisant un plus petit nombre d'itérations. Avec plusieurs exécution du code ci-dessus, nous avons observé que la fusion des domaines arrive assez vite pour la taille choisie de notre système. C'est pourquoi nous avons jugé bon de prendre un nombre plus grand d'itérations que celui initialement prévu pour atteindre l'équilibre. Ainsi, en plus d'avoir atteint l'équilibre statistique dans les domaines, nous avons aussi pris le temps de les aligner, au détriment de la vitesse d'exécution de notre code.\n",
    "\n",
    "Une technique qui serait peut être utile pour aller plus vite serait d'aligner les domaines en baignant le système dans un champ magnétique externe, pas trop intense afin de toujours observer la désorganisation thermique. Notons que phénomène d'alignement des domaines par un champ externe est celui qui expique pourquoi nous pouvons donner un moment dipolaire non nul à un morceau de fer en le mettant en contact avec un aimant."
   ]
  },
  {
   "cell_type": "markdown",
   "metadata": {
    "collapsed": true
   },
   "source": [
    "Sue base du graphique des propriétés à l'équibre en fonction du couplage, nous pouvons observer une nette augmention de la magnétisation totale à partir de $\\alpha = 0.4$. Nous pouvons donc fournir une première estimation de la valeur critique de $\\alpha$, qui doit donc avoisiner $0.4$."
   ]
  },
  {
   "cell_type": "markdown",
   "metadata": {},
   "source": [
    "Pour plus de précision sur cette valeur, nous pouvons définir le couplage critique comme la valeur de $\\alpha$ où la courbe de magnétisation passe au dessus de $0.5$. Ce point est arbitraire mais vu la valeur très élevée de la pente près du vrai couplage critique, cela devrait constituer une bonne approximation de ce dernier."
   ]
  },
  {
   "cell_type": "code",
   "execution_count": 13,
   "metadata": {},
   "outputs": [
    {
     "ename": "NameError",
     "evalue": "name 'Ms' is not defined",
     "output_type": "error",
     "traceback": [
      "\u001b[1;31m---------------------------------------------------------------------------\u001b[0m",
      "\u001b[1;31mNameError\u001b[0m                                 Traceback (most recent call last)",
      "\u001b[1;32m<ipython-input-13-66ecb3404a55>\u001b[0m in \u001b[0;36m<module>\u001b[1;34m()\u001b[0m\n\u001b[0;32m      1\u001b[0m \u001b[1;32mfor\u001b[0m \u001b[0mi\u001b[0m \u001b[1;32min\u001b[0m \u001b[0mrange\u001b[0m\u001b[1;33m(\u001b[0m\u001b[0mlen\u001b[0m\u001b[1;33m(\u001b[0m\u001b[0malphas\u001b[0m\u001b[1;33m)\u001b[0m\u001b[1;33m-\u001b[0m\u001b[1;36m1\u001b[0m\u001b[1;33m)\u001b[0m\u001b[1;33m:\u001b[0m\u001b[1;33m\u001b[0m\u001b[0m\n\u001b[1;32m----> 2\u001b[1;33m     \u001b[1;32mif\u001b[0m \u001b[1;33m(\u001b[0m\u001b[0mabs\u001b[0m\u001b[1;33m(\u001b[0m\u001b[0mMs\u001b[0m\u001b[1;33m[\u001b[0m\u001b[0mi\u001b[0m\u001b[1;33m]\u001b[0m\u001b[1;33m)\u001b[0m\u001b[1;33m<=\u001b[0m\u001b[1;36m0.5\u001b[0m\u001b[1;33m)\u001b[0m \u001b[1;33m&\u001b[0m \u001b[1;33m(\u001b[0m\u001b[0mabs\u001b[0m\u001b[1;33m(\u001b[0m\u001b[0mMs\u001b[0m\u001b[1;33m[\u001b[0m\u001b[0mi\u001b[0m\u001b[1;33m+\u001b[0m\u001b[1;36m1\u001b[0m\u001b[1;33m]\u001b[0m\u001b[1;33m)\u001b[0m\u001b[1;33m>\u001b[0m\u001b[1;36m0.5\u001b[0m\u001b[1;33m)\u001b[0m\u001b[1;33m:\u001b[0m\u001b[1;33m\u001b[0m\u001b[0m\n\u001b[0m\u001b[0;32m      3\u001b[0m         \u001b[0malpha_c\u001b[0m \u001b[1;33m=\u001b[0m \u001b[1;33m(\u001b[0m\u001b[0malphas\u001b[0m\u001b[1;33m[\u001b[0m\u001b[0mi\u001b[0m\u001b[1;33m+\u001b[0m\u001b[1;36m1\u001b[0m\u001b[1;33m]\u001b[0m\u001b[1;33m+\u001b[0m\u001b[0malphas\u001b[0m\u001b[1;33m[\u001b[0m\u001b[0mi\u001b[0m\u001b[1;33m]\u001b[0m\u001b[1;33m)\u001b[0m\u001b[1;33m/\u001b[0m\u001b[1;36m2\u001b[0m\u001b[1;33m\u001b[0m\u001b[0m\n\u001b[0;32m      4\u001b[0m         \u001b[0merr_alpha_c\u001b[0m \u001b[1;33m=\u001b[0m \u001b[1;33m(\u001b[0m\u001b[0malphas\u001b[0m\u001b[1;33m[\u001b[0m\u001b[0mi\u001b[0m\u001b[1;33m+\u001b[0m\u001b[1;36m1\u001b[0m\u001b[1;33m]\u001b[0m\u001b[1;33m-\u001b[0m\u001b[0malphas\u001b[0m\u001b[1;33m[\u001b[0m\u001b[0mi\u001b[0m\u001b[1;33m]\u001b[0m\u001b[1;33m)\u001b[0m\u001b[1;33m/\u001b[0m\u001b[1;36m2\u001b[0m\u001b[1;33m\u001b[0m\u001b[0m\n\u001b[0;32m      5\u001b[0m         \u001b[1;32mbreak\u001b[0m \u001b[1;31m# afin de ne pas détecter les pics dû aux domaines de Weiss non alignés\u001b[0m\u001b[1;33m\u001b[0m\u001b[0m\n",
      "\u001b[1;31mNameError\u001b[0m: name 'Ms' is not defined"
     ]
    }
   ],
   "source": [
    "for i in range(len(alphas)-1):\n",
    "    if (abs(Ms[i])<=0.5) & (abs(Ms[i+1])>0.5):\n",
    "        alpha_c = (alphas[i+1]+alphas[i])/2 \n",
    "        err_alpha_c = (alphas[i+1]-alphas[i])/2\n",
    "        break # afin de ne pas détecter les pics dû aux domaines de Weiss non alignés\n",
    "\n",
    "print(\"Notre couplage critique vaut {:.2f} $\\pm$ {:.2f}\".format(alpha_c,err_alpha_c))"
   ]
  },
  {
   "cell_type": "markdown",
   "metadata": {},
   "source": [
    "Ce résultat est proche de la valeur théorique obtenue par Onsager, qui est:\n",
    "\n",
    "$$ \\alpha = \\frac{\\ln( 1+\\sqrt 2 )}{2} \\approx 0.441$$\n",
    "\n",
    "Gardons évidemment en tête que ce résultat est valable dans la limite où le réseau est de taille infine, le nôtre n'étant consititué que de 20x20 spins."
   ]
  },
  {
   "cell_type": "markdown",
   "metadata": {},
   "source": [
    "## Question 2"
   ]
  },
  {
   "cell_type": "markdown",
   "metadata": {
    "collapsed": true
   },
   "source": [
    "Faisons à présent varier les conditions aux bords et les conditions initiales. "
   ]
  },
  {
   "cell_type": "code",
   "execution_count": 16,
   "metadata": {
    "collapsed": true
   },
   "outputs": [],
   "source": [
    "def edges_conditions(sp,borders):\n",
    "    \"\"\"Fixes the boundary conditions\n",
    "    \n",
    "    Parameters:\n",
    "    ----------\n",
    "    sp   : array\n",
    "        Matrix of spins\n",
    "    borders   : array\n",
    "        Array of 4 numbers to fix the boundary conditions. The first indice is for the top line, the second one for \n",
    "        the left row and so on.\n",
    "    \"\"\"\n",
    "    sp[0,:] = borders[0]*np.ones([1,ny])\n",
    "    sp[:,[0]] = borders[1]*np.ones([nx,1])\n",
    "    sp[-1,:] = borders[2]*np.ones([1,ny])\n",
    "    sp[:,[-1]] = borders[3]*np.ones([nx,1])\n",
    "    \n",
    "    return sp"
   ]
  },
  {
   "cell_type": "code",
   "execution_count": 17,
   "metadata": {
    "collapsed": true
   },
   "outputs": [],
   "source": [
    "def square_center(sp,a):\n",
    "    \"\"\"Fixes the boundary conditions in a square at the center of the frames\n",
    "    \n",
    "    Parameters:\n",
    "    ----------\n",
    "    sp   : array\n",
    "        Matrix of spins\n",
    "    a   : int\n",
    "        Allow to choose the value of the spins inside the square\n",
    "    \"\"\"\n",
    "    nx = np.shape(sp)[0]\n",
    "    ny = np.shape(sp)[1]\n",
    "    \n",
    "    sp[int(nx/4)+1:3*int(nx/4),int(ny/4)+1:3*int(ny/4)] = a*np.ones([int(nx/2)+1,int(ny/2)+1])\n",
    "    \n",
    "    return sp"
   ]
  },
  {
   "cell_type": "code",
   "execution_count": 18,
   "metadata": {
    "collapsed": true
   },
   "outputs": [],
   "source": [
    "def init_chessboard(sp):\n",
    "    \"\"\"Imposes that one out of two compartments in the initial frame is +1 and the other one -1, as a chessboard\n",
    "    \n",
    "    Parameters:\n",
    "    ----------\n",
    "    sp   : array\n",
    "        The matrix \"sp\" must be initialized before using this function\n",
    "    \"\"\"\n",
    "    nx = np.shape(sp)[0]\n",
    "    ny = np.shape(sp)[1]\n",
    "    \n",
    "    sp = np.ones([nx,ny])\n",
    "    \n",
    "    for i in range(nx):\n",
    "        for j in range(ny):\n",
    "            if (i+j)%2==1:\n",
    "                sp[i,j] = -1\n",
    "                \n",
    "    return sp"
   ]
  },
  {
   "cell_type": "code",
   "execution_count": 19,
   "metadata": {
    "collapsed": true
   },
   "outputs": [],
   "source": [
    "def metropolis_at_site(sp,alpha,ix,iy,param,borders,a):\n",
    "    \"\"\" Flips a dipole at site ix, iy when probability condition is met and refix the boundary conditions\n",
    "   \n",
    "    Parameters:\n",
    "    ----------\n",
    "    sp   : numpy array\n",
    "        array of spins\n",
    "    alpha  : real\n",
    "        coupling constant J/(kb*T)\n",
    "    ix   : int\n",
    "        location in x\n",
    "    iy   : int\n",
    "        location in y\n",
    "    param   : int\n",
    "        Allow to choose the boundary conditions to apply\n",
    "    borders    : Array\n",
    "        Allow to choose the fixed boundary conditions on the frames' egdes\n",
    "    a   : int\n",
    "        Allow to choose the value of the spins inside the square \n",
    "    \"\"\"\n",
    "    nx = np.shape(sp)[0]\n",
    "    ny = np.shape(sp)[1]\n",
    "    \n",
    "    sigma=sp[ix,iy]\n",
    "    energy_before_flip = energy_at_site(sp,alpha,sigma,ix,iy)\n",
    "    sigma = -sigma\n",
    "    energy_if_site_flipped = energy_at_site(sp,alpha,sigma,ix,iy)\n",
    "    \n",
    "    # Flip the site with Metropolis probability\n",
    "    # Condition is always satisifed if dE < 0\n",
    "    if (np.random.random_sample()<np.exp(-(energy_if_site_flipped \\\n",
    "                                               -energy_before_flip))):\n",
    "        sp[ix,iy]=-sp[ix,iy]\n",
    "        \n",
    "    # Fix the boundary conditions\n",
    "    if param==1:\n",
    "        sp = edges_conditions(sp,borders)        \n",
    "    \n",
    "    elif param==2:\n",
    "        sp = square_center(sp,a)\n",
    "    \n",
    "    elif param==3:\n",
    "        sp = edges_conditions(sp,borders)\n",
    "        sp = square_center(sp,a)\n",
    "        \n",
    "    return sp"
   ]
  },
  {
   "cell_type": "code",
   "execution_count": 20,
   "metadata": {
    "collapsed": true
   },
   "outputs": [],
   "source": [
    "def M_with_time_for_alpha(sp,NMC,step,alpha,param,borders,a):\n",
    "    \"\"\" Computes the evolution of the magnetisation and energy with time for a given coupling \n",
    "    constant for the Ising model using the Metropolis algorithm\n",
    "   \n",
    "    Parameters:\n",
    "    ----------\n",
    "    sp   : initial lattice state\n",
    "    \n",
    "    NMC  : int\n",
    "        Number of states to create\n",
    "    step   : Step between each magnetisation computation\n",
    "    alpha  : real\n",
    "        coupling constant J/(kb*T)\n",
    "    param   : int\n",
    "        Allow to choose the boundary conditions to apply\n",
    "    borders    : Array\n",
    "        Allow to choose the fixed boundary conditions on the frames' egdes\n",
    "    a   : int\n",
    "        Allow to choose the value of the spins inside the square \n",
    "        \n",
    "    Returns:\n",
    "    -------\n",
    "    M: magnetisation \n",
    "    E: energy\n",
    "    \"\"\"\n",
    "    \n",
    "    nx = np.shape(sp)[0]\n",
    "    ny = np.shape(sp)[1]\n",
    "    \n",
    "    M = np.empty([int(NMC/step)])\n",
    "    E = np.empty([int(NMC/step)])\n",
    "    \n",
    "    for i in range(int(NMC)):\n",
    "        #if i%(int(NMC/10)+1)==0:\n",
    "            #print(\"loop {:d} of {:d} for alpha = {:.2f}\".format(i,NMC,alpha))\n",
    "            \n",
    "        for j in range(0,nx*ny):\n",
    "            ix=np.random.randint(0,nx)\n",
    "            iy=np.random.randint(0,ny)\n",
    "            metropolis_at_site(sp,alpha,ix,iy,param,borders,a)\n",
    "            \n",
    "        if i%step==0:\n",
    "            M[int(i/step)] = moy_magn(sp)\n",
    "            E[int(i/step)] = moy_ener(sp,alpha)\n",
    "            \n",
    "    return [M,E]"
   ]
  },
  {
   "cell_type": "code",
   "execution_count": 21,
   "metadata": {
    "collapsed": true
   },
   "outputs": [],
   "source": [
    "def M_equilibrium_for_alphas(sps,NMC,step,alphas,NMC_eq,param,borders,a):\n",
    "    \"\"\" Computes the average magnetisation and energy at equilibrium with different coupling constants for the Ising model using\n",
    "    the Metropolis algorithm\n",
    "   \n",
    "    Parameters:\n",
    "    ----------\n",
    "    sps  : Vector containing the initial lattice states\n",
    "    nx   : int\n",
    "        Discretization points in x\n",
    "    ny   : int\n",
    "        Discretization points in y\n",
    "    NMC  : int\n",
    "        Number of states to create\n",
    "    step   : Step between each magnetisation computation\n",
    "    alphas : Vector of reals containing the\n",
    "        coupling constants alpha = J/(kb*T)\n",
    "    NMC_eq : Number of states to create before reaching the equilibrium\n",
    "    \n",
    "    Returns:\n",
    "    -------\n",
    "    Ms: Vector of magnetisations at equilibrium for each alpha in alphas\n",
    "    Es: Vector of energies at equilibrium for each alpha in alphas\n",
    "    \"\"\"\n",
    "    nx = np.shape(sps[0])[0]\n",
    "    ny = np.shape(sps[0])[1]\n",
    "    \n",
    "    Ms = np.empty([len(alphas)])\n",
    "    Es = np.empty([len(alphas)])\n",
    "    \n",
    "    for i in range(len(alphas)):\n",
    "        \n",
    "        #print(\"loop at alpha = {:.2f}\".format(alphas[i]))\n",
    "        \n",
    "        for j in range(NMC_eq):\n",
    "            \n",
    "            if j%(int(NMC_eq/10)+1)==0:\n",
    "                print(\"loop {:d} of {:d} for alpha = {:.2f} (pre-equilibrium)\".format(j,NMC_eq,alphas[i]))\n",
    "                \n",
    "            for j in range(0,nx*ny):\n",
    "                ix=np.random.randint(0,nx)\n",
    "                iy=np.random.randint(0,ny)\n",
    "                metropolis_at_site(sps[i],alphas[i],ix,iy,param,borders,a)\n",
    "        \n",
    "        [M_evol,E_evol] = M_with_time_for_alpha(sps[i],NMC,step,alphas[i],param,borders,a)\n",
    "        \n",
    "        Ms[i] = M_evol.sum()/len(M_evol)\n",
    "        Es[i] = E_evol.sum()/len(E_evol)\n",
    "    \n",
    "    return [Ms,Es]"
   ]
  },
  {
   "cell_type": "code",
   "execution_count": 23,
   "metadata": {
    "scrolled": true
   },
   "outputs": [
    {
     "name": "stdout",
     "output_type": "stream",
     "text": [
      "loop 0 of 400 for alpha = 0.00 (pre-equilibrium)\n",
      "loop 41 of 400 for alpha = 0.00 (pre-equilibrium)\n",
      "loop 82 of 400 for alpha = 0.00 (pre-equilibrium)\n",
      "loop 123 of 400 for alpha = 0.00 (pre-equilibrium)\n",
      "loop 164 of 400 for alpha = 0.00 (pre-equilibrium)\n",
      "loop 205 of 400 for alpha = 0.00 (pre-equilibrium)\n",
      "loop 246 of 400 for alpha = 0.00 (pre-equilibrium)\n",
      "loop 287 of 400 for alpha = 0.00 (pre-equilibrium)\n",
      "loop 328 of 400 for alpha = 0.00 (pre-equilibrium)\n",
      "loop 369 of 400 for alpha = 0.00 (pre-equilibrium)\n",
      "loop 0 of 400 for alpha = 0.02 (pre-equilibrium)\n",
      "loop 41 of 400 for alpha = 0.02 (pre-equilibrium)\n",
      "loop 82 of 400 for alpha = 0.02 (pre-equilibrium)\n",
      "loop 123 of 400 for alpha = 0.02 (pre-equilibrium)\n",
      "loop 164 of 400 for alpha = 0.02 (pre-equilibrium)\n",
      "loop 205 of 400 for alpha = 0.02 (pre-equilibrium)\n",
      "loop 246 of 400 for alpha = 0.02 (pre-equilibrium)\n",
      "loop 287 of 400 for alpha = 0.02 (pre-equilibrium)\n",
      "loop 328 of 400 for alpha = 0.02 (pre-equilibrium)\n",
      "loop 369 of 400 for alpha = 0.02 (pre-equilibrium)\n",
      "loop 0 of 400 for alpha = 0.04 (pre-equilibrium)\n",
      "loop 41 of 400 for alpha = 0.04 (pre-equilibrium)\n",
      "loop 82 of 400 for alpha = 0.04 (pre-equilibrium)\n",
      "loop 123 of 400 for alpha = 0.04 (pre-equilibrium)\n",
      "loop 164 of 400 for alpha = 0.04 (pre-equilibrium)\n",
      "loop 205 of 400 for alpha = 0.04 (pre-equilibrium)\n",
      "loop 246 of 400 for alpha = 0.04 (pre-equilibrium)\n",
      "loop 287 of 400 for alpha = 0.04 (pre-equilibrium)\n",
      "loop 328 of 400 for alpha = 0.04 (pre-equilibrium)\n",
      "loop 369 of 400 for alpha = 0.04 (pre-equilibrium)\n",
      "loop 0 of 400 for alpha = 0.06 (pre-equilibrium)\n",
      "loop 41 of 400 for alpha = 0.06 (pre-equilibrium)\n",
      "loop 82 of 400 for alpha = 0.06 (pre-equilibrium)\n",
      "loop 123 of 400 for alpha = 0.06 (pre-equilibrium)\n",
      "loop 164 of 400 for alpha = 0.06 (pre-equilibrium)\n",
      "loop 205 of 400 for alpha = 0.06 (pre-equilibrium)\n",
      "loop 246 of 400 for alpha = 0.06 (pre-equilibrium)\n",
      "loop 287 of 400 for alpha = 0.06 (pre-equilibrium)\n",
      "loop 328 of 400 for alpha = 0.06 (pre-equilibrium)\n",
      "loop 369 of 400 for alpha = 0.06 (pre-equilibrium)\n",
      "loop 0 of 400 for alpha = 0.08 (pre-equilibrium)\n",
      "loop 41 of 400 for alpha = 0.08 (pre-equilibrium)\n",
      "loop 82 of 400 for alpha = 0.08 (pre-equilibrium)\n",
      "loop 123 of 400 for alpha = 0.08 (pre-equilibrium)\n",
      "loop 164 of 400 for alpha = 0.08 (pre-equilibrium)\n",
      "loop 205 of 400 for alpha = 0.08 (pre-equilibrium)\n",
      "loop 246 of 400 for alpha = 0.08 (pre-equilibrium)\n",
      "loop 287 of 400 for alpha = 0.08 (pre-equilibrium)\n",
      "loop 328 of 400 for alpha = 0.08 (pre-equilibrium)\n",
      "loop 369 of 400 for alpha = 0.08 (pre-equilibrium)\n",
      "loop 0 of 400 for alpha = 0.10 (pre-equilibrium)\n",
      "loop 41 of 400 for alpha = 0.10 (pre-equilibrium)\n",
      "loop 82 of 400 for alpha = 0.10 (pre-equilibrium)\n",
      "loop 123 of 400 for alpha = 0.10 (pre-equilibrium)\n",
      "loop 164 of 400 for alpha = 0.10 (pre-equilibrium)\n",
      "loop 205 of 400 for alpha = 0.10 (pre-equilibrium)\n",
      "loop 246 of 400 for alpha = 0.10 (pre-equilibrium)\n",
      "loop 287 of 400 for alpha = 0.10 (pre-equilibrium)\n",
      "loop 328 of 400 for alpha = 0.10 (pre-equilibrium)\n",
      "loop 369 of 400 for alpha = 0.10 (pre-equilibrium)\n",
      "loop 0 of 400 for alpha = 0.12 (pre-equilibrium)\n",
      "loop 41 of 400 for alpha = 0.12 (pre-equilibrium)\n",
      "loop 82 of 400 for alpha = 0.12 (pre-equilibrium)\n",
      "loop 123 of 400 for alpha = 0.12 (pre-equilibrium)\n",
      "loop 164 of 400 for alpha = 0.12 (pre-equilibrium)\n",
      "loop 205 of 400 for alpha = 0.12 (pre-equilibrium)\n",
      "loop 246 of 400 for alpha = 0.12 (pre-equilibrium)\n",
      "loop 287 of 400 for alpha = 0.12 (pre-equilibrium)\n",
      "loop 328 of 400 for alpha = 0.12 (pre-equilibrium)\n",
      "loop 369 of 400 for alpha = 0.12 (pre-equilibrium)\n",
      "loop 0 of 400 for alpha = 0.14 (pre-equilibrium)\n",
      "loop 41 of 400 for alpha = 0.14 (pre-equilibrium)\n",
      "loop 82 of 400 for alpha = 0.14 (pre-equilibrium)\n",
      "loop 123 of 400 for alpha = 0.14 (pre-equilibrium)\n",
      "loop 164 of 400 for alpha = 0.14 (pre-equilibrium)\n",
      "loop 205 of 400 for alpha = 0.14 (pre-equilibrium)\n",
      "loop 246 of 400 for alpha = 0.14 (pre-equilibrium)\n",
      "loop 287 of 400 for alpha = 0.14 (pre-equilibrium)\n",
      "loop 328 of 400 for alpha = 0.14 (pre-equilibrium)\n",
      "loop 369 of 400 for alpha = 0.14 (pre-equilibrium)\n",
      "loop 0 of 400 for alpha = 0.16 (pre-equilibrium)\n",
      "loop 41 of 400 for alpha = 0.16 (pre-equilibrium)\n",
      "loop 82 of 400 for alpha = 0.16 (pre-equilibrium)\n",
      "loop 123 of 400 for alpha = 0.16 (pre-equilibrium)\n",
      "loop 164 of 400 for alpha = 0.16 (pre-equilibrium)\n",
      "loop 205 of 400 for alpha = 0.16 (pre-equilibrium)\n",
      "loop 246 of 400 for alpha = 0.16 (pre-equilibrium)\n",
      "loop 287 of 400 for alpha = 0.16 (pre-equilibrium)\n",
      "loop 328 of 400 for alpha = 0.16 (pre-equilibrium)\n",
      "loop 369 of 400 for alpha = 0.16 (pre-equilibrium)\n",
      "loop 0 of 400 for alpha = 0.18 (pre-equilibrium)\n",
      "loop 41 of 400 for alpha = 0.18 (pre-equilibrium)\n",
      "loop 82 of 400 for alpha = 0.18 (pre-equilibrium)\n",
      "loop 123 of 400 for alpha = 0.18 (pre-equilibrium)\n",
      "loop 164 of 400 for alpha = 0.18 (pre-equilibrium)\n",
      "loop 205 of 400 for alpha = 0.18 (pre-equilibrium)\n",
      "loop 246 of 400 for alpha = 0.18 (pre-equilibrium)\n",
      "loop 287 of 400 for alpha = 0.18 (pre-equilibrium)\n",
      "loop 328 of 400 for alpha = 0.18 (pre-equilibrium)\n",
      "loop 369 of 400 for alpha = 0.18 (pre-equilibrium)\n",
      "loop 0 of 400 for alpha = 0.20 (pre-equilibrium)\n",
      "loop 41 of 400 for alpha = 0.20 (pre-equilibrium)\n",
      "loop 82 of 400 for alpha = 0.20 (pre-equilibrium)\n",
      "loop 123 of 400 for alpha = 0.20 (pre-equilibrium)\n",
      "loop 164 of 400 for alpha = 0.20 (pre-equilibrium)\n",
      "loop 205 of 400 for alpha = 0.20 (pre-equilibrium)\n",
      "loop 246 of 400 for alpha = 0.20 (pre-equilibrium)\n",
      "loop 287 of 400 for alpha = 0.20 (pre-equilibrium)\n",
      "loop 328 of 400 for alpha = 0.20 (pre-equilibrium)\n",
      "loop 369 of 400 for alpha = 0.20 (pre-equilibrium)\n",
      "loop 0 of 400 for alpha = 0.22 (pre-equilibrium)\n",
      "loop 41 of 400 for alpha = 0.22 (pre-equilibrium)\n",
      "loop 82 of 400 for alpha = 0.22 (pre-equilibrium)\n",
      "loop 123 of 400 for alpha = 0.22 (pre-equilibrium)\n",
      "loop 164 of 400 for alpha = 0.22 (pre-equilibrium)\n",
      "loop 205 of 400 for alpha = 0.22 (pre-equilibrium)\n",
      "loop 246 of 400 for alpha = 0.22 (pre-equilibrium)\n",
      "loop 287 of 400 for alpha = 0.22 (pre-equilibrium)\n",
      "loop 328 of 400 for alpha = 0.22 (pre-equilibrium)\n",
      "loop 369 of 400 for alpha = 0.22 (pre-equilibrium)\n",
      "loop 0 of 400 for alpha = 0.24 (pre-equilibrium)\n",
      "loop 41 of 400 for alpha = 0.24 (pre-equilibrium)\n",
      "loop 82 of 400 for alpha = 0.24 (pre-equilibrium)\n",
      "loop 123 of 400 for alpha = 0.24 (pre-equilibrium)\n",
      "loop 164 of 400 for alpha = 0.24 (pre-equilibrium)\n",
      "loop 205 of 400 for alpha = 0.24 (pre-equilibrium)\n",
      "loop 246 of 400 for alpha = 0.24 (pre-equilibrium)\n",
      "loop 287 of 400 for alpha = 0.24 (pre-equilibrium)\n",
      "loop 328 of 400 for alpha = 0.24 (pre-equilibrium)\n",
      "loop 369 of 400 for alpha = 0.24 (pre-equilibrium)\n",
      "loop 0 of 400 for alpha = 0.26 (pre-equilibrium)\n",
      "loop 41 of 400 for alpha = 0.26 (pre-equilibrium)\n",
      "loop 82 of 400 for alpha = 0.26 (pre-equilibrium)\n",
      "loop 123 of 400 for alpha = 0.26 (pre-equilibrium)\n",
      "loop 164 of 400 for alpha = 0.26 (pre-equilibrium)\n",
      "loop 205 of 400 for alpha = 0.26 (pre-equilibrium)\n",
      "loop 246 of 400 for alpha = 0.26 (pre-equilibrium)\n",
      "loop 287 of 400 for alpha = 0.26 (pre-equilibrium)\n",
      "loop 328 of 400 for alpha = 0.26 (pre-equilibrium)\n",
      "loop 369 of 400 for alpha = 0.26 (pre-equilibrium)\n",
      "loop 0 of 400 for alpha = 0.28 (pre-equilibrium)\n",
      "loop 41 of 400 for alpha = 0.28 (pre-equilibrium)\n",
      "loop 82 of 400 for alpha = 0.28 (pre-equilibrium)\n",
      "loop 123 of 400 for alpha = 0.28 (pre-equilibrium)\n",
      "loop 164 of 400 for alpha = 0.28 (pre-equilibrium)\n",
      "loop 205 of 400 for alpha = 0.28 (pre-equilibrium)\n",
      "loop 246 of 400 for alpha = 0.28 (pre-equilibrium)\n",
      "loop 287 of 400 for alpha = 0.28 (pre-equilibrium)\n",
      "loop 328 of 400 for alpha = 0.28 (pre-equilibrium)\n",
      "loop 369 of 400 for alpha = 0.28 (pre-equilibrium)\n",
      "loop 0 of 400 for alpha = 0.30 (pre-equilibrium)\n",
      "loop 41 of 400 for alpha = 0.30 (pre-equilibrium)\n",
      "loop 82 of 400 for alpha = 0.30 (pre-equilibrium)\n",
      "loop 123 of 400 for alpha = 0.30 (pre-equilibrium)\n",
      "loop 164 of 400 for alpha = 0.30 (pre-equilibrium)\n",
      "loop 205 of 400 for alpha = 0.30 (pre-equilibrium)\n",
      "loop 246 of 400 for alpha = 0.30 (pre-equilibrium)\n",
      "loop 287 of 400 for alpha = 0.30 (pre-equilibrium)\n",
      "loop 328 of 400 for alpha = 0.30 (pre-equilibrium)\n",
      "loop 369 of 400 for alpha = 0.30 (pre-equilibrium)\n",
      "loop 0 of 400 for alpha = 0.32 (pre-equilibrium)\n",
      "loop 41 of 400 for alpha = 0.32 (pre-equilibrium)\n"
     ]
    },
    {
     "name": "stdout",
     "output_type": "stream",
     "text": [
      "loop 82 of 400 for alpha = 0.32 (pre-equilibrium)\n",
      "loop 123 of 400 for alpha = 0.32 (pre-equilibrium)\n",
      "loop 164 of 400 for alpha = 0.32 (pre-equilibrium)\n",
      "loop 205 of 400 for alpha = 0.32 (pre-equilibrium)\n",
      "loop 246 of 400 for alpha = 0.32 (pre-equilibrium)\n",
      "loop 287 of 400 for alpha = 0.32 (pre-equilibrium)\n",
      "loop 328 of 400 for alpha = 0.32 (pre-equilibrium)\n",
      "loop 369 of 400 for alpha = 0.32 (pre-equilibrium)\n",
      "loop 0 of 400 for alpha = 0.34 (pre-equilibrium)\n",
      "loop 41 of 400 for alpha = 0.34 (pre-equilibrium)\n",
      "loop 82 of 400 for alpha = 0.34 (pre-equilibrium)\n",
      "loop 123 of 400 for alpha = 0.34 (pre-equilibrium)\n",
      "loop 164 of 400 for alpha = 0.34 (pre-equilibrium)\n",
      "loop 205 of 400 for alpha = 0.34 (pre-equilibrium)\n",
      "loop 246 of 400 for alpha = 0.34 (pre-equilibrium)\n",
      "loop 287 of 400 for alpha = 0.34 (pre-equilibrium)\n",
      "loop 328 of 400 for alpha = 0.34 (pre-equilibrium)\n",
      "loop 369 of 400 for alpha = 0.34 (pre-equilibrium)\n",
      "loop 0 of 400 for alpha = 0.36 (pre-equilibrium)\n",
      "loop 41 of 400 for alpha = 0.36 (pre-equilibrium)\n",
      "loop 82 of 400 for alpha = 0.36 (pre-equilibrium)\n",
      "loop 123 of 400 for alpha = 0.36 (pre-equilibrium)\n",
      "loop 164 of 400 for alpha = 0.36 (pre-equilibrium)\n",
      "loop 205 of 400 for alpha = 0.36 (pre-equilibrium)\n",
      "loop 246 of 400 for alpha = 0.36 (pre-equilibrium)\n",
      "loop 287 of 400 for alpha = 0.36 (pre-equilibrium)\n",
      "loop 328 of 400 for alpha = 0.36 (pre-equilibrium)\n",
      "loop 369 of 400 for alpha = 0.36 (pre-equilibrium)\n",
      "loop 0 of 400 for alpha = 0.38 (pre-equilibrium)\n",
      "loop 41 of 400 for alpha = 0.38 (pre-equilibrium)\n",
      "loop 82 of 400 for alpha = 0.38 (pre-equilibrium)\n",
      "loop 123 of 400 for alpha = 0.38 (pre-equilibrium)\n",
      "loop 164 of 400 for alpha = 0.38 (pre-equilibrium)\n",
      "loop 205 of 400 for alpha = 0.38 (pre-equilibrium)\n",
      "loop 246 of 400 for alpha = 0.38 (pre-equilibrium)\n",
      "loop 287 of 400 for alpha = 0.38 (pre-equilibrium)\n",
      "loop 328 of 400 for alpha = 0.38 (pre-equilibrium)\n",
      "loop 369 of 400 for alpha = 0.38 (pre-equilibrium)\n",
      "loop 0 of 400 for alpha = 0.40 (pre-equilibrium)\n",
      "loop 41 of 400 for alpha = 0.40 (pre-equilibrium)\n",
      "loop 82 of 400 for alpha = 0.40 (pre-equilibrium)\n",
      "loop 123 of 400 for alpha = 0.40 (pre-equilibrium)\n",
      "loop 164 of 400 for alpha = 0.40 (pre-equilibrium)\n",
      "loop 205 of 400 for alpha = 0.40 (pre-equilibrium)\n",
      "loop 246 of 400 for alpha = 0.40 (pre-equilibrium)\n",
      "loop 287 of 400 for alpha = 0.40 (pre-equilibrium)\n",
      "loop 328 of 400 for alpha = 0.40 (pre-equilibrium)\n",
      "loop 369 of 400 for alpha = 0.40 (pre-equilibrium)\n",
      "loop 0 of 400 for alpha = 0.42 (pre-equilibrium)\n",
      "loop 41 of 400 for alpha = 0.42 (pre-equilibrium)\n",
      "loop 82 of 400 for alpha = 0.42 (pre-equilibrium)\n",
      "loop 123 of 400 for alpha = 0.42 (pre-equilibrium)\n",
      "loop 164 of 400 for alpha = 0.42 (pre-equilibrium)\n",
      "loop 205 of 400 for alpha = 0.42 (pre-equilibrium)\n",
      "loop 246 of 400 for alpha = 0.42 (pre-equilibrium)\n",
      "loop 287 of 400 for alpha = 0.42 (pre-equilibrium)\n",
      "loop 328 of 400 for alpha = 0.42 (pre-equilibrium)\n",
      "loop 369 of 400 for alpha = 0.42 (pre-equilibrium)\n",
      "loop 0 of 400 for alpha = 0.44 (pre-equilibrium)\n",
      "loop 41 of 400 for alpha = 0.44 (pre-equilibrium)\n",
      "loop 82 of 400 for alpha = 0.44 (pre-equilibrium)\n",
      "loop 123 of 400 for alpha = 0.44 (pre-equilibrium)\n",
      "loop 164 of 400 for alpha = 0.44 (pre-equilibrium)\n",
      "loop 205 of 400 for alpha = 0.44 (pre-equilibrium)\n",
      "loop 246 of 400 for alpha = 0.44 (pre-equilibrium)\n",
      "loop 287 of 400 for alpha = 0.44 (pre-equilibrium)\n",
      "loop 328 of 400 for alpha = 0.44 (pre-equilibrium)\n",
      "loop 369 of 400 for alpha = 0.44 (pre-equilibrium)\n",
      "loop 0 of 400 for alpha = 0.46 (pre-equilibrium)\n",
      "loop 41 of 400 for alpha = 0.46 (pre-equilibrium)\n",
      "loop 82 of 400 for alpha = 0.46 (pre-equilibrium)\n",
      "loop 123 of 400 for alpha = 0.46 (pre-equilibrium)\n",
      "loop 164 of 400 for alpha = 0.46 (pre-equilibrium)\n",
      "loop 205 of 400 for alpha = 0.46 (pre-equilibrium)\n",
      "loop 246 of 400 for alpha = 0.46 (pre-equilibrium)\n",
      "loop 287 of 400 for alpha = 0.46 (pre-equilibrium)\n",
      "loop 328 of 400 for alpha = 0.46 (pre-equilibrium)\n",
      "loop 369 of 400 for alpha = 0.46 (pre-equilibrium)\n",
      "loop 0 of 400 for alpha = 0.48 (pre-equilibrium)\n",
      "loop 41 of 400 for alpha = 0.48 (pre-equilibrium)\n",
      "loop 82 of 400 for alpha = 0.48 (pre-equilibrium)\n",
      "loop 123 of 400 for alpha = 0.48 (pre-equilibrium)\n",
      "loop 164 of 400 for alpha = 0.48 (pre-equilibrium)\n",
      "loop 205 of 400 for alpha = 0.48 (pre-equilibrium)\n",
      "loop 246 of 400 for alpha = 0.48 (pre-equilibrium)\n",
      "loop 287 of 400 for alpha = 0.48 (pre-equilibrium)\n",
      "loop 328 of 400 for alpha = 0.48 (pre-equilibrium)\n",
      "loop 369 of 400 for alpha = 0.48 (pre-equilibrium)\n",
      "loop 0 of 400 for alpha = 0.50 (pre-equilibrium)\n",
      "loop 41 of 400 for alpha = 0.50 (pre-equilibrium)\n",
      "loop 82 of 400 for alpha = 0.50 (pre-equilibrium)\n",
      "loop 123 of 400 for alpha = 0.50 (pre-equilibrium)\n",
      "loop 164 of 400 for alpha = 0.50 (pre-equilibrium)\n",
      "loop 205 of 400 for alpha = 0.50 (pre-equilibrium)\n",
      "loop 246 of 400 for alpha = 0.50 (pre-equilibrium)\n",
      "loop 287 of 400 for alpha = 0.50 (pre-equilibrium)\n",
      "loop 328 of 400 for alpha = 0.50 (pre-equilibrium)\n",
      "loop 369 of 400 for alpha = 0.50 (pre-equilibrium)\n",
      "loop 0 of 400 for alpha = 0.52 (pre-equilibrium)\n",
      "loop 41 of 400 for alpha = 0.52 (pre-equilibrium)\n",
      "loop 82 of 400 for alpha = 0.52 (pre-equilibrium)\n",
      "loop 123 of 400 for alpha = 0.52 (pre-equilibrium)\n",
      "loop 164 of 400 for alpha = 0.52 (pre-equilibrium)\n",
      "loop 205 of 400 for alpha = 0.52 (pre-equilibrium)\n",
      "loop 246 of 400 for alpha = 0.52 (pre-equilibrium)\n",
      "loop 287 of 400 for alpha = 0.52 (pre-equilibrium)\n",
      "loop 328 of 400 for alpha = 0.52 (pre-equilibrium)\n",
      "loop 369 of 400 for alpha = 0.52 (pre-equilibrium)\n",
      "loop 0 of 400 for alpha = 0.54 (pre-equilibrium)\n",
      "loop 41 of 400 for alpha = 0.54 (pre-equilibrium)\n",
      "loop 82 of 400 for alpha = 0.54 (pre-equilibrium)\n",
      "loop 123 of 400 for alpha = 0.54 (pre-equilibrium)\n",
      "loop 164 of 400 for alpha = 0.54 (pre-equilibrium)\n",
      "loop 205 of 400 for alpha = 0.54 (pre-equilibrium)\n",
      "loop 246 of 400 for alpha = 0.54 (pre-equilibrium)\n",
      "loop 287 of 400 for alpha = 0.54 (pre-equilibrium)\n",
      "loop 328 of 400 for alpha = 0.54 (pre-equilibrium)\n",
      "loop 369 of 400 for alpha = 0.54 (pre-equilibrium)\n",
      "loop 0 of 400 for alpha = 0.56 (pre-equilibrium)\n",
      "loop 41 of 400 for alpha = 0.56 (pre-equilibrium)\n",
      "loop 82 of 400 for alpha = 0.56 (pre-equilibrium)\n",
      "loop 123 of 400 for alpha = 0.56 (pre-equilibrium)\n",
      "loop 164 of 400 for alpha = 0.56 (pre-equilibrium)\n",
      "loop 205 of 400 for alpha = 0.56 (pre-equilibrium)\n",
      "loop 246 of 400 for alpha = 0.56 (pre-equilibrium)\n",
      "loop 287 of 400 for alpha = 0.56 (pre-equilibrium)\n",
      "loop 328 of 400 for alpha = 0.56 (pre-equilibrium)\n",
      "loop 369 of 400 for alpha = 0.56 (pre-equilibrium)\n",
      "loop 0 of 400 for alpha = 0.58 (pre-equilibrium)\n",
      "loop 41 of 400 for alpha = 0.58 (pre-equilibrium)\n",
      "loop 82 of 400 for alpha = 0.58 (pre-equilibrium)\n",
      "loop 123 of 400 for alpha = 0.58 (pre-equilibrium)\n",
      "loop 164 of 400 for alpha = 0.58 (pre-equilibrium)\n",
      "loop 205 of 400 for alpha = 0.58 (pre-equilibrium)\n",
      "loop 246 of 400 for alpha = 0.58 (pre-equilibrium)\n",
      "loop 287 of 400 for alpha = 0.58 (pre-equilibrium)\n",
      "loop 328 of 400 for alpha = 0.58 (pre-equilibrium)\n",
      "loop 369 of 400 for alpha = 0.58 (pre-equilibrium)\n",
      "loop 0 of 400 for alpha = 0.60 (pre-equilibrium)\n",
      "loop 41 of 400 for alpha = 0.60 (pre-equilibrium)\n",
      "loop 82 of 400 for alpha = 0.60 (pre-equilibrium)\n",
      "loop 123 of 400 for alpha = 0.60 (pre-equilibrium)\n",
      "loop 164 of 400 for alpha = 0.60 (pre-equilibrium)\n",
      "loop 205 of 400 for alpha = 0.60 (pre-equilibrium)\n",
      "loop 246 of 400 for alpha = 0.60 (pre-equilibrium)\n",
      "loop 287 of 400 for alpha = 0.60 (pre-equilibrium)\n",
      "loop 328 of 400 for alpha = 0.60 (pre-equilibrium)\n",
      "loop 369 of 400 for alpha = 0.60 (pre-equilibrium)\n",
      "loop 0 of 400 for alpha = 0.62 (pre-equilibrium)\n",
      "loop 41 of 400 for alpha = 0.62 (pre-equilibrium)\n",
      "loop 82 of 400 for alpha = 0.62 (pre-equilibrium)\n",
      "loop 123 of 400 for alpha = 0.62 (pre-equilibrium)\n",
      "loop 164 of 400 for alpha = 0.62 (pre-equilibrium)\n",
      "loop 205 of 400 for alpha = 0.62 (pre-equilibrium)\n",
      "loop 246 of 400 for alpha = 0.62 (pre-equilibrium)\n",
      "loop 287 of 400 for alpha = 0.62 (pre-equilibrium)\n",
      "loop 328 of 400 for alpha = 0.62 (pre-equilibrium)\n",
      "loop 369 of 400 for alpha = 0.62 (pre-equilibrium)\n",
      "loop 0 of 400 for alpha = 0.64 (pre-equilibrium)\n",
      "loop 41 of 400 for alpha = 0.64 (pre-equilibrium)\n",
      "loop 82 of 400 for alpha = 0.64 (pre-equilibrium)\n",
      "loop 123 of 400 for alpha = 0.64 (pre-equilibrium)\n"
     ]
    },
    {
     "name": "stdout",
     "output_type": "stream",
     "text": [
      "loop 164 of 400 for alpha = 0.64 (pre-equilibrium)\n",
      "loop 205 of 400 for alpha = 0.64 (pre-equilibrium)\n",
      "loop 246 of 400 for alpha = 0.64 (pre-equilibrium)\n",
      "loop 287 of 400 for alpha = 0.64 (pre-equilibrium)\n",
      "loop 328 of 400 for alpha = 0.64 (pre-equilibrium)\n",
      "loop 369 of 400 for alpha = 0.64 (pre-equilibrium)\n",
      "loop 0 of 400 for alpha = 0.66 (pre-equilibrium)\n",
      "loop 41 of 400 for alpha = 0.66 (pre-equilibrium)\n",
      "loop 82 of 400 for alpha = 0.66 (pre-equilibrium)\n",
      "loop 123 of 400 for alpha = 0.66 (pre-equilibrium)\n",
      "loop 164 of 400 for alpha = 0.66 (pre-equilibrium)\n",
      "loop 205 of 400 for alpha = 0.66 (pre-equilibrium)\n",
      "loop 246 of 400 for alpha = 0.66 (pre-equilibrium)\n",
      "loop 287 of 400 for alpha = 0.66 (pre-equilibrium)\n",
      "loop 328 of 400 for alpha = 0.66 (pre-equilibrium)\n",
      "loop 369 of 400 for alpha = 0.66 (pre-equilibrium)\n",
      "loop 0 of 400 for alpha = 0.68 (pre-equilibrium)\n",
      "loop 41 of 400 for alpha = 0.68 (pre-equilibrium)\n",
      "loop 82 of 400 for alpha = 0.68 (pre-equilibrium)\n",
      "loop 123 of 400 for alpha = 0.68 (pre-equilibrium)\n",
      "loop 164 of 400 for alpha = 0.68 (pre-equilibrium)\n",
      "loop 205 of 400 for alpha = 0.68 (pre-equilibrium)\n",
      "loop 246 of 400 for alpha = 0.68 (pre-equilibrium)\n",
      "loop 287 of 400 for alpha = 0.68 (pre-equilibrium)\n",
      "loop 328 of 400 for alpha = 0.68 (pre-equilibrium)\n",
      "loop 369 of 400 for alpha = 0.68 (pre-equilibrium)\n",
      "loop 0 of 400 for alpha = 0.70 (pre-equilibrium)\n",
      "loop 41 of 400 for alpha = 0.70 (pre-equilibrium)\n",
      "loop 82 of 400 for alpha = 0.70 (pre-equilibrium)\n",
      "loop 123 of 400 for alpha = 0.70 (pre-equilibrium)\n",
      "loop 164 of 400 for alpha = 0.70 (pre-equilibrium)\n",
      "loop 205 of 400 for alpha = 0.70 (pre-equilibrium)\n",
      "loop 246 of 400 for alpha = 0.70 (pre-equilibrium)\n",
      "loop 287 of 400 for alpha = 0.70 (pre-equilibrium)\n",
      "loop 328 of 400 for alpha = 0.70 (pre-equilibrium)\n",
      "loop 369 of 400 for alpha = 0.70 (pre-equilibrium)\n",
      "loop 0 of 400 for alpha = 0.72 (pre-equilibrium)\n",
      "loop 41 of 400 for alpha = 0.72 (pre-equilibrium)\n",
      "loop 82 of 400 for alpha = 0.72 (pre-equilibrium)\n",
      "loop 123 of 400 for alpha = 0.72 (pre-equilibrium)\n",
      "loop 164 of 400 for alpha = 0.72 (pre-equilibrium)\n",
      "loop 205 of 400 for alpha = 0.72 (pre-equilibrium)\n",
      "loop 246 of 400 for alpha = 0.72 (pre-equilibrium)\n",
      "loop 287 of 400 for alpha = 0.72 (pre-equilibrium)\n",
      "loop 328 of 400 for alpha = 0.72 (pre-equilibrium)\n",
      "loop 369 of 400 for alpha = 0.72 (pre-equilibrium)\n",
      "loop 0 of 400 for alpha = 0.74 (pre-equilibrium)\n",
      "loop 41 of 400 for alpha = 0.74 (pre-equilibrium)\n",
      "loop 82 of 400 for alpha = 0.74 (pre-equilibrium)\n",
      "loop 123 of 400 for alpha = 0.74 (pre-equilibrium)\n",
      "loop 164 of 400 for alpha = 0.74 (pre-equilibrium)\n",
      "loop 205 of 400 for alpha = 0.74 (pre-equilibrium)\n",
      "loop 246 of 400 for alpha = 0.74 (pre-equilibrium)\n",
      "loop 287 of 400 for alpha = 0.74 (pre-equilibrium)\n",
      "loop 328 of 400 for alpha = 0.74 (pre-equilibrium)\n",
      "loop 369 of 400 for alpha = 0.74 (pre-equilibrium)\n",
      "loop 0 of 400 for alpha = 0.76 (pre-equilibrium)\n",
      "loop 41 of 400 for alpha = 0.76 (pre-equilibrium)\n",
      "loop 82 of 400 for alpha = 0.76 (pre-equilibrium)\n",
      "loop 123 of 400 for alpha = 0.76 (pre-equilibrium)\n",
      "loop 164 of 400 for alpha = 0.76 (pre-equilibrium)\n",
      "loop 205 of 400 for alpha = 0.76 (pre-equilibrium)\n",
      "loop 246 of 400 for alpha = 0.76 (pre-equilibrium)\n",
      "loop 287 of 400 for alpha = 0.76 (pre-equilibrium)\n",
      "loop 328 of 400 for alpha = 0.76 (pre-equilibrium)\n",
      "loop 369 of 400 for alpha = 0.76 (pre-equilibrium)\n",
      "loop 0 of 400 for alpha = 0.78 (pre-equilibrium)\n",
      "loop 41 of 400 for alpha = 0.78 (pre-equilibrium)\n",
      "loop 82 of 400 for alpha = 0.78 (pre-equilibrium)\n",
      "loop 123 of 400 for alpha = 0.78 (pre-equilibrium)\n",
      "loop 164 of 400 for alpha = 0.78 (pre-equilibrium)\n",
      "loop 205 of 400 for alpha = 0.78 (pre-equilibrium)\n",
      "loop 246 of 400 for alpha = 0.78 (pre-equilibrium)\n",
      "loop 287 of 400 for alpha = 0.78 (pre-equilibrium)\n",
      "loop 328 of 400 for alpha = 0.78 (pre-equilibrium)\n",
      "loop 369 of 400 for alpha = 0.78 (pre-equilibrium)\n",
      "loop 0 of 400 for alpha = 0.80 (pre-equilibrium)\n",
      "loop 41 of 400 for alpha = 0.80 (pre-equilibrium)\n",
      "loop 82 of 400 for alpha = 0.80 (pre-equilibrium)\n",
      "loop 123 of 400 for alpha = 0.80 (pre-equilibrium)\n",
      "loop 164 of 400 for alpha = 0.80 (pre-equilibrium)\n",
      "loop 205 of 400 for alpha = 0.80 (pre-equilibrium)\n",
      "loop 246 of 400 for alpha = 0.80 (pre-equilibrium)\n",
      "loop 287 of 400 for alpha = 0.80 (pre-equilibrium)\n",
      "loop 328 of 400 for alpha = 0.80 (pre-equilibrium)\n",
      "loop 369 of 400 for alpha = 0.80 (pre-equilibrium)\n",
      "loop 0 of 400 for alpha = 0.82 (pre-equilibrium)\n",
      "loop 41 of 400 for alpha = 0.82 (pre-equilibrium)\n",
      "loop 82 of 400 for alpha = 0.82 (pre-equilibrium)\n",
      "loop 123 of 400 for alpha = 0.82 (pre-equilibrium)\n",
      "loop 164 of 400 for alpha = 0.82 (pre-equilibrium)\n",
      "loop 205 of 400 for alpha = 0.82 (pre-equilibrium)\n",
      "loop 246 of 400 for alpha = 0.82 (pre-equilibrium)\n",
      "loop 287 of 400 for alpha = 0.82 (pre-equilibrium)\n",
      "loop 328 of 400 for alpha = 0.82 (pre-equilibrium)\n",
      "loop 369 of 400 for alpha = 0.82 (pre-equilibrium)\n",
      "loop 0 of 400 for alpha = 0.84 (pre-equilibrium)\n",
      "loop 41 of 400 for alpha = 0.84 (pre-equilibrium)\n",
      "loop 82 of 400 for alpha = 0.84 (pre-equilibrium)\n",
      "loop 123 of 400 for alpha = 0.84 (pre-equilibrium)\n",
      "loop 164 of 400 for alpha = 0.84 (pre-equilibrium)\n",
      "loop 205 of 400 for alpha = 0.84 (pre-equilibrium)\n",
      "loop 246 of 400 for alpha = 0.84 (pre-equilibrium)\n",
      "loop 287 of 400 for alpha = 0.84 (pre-equilibrium)\n",
      "loop 328 of 400 for alpha = 0.84 (pre-equilibrium)\n",
      "loop 369 of 400 for alpha = 0.84 (pre-equilibrium)\n",
      "loop 0 of 400 for alpha = 0.86 (pre-equilibrium)\n",
      "loop 41 of 400 for alpha = 0.86 (pre-equilibrium)\n",
      "loop 82 of 400 for alpha = 0.86 (pre-equilibrium)\n",
      "loop 123 of 400 for alpha = 0.86 (pre-equilibrium)\n",
      "loop 164 of 400 for alpha = 0.86 (pre-equilibrium)\n",
      "loop 205 of 400 for alpha = 0.86 (pre-equilibrium)\n",
      "loop 246 of 400 for alpha = 0.86 (pre-equilibrium)\n",
      "loop 287 of 400 for alpha = 0.86 (pre-equilibrium)\n",
      "loop 328 of 400 for alpha = 0.86 (pre-equilibrium)\n",
      "loop 369 of 400 for alpha = 0.86 (pre-equilibrium)\n",
      "loop 0 of 400 for alpha = 0.88 (pre-equilibrium)\n",
      "loop 41 of 400 for alpha = 0.88 (pre-equilibrium)\n",
      "loop 82 of 400 for alpha = 0.88 (pre-equilibrium)\n",
      "loop 123 of 400 for alpha = 0.88 (pre-equilibrium)\n",
      "loop 164 of 400 for alpha = 0.88 (pre-equilibrium)\n",
      "loop 205 of 400 for alpha = 0.88 (pre-equilibrium)\n",
      "loop 246 of 400 for alpha = 0.88 (pre-equilibrium)\n",
      "loop 287 of 400 for alpha = 0.88 (pre-equilibrium)\n",
      "loop 328 of 400 for alpha = 0.88 (pre-equilibrium)\n",
      "loop 369 of 400 for alpha = 0.88 (pre-equilibrium)\n",
      "loop 0 of 400 for alpha = 0.90 (pre-equilibrium)\n",
      "loop 41 of 400 for alpha = 0.90 (pre-equilibrium)\n",
      "loop 82 of 400 for alpha = 0.90 (pre-equilibrium)\n",
      "loop 123 of 400 for alpha = 0.90 (pre-equilibrium)\n",
      "loop 164 of 400 for alpha = 0.90 (pre-equilibrium)\n",
      "loop 205 of 400 for alpha = 0.90 (pre-equilibrium)\n",
      "loop 246 of 400 for alpha = 0.90 (pre-equilibrium)\n",
      "loop 287 of 400 for alpha = 0.90 (pre-equilibrium)\n",
      "loop 328 of 400 for alpha = 0.90 (pre-equilibrium)\n",
      "loop 369 of 400 for alpha = 0.90 (pre-equilibrium)\n",
      "loop 0 of 400 for alpha = 0.92 (pre-equilibrium)\n",
      "loop 41 of 400 for alpha = 0.92 (pre-equilibrium)\n",
      "loop 82 of 400 for alpha = 0.92 (pre-equilibrium)\n",
      "loop 123 of 400 for alpha = 0.92 (pre-equilibrium)\n",
      "loop 164 of 400 for alpha = 0.92 (pre-equilibrium)\n",
      "loop 205 of 400 for alpha = 0.92 (pre-equilibrium)\n",
      "loop 246 of 400 for alpha = 0.92 (pre-equilibrium)\n",
      "loop 287 of 400 for alpha = 0.92 (pre-equilibrium)\n",
      "loop 328 of 400 for alpha = 0.92 (pre-equilibrium)\n",
      "loop 369 of 400 for alpha = 0.92 (pre-equilibrium)\n",
      "loop 0 of 400 for alpha = 0.94 (pre-equilibrium)\n",
      "loop 41 of 400 for alpha = 0.94 (pre-equilibrium)\n",
      "loop 82 of 400 for alpha = 0.94 (pre-equilibrium)\n",
      "loop 123 of 400 for alpha = 0.94 (pre-equilibrium)\n",
      "loop 164 of 400 for alpha = 0.94 (pre-equilibrium)\n",
      "loop 205 of 400 for alpha = 0.94 (pre-equilibrium)\n",
      "loop 246 of 400 for alpha = 0.94 (pre-equilibrium)\n",
      "loop 287 of 400 for alpha = 0.94 (pre-equilibrium)\n",
      "loop 328 of 400 for alpha = 0.94 (pre-equilibrium)\n",
      "loop 369 of 400 for alpha = 0.94 (pre-equilibrium)\n",
      "loop 0 of 400 for alpha = 0.96 (pre-equilibrium)\n",
      "loop 41 of 400 for alpha = 0.96 (pre-equilibrium)\n",
      "loop 82 of 400 for alpha = 0.96 (pre-equilibrium)\n",
      "loop 123 of 400 for alpha = 0.96 (pre-equilibrium)\n",
      "loop 164 of 400 for alpha = 0.96 (pre-equilibrium)\n",
      "loop 205 of 400 for alpha = 0.96 (pre-equilibrium)\n"
     ]
    },
    {
     "name": "stdout",
     "output_type": "stream",
     "text": [
      "loop 246 of 400 for alpha = 0.96 (pre-equilibrium)\n",
      "loop 287 of 400 for alpha = 0.96 (pre-equilibrium)\n",
      "loop 328 of 400 for alpha = 0.96 (pre-equilibrium)\n",
      "loop 369 of 400 for alpha = 0.96 (pre-equilibrium)\n",
      "loop 0 of 400 for alpha = 0.98 (pre-equilibrium)\n",
      "loop 41 of 400 for alpha = 0.98 (pre-equilibrium)\n",
      "loop 82 of 400 for alpha = 0.98 (pre-equilibrium)\n",
      "loop 123 of 400 for alpha = 0.98 (pre-equilibrium)\n",
      "loop 164 of 400 for alpha = 0.98 (pre-equilibrium)\n",
      "loop 205 of 400 for alpha = 0.98 (pre-equilibrium)\n",
      "loop 246 of 400 for alpha = 0.98 (pre-equilibrium)\n",
      "loop 287 of 400 for alpha = 0.98 (pre-equilibrium)\n",
      "loop 328 of 400 for alpha = 0.98 (pre-equilibrium)\n",
      "loop 369 of 400 for alpha = 0.98 (pre-equilibrium)\n",
      "loop 0 of 400 for alpha = 1.00 (pre-equilibrium)\n",
      "loop 41 of 400 for alpha = 1.00 (pre-equilibrium)\n",
      "loop 82 of 400 for alpha = 1.00 (pre-equilibrium)\n",
      "loop 123 of 400 for alpha = 1.00 (pre-equilibrium)\n",
      "loop 164 of 400 for alpha = 1.00 (pre-equilibrium)\n",
      "loop 205 of 400 for alpha = 1.00 (pre-equilibrium)\n",
      "loop 246 of 400 for alpha = 1.00 (pre-equilibrium)\n",
      "loop 287 of 400 for alpha = 1.00 (pre-equilibrium)\n",
      "loop 328 of 400 for alpha = 1.00 (pre-equilibrium)\n",
      "loop 369 of 400 for alpha = 1.00 (pre-equilibrium)\n"
     ]
    }
   ],
   "source": [
    "NMC = 600\n",
    "NMC_eq = 400\n",
    "step = 1\n",
    "nx = 20 # petit pour une simple verification\n",
    "ny = 20\n",
    "len_alpha = 51\n",
    "alphas = np.linspace(0,1,len_alpha)\n",
    "\n",
    "sps = np.empty([len_alpha,nx,ny])\n",
    "\n",
    "param = 1\n",
    "borders = [1,1,1,1]\n",
    "a = 1\n",
    "\n",
    "for i in range(len_alpha):\n",
    "#    sps[i] = initial_state_random(nx,ny)\n",
    "     sps[i] = init_chessboard(sps[i])\n",
    "    \n",
    "\n",
    "\n",
    "[Ms,Es] = M_equilibrium_for_alphas(sps,NMC,step,alphas,NMC_eq,param,borders,a)"
   ]
  },
  {
   "cell_type": "code",
   "execution_count": null,
   "metadata": {},
   "outputs": [],
   "source": [
    "[Ms,Es] = M_equilibrium_for_alphas(sps,NMC,step,alphas,NMC_eq,1,np.array([1,1,1,1]),1)"
   ]
  },
  {
   "cell_type": "code",
   "execution_count": 42,
   "metadata": {},
   "outputs": [
    {
     "ename": "NameError",
     "evalue": "name 'Ms' is not defined",
     "output_type": "error",
     "traceback": [
      "\u001b[1;31m---------------------------------------------------------------------------\u001b[0m",
      "\u001b[1;31mNameError\u001b[0m                                 Traceback (most recent call last)",
      "\u001b[1;32m<ipython-input-42-9bdc3a165589>\u001b[0m in \u001b[0;36m<module>\u001b[1;34m()\u001b[0m\n\u001b[0;32m      1\u001b[0m \u001b[0mplt\u001b[0m\u001b[1;33m.\u001b[0m\u001b[0mfigure\u001b[0m\u001b[1;33m(\u001b[0m\u001b[0mfigsize\u001b[0m\u001b[1;33m=\u001b[0m\u001b[1;33m(\u001b[0m\u001b[1;36m8\u001b[0m\u001b[1;33m,\u001b[0m\u001b[1;36m5\u001b[0m\u001b[1;33m)\u001b[0m\u001b[1;33m)\u001b[0m\u001b[1;33m;\u001b[0m\u001b[1;33m\u001b[0m\u001b[0m\n\u001b[1;32m----> 2\u001b[1;33m \u001b[0mplt\u001b[0m\u001b[1;33m.\u001b[0m\u001b[0mplot\u001b[0m\u001b[1;33m(\u001b[0m\u001b[0malphas\u001b[0m\u001b[1;33m,\u001b[0m\u001b[0mabs\u001b[0m\u001b[1;33m(\u001b[0m\u001b[0mMs\u001b[0m\u001b[1;33m)\u001b[0m\u001b[1;33m,\u001b[0m \u001b[1;34m'.-'\u001b[0m\u001b[1;33m,\u001b[0m \u001b[0mlabel\u001b[0m\u001b[1;33m=\u001b[0m\u001b[1;34m'Magnetisation'\u001b[0m\u001b[1;33m)\u001b[0m\u001b[1;33m;\u001b[0m\u001b[1;33m\u001b[0m\u001b[0m\n\u001b[0m\u001b[0;32m      3\u001b[0m \u001b[0mplt\u001b[0m\u001b[1;33m.\u001b[0m\u001b[0mplot\u001b[0m\u001b[1;33m(\u001b[0m\u001b[0malphas\u001b[0m\u001b[1;33m,\u001b[0m\u001b[0mabs\u001b[0m\u001b[1;33m(\u001b[0m\u001b[0mEs\u001b[0m\u001b[1;33m/\u001b[0m\u001b[0mE_aligned\u001b[0m\u001b[1;33m)\u001b[0m\u001b[1;33m,\u001b[0m \u001b[1;34m'.-'\u001b[0m\u001b[1;33m,\u001b[0m \u001b[0mlabel\u001b[0m\u001b[1;33m=\u001b[0m\u001b[1;34m'Energie'\u001b[0m\u001b[1;33m)\u001b[0m\u001b[1;33m;\u001b[0m\u001b[1;33m\u001b[0m\u001b[0m\n\u001b[0;32m      4\u001b[0m \u001b[0mplt\u001b[0m\u001b[1;33m.\u001b[0m\u001b[0mtitle\u001b[0m\u001b[1;33m(\u001b[0m\u001b[1;34m\"Propriétés à l'équilibre en fonction de alpha \\n sur une grille {:d}x{:d}\"\u001b[0m\u001b[1;33m.\u001b[0m\u001b[0mformat\u001b[0m\u001b[1;33m(\u001b[0m\u001b[0mnx\u001b[0m\u001b[1;33m,\u001b[0m\u001b[0mny\u001b[0m\u001b[1;33m)\u001b[0m\u001b[1;33m)\u001b[0m\u001b[1;33m;\u001b[0m\u001b[1;33m\u001b[0m\u001b[0m\n\u001b[0;32m      5\u001b[0m \u001b[0mplt\u001b[0m\u001b[1;33m.\u001b[0m\u001b[0mxlabel\u001b[0m\u001b[1;33m(\u001b[0m\u001b[1;34m'alpha'\u001b[0m\u001b[1;33m)\u001b[0m\u001b[1;33m;\u001b[0m\u001b[1;33m\u001b[0m\u001b[0m\n",
      "\u001b[1;31mNameError\u001b[0m: name 'Ms' is not defined"
     ]
    },
    {
     "data": {
      "text/plain": [
       "<matplotlib.figure.Figure at 0x24bff7319b0>"
      ]
     },
     "metadata": {},
     "output_type": "display_data"
    }
   ],
   "source": [
    "plt.figure(figsize=(8,5));\n",
    "plt.plot(alphas,abs(Ms), '.-', label='Magnetisation');\n",
    "plt.plot(alphas,abs(Es/E_aligned), '.-', label='Energie');\n",
    "plt.title(\"Propriétés à l'équilibre en fonction de alpha \\n sur une grille {:d}x{:d}\".format(nx,ny));\n",
    "plt.xlabel('alpha');\n",
    "plt.ylabel('M;E');\n",
    "plt.legend(loc=4);\n",
    "plt.show()"
   ]
  },
  {
   "cell_type": "code",
   "execution_count": null,
   "metadata": {
    "collapsed": true
   },
   "outputs": [],
   "source": [
    "index_Weiss = -1\n",
    "for i in range(len(alphas)):\n",
    "    if (abs(Ms[i])<0.5) & (alphas[i]>0.6):\n",
    "        index_Weiss = i\n",
    "\n",
    "print(index_Weiss)\n",
    "\n",
    "plt.figure(figsize=(6,6))\n",
    "plt.imshow(sps[36],interpolation=\"none\",origin='lower');"
   ]
  },
  {
   "cell_type": "code",
   "execution_count": null,
   "metadata": {
    "collapsed": true
   },
   "outputs": [],
   "source": [
    "for i in range(len(alphas)-1):\n",
    "    if (abs(Ms[i])<=0.5) & (abs(Ms[i+1])>0.5):\n",
    "        alpha_c = (alphas[i+1]+alphas[i])/2 \n",
    "        err_alpha_c = (alphas[i+1]-alphas[i])/2\n",
    "        break # afin de ne pas détecter les pics dû aux domaines de Weiss non alignés\n",
    "\n",
    "print(\"Notre couplage critique vaut {:.2f} \\pm {:.2f}\".format(alpha_c,err_alpha_c))"
   ]
  },
  {
   "cell_type": "markdown",
   "metadata": {},
   "source": [
    "## Remarques"
   ]
  },
  {
   "cell_type": "code",
   "execution_count": null,
   "metadata": {
    "collapsed": true
   },
   "outputs": [],
   "source": []
  }
 ],
 "metadata": {
  "kernelspec": {
   "display_name": "Python 3",
   "language": "python",
   "name": "python3"
  },
  "language_info": {
   "codemirror_mode": {
    "name": "ipython",
    "version": 3
   },
   "file_extension": ".py",
   "mimetype": "text/x-python",
   "name": "python",
   "nbconvert_exporter": "python",
   "pygments_lexer": "ipython3",
   "version": "3.6.2"
  }
 },
 "nbformat": 4,
 "nbformat_minor": 2
}
