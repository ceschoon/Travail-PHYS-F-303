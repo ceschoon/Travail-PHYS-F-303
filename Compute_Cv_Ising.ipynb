{
 "cells": [
  {
   "cell_type": "markdown",
   "metadata": {},
   "source": [
    "<h1><center>PHYS-F-303: Partie Numérique</center></h1>\n",
    "<h1><center>Calcul détaillé des propriétés physiques pour le modèle d'Ising</center></h1>\n",
    "<h2><center>Cédric SCHOONEN, Maxime JAMOTTE</center></h2>"
   ]
  },
  {
   "cell_type": "markdown",
   "metadata": {},
   "source": [
    "## Question: Calculer la magnétisation moyenne pour différentes valeurs de $\\alpha$ entre 0 et 1 et estimer la valeur de $\\alpha$ critique"
   ]
  },
  {
   "cell_type": "code",
   "execution_count": 1,
   "metadata": {
    "collapsed": true
   },
   "outputs": [],
   "source": [
    "import time,numba,pandas\n",
    "from numba import jit\n",
    "from matplotlib import pyplot as plt\n",
    "from pandas import DataFrame, read_csv\n",
    "import numpy as np\n",
    "%matplotlib inline\n",
    "from matplotlib import rcParams\n",
    "rcParams['font.family'] = 'serif'\n",
    "rcParams['font.size'] = 16\n",
    "import matplotlib.cm as cm\n",
    "from matplotlib import animation\n",
    "from IPython.display import HTML"
   ]
  },
  {
   "cell_type": "markdown",
   "metadata": {},
   "source": [
    "### Calcul des paramètres (Magnétisation, Energie, Capacité calorifique) pour différents couplages"
   ]
  },
  {
   "cell_type": "markdown",
   "metadata": {},
   "source": [
    "Nous étudions dans ce document une grille $20\\times20$ de spins que l'on évolue selon l'algorithme \"metropolis\".\n",
    "\n",
    "Nous exploitons la courbe de la capacité calorifique en fonction de du couplage $\\alpha=J/kT$ pour déterminer le couplage de transition. Cette courbe doit présenter un pic à la valeur critique de couplage, voir \"Computational Physics, J.M.Thijssen\".\n",
    "\n",
    "Nous calculons la capacité calorifique par la relation suivante, valable dans l'ensemble canonique:\n",
    "\n",
    "$$ c_v = \\frac{\\text{var}(E)}{kT^2} $$\n",
    "\n",
    "Les énergies étant déjà exprimées en unités de $J/kT$, nous pouvons porter la variance de l'énergie en fonction de alpha, cette quantité étant proportionelle à $c_v$."
   ]
  },
  {
   "cell_type": "markdown",
   "metadata": {},
   "source": [
    "Commençons par définir les fonctions nécessaires."
   ]
  },
  {
   "cell_type": "code",
   "execution_count": 2,
   "metadata": {
    "collapsed": true
   },
   "outputs": [],
   "source": [
    "def initial_state_random(nx,ny):\n",
    "    \"\"\" Creates a lattice with random spin orientations\n",
    "   \n",
    "    Parameters:\n",
    "    ----------\n",
    "    nx   : int\n",
    "        Discretization points in x\n",
    "    ny   : int\n",
    "        Discretization points in y\n",
    "   \n",
    "    Returns:\n",
    "    -------\n",
    "    r: 2D array of spins\n",
    "    \"\"\"\n",
    "       \n",
    "    # Uniform random spins between 0 and 1  \n",
    "    r = np.random.randint(0,2,(nx,ny))\n",
    "    \n",
    "    # Where r=0, we assign a negative spin\n",
    "    r[r==0] =-1\n",
    "\n",
    "    return r"
   ]
  },
  {
   "cell_type": "code",
   "execution_count": 3,
   "metadata": {
    "collapsed": true
   },
   "outputs": [],
   "source": [
    "def initial_state_aligned(nx,ny):\n",
    "    \"\"\" Creates a lattice with aligned spin orientations\n",
    "   \n",
    "    Parameters:\n",
    "    ----------\n",
    "    nx   : int\n",
    "        Discretization points in x\n",
    "    ny   : int\n",
    "        Discretization points in y\n",
    "   \n",
    "    Returns:\n",
    "    -------\n",
    "    r: 2D array of spins\n",
    "    \"\"\"\n",
    "    \n",
    "    r = np.ones([nx,ny])\n",
    "    \n",
    "    return r"
   ]
  },
  {
   "cell_type": "code",
   "execution_count": 4,
   "metadata": {
    "collapsed": true
   },
   "outputs": [],
   "source": [
    "@jit\n",
    "def energy_at_site(sp,alpha,sigma,ix,iy):\n",
    "    \"\"\" Computes the contribution to the energy for a given spin\n",
    "    at location ix,iy for a lattice with periodic boundary conditions\n",
    "   \n",
    "    Parameters:\n",
    "    ----------\n",
    "    sp: numpy array\n",
    "        array of spins\n",
    "    alpha  : real\n",
    "        coupling constant J/(kb*T)\n",
    "    sigma   : int\n",
    "        spin at site ix,iy\n",
    "    ix   : int\n",
    "        location in x\n",
    "    iy   : int\n",
    "        location in y\n",
    "    \n",
    "   \n",
    "    Returns:\n",
    "    -------\n",
    "    energy: energy for the given configuration\n",
    "    \"\"\"\n",
    "    \n",
    "    energy=-alpha*sigma*(sp[(ix-1)%nx,iy]+sp[(ix+1)%nx,iy]+sp[ix,(iy-1)%ny]\\\n",
    "                         +sp[ix,(iy+1)%ny])\n",
    "\n",
    "    return energy"
   ]
  },
  {
   "cell_type": "code",
   "execution_count": 5,
   "metadata": {
    "collapsed": true
   },
   "outputs": [],
   "source": [
    "@jit\n",
    "def metropolis_at_site(sp,alpha,ix,iy):\n",
    "    \"\"\" Flips a dipole at site ix, iy when probability condition is met \n",
    "   \n",
    "    Parameters:\n",
    "    ----------\n",
    "    sp: numpy array\n",
    "        array of spins\n",
    "    alpha  : real\n",
    "        coupling constant J/(kb*T)\n",
    "    ix   : int\n",
    "        location in x\n",
    "    iy   : int\n",
    "        location in y\n",
    "    \"\"\"\n",
    "    sigma=sp[ix,iy]\n",
    "    energy_before_flip = energy_at_site(sp,alpha,sigma,ix,iy)\n",
    "    sigma = -sigma\n",
    "    energy_if_site_flipped = energy_at_site(sp,alpha,sigma,ix,iy)\n",
    "    \n",
    "    # Flip the site with Metropolis probability\n",
    "    # Condition is always satisifed if dE < 0\n",
    "    if (np.random.random_sample()<np.exp(-(energy_if_site_flipped \\\n",
    "                                               -energy_before_flip))):\n",
    "        sp[ix,iy]=-sp[ix,iy]"
   ]
  },
  {
   "cell_type": "code",
   "execution_count": 6,
   "metadata": {
    "collapsed": true
   },
   "outputs": [],
   "source": [
    "@jit\n",
    "def moy_magn(sp): \n",
    "    \"\"\" Computes the average magnetisation for a given state\n",
    "   \n",
    "    Parameters:\n",
    "    ----------\n",
    "    sp   : lattice state\n",
    "    \n",
    "    Returns:\n",
    "    -------\n",
    "    M: average magnetisation for the lattice state sp \n",
    "    \"\"\"\n",
    "    \n",
    "    M = sp.sum(axis=(0,1))/(len(sp)*len(sp[0]))\n",
    "    return M"
   ]
  },
  {
   "cell_type": "code",
   "execution_count": 7,
   "metadata": {
    "collapsed": true
   },
   "outputs": [],
   "source": [
    "@jit\n",
    "def moy_ener(sp,alpha): \n",
    "    \"\"\" Computes the average energy for a given state\n",
    "   \n",
    "    Parameters:\n",
    "    ----------\n",
    "    sp   : lattice state\n",
    "    \n",
    "    Returns:\n",
    "    -------\n",
    "    E: average energy for the lattice state sp \n",
    "    \"\"\"\n",
    "    \n",
    "    pairsNorth = np.multiply(sp,np.roll(sp,-1,axis=0)) # pas de boucle -> + efficace à priori\n",
    "    pairsEast  = np.multiply(sp,np.roll(sp,-1,axis=1))\n",
    "    pairsSouth = np.multiply(sp,np.roll(sp,1,axis=0))\n",
    "    pairsWest  = np.multiply(sp,np.roll(sp,1,axis=1))\n",
    "    E = -alpha * (pairsNorth.sum(axis=(0,1)) + pairsEast.sum(axis=(0,1)) \n",
    "                  + pairsSouth.sum(axis=(0,1)) + pairsWest.sum(axis=(0,1)))\n",
    "    E = E/(len(sp)*len(sp[0]))\n",
    "           \n",
    "    return E"
   ]
  },
  {
   "cell_type": "code",
   "execution_count": 8,
   "metadata": {
    "collapsed": true
   },
   "outputs": [],
   "source": [
    "@jit\n",
    "def M_with_time_for_alpha(sp,nx,ny,NMC,step,alpha):\n",
    "    \"\"\" Computes the evolution of the magnetisation and energy with time for a given coupling constant for the Ising model using\n",
    "    the Metropolis algorithm\n",
    "   \n",
    "    Parameters:\n",
    "    ----------\n",
    "    sp   : initial lattice state\n",
    "    nx   : int\n",
    "        Discretization points in x\n",
    "    ny   : int\n",
    "        Discretization points in y\n",
    "    NMC  : int\n",
    "        Number of states to create\n",
    "    step   : Step between each magnetisation computation\n",
    "    alpha  : real\n",
    "        coupling constant J/(kb*T)\n",
    "    Returns:\n",
    "    -------\n",
    "    M: magnetisation \n",
    "    E: energie \n",
    "    \"\"\"\n",
    "    \n",
    "    M = np.empty([int(NMC/step)])\n",
    "    E = np.empty([int(NMC/step)])\n",
    "    \n",
    "    for i in range(int(NMC)):\n",
    "        #if i%(int(NMC/10)+1)==0:\n",
    "            #print(\"loop {:d} of {:d} for alpha = {:.2f}\".format(i,NMC,alpha))\n",
    "        for j in range(0,nx*ny):\n",
    "            ix=np.random.randint(0,nx)\n",
    "            iy=np.random.randint(0,ny)\n",
    "            metropolis_at_site(sp,alpha,ix,iy)\n",
    "        if i%step==0:\n",
    "            M[int(i/step)] = moy_magn(sp)\n",
    "            E[int(i/step)] = moy_ener(sp,alpha)\n",
    "    return [M,E]"
   ]
  },
  {
   "cell_type": "code",
   "execution_count": 9,
   "metadata": {
    "collapsed": true
   },
   "outputs": [],
   "source": [
    "@jit\n",
    "def M_equilibrium_for_alphas(sps,nx,ny,NMC,step,alphas,NMC_eq):\n",
    "    \"\"\" Computes averages of physical quantities at equilibrium with different coupling constants for the Ising model using\n",
    "    the Metropolis algorithm\n",
    "   \n",
    "    Parameters:\n",
    "    ----------\n",
    "    sps  : Vector containing the initial lattice states\n",
    "    nx   : int\n",
    "        Discretization points in x\n",
    "    ny   : int\n",
    "        Discretization points in y\n",
    "    NMC  : int\n",
    "        Number of states to create\n",
    "    step   : Step between each magnetisation computation\n",
    "    alphas : Vector of reals containing the\n",
    "        coupling constants alpha = J/(kb*T)\n",
    "    NMC_eq : Number of states to create before reaching the equilibrium\n",
    "    Returns:\n",
    "    -------\n",
    "    Ms     : Vector of magnetisations at equilibrium for each alpha in alphas\n",
    "    Es     : Vector of energis at equilibrium for each alpha in alphas\n",
    "    VarEs  : Vector of the variances of the energy at equilibrium for each alpha in alphas\n",
    "    \"\"\"\n",
    "    \n",
    "    Ms  = np.empty([len(alphas)])\n",
    "    Es  = np.empty([len(alphas)])\n",
    "    VarEs = np.empty([len(alphas)])\n",
    "    \n",
    "    a = len(alphas)\n",
    "    for i in range(a):\n",
    "        \n",
    "        print(\"loop {:d} of {:d}, at alpha = {:.3f}\".format(i,a,alphas[i]))\n",
    "        \n",
    "        for j in range(NMC_eq):\n",
    "            \n",
    "            #if j%(int(NMC_eq/10)+1)==0:\n",
    "                #print(\"loop {:d} of {:d} for alpha = {:.2f} (pre-equilibrium)\".format(j,NMC_eq,alphas[i]))\n",
    "            for j in range(0,nx*ny):\n",
    "                ix = np.random.randint(0,nx)\n",
    "                iy = np.random.randint(0,ny)\n",
    "                metropolis_at_site(sps[i],alphas[i],ix,iy)\n",
    "        \n",
    "        [M_evol,E_evol] = M_with_time_for_alpha(sps[i],nx,ny,NMC,step,alphas[i])\n",
    "        Ms[i]  = M_evol.sum()/len(M_evol)\n",
    "        Es[i]  = E_evol.sum()/len(E_evol)\n",
    "        VarEs[i] = (E_evol**2).sum()/len(E_evol) - (E_evol.sum()/len(E_evol))**2\n",
    "        \n",
    "        # save to file\n",
    "        \n",
    "        dataParam = list(zip(alphas[:i+1], Ms[:i+1], Es[:i+1], VarEs[:i+1]))\n",
    "        df = pandas.DataFrame(data = dataParam, columns=['Couplage','<Magnetisation>', '<Energie>', 'Var(Energie)'])\n",
    "        df.to_csv('dataIsing.csv',index=False,header=True)\n",
    "    \n",
    "    return [Ms,Es,VarEs]"
   ]
  },
  {
   "cell_type": "markdown",
   "metadata": {},
   "source": [
    "L'initialisation des paramètres de la simulation se fait ici:"
   ]
  },
  {
   "cell_type": "code",
   "execution_count": 10,
   "metadata": {},
   "outputs": [
    {
     "name": "stdout",
     "output_type": "stream",
     "text": [
      "Estimated computation time: 6.67 hours\n"
     ]
    }
   ],
   "source": [
    "NMC = 100+70000\n",
    "NMC_eq = 100\n",
    "step = 1\n",
    "nx = 20\n",
    "ny = 20\n",
    "alphas = np.concatenate((np.arange(0,0.34,0.02) , np.arange(0.34,0.41,0.005), np.arange(0.41,0.425,0.001) , \\\n",
    "                         np.arange(0.425,0.445,0.0003), np.arange(0.435,0.45,0.001), np.arange(0.45,0.56,0.005), \\\n",
    "                         np.arange(0.56,1,0.02)))\n",
    "np.random.shuffle(alphas) # pour avoir des données utilisables en cours de simulation\n",
    "a = len(alphas)\n",
    "\n",
    "sps = np.empty([a,nx,ny])\n",
    "for i in range(a):\n",
    "    sps[i] = initial_state_aligned(nx,ny)\n",
    "    \n",
    "print(\"Estimated computation time: {:.2f} hours\".format(NMC/20000*a/92*1.00))"
   ]
  },
  {
   "cell_type": "markdown",
   "metadata": {},
   "source": [
    "Exécuter la cellule suivante lance le calcul complet:"
   ]
  },
  {
   "cell_type": "code",
   "execution_count": 11,
   "metadata": {},
   "outputs": [
    {
     "name": "stdout",
     "output_type": "stream",
     "text": [
      "8.034706115722656e-05\n"
     ]
    }
   ],
   "source": [
    "start = time.time()\n",
    "#[Ms,Es,VarEs] = M_equilibrium_for_alphas(sps,nx,ny,NMC,step,alphas,NMC_eq)\n",
    "stop = time.time()\n",
    "print(stop-start)"
   ]
  },
  {
   "cell_type": "markdown",
   "metadata": {},
   "source": [
    "L'affichage des résulats se fait ici:"
   ]
  },
  {
   "cell_type": "code",
   "execution_count": 12,
   "metadata": {},
   "outputs": [],
   "source": [
    "dataIsing = pandas.read_csv('dataIsing-3000-70000.csv')\n",
    "[alphas, Ms, Es, VarEs] = np.transpose(dataIsing.as_matrix(['Couplage', '<Magnetisation>', \\\n",
    "                                                            '<Energie>', 'Var(Energie)']))\n",
    "\n",
    "indices = np.argsort(alphas)\n",
    "alphas = alphas[indices]\n",
    "Ms = Ms[indices]\n",
    "Es = Es[indices]\n",
    "VarEs = VarEs[indices]\n",
    "\n",
    "Cvs = VarEs"
   ]
  },
  {
   "cell_type": "code",
   "execution_count": 13,
   "metadata": {},
   "outputs": [
    {
     "data": {
      "image/png": "[encoded data removed]",
      "text/plain": [
       "<matplotlib.figure.Figure at 0x7fa454d2ab00>"
      ]
     },
     "metadata": {},
     "output_type": "display_data"
    }
   ],
   "source": [
    "plt.figure(figsize=(8,5));\n",
    "plt.plot(alphas,Cvs, '.');\n",
    "plt.title(\"Variance de l'énergie à l'équilibre en fonction de alpha \\n sur une grille {:d}x{:d}\".format(nx,ny));\n",
    "plt.xlabel('alpha');\n",
    "plt.ylabel('var(E)');\n",
    "#plt.xlim([0.41,0.46]);\n",
    "plt.grid();\n",
    "plt.show()"
   ]
  },
  {
   "cell_type": "markdown",
   "metadata": {},
   "source": [
    "### Fit des données et recherche du maximum"
   ]
  },
  {
   "cell_type": "code",
   "execution_count": 14,
   "metadata": {
    "collapsed": true
   },
   "outputs": [],
   "source": [
    "def moindres_carres(x,y,a_test,b_test,c_test):\n",
    "    \"\"\" Finds the best fitting parabola for the set of points (x,y)\n",
    "   \n",
    "    Parameters:\n",
    "    ----------\n",
    "    x : x-coordinates of the points to fit\n",
    "    y : y-coordinates of the points to fit\n",
    "    a_test : x^2 coefficent to be tested\n",
    "    b_test : x^1 coefficent to be tested\n",
    "    c_test : x^0 coefficent to be tested\n",
    "    \n",
    "    Returns:\n",
    "    -------\n",
    "    a : x^2 coefficent of the best fitting parabola\n",
    "    b : x^1 coefficent of the best fitting parabola\n",
    "    c : x^0 coefficent of the best fitting parabola\n",
    "    \"\"\"\n",
    "    \n",
    "    if len(x)!=len(y):\n",
    "        print(\"x and y must have the same size\")\n",
    "        return\n",
    "    \n",
    "    N = len(x)\n",
    "    \n",
    "    # on calcule la sommes des erreurs au carré pour chaque parabole test\n",
    "    S = np.zeros((len(a_test),len(b_test),len(c_test)))\n",
    "    for i in range(len(a_test)):\n",
    "        for j in range(len(b_test)):\n",
    "            for k in range(len(c_test)):\n",
    "                for l in range(N):\n",
    "                    S[i,j,k] += (y[l] - (a_test[i]*x[l]**2+b_test[j]*x[l]+c_test[k]))**2\n",
    "                \n",
    "    # on cherche la parabole minimisant cette somme\n",
    "    [i,j,k] = np.where(S==np.min(S))\n",
    "    a = a_test[i[0]]\n",
    "    b = b_test[j[0]]\n",
    "    c = c_test[k[0]]\n",
    "    \n",
    "    # on renvoie une erreur si la parabole minimisante est une parabole limite (intervalle considéré trop petit)\n",
    "    if (i==0)|(j==0)|(k==0)|(i==len(a_test)-1)|(j==len(b_test)-1)|(k==len(c_test)-1):\n",
    "        print('The best fitting parabola is not one of the tested parabola, \\\n",
    "        try a wider range of coefficents')\n",
    "        return [0,0,0]\n",
    "    \n",
    "    return [a,b,c]"
   ]
  },
  {
   "cell_type": "markdown",
   "metadata": {},
   "source": [
    "Cherchons à la main les paramètres qui définissent une parabole proches des données sous la forme \n",
    "\n",
    "$$ y = A(x-X_0)^2+C $$"
   ]
  },
  {
   "cell_type": "code",
   "execution_count": 15,
   "metadata": {},
   "outputs": [
    {
     "data": {
      "image/png": "[encoded data removed]",
      "text/plain": [
       "<matplotlib.figure.Figure at 0x7fa44ce36ef0>"
      ]
     },
     "metadata": {},
     "output_type": "display_data"
    },
    {
     "name": "stdout",
     "output_type": "stream",
     "text": [
      "-7 0.435 0.0165\n"
     ]
    }
   ],
   "source": [
    "A = -7\n",
    "X0 = 0.435\n",
    "C = 0.0165\n",
    "\n",
    "x = np.linspace(0.41,0.46,100)\n",
    "y = A*(x-X0)**2+C\n",
    "\n",
    "plt.figure(figsize=(8,5));\n",
    "plt.plot(alphas,Cvs, '.');\n",
    "plt.plot(x,y, '-');\n",
    "plt.title(\"Recherche d'une parabole proche des données\".format(nx,ny));\n",
    "plt.xlabel('alpha');\n",
    "plt.ylabel('Cv');\n",
    "plt.xlim([0.41,0.46]);\n",
    "plt.grid();\n",
    "plt.show()\n",
    "\n",
    "print(A,X0,C)"
   ]
  },
  {
   "cell_type": "markdown",
   "metadata": {},
   "source": [
    "Maintenant que nous savons parmi quels coefficients chercher, nous pouvons automatiser le processus avec la fonction cherchant par moindres carrés. Dans les cellules qui suivent, nous répétons plusieurs fois la recherche avec des données bruitées, afin de déterminer l'erreur sur le résultat trouvé pour l'absisse du maximum. Cette cellule affiche aussi les paramètres fittant le mieux chaque ensemble de données bruitées, ce qui nous permet d'affiner l'ensemble de paramètres test original. Les paramètres test sont bien choisi si l'erreur numérique liée à la finesse de l'échantillonage est petite comparée à l'erreur statistique sur les données récoltées. Ainsi, nous en arrivons à utiliser les paramètres test de la cellule qui suit."
   ]
  },
  {
   "cell_type": "code",
   "execution_count": 16,
   "metadata": {},
   "outputs": [
    {
     "name": "stdout",
     "output_type": "stream",
     "text": [
      "-7.12 0.43425 0.01645\n",
      "Le maximum de la parabole de fit se trouve en x = 0.43425\n"
     ]
    }
   ],
   "source": [
    "indices = np.where((alphas>0.41)&(alphas<0.46))\n",
    "\n",
    "A_test  = np.linspace(-7.17,-7.07,21)\n",
    "X0_test = np.linspace(0.4335,0.435,21)\n",
    "C_test  = np.linspace(0.0163,0.0166,21)\n",
    "\n",
    "a_test = A_test\n",
    "b_test = -2*A_test*X0_test\n",
    "c_test = A_test*X0_test**2+C_test\n",
    "\n",
    "[a_fit,b_fit,c_fit] = moindres_carres(alphas[indices],Cvs[indices],a_test,b_test,c_test)\n",
    "a_fit = a_fit\n",
    "b_fit = b_fit\n",
    "c_fit = c_fit\n",
    "\n",
    "A_fit  = a_fit\n",
    "X0_fit = -b_fit/(2*a_fit)\n",
    "C_fit  = c_fit - b_fit**2/(4*a_fit)\n",
    "print(A_fit,X0_fit,C_fit)\n",
    "\n",
    "x_max = -b_fit/(2*a_fit)\n",
    "err_num = abs(C_test[1]-C_test[0])\n",
    "print(\"Le maximum de la parabole de fit se trouve en x = {:.5f}\".format(x_max))"
   ]
  },
  {
   "cell_type": "markdown",
   "metadata": {},
   "source": [
    "Nous cherchons l'erreur sur le maximum en refittant plusieurs fois sur les données bruitées.\n",
    "Nous ajoutons pour cela un bruit d'amplitude plausible sur les données. "
   ]
  },
  {
   "cell_type": "code",
   "execution_count": 17,
   "metadata": {},
   "outputs": [
    {
     "name": "stdout",
     "output_type": "stream",
     "text": [
      "loop 0 of 10\n",
      "-7.11 0.4344 0.01648\n",
      "loop 1 of 10\n",
      "-7.12 0.43425 0.01645\n",
      "loop 2 of 10\n",
      "-7.125 0.434175 0.016435\n",
      "loop 3 of 10\n",
      "-7.135 0.433795795375 0.0164654765261\n",
      "loop 4 of 10\n",
      "-7.125 0.434175 0.016435\n",
      "loop 5 of 10\n",
      "-7.12 0.43425 0.01645\n",
      "loop 6 of 10\n",
      "-7.12 0.43425 0.01645\n",
      "loop 7 of 10\n",
      "-7.12 0.43425 0.01645\n",
      "loop 8 of 10\n",
      "-7.12 0.43425 0.01645\n",
      "loop 9 of 10\n",
      "-7.135 0.433795795375 0.0164654765261\n",
      "--------------------------------------------------------------------\n",
      "Le maximum de la parabole de fit se trouve en x = 0.43425 +- 0.00019\n",
      "Erreur numérique: 0.00002 - Erreur Statistique: 0.00019\n",
      "--------------------------------------------------------------------\n"
     ]
    }
   ],
   "source": [
    "repet = 10\n",
    "x_max_vec = np.zeros((repet))\n",
    "\n",
    "for i in range(repet):\n",
    "    \n",
    "    print(\"loop {:d} of {:d}\".format(i,repet))\n",
    "    \n",
    "    Cvs_bruit = Cvs + np.random.uniform(-1,1,len(VarEs))*3e-4 # amplitude plausible\n",
    "\n",
    "    indices = np.where((alphas>0.41)&(alphas<0.46))\n",
    "\n",
    "    A_test  = np.linspace(-7.17,-7.07,21)\n",
    "    X0_test = np.linspace(0.4335,0.435,21)\n",
    "    C_test  = np.linspace(0.0163,0.0166,21)\n",
    "\n",
    "    a_test = A_test\n",
    "    b_test = -2*A_test*X0_test\n",
    "    c_test = A_test*X0_test**2+C_test\n",
    "\n",
    "    [a_fit,b_fit,c_fit] = moindres_carres(alphas[indices],Cvs_bruit[indices],a_test,b_test,c_test)\n",
    "    a_fit = a_fit\n",
    "    b_fit = b_fit\n",
    "    c_fit = c_fit\n",
    "\n",
    "    A_fit  = a_fit\n",
    "    X0_fit = -b_fit/(2*a_fit)\n",
    "    C_fit  = c_fit - b_fit**2/(4*a_fit)\n",
    "    print(A_fit,X0_fit,C_fit)\n",
    "\n",
    "    x_max_vec[i] = -b_fit/(2*a_fit)\n",
    "    \n",
    "err_num   = abs(C_test[1]-C_test[0])\n",
    "err_stat  = np.std(x_max_vec)\n",
    "err_x_max = np.sqrt(err_stat**2 + err_num**2)\n",
    "    \n",
    "print(\"--------------------------------------------------------------------\")\n",
    "print(\"Le maximum de la parabole de fit se trouve en x = {:.5f} +- {:.5f}\".format(x_max, err_x_max))\n",
    "print(\"Erreur numérique: {:.5f} - Erreur Statistique: {:.5f}\".format(err_num,err_stat))\n",
    "print(\"--------------------------------------------------------------------\")"
   ]
  },
  {
   "cell_type": "markdown",
   "metadata": {},
   "source": [
    "Affichons le fit final"
   ]
  },
  {
   "cell_type": "code",
   "execution_count": 18,
   "metadata": {},
   "outputs": [
    {
     "data": {
      "image/png": "[encoded data removed]",
      "text/plain": [
       "<matplotlib.figure.Figure at 0x7fa454d015c0>"
      ]
     },
     "metadata": {},
     "output_type": "display_data"
    }
   ],
   "source": [
    "x = np.linspace(0.41,0.46,100)\n",
    "y_fit = a_fit*x**2+b_fit*x+c_fit\n",
    "\n",
    "plt.figure(figsize=(8,5));\n",
    "plt.plot(alphas,Cvs, '.');\n",
    "plt.plot(x,y_fit, '-');\n",
    "plt.title(\"Fit de la variance de l'énergie à l'équilibre \\n en fonction de alpha sur une grille {:d}x{:d}\".format(nx,ny));\n",
    "plt.xlabel('alpha');\n",
    "plt.ylabel('Cv');\n",
    "plt.xlim([0.41,0.46]);\n",
    "plt.grid();\n",
    "plt.show()"
   ]
  },
  {
   "cell_type": "code",
   "execution_count": null,
   "metadata": {
    "collapsed": true
   },
   "outputs": [],
   "source": []
  }
 ],
 "metadata": {
  "kernelspec": {
   "display_name": "Python 3",
   "language": "python",
   "name": "python3"
  },
  "language_info": {
   "codemirror_mode": {
    "name": "ipython",
    "version": 3
   },
   "file_extension": ".py",
   "mimetype": "text/x-python",
   "name": "python",
   "nbconvert_exporter": "python",
   "pygments_lexer": "ipython3",
   "version": "3.6.2"
  }
 },
 "nbformat": 4,
 "nbformat_minor": 2
}
